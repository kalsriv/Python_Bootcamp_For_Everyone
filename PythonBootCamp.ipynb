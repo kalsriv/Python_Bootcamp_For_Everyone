{
 "cells": [
  {
   "cell_type": "code",
   "execution_count": 2,
   "metadata": {},
   "outputs": [],
   "source": [
    "#imports\n",
    "import numpy as np\n",
    "import pandas as pd"
   ]
  },
  {
   "cell_type": "code",
   "execution_count": 3,
   "metadata": {},
   "outputs": [
    {
     "name": "stdout",
     "output_type": "stream",
     "text": [
      "Print 5 is greater than 2\n"
     ]
    }
   ],
   "source": [
    "if 5 >2: \n",
    "    print(\"Print 5 is greater than 2\")"
   ]
  },
  {
   "cell_type": "code",
   "execution_count": 4,
   "metadata": {},
   "outputs": [
    {
     "data": {
      "text/plain": [
       "'This is massive comment'"
      ]
     },
     "execution_count": 4,
     "metadata": {},
     "output_type": "execute_result"
    }
   ],
   "source": [
    "\"\"\"This is massive comment\"\"\""
   ]
  },
  {
   "cell_type": "code",
   "execution_count": 5,
   "metadata": {},
   "outputs": [
    {
     "name": "stdout",
     "output_type": "stream",
     "text": [
      "3\n"
     ]
    }
   ],
   "source": [
    "print(str(3))"
   ]
  },
  {
   "cell_type": "code",
   "execution_count": 6,
   "metadata": {},
   "outputs": [
    {
     "name": "stdout",
     "output_type": "stream",
     "text": [
      "3\n"
     ]
    }
   ],
   "source": [
    "print(int(3))"
   ]
  },
  {
   "cell_type": "code",
   "execution_count": 7,
   "metadata": {},
   "outputs": [
    {
     "name": "stdout",
     "output_type": "stream",
     "text": [
      "3.0\n"
     ]
    }
   ],
   "source": [
    "print(float(3))"
   ]
  },
  {
   "cell_type": "code",
   "execution_count": 10,
   "metadata": {},
   "outputs": [
    {
     "data": {
      "text/plain": [
       "float"
      ]
     },
     "execution_count": 10,
     "metadata": {},
     "output_type": "execute_result"
    }
   ],
   "source": [
    "type(float(3))"
   ]
  },
  {
   "cell_type": "code",
   "execution_count": 12,
   "metadata": {},
   "outputs": [
    {
     "data": {
      "text/plain": [
       "str"
      ]
     },
     "execution_count": 12,
     "metadata": {},
     "output_type": "execute_result"
    }
   ],
   "source": [
    "type(str(3))"
   ]
  },
  {
   "cell_type": "code",
   "execution_count": 13,
   "metadata": {},
   "outputs": [],
   "source": [
    "x,y,z = \"Banana\", \"Cherry\", \"Mango\""
   ]
  },
  {
   "cell_type": "code",
   "execution_count": 14,
   "metadata": {},
   "outputs": [
    {
     "data": {
      "text/plain": [
       "'Banana'"
      ]
     },
     "execution_count": 14,
     "metadata": {},
     "output_type": "execute_result"
    }
   ],
   "source": [
    "x"
   ]
  },
  {
   "cell_type": "code",
   "execution_count": 15,
   "metadata": {},
   "outputs": [
    {
     "data": {
      "text/plain": [
       "'Cherry'"
      ]
     },
     "execution_count": 15,
     "metadata": {},
     "output_type": "execute_result"
    }
   ],
   "source": [
    "y"
   ]
  },
  {
   "cell_type": "code",
   "execution_count": 16,
   "metadata": {},
   "outputs": [
    {
     "data": {
      "text/plain": [
       "'Mango'"
      ]
     },
     "execution_count": 16,
     "metadata": {},
     "output_type": "execute_result"
    }
   ],
   "source": [
    "z"
   ]
  },
  {
   "cell_type": "code",
   "execution_count": 17,
   "metadata": {},
   "outputs": [],
   "source": [
    "fruits = [\"Banana\", \"Cherry\", \"Mango\"]"
   ]
  },
  {
   "cell_type": "code",
   "execution_count": 18,
   "metadata": {},
   "outputs": [],
   "source": [
    "x,y,z = fruits #Unpacked the variables"
   ]
  },
  {
   "cell_type": "code",
   "execution_count": 19,
   "metadata": {},
   "outputs": [
    {
     "data": {
      "text/plain": [
       "'Mango'"
      ]
     },
     "execution_count": 19,
     "metadata": {},
     "output_type": "execute_result"
    }
   ],
   "source": [
    "z"
   ]
  },
  {
   "cell_type": "code",
   "execution_count": 20,
   "metadata": {},
   "outputs": [
    {
     "name": "stdout",
     "output_type": "stream",
     "text": [
      "Banana Cherry Mango\n"
     ]
    }
   ],
   "source": [
    "print(x,y,z)"
   ]
  },
  {
   "cell_type": "code",
   "execution_count": 24,
   "metadata": {},
   "outputs": [
    {
     "name": "stdout",
     "output_type": "stream",
     "text": [
      "BananaBanana CherryCherryCherryCherryCherry MangoMangoMangoMangoMangoMangoMangoMangoMangoMangoMangoMangoMango\n"
     ]
    }
   ],
   "source": [
    "print(2*x,5*y,13*z)"
   ]
  },
  {
   "cell_type": "code",
   "execution_count": 25,
   "metadata": {},
   "outputs": [
    {
     "name": "stdout",
     "output_type": "stream",
     "text": [
      "BananaBananaCherryCherryCherryCherryCherryMangoMangoMangoMangoMangoMangoMangoMangoMangoMangoMangoMangoMango\n"
     ]
    }
   ],
   "source": [
    "print(2*x +5*y +13*z) #Results in no space"
   ]
  },
  {
   "cell_type": "code",
   "execution_count": 28,
   "metadata": {},
   "outputs": [],
   "source": [
    "a = \"John\"\n",
    "b = 12"
   ]
  },
  {
   "cell_type": "code",
   "execution_count": 30,
   "metadata": {},
   "outputs": [
    {
     "ename": "TypeError",
     "evalue": "can only concatenate str (not \"int\") to str",
     "output_type": "error",
     "traceback": [
      "\u001b[1;31m---------------------------------------------------------------------------\u001b[0m",
      "\u001b[1;31mTypeError\u001b[0m                                 Traceback (most recent call last)",
      "\u001b[1;32m<ipython-input-30-0ae8b1612688>\u001b[0m in \u001b[0;36m<module>\u001b[1;34m\u001b[0m\n\u001b[1;32m----> 1\u001b[1;33m \u001b[0mprint\u001b[0m\u001b[1;33m(\u001b[0m\u001b[0ma\u001b[0m \u001b[1;33m+\u001b[0m \u001b[0mb\u001b[0m\u001b[1;33m)\u001b[0m\u001b[1;33m\u001b[0m\u001b[1;33m\u001b[0m\u001b[0m\n\u001b[0m",
      "\u001b[1;31mTypeError\u001b[0m: can only concatenate str (not \"int\") to str"
     ]
    }
   ],
   "source": [
    "print(a + b)"
   ]
  },
  {
   "cell_type": "code",
   "execution_count": 31,
   "metadata": {},
   "outputs": [
    {
     "name": "stdout",
     "output_type": "stream",
     "text": [
      "John 12\n"
     ]
    }
   ],
   "source": [
    "print(a, b)"
   ]
  },
  {
   "cell_type": "code",
   "execution_count": 35,
   "metadata": {},
   "outputs": [
    {
     "name": "stdout",
     "output_type": "stream",
     "text": [
      "Python is awsome\n"
     ]
    }
   ],
   "source": [
    "x = \"awsome\" #This is a global variable\n",
    "def myfunc():\n",
    "    print(\"Python is \" + x)\n",
    "myfunc()"
   ]
  },
  {
   "cell_type": "code",
   "execution_count": 36,
   "metadata": {},
   "outputs": [
    {
     "name": "stdout",
     "output_type": "stream",
     "text": [
      "Python is Fantastic\n"
     ]
    }
   ],
   "source": [
    "x = \"awsome\"\n",
    "def myfunc():\n",
    "    x = \"Fantastic\" #Overwriting the global variable\n",
    "    print(\"Python is \" + x)\n",
    "myfunc()"
   ]
  },
  {
   "cell_type": "code",
   "execution_count": 37,
   "metadata": {},
   "outputs": [
    {
     "name": "stdout",
     "output_type": "stream",
     "text": [
      "Python is awsome\n"
     ]
    }
   ],
   "source": [
    "def myfunc():\n",
    "    global x #making the local variable a global one\n",
    "    x = \"awsome\" #This is otherwise a local variable\n",
    "    print(\"Python is \" + x)\n",
    "myfunc()"
   ]
  },
  {
   "cell_type": "code",
   "execution_count": 38,
   "metadata": {},
   "outputs": [
    {
     "data": {
      "text/plain": [
       "int"
      ]
     },
     "execution_count": 38,
     "metadata": {},
     "output_type": "execute_result"
    }
   ],
   "source": [
    "x = 3\n",
    "type(x)"
   ]
  },
  {
   "cell_type": "code",
   "execution_count": 39,
   "metadata": {},
   "outputs": [
    {
     "data": {
      "text/plain": [
       "str"
      ]
     },
     "execution_count": 39,
     "metadata": {},
     "output_type": "execute_result"
    }
   ],
   "source": [
    "x = \"Albert\"\n",
    "type(x)"
   ]
  },
  {
   "cell_type": "code",
   "execution_count": 40,
   "metadata": {},
   "outputs": [
    {
     "data": {
      "text/plain": [
       "float"
      ]
     },
     "execution_count": 40,
     "metadata": {},
     "output_type": "execute_result"
    }
   ],
   "source": [
    "x = 3.55\n",
    "type(x)"
   ]
  },
  {
   "cell_type": "code",
   "execution_count": 41,
   "metadata": {},
   "outputs": [
    {
     "data": {
      "text/plain": [
       "list"
      ]
     },
     "execution_count": 41,
     "metadata": {},
     "output_type": "execute_result"
    }
   ],
   "source": [
    "x = [\"Banana\", \"Cherry\", \"Mango\"]\n",
    "type(x)"
   ]
  },
  {
   "cell_type": "code",
   "execution_count": 42,
   "metadata": {},
   "outputs": [
    {
     "data": {
      "text/plain": [
       "tuple"
      ]
     },
     "execution_count": 42,
     "metadata": {},
     "output_type": "execute_result"
    }
   ],
   "source": [
    "x = (\"Banana\", \"Cherry\", \"Mango\")\n",
    "type(x)"
   ]
  },
  {
   "cell_type": "code",
   "execution_count": 45,
   "metadata": {},
   "outputs": [
    {
     "data": {
      "text/plain": [
       "'Banana'"
      ]
     },
     "execution_count": 45,
     "metadata": {},
     "output_type": "execute_result"
    }
   ],
   "source": [
    "x,y,z = (\"Banana\", \"Cherry\", \"Mango\")\n",
    "x #Works like list"
   ]
  },
  {
   "cell_type": "code",
   "execution_count": 47,
   "metadata": {},
   "outputs": [
    {
     "data": {
      "text/plain": [
       "range(0, 6)"
      ]
     },
     "execution_count": 47,
     "metadata": {},
     "output_type": "execute_result"
    }
   ],
   "source": [
    "x = range(6)\n",
    "x"
   ]
  },
  {
   "cell_type": "code",
   "execution_count": 49,
   "metadata": {},
   "outputs": [
    {
     "data": {
      "text/plain": [
       "range(1, 6)"
      ]
     },
     "execution_count": 49,
     "metadata": {},
     "output_type": "execute_result"
    }
   ],
   "source": [
    "x = range(1,6)\n",
    "x"
   ]
  },
  {
   "cell_type": "code",
   "execution_count": 51,
   "metadata": {},
   "outputs": [
    {
     "name": "stdout",
     "output_type": "stream",
     "text": [
      "range(1, 6, 2)\n"
     ]
    }
   ],
   "source": [
    "x = range(1,6,2)\n",
    "print(x)"
   ]
  },
  {
   "cell_type": "code",
   "execution_count": 1,
   "metadata": {},
   "outputs": [],
   "source": [
    "dict ={\"name\": \"Kalyan\", \"surname\" :\"Srivastava\", \"title\" : \"Dr.\"}"
   ]
  },
  {
   "cell_type": "code",
   "execution_count": 2,
   "metadata": {},
   "outputs": [
    {
     "data": {
      "text/plain": [
       "{'name': 'Kalyan', 'surname': 'Srivastava', 'title': 'Dr.'}"
      ]
     },
     "execution_count": 2,
     "metadata": {},
     "output_type": "execute_result"
    }
   ],
   "source": [
    "dict"
   ]
  },
  {
   "cell_type": "code",
   "execution_count": 5,
   "metadata": {},
   "outputs": [
    {
     "data": {
      "text/plain": [
       "'Kalyan'"
      ]
     },
     "execution_count": 5,
     "metadata": {},
     "output_type": "execute_result"
    }
   ],
   "source": [
    "dict['name']"
   ]
  },
  {
   "cell_type": "code",
   "execution_count": 6,
   "metadata": {},
   "outputs": [],
   "source": [
    "dict['City'] = \"Salt Lake City\""
   ]
  },
  {
   "cell_type": "code",
   "execution_count": 7,
   "metadata": {},
   "outputs": [
    {
     "data": {
      "text/plain": [
       "{'name': 'Kalyan',\n",
       " 'surname': 'Srivastava',\n",
       " 'title': 'Dr.',\n",
       " 'City': 'Salt Lake City'}"
      ]
     },
     "execution_count": 7,
     "metadata": {},
     "output_type": "execute_result"
    }
   ],
   "source": [
    "dict"
   ]
  },
  {
   "cell_type": "code",
   "execution_count": 8,
   "metadata": {},
   "outputs": [],
   "source": [
    "dict['City'] = \"Day Break UT\""
   ]
  },
  {
   "cell_type": "code",
   "execution_count": 9,
   "metadata": {},
   "outputs": [
    {
     "data": {
      "text/plain": [
       "{'name': 'Kalyan',\n",
       " 'surname': 'Srivastava',\n",
       " 'title': 'Dr.',\n",
       " 'City': 'Day Break UT'}"
      ]
     },
     "execution_count": 9,
     "metadata": {},
     "output_type": "execute_result"
    }
   ],
   "source": [
    "dict"
   ]
  },
  {
   "cell_type": "code",
   "execution_count": 10,
   "metadata": {},
   "outputs": [
    {
     "data": {
      "text/plain": [
       "dict"
      ]
     },
     "execution_count": 10,
     "metadata": {},
     "output_type": "execute_result"
    }
   ],
   "source": [
    "type(dict)"
   ]
  },
  {
   "cell_type": "code",
   "execution_count": 11,
   "metadata": {},
   "outputs": [
    {
     "data": {
      "text/plain": [
       "set"
      ]
     },
     "execution_count": 11,
     "metadata": {},
     "output_type": "execute_result"
    }
   ],
   "source": [
    "x = {\"apple\", \"banana\", \"cherry\"}\n",
    "type(x)"
   ]
  },
  {
   "cell_type": "code",
   "execution_count": 12,
   "metadata": {},
   "outputs": [
    {
     "data": {
      "text/plain": [
       "{'apple', 'banana', 'cherry'}"
      ]
     },
     "execution_count": 12,
     "metadata": {},
     "output_type": "execute_result"
    }
   ],
   "source": [
    "x"
   ]
  },
  {
   "cell_type": "code",
   "execution_count": 66,
   "metadata": {},
   "outputs": [
    {
     "data": {
      "text/plain": [
       "frozenset"
      ]
     },
     "execution_count": 66,
     "metadata": {},
     "output_type": "execute_result"
    }
   ],
   "source": [
    "x = frozenset({\"apple\", \"banana\", \"cherry\"})\n",
    "type(x)"
   ]
  },
  {
   "cell_type": "code",
   "execution_count": 67,
   "metadata": {},
   "outputs": [
    {
     "data": {
      "text/plain": [
       "frozenset({'apple', 'banana', 'cherry'})"
      ]
     },
     "execution_count": 67,
     "metadata": {},
     "output_type": "execute_result"
    }
   ],
   "source": [
    "x"
   ]
  },
  {
   "cell_type": "code",
   "execution_count": 13,
   "metadata": {},
   "outputs": [
    {
     "data": {
      "text/plain": [
       "bool"
      ]
     },
     "execution_count": 13,
     "metadata": {},
     "output_type": "execute_result"
    }
   ],
   "source": [
    "x = True\n",
    "type(x)"
   ]
  },
  {
   "cell_type": "code",
   "execution_count": 14,
   "metadata": {},
   "outputs": [
    {
     "data": {
      "text/plain": [
       "bytes"
      ]
     },
     "execution_count": 14,
     "metadata": {},
     "output_type": "execute_result"
    }
   ],
   "source": [
    "x = b\"Hello\"\n",
    "type(x)"
   ]
  },
  {
   "cell_type": "code",
   "execution_count": 15,
   "metadata": {},
   "outputs": [
    {
     "data": {
      "text/plain": [
       "b'Hello'"
      ]
     },
     "execution_count": 15,
     "metadata": {},
     "output_type": "execute_result"
    }
   ],
   "source": [
    "x"
   ]
  },
  {
   "cell_type": "code",
   "execution_count": 16,
   "metadata": {},
   "outputs": [
    {
     "data": {
      "text/plain": [
       "bytearray"
      ]
     },
     "execution_count": 16,
     "metadata": {},
     "output_type": "execute_result"
    }
   ],
   "source": [
    "x = bytearray(5)\n",
    "type(x)"
   ]
  },
  {
   "cell_type": "code",
   "execution_count": 17,
   "metadata": {},
   "outputs": [
    {
     "data": {
      "text/plain": [
       "bytearray(b'\\x00\\x00\\x00\\x00\\x00')"
      ]
     },
     "execution_count": 17,
     "metadata": {},
     "output_type": "execute_result"
    }
   ],
   "source": [
    "x"
   ]
  },
  {
   "cell_type": "code",
   "execution_count": 18,
   "metadata": {},
   "outputs": [
    {
     "data": {
      "text/plain": [
       "memoryview"
      ]
     },
     "execution_count": 18,
     "metadata": {},
     "output_type": "execute_result"
    }
   ],
   "source": [
    "x = memoryview(bytes(5))\n",
    "type(x)"
   ]
  },
  {
   "cell_type": "code",
   "execution_count": 19,
   "metadata": {},
   "outputs": [
    {
     "data": {
      "text/plain": [
       "<memory at 0x000001E72AAF3C40>"
      ]
     },
     "execution_count": 19,
     "metadata": {},
     "output_type": "execute_result"
    }
   ],
   "source": [
    "x"
   ]
  },
  {
   "cell_type": "code",
   "execution_count": 20,
   "metadata": {},
   "outputs": [
    {
     "data": {
      "text/plain": [
       "NoneType"
      ]
     },
     "execution_count": 20,
     "metadata": {},
     "output_type": "execute_result"
    }
   ],
   "source": [
    "x = None\n",
    "type(x)"
   ]
  },
  {
   "cell_type": "code",
   "execution_count": 21,
   "metadata": {},
   "outputs": [],
   "source": [
    "x #Run this an it returns blank"
   ]
  },
  {
   "cell_type": "code",
   "execution_count": 22,
   "metadata": {},
   "outputs": [
    {
     "data": {
      "text/plain": [
       "list"
      ]
     },
     "execution_count": 22,
     "metadata": {},
     "output_type": "execute_result"
    }
   ],
   "source": [
    "x= [\"Aplle\", \"Banana\", \"Cherry\"]\n",
    "type(x)"
   ]
  },
  {
   "cell_type": "code",
   "execution_count": 23,
   "metadata": {},
   "outputs": [
    {
     "data": {
      "text/plain": [
       "tuple"
      ]
     },
     "execution_count": 23,
     "metadata": {},
     "output_type": "execute_result"
    }
   ],
   "source": [
    "x = tuple(x)\n",
    "type(x)\n",
    "#No need to write like as.character or as.tuple like R programming"
   ]
  },
  {
   "cell_type": "code",
   "execution_count": 24,
   "metadata": {},
   "outputs": [
    {
     "data": {
      "text/plain": [
       "('Aplle', 'Banana', 'Cherry')"
      ]
     },
     "execution_count": 24,
     "metadata": {},
     "output_type": "execute_result"
    }
   ],
   "source": [
    "x"
   ]
  },
  {
   "cell_type": "code",
   "execution_count": 25,
   "metadata": {},
   "outputs": [],
   "source": [
    "x = 1"
   ]
  },
  {
   "cell_type": "code",
   "execution_count": 26,
   "metadata": {},
   "outputs": [],
   "source": [
    "y = 2.0"
   ]
  },
  {
   "cell_type": "code",
   "execution_count": 27,
   "metadata": {},
   "outputs": [],
   "source": [
    "z = 3j"
   ]
  },
  {
   "cell_type": "code",
   "execution_count": 28,
   "metadata": {},
   "outputs": [
    {
     "data": {
      "text/plain": [
       "int"
      ]
     },
     "execution_count": 28,
     "metadata": {},
     "output_type": "execute_result"
    }
   ],
   "source": [
    "type(x)"
   ]
  },
  {
   "cell_type": "code",
   "execution_count": 29,
   "metadata": {},
   "outputs": [
    {
     "data": {
      "text/plain": [
       "float"
      ]
     },
     "execution_count": 29,
     "metadata": {},
     "output_type": "execute_result"
    }
   ],
   "source": [
    "type(y)"
   ]
  },
  {
   "cell_type": "code",
   "execution_count": 30,
   "metadata": {},
   "outputs": [
    {
     "data": {
      "text/plain": [
       "complex"
      ]
     },
     "execution_count": 30,
     "metadata": {},
     "output_type": "execute_result"
    }
   ],
   "source": [
    "type(z)"
   ]
  },
  {
   "cell_type": "code",
   "execution_count": 31,
   "metadata": {},
   "outputs": [
    {
     "ename": "TypeError",
     "evalue": "type.__new__() argument 1 must be str, not int",
     "output_type": "error",
     "traceback": [
      "\u001b[1;31m---------------------------------------------------------------------------\u001b[0m",
      "\u001b[1;31mTypeError\u001b[0m                                 Traceback (most recent call last)",
      "Cell \u001b[1;32mIn[31], line 1\u001b[0m\n\u001b[1;32m----> 1\u001b[0m \u001b[38;5;28;43mtype\u001b[39;49m\u001b[43m(\u001b[49m\u001b[43mx\u001b[49m\u001b[43m,\u001b[49m\u001b[43my\u001b[49m\u001b[43m,\u001b[49m\u001b[43mz\u001b[49m\u001b[43m)\u001b[49m\n",
      "\u001b[1;31mTypeError\u001b[0m: type.__new__() argument 1 must be str, not int"
     ]
    }
   ],
   "source": [
    "type(x,y,z)"
   ]
  },
  {
   "cell_type": "code",
   "execution_count": 32,
   "metadata": {},
   "outputs": [],
   "source": [
    "x,y,z = 1, 2.0, 3j"
   ]
  },
  {
   "cell_type": "code",
   "execution_count": 33,
   "metadata": {},
   "outputs": [
    {
     "data": {
      "text/plain": [
       "2.0"
      ]
     },
     "execution_count": 33,
     "metadata": {},
     "output_type": "execute_result"
    }
   ],
   "source": [
    "y"
   ]
  },
  {
   "cell_type": "code",
   "execution_count": 34,
   "metadata": {},
   "outputs": [
    {
     "data": {
      "text/plain": [
       "3j"
      ]
     },
     "execution_count": 34,
     "metadata": {},
     "output_type": "execute_result"
    }
   ],
   "source": [
    "z"
   ]
  },
  {
   "cell_type": "code",
   "execution_count": 35,
   "metadata": {},
   "outputs": [
    {
     "data": {
      "text/plain": [
       "complex"
      ]
     },
     "execution_count": 35,
     "metadata": {},
     "output_type": "execute_result"
    }
   ],
   "source": [
    "type(z)"
   ]
  },
  {
   "cell_type": "code",
   "execution_count": 36,
   "metadata": {},
   "outputs": [],
   "source": [
    "x = 45e3"
   ]
  },
  {
   "cell_type": "code",
   "execution_count": 37,
   "metadata": {},
   "outputs": [
    {
     "data": {
      "text/plain": [
       "45000.0"
      ]
     },
     "execution_count": 37,
     "metadata": {},
     "output_type": "execute_result"
    }
   ],
   "source": [
    "x"
   ]
  },
  {
   "cell_type": "code",
   "execution_count": 38,
   "metadata": {},
   "outputs": [
    {
     "data": {
      "text/plain": [
       "float"
      ]
     },
     "execution_count": 38,
     "metadata": {},
     "output_type": "execute_result"
    }
   ],
   "source": [
    "type(x)"
   ]
  },
  {
   "cell_type": "code",
   "execution_count": 39,
   "metadata": {},
   "outputs": [],
   "source": [
    "y = -34e5"
   ]
  },
  {
   "cell_type": "code",
   "execution_count": 40,
   "metadata": {},
   "outputs": [
    {
     "data": {
      "text/plain": [
       "-3400000.0"
      ]
     },
     "execution_count": 40,
     "metadata": {},
     "output_type": "execute_result"
    }
   ],
   "source": [
    "y"
   ]
  },
  {
   "cell_type": "code",
   "execution_count": 41,
   "metadata": {},
   "outputs": [
    {
     "data": {
      "text/plain": [
       "float"
      ]
     },
     "execution_count": 41,
     "metadata": {},
     "output_type": "execute_result"
    }
   ],
   "source": [
    "type(y)"
   ]
  },
  {
   "cell_type": "code",
   "execution_count": 42,
   "metadata": {},
   "outputs": [
    {
     "ename": "SyntaxError",
     "evalue": "invalid imaginary literal (3662747033.py, line 1)",
     "output_type": "error",
     "traceback": [
      "\u001b[1;36m  Cell \u001b[1;32mIn[42], line 1\u001b[1;36m\u001b[0m\n\u001b[1;33m    z = 45je4\u001b[0m\n\u001b[1;37m          ^\u001b[0m\n\u001b[1;31mSyntaxError\u001b[0m\u001b[1;31m:\u001b[0m invalid imaginary literal\n"
     ]
    }
   ],
   "source": [
    "z = 45je4"
   ]
  },
  {
   "cell_type": "code",
   "execution_count": 43,
   "metadata": {},
   "outputs": [],
   "source": [
    "z = 45e4"
   ]
  },
  {
   "cell_type": "code",
   "execution_count": 44,
   "metadata": {},
   "outputs": [],
   "source": [
    "z = complex(z)"
   ]
  },
  {
   "cell_type": "code",
   "execution_count": 45,
   "metadata": {},
   "outputs": [
    {
     "data": {
      "text/plain": [
       "(450000+0j)"
      ]
     },
     "execution_count": 45,
     "metadata": {},
     "output_type": "execute_result"
    }
   ],
   "source": [
    "z"
   ]
  },
  {
   "cell_type": "code",
   "execution_count": 50,
   "metadata": {},
   "outputs": [
    {
     "data": {
      "text/plain": [
       "int"
      ]
     },
     "execution_count": 50,
     "metadata": {},
     "output_type": "execute_result"
    }
   ],
   "source": [
    "import random\n",
    "x = random.randrange(1,6)\n",
    "type(x)"
   ]
  },
  {
   "cell_type": "code",
   "execution_count": 53,
   "metadata": {},
   "outputs": [
    {
     "data": {
      "text/plain": [
       "2"
      ]
     },
     "execution_count": 53,
     "metadata": {},
     "output_type": "execute_result"
    }
   ],
   "source": [
    "x #Will change each time it is run"
   ]
  },
  {
   "cell_type": "code",
   "execution_count": 54,
   "metadata": {},
   "outputs": [
    {
     "data": {
      "text/plain": [
       "'e'"
      ]
     },
     "execution_count": 54,
     "metadata": {},
     "output_type": "execute_result"
    }
   ],
   "source": [
    "a = \"Hello World\"\n",
    "a[1]"
   ]
  },
  {
   "cell_type": "code",
   "execution_count": 55,
   "metadata": {},
   "outputs": [
    {
     "data": {
      "text/plain": [
       "'H'"
      ]
     },
     "execution_count": 55,
     "metadata": {},
     "output_type": "execute_result"
    }
   ],
   "source": [
    "a[0]"
   ]
  },
  {
   "cell_type": "code",
   "execution_count": 56,
   "metadata": {},
   "outputs": [
    {
     "name": "stdout",
     "output_type": "stream",
     "text": [
      "b\n",
      "a\n",
      "n\n",
      "a\n",
      "n\n",
      "a\n"
     ]
    }
   ],
   "source": [
    "for x in \"banana\":\n",
    "  print(x)"
   ]
  },
  {
   "cell_type": "code",
   "execution_count": 57,
   "metadata": {},
   "outputs": [
    {
     "ename": "TypeError",
     "evalue": "'str' object does not support item assignment",
     "output_type": "error",
     "traceback": [
      "\u001b[1;31m---------------------------------------------------------------------------\u001b[0m",
      "\u001b[1;31mTypeError\u001b[0m                                 Traceback (most recent call last)",
      "Cell \u001b[1;32mIn[57], line 1\u001b[0m\n\u001b[1;32m----> 1\u001b[0m x[\u001b[38;5;241m0\u001b[39m],x[\u001b[38;5;241m2\u001b[39m],x[\u001b[38;5;241m5\u001b[39m] \u001b[38;5;241m=\u001b[39m \u001b[38;5;124m\"\u001b[39m\u001b[38;5;124mX\u001b[39m\u001b[38;5;124m\"\u001b[39m, \u001b[38;5;124m\"\u001b[39m\u001b[38;5;124mH\u001b[39m\u001b[38;5;124m\"\u001b[39m, \u001b[38;5;124m\"\u001b[39m\u001b[38;5;124mHa\u001b[39m\u001b[38;5;124m\"\u001b[39m\n",
      "\u001b[1;31mTypeError\u001b[0m: 'str' object does not support item assignment"
     ]
    }
   ],
   "source": [
    "x[0],x[2],x[5] = \"X\", \"H\", \"Ha\""
   ]
  },
  {
   "cell_type": "code",
   "execution_count": 58,
   "metadata": {},
   "outputs": [
    {
     "data": {
      "text/plain": [
       "1"
      ]
     },
     "execution_count": 58,
     "metadata": {},
     "output_type": "execute_result"
    }
   ],
   "source": [
    "len(x)"
   ]
  },
  {
   "cell_type": "code",
   "execution_count": 59,
   "metadata": {},
   "outputs": [
    {
     "data": {
      "text/plain": [
       "11"
      ]
     },
     "execution_count": 59,
     "metadata": {},
     "output_type": "execute_result"
    }
   ],
   "source": [
    "b = \"Hello World\"\n",
    "len(b)"
   ]
  },
  {
   "cell_type": "code",
   "execution_count": 65,
   "metadata": {},
   "outputs": [
    {
     "name": "stdout",
     "output_type": "stream",
     "text": [
      "True\n"
     ]
    }
   ],
   "source": [
    "txt = \"Best in the life are free\"\n",
    "print(\"free\" in txt)"
   ]
  },
  {
   "cell_type": "code",
   "execution_count": 66,
   "metadata": {},
   "outputs": [
    {
     "data": {
      "text/plain": [
       "21"
      ]
     },
     "execution_count": 66,
     "metadata": {},
     "output_type": "execute_result"
    }
   ],
   "source": [
    "txt.find(\"free\")# Finds the location where free is situated"
   ]
  },
  {
   "cell_type": "code",
   "execution_count": 67,
   "metadata": {},
   "outputs": [
    {
     "name": "stdout",
     "output_type": "stream",
     "text": [
      "Found the best thing in the life\n"
     ]
    }
   ],
   "source": [
    "if \"free\" in txt:\n",
    "    print(\"Found the best thing in the life\")"
   ]
  },
  {
   "cell_type": "code",
   "execution_count": 68,
   "metadata": {},
   "outputs": [],
   "source": [
    "if txt.find(\"free\") == True:\n",
    "    global s\n",
    "    s = \"Found the best thing in the life\"\n",
    "    print(s)"
   ]
  },
  {
   "cell_type": "code",
   "execution_count": 69,
   "metadata": {},
   "outputs": [
    {
     "name": "stdout",
     "output_type": "stream",
     "text": [
      "True\n"
     ]
    }
   ],
   "source": [
    "print(\"expensive\" not in txt)"
   ]
  },
  {
   "cell_type": "code",
   "execution_count": 71,
   "metadata": {},
   "outputs": [
    {
     "name": "stdout",
     "output_type": "stream",
     "text": [
      "No, 'expensive' is NOT present.\n"
     ]
    }
   ],
   "source": [
    "txt = \"The best things in life are free!\"\n",
    "if \"expensive\" not in txt:\n",
    "  print(\"No, 'expensive' is NOT present.\")"
   ]
  },
  {
   "cell_type": "code",
   "execution_count": 72,
   "metadata": {},
   "outputs": [
    {
     "data": {
      "text/plain": [
       "'llo'"
      ]
     },
     "execution_count": 72,
     "metadata": {},
     "output_type": "execute_result"
    }
   ],
   "source": [
    "b = \"Hello World\"\n",
    "b[2:5]"
   ]
  },
  {
   "cell_type": "code",
   "execution_count": 73,
   "metadata": {},
   "outputs": [
    {
     "data": {
      "text/plain": [
       "'Hello'"
      ]
     },
     "execution_count": 73,
     "metadata": {},
     "output_type": "execute_result"
    }
   ],
   "source": [
    "b[:5]"
   ]
  },
  {
   "cell_type": "code",
   "execution_count": 74,
   "metadata": {},
   "outputs": [
    {
     "data": {
      "text/plain": [
       "'Hello'"
      ]
     },
     "execution_count": 74,
     "metadata": {},
     "output_type": "execute_result"
    }
   ],
   "source": [
    "b[0:5]"
   ]
  },
  {
   "cell_type": "code",
   "execution_count": 75,
   "metadata": {},
   "outputs": [
    {
     "data": {
      "text/plain": [
       "'Hello '"
      ]
     },
     "execution_count": 75,
     "metadata": {},
     "output_type": "execute_result"
    }
   ],
   "source": [
    "b[:-5]"
   ]
  },
  {
   "cell_type": "code",
   "execution_count": 76,
   "metadata": {},
   "outputs": [
    {
     "data": {
      "text/plain": [
       "'World'"
      ]
     },
     "execution_count": 76,
     "metadata": {},
     "output_type": "execute_result"
    }
   ],
   "source": [
    "b[-5:]"
   ]
  },
  {
   "cell_type": "code",
   "execution_count": 77,
   "metadata": {},
   "outputs": [
    {
     "data": {
      "text/plain": [
       "'Hell'"
      ]
     },
     "execution_count": 77,
     "metadata": {},
     "output_type": "execute_result"
    }
   ],
   "source": [
    "b[:4]"
   ]
  },
  {
   "cell_type": "code",
   "execution_count": 78,
   "metadata": {},
   "outputs": [
    {
     "data": {
      "text/plain": [
       "'Hello W'"
      ]
     },
     "execution_count": 78,
     "metadata": {},
     "output_type": "execute_result"
    }
   ],
   "source": [
    "b[:-4]"
   ]
  },
  {
   "cell_type": "code",
   "execution_count": 79,
   "metadata": {},
   "outputs": [
    {
     "data": {
      "text/plain": [
       "'orld'"
      ]
     },
     "execution_count": 79,
     "metadata": {},
     "output_type": "execute_result"
    }
   ],
   "source": [
    "b[-4:]"
   ]
  },
  {
   "cell_type": "code",
   "execution_count": 80,
   "metadata": {},
   "outputs": [
    {
     "data": {
      "text/plain": [
       "'Wo'"
      ]
     },
     "execution_count": 80,
     "metadata": {},
     "output_type": "execute_result"
    }
   ],
   "source": [
    "b[-5:-3]"
   ]
  },
  {
   "cell_type": "code",
   "execution_count": 81,
   "metadata": {},
   "outputs": [
    {
     "data": {
      "text/plain": [
       "' '"
      ]
     },
     "execution_count": 81,
     "metadata": {},
     "output_type": "execute_result"
    }
   ],
   "source": [
    "b[5]"
   ]
  },
  {
   "cell_type": "code",
   "execution_count": 82,
   "metadata": {},
   "outputs": [
    {
     "data": {
      "text/plain": [
       "'HELLO WORLD'"
      ]
     },
     "execution_count": 82,
     "metadata": {},
     "output_type": "execute_result"
    }
   ],
   "source": [
    "b.upper()"
   ]
  },
  {
   "cell_type": "code",
   "execution_count": 83,
   "metadata": {},
   "outputs": [
    {
     "data": {
      "text/plain": [
       "'hello world'"
      ]
     },
     "execution_count": 83,
     "metadata": {},
     "output_type": "execute_result"
    }
   ],
   "source": [
    "b.lower()"
   ]
  },
  {
   "cell_type": "code",
   "execution_count": 84,
   "metadata": {},
   "outputs": [
    {
     "data": {
      "text/plain": [
       "'  Hello World'"
      ]
     },
     "execution_count": 84,
     "metadata": {},
     "output_type": "execute_result"
    }
   ],
   "source": [
    "a = \"  Hello World\"\n",
    "a"
   ]
  },
  {
   "cell_type": "code",
   "execution_count": 85,
   "metadata": {},
   "outputs": [
    {
     "data": {
      "text/plain": [
       "'Hello World'"
      ]
     },
     "execution_count": 85,
     "metadata": {},
     "output_type": "execute_result"
    }
   ],
   "source": [
    "a.strip()"
   ]
  },
  {
   "cell_type": "code",
   "execution_count": 86,
   "metadata": {},
   "outputs": [
    {
     "data": {
      "text/plain": [
       "'xello World'"
      ]
     },
     "execution_count": 86,
     "metadata": {},
     "output_type": "execute_result"
    }
   ],
   "source": [
    "b.replace(\"H\", \"x\")"
   ]
  },
  {
   "cell_type": "code",
   "execution_count": 87,
   "metadata": {},
   "outputs": [
    {
     "data": {
      "text/plain": [
       "'Hello World'"
      ]
     },
     "execution_count": 87,
     "metadata": {},
     "output_type": "execute_result"
    }
   ],
   "source": [
    "b"
   ]
  },
  {
   "cell_type": "code",
   "execution_count": 88,
   "metadata": {},
   "outputs": [
    {
     "data": {
      "text/plain": [
       "'Shello World'"
      ]
     },
     "execution_count": 88,
     "metadata": {},
     "output_type": "execute_result"
    }
   ],
   "source": [
    "b.replace(\"H\", \"Sh\")"
   ]
  },
  {
   "cell_type": "code",
   "execution_count": 89,
   "metadata": {},
   "outputs": [
    {
     "data": {
      "text/plain": [
       "['Hello', 'World']"
      ]
     },
     "execution_count": 89,
     "metadata": {},
     "output_type": "execute_result"
    }
   ],
   "source": [
    "b.split()"
   ]
  },
  {
   "cell_type": "code",
   "execution_count": 90,
   "metadata": {},
   "outputs": [
    {
     "data": {
      "text/plain": [
       "['Hello', 'World']"
      ]
     },
     "execution_count": 90,
     "metadata": {},
     "output_type": "execute_result"
    }
   ],
   "source": [
    "(a.strip()).split()"
   ]
  },
  {
   "cell_type": "code",
   "execution_count": 91,
   "metadata": {},
   "outputs": [
    {
     "data": {
      "text/plain": [
       "['Hell', ' W', 'rld']"
      ]
     },
     "execution_count": 91,
     "metadata": {},
     "output_type": "execute_result"
    }
   ],
   "source": [
    "b.split(\"o\")"
   ]
  },
  {
   "cell_type": "code",
   "execution_count": 92,
   "metadata": {},
   "outputs": [],
   "source": [
    "a,b = b.split()"
   ]
  },
  {
   "cell_type": "code",
   "execution_count": 93,
   "metadata": {},
   "outputs": [
    {
     "data": {
      "text/plain": [
       "'Hello'"
      ]
     },
     "execution_count": 93,
     "metadata": {},
     "output_type": "execute_result"
    }
   ],
   "source": [
    "a"
   ]
  },
  {
   "cell_type": "code",
   "execution_count": 94,
   "metadata": {},
   "outputs": [
    {
     "name": "stdout",
     "output_type": "stream",
     "text": [
      "HelloWorld\n"
     ]
    }
   ],
   "source": [
    "c = a +b\n",
    "print(c)"
   ]
  },
  {
   "cell_type": "code",
   "execution_count": 95,
   "metadata": {},
   "outputs": [],
   "source": [
    "c = a + \"\\t\" + b"
   ]
  },
  {
   "cell_type": "code",
   "execution_count": 96,
   "metadata": {},
   "outputs": [
    {
     "name": "stdout",
     "output_type": "stream",
     "text": [
      "Hello\tWorld\n"
     ]
    }
   ],
   "source": [
    "print(c)"
   ]
  },
  {
   "cell_type": "code",
   "execution_count": 97,
   "metadata": {},
   "outputs": [],
   "source": [
    "txt = \"I  am Kalyan, I am {}\"\n",
    "age = 45"
   ]
  },
  {
   "cell_type": "code",
   "execution_count": 98,
   "metadata": {},
   "outputs": [
    {
     "ename": "TypeError",
     "evalue": "can only concatenate str (not \"int\") to str",
     "output_type": "error",
     "traceback": [
      "\u001b[1;31m---------------------------------------------------------------------------\u001b[0m",
      "\u001b[1;31mTypeError\u001b[0m                                 Traceback (most recent call last)",
      "Cell \u001b[1;32mIn[98], line 1\u001b[0m\n\u001b[1;32m----> 1\u001b[0m \u001b[38;5;28mprint\u001b[39m(\u001b[43mtxt\u001b[49m\u001b[43m \u001b[49m\u001b[38;5;241;43m+\u001b[39;49m\u001b[43m \u001b[49m\u001b[43mage\u001b[49m)\n",
      "\u001b[1;31mTypeError\u001b[0m: can only concatenate str (not \"int\") to str"
     ]
    }
   ],
   "source": [
    "print(txt + age)"
   ]
  },
  {
   "cell_type": "code",
   "execution_count": 99,
   "metadata": {},
   "outputs": [
    {
     "name": "stdout",
     "output_type": "stream",
     "text": [
      "I  am Kalyan, I am 45\n"
     ]
    }
   ],
   "source": [
    "print(txt .format(age))"
   ]
  },
  {
   "cell_type": "code",
   "execution_count": 100,
   "metadata": {},
   "outputs": [
    {
     "name": "stdout",
     "output_type": "stream",
     "text": [
      "if you buy 3 items you pay 45\n"
     ]
    }
   ],
   "source": [
    "quantity = 3\n",
    "price = 45\n",
    "print(\"if you buy {} items you pay {}\" .format(quantity, price))"
   ]
  },
  {
   "cell_type": "code",
   "execution_count": 101,
   "metadata": {},
   "outputs": [
    {
     "name": "stdout",
     "output_type": "stream",
     "text": [
      "if you buy 3 of item number 32 you pay 45\n"
     ]
    }
   ],
   "source": [
    "quantity = 3\n",
    "price = 45\n",
    "item = 32\n",
    "print(\"if you buy {0} of item number {2} you pay {1}\" .format(quantity, price, item))"
   ]
  },
  {
   "cell_type": "code",
   "execution_count": 102,
   "metadata": {},
   "outputs": [
    {
     "ename": "SyntaxError",
     "evalue": "invalid syntax (4013392309.py, line 1)",
     "output_type": "error",
     "traceback": [
      "\u001b[1;36m  Cell \u001b[1;32mIn[102], line 1\u001b[1;36m\u001b[0m\n\u001b[1;33m    txt = \"We are the so-called \"Vikings\" from the north.\"\u001b[0m\n\u001b[1;37m                                 ^\u001b[0m\n\u001b[1;31mSyntaxError\u001b[0m\u001b[1;31m:\u001b[0m invalid syntax\n"
     ]
    }
   ],
   "source": [
    "txt = \"We are the so-called \"Vikings\" from the north.\"\n",
    "print(txt)"
   ]
  },
  {
   "cell_type": "code",
   "execution_count": 103,
   "metadata": {},
   "outputs": [
    {
     "name": "stdout",
     "output_type": "stream",
     "text": [
      "We are the so-called \"Vikings\" from the north.\n"
     ]
    }
   ],
   "source": [
    "txt = \"We are the so-called \\\"Vikings\\\" from the north.\"\n",
    "print(txt)"
   ]
  },
  {
   "cell_type": "code",
   "execution_count": 104,
   "metadata": {},
   "outputs": [
    {
     "data": {
      "text/plain": [
       "'Hello world'"
      ]
     },
     "execution_count": 104,
     "metadata": {},
     "output_type": "execute_result"
    }
   ],
   "source": [
    "b = \"hello world\"\n",
    "b.capitalize()"
   ]
  },
  {
   "cell_type": "code",
   "execution_count": 105,
   "metadata": {},
   "outputs": [
    {
     "ename": "AttributeError",
     "evalue": "'list' object has no attribute 'capitalize'",
     "output_type": "error",
     "traceback": [
      "\u001b[1;31m---------------------------------------------------------------------------\u001b[0m",
      "\u001b[1;31mAttributeError\u001b[0m                            Traceback (most recent call last)",
      "Cell \u001b[1;32mIn[105], line 1\u001b[0m\n\u001b[1;32m----> 1\u001b[0m \u001b[43m(\u001b[49m\u001b[43mb\u001b[49m\u001b[38;5;241;43m.\u001b[39;49m\u001b[43msplit\u001b[49m\u001b[43m(\u001b[49m\u001b[43m)\u001b[49m\u001b[43m)\u001b[49m\u001b[38;5;241;43m.\u001b[39;49m\u001b[43mcapitalize\u001b[49m()\n",
      "\u001b[1;31mAttributeError\u001b[0m: 'list' object has no attribute 'capitalize'"
     ]
    }
   ],
   "source": [
    "(b.split()).capitalize()"
   ]
  },
  {
   "cell_type": "code",
   "execution_count": 106,
   "metadata": {},
   "outputs": [
    {
     "data": {
      "text/plain": [
       "'hello world'"
      ]
     },
     "execution_count": 106,
     "metadata": {},
     "output_type": "execute_result"
    }
   ],
   "source": [
    "(b.capitalize()).casefold() #First capitalize than change the case"
   ]
  },
  {
   "cell_type": "code",
   "execution_count": 107,
   "metadata": {},
   "outputs": [
    {
     "ename": "TypeError",
     "evalue": "'str' object cannot be interpreted as an integer",
     "output_type": "error",
     "traceback": [
      "\u001b[1;31m---------------------------------------------------------------------------\u001b[0m",
      "\u001b[1;31mTypeError\u001b[0m                                 Traceback (most recent call last)",
      "Cell \u001b[1;32mIn[107], line 1\u001b[0m\n\u001b[1;32m----> 1\u001b[0m \u001b[43mb\u001b[49m\u001b[38;5;241;43m.\u001b[39;49m\u001b[43mcenter\u001b[49m\u001b[43m(\u001b[49m\u001b[38;5;124;43m\"\u001b[39;49m\u001b[38;5;124;43mH\u001b[39;49m\u001b[38;5;124;43m\"\u001b[39;49m\u001b[43m)\u001b[49m\n",
      "\u001b[1;31mTypeError\u001b[0m: 'str' object cannot be interpreted as an integer"
     ]
    }
   ],
   "source": [
    "b.center(\"H\")"
   ]
  },
  {
   "cell_type": "code",
   "execution_count": 108,
   "metadata": {},
   "outputs": [
    {
     "data": {
      "text/plain": [
       "2"
      ]
     },
     "execution_count": 108,
     "metadata": {},
     "output_type": "execute_result"
    }
   ],
   "source": [
    "b.count(\"o\") # o occurs two times"
   ]
  },
  {
   "cell_type": "code",
   "execution_count": 109,
   "metadata": {},
   "outputs": [
    {
     "data": {
      "text/plain": [
       "b'hello world'"
      ]
     },
     "execution_count": 109,
     "metadata": {},
     "output_type": "execute_result"
    }
   ],
   "source": [
    "b.encode()"
   ]
  },
  {
   "cell_type": "code",
   "execution_count": 110,
   "metadata": {},
   "outputs": [
    {
     "data": {
      "text/plain": [
       "True"
      ]
     },
     "execution_count": 110,
     "metadata": {},
     "output_type": "execute_result"
    }
   ],
   "source": [
    "b.endswith(\"d\")"
   ]
  },
  {
   "cell_type": "code",
   "execution_count": 111,
   "metadata": {},
   "outputs": [
    {
     "data": {
      "text/plain": [
       "False"
      ]
     },
     "execution_count": 111,
     "metadata": {},
     "output_type": "execute_result"
    }
   ],
   "source": [
    "b.endswith(\"D\")"
   ]
  },
  {
   "cell_type": "code",
   "execution_count": 112,
   "metadata": {},
   "outputs": [
    {
     "data": {
      "text/plain": [
       "'hello world'"
      ]
     },
     "execution_count": 112,
     "metadata": {},
     "output_type": "execute_result"
    }
   ],
   "source": [
    "b.expandtabs(5)"
   ]
  },
  {
   "cell_type": "code",
   "execution_count": 113,
   "metadata": {},
   "outputs": [
    {
     "data": {
      "text/plain": [
       "6"
      ]
     },
     "execution_count": 113,
     "metadata": {},
     "output_type": "execute_result"
    }
   ],
   "source": [
    "b.find(\"world\")"
   ]
  },
  {
   "cell_type": "code",
   "execution_count": 114,
   "metadata": {},
   "outputs": [
    {
     "data": {
      "text/plain": [
       "2"
      ]
     },
     "execution_count": 114,
     "metadata": {},
     "output_type": "execute_result"
    }
   ],
   "source": [
    "b.index(\"l\")"
   ]
  },
  {
   "cell_type": "code",
   "execution_count": 115,
   "metadata": {},
   "outputs": [
    {
     "data": {
      "text/plain": [
       "False"
      ]
     },
     "execution_count": 115,
     "metadata": {},
     "output_type": "execute_result"
    }
   ],
   "source": [
    "b.isalnum()"
   ]
  },
  {
   "cell_type": "code",
   "execution_count": 116,
   "metadata": {},
   "outputs": [
    {
     "data": {
      "text/plain": [
       "False"
      ]
     },
     "execution_count": 116,
     "metadata": {},
     "output_type": "execute_result"
    }
   ],
   "source": [
    "b.isalpha()"
   ]
  },
  {
   "cell_type": "code",
   "execution_count": 117,
   "metadata": {},
   "outputs": [
    {
     "data": {
      "text/plain": [
       "False"
      ]
     },
     "execution_count": 117,
     "metadata": {},
     "output_type": "execute_result"
    }
   ],
   "source": [
    "b.isdecimal()"
   ]
  },
  {
   "cell_type": "code",
   "execution_count": 118,
   "metadata": {},
   "outputs": [
    {
     "data": {
      "text/plain": [
       "False"
      ]
     },
     "execution_count": 118,
     "metadata": {},
     "output_type": "execute_result"
    }
   ],
   "source": [
    "b.isdigit()"
   ]
  },
  {
   "cell_type": "code",
   "execution_count": 119,
   "metadata": {},
   "outputs": [
    {
     "data": {
      "text/plain": [
       "False"
      ]
     },
     "execution_count": 119,
     "metadata": {},
     "output_type": "execute_result"
    }
   ],
   "source": [
    "b.isidentifier()"
   ]
  },
  {
   "cell_type": "code",
   "execution_count": 120,
   "metadata": {},
   "outputs": [
    {
     "data": {
      "text/plain": [
       "True"
      ]
     },
     "execution_count": 120,
     "metadata": {},
     "output_type": "execute_result"
    }
   ],
   "source": [
    "b.islower()"
   ]
  },
  {
   "cell_type": "code",
   "execution_count": 121,
   "metadata": {},
   "outputs": [
    {
     "data": {
      "text/plain": [
       "False"
      ]
     },
     "execution_count": 121,
     "metadata": {},
     "output_type": "execute_result"
    }
   ],
   "source": [
    "b.isnumeric()"
   ]
  },
  {
   "cell_type": "code",
   "execution_count": 122,
   "metadata": {},
   "outputs": [
    {
     "data": {
      "text/plain": [
       "True"
      ]
     },
     "execution_count": 122,
     "metadata": {},
     "output_type": "execute_result"
    }
   ],
   "source": [
    "b.isprintable()"
   ]
  },
  {
   "cell_type": "code",
   "execution_count": 123,
   "metadata": {},
   "outputs": [
    {
     "data": {
      "text/plain": [
       "False"
      ]
     },
     "execution_count": 123,
     "metadata": {},
     "output_type": "execute_result"
    }
   ],
   "source": [
    "b.isspace()"
   ]
  },
  {
   "cell_type": "code",
   "execution_count": 124,
   "metadata": {},
   "outputs": [
    {
     "data": {
      "text/plain": [
       "False"
      ]
     },
     "execution_count": 124,
     "metadata": {},
     "output_type": "execute_result"
    }
   ],
   "source": [
    "b.istitle()"
   ]
  },
  {
   "cell_type": "code",
   "execution_count": 125,
   "metadata": {},
   "outputs": [
    {
     "data": {
      "text/plain": [
       "False"
      ]
     },
     "execution_count": 125,
     "metadata": {},
     "output_type": "execute_result"
    }
   ],
   "source": [
    "b.isupper()"
   ]
  },
  {
   "cell_type": "code",
   "execution_count": 126,
   "metadata": {},
   "outputs": [
    {
     "data": {
      "text/plain": [
       "'K'"
      ]
     },
     "execution_count": 126,
     "metadata": {},
     "output_type": "execute_result"
    }
   ],
   "source": [
    "b.join(\"K\") #Dont know what this is doing"
   ]
  },
  {
   "cell_type": "code",
   "execution_count": 127,
   "metadata": {},
   "outputs": [
    {
     "data": {
      "text/plain": [
       "'hello world'"
      ]
     },
     "execution_count": 127,
     "metadata": {},
     "output_type": "execute_result"
    }
   ],
   "source": [
    "b"
   ]
  },
  {
   "cell_type": "code",
   "execution_count": 128,
   "metadata": {},
   "outputs": [
    {
     "ename": "TypeError",
     "evalue": "'str' object cannot be interpreted as an integer",
     "output_type": "error",
     "traceback": [
      "\u001b[1;31m---------------------------------------------------------------------------\u001b[0m",
      "\u001b[1;31mTypeError\u001b[0m                                 Traceback (most recent call last)",
      "Cell \u001b[1;32mIn[128], line 1\u001b[0m\n\u001b[1;32m----> 1\u001b[0m \u001b[43mb\u001b[49m\u001b[38;5;241;43m.\u001b[39;49m\u001b[43mljust\u001b[49m\u001b[43m(\u001b[49m\u001b[38;5;124;43m\"\u001b[39;49m\u001b[38;5;124;43me\u001b[39;49m\u001b[38;5;124;43m\"\u001b[39;49m\u001b[43m)\u001b[49m\n",
      "\u001b[1;31mTypeError\u001b[0m: 'str' object cannot be interpreted as an integer"
     ]
    }
   ],
   "source": [
    "b.ljust(\"e\")"
   ]
  },
  {
   "cell_type": "code",
   "execution_count": 129,
   "metadata": {},
   "outputs": [
    {
     "data": {
      "text/plain": [
       "'hello world'"
      ]
     },
     "execution_count": 129,
     "metadata": {},
     "output_type": "execute_result"
    }
   ],
   "source": [
    "b.lower()"
   ]
  },
  {
   "cell_type": "code",
   "execution_count": 130,
   "metadata": {},
   "outputs": [
    {
     "data": {
      "text/plain": [
       "'HELLO WORLD'"
      ]
     },
     "execution_count": 130,
     "metadata": {},
     "output_type": "execute_result"
    }
   ],
   "source": [
    "b.upper()"
   ]
  },
  {
   "cell_type": "code",
   "execution_count": 131,
   "metadata": {},
   "outputs": [
    {
     "data": {
      "text/plain": [
       "'hello world'"
      ]
     },
     "execution_count": 131,
     "metadata": {},
     "output_type": "execute_result"
    }
   ],
   "source": [
    "b.lstrip()"
   ]
  },
  {
   "cell_type": "code",
   "execution_count": 132,
   "metadata": {},
   "outputs": [
    {
     "ename": "TypeError",
     "evalue": "if you give only one argument to maketrans it must be a dict",
     "output_type": "error",
     "traceback": [
      "\u001b[1;31m---------------------------------------------------------------------------\u001b[0m",
      "\u001b[1;31mTypeError\u001b[0m                                 Traceback (most recent call last)",
      "Cell \u001b[1;32mIn[132], line 1\u001b[0m\n\u001b[1;32m----> 1\u001b[0m \u001b[43mb\u001b[49m\u001b[38;5;241;43m.\u001b[39;49m\u001b[43mmaketrans\u001b[49m\u001b[43m(\u001b[49m\u001b[38;5;124;43m\"\u001b[39;49m\u001b[38;5;124;43mX\u001b[39;49m\u001b[38;5;124;43m\"\u001b[39;49m\u001b[43m)\u001b[49m\n",
      "\u001b[1;31mTypeError\u001b[0m: if you give only one argument to maketrans it must be a dict"
     ]
    }
   ],
   "source": [
    "b.maketrans(\"X\")"
   ]
  },
  {
   "cell_type": "code",
   "execution_count": 133,
   "metadata": {},
   "outputs": [
    {
     "data": {
      "text/plain": [
       "('hello ', 'w', 'orld')"
      ]
     },
     "execution_count": 133,
     "metadata": {},
     "output_type": "execute_result"
    }
   ],
   "source": [
    "b.partition(\"w\")"
   ]
  },
  {
   "cell_type": "code",
   "execution_count": 134,
   "metadata": {},
   "outputs": [
    {
     "data": {
      "text/plain": [
       "'xello world'"
      ]
     },
     "execution_count": 134,
     "metadata": {},
     "output_type": "execute_result"
    }
   ],
   "source": [
    "b.replace(\"h\", \"x\")"
   ]
  },
  {
   "cell_type": "code",
   "execution_count": 135,
   "metadata": {},
   "outputs": [
    {
     "data": {
      "text/plain": [
       "'hello~world'"
      ]
     },
     "execution_count": 135,
     "metadata": {},
     "output_type": "execute_result"
    }
   ],
   "source": [
    "b.replace(\" \", \"~\")"
   ]
  },
  {
   "cell_type": "code",
   "execution_count": 136,
   "metadata": {},
   "outputs": [
    {
     "data": {
      "text/plain": [
       "-1"
      ]
     },
     "execution_count": 136,
     "metadata": {},
     "output_type": "execute_result"
    }
   ],
   "source": [
    "b.rfind(\"t\")"
   ]
  },
  {
   "cell_type": "code",
   "execution_count": 137,
   "metadata": {},
   "outputs": [
    {
     "data": {
      "text/plain": [
       "8"
      ]
     },
     "execution_count": 137,
     "metadata": {},
     "output_type": "execute_result"
    }
   ],
   "source": [
    "b.rfind(\"rl\")"
   ]
  },
  {
   "cell_type": "code",
   "execution_count": 138,
   "metadata": {},
   "outputs": [
    {
     "data": {
      "text/plain": [
       "8"
      ]
     },
     "execution_count": 138,
     "metadata": {},
     "output_type": "execute_result"
    }
   ],
   "source": [
    "b.rindex(\"rl\")"
   ]
  },
  {
   "cell_type": "code",
   "execution_count": 139,
   "metadata": {},
   "outputs": [
    {
     "data": {
      "text/plain": [
       "'hello world'"
      ]
     },
     "execution_count": 139,
     "metadata": {},
     "output_type": "execute_result"
    }
   ],
   "source": [
    "b.rjust(4)"
   ]
  },
  {
   "cell_type": "code",
   "execution_count": 140,
   "metadata": {},
   "outputs": [
    {
     "data": {
      "text/plain": [
       "('h', 'e', 'llo world')"
      ]
     },
     "execution_count": 140,
     "metadata": {},
     "output_type": "execute_result"
    }
   ],
   "source": [
    "b.rpartition(\"e\")"
   ]
  },
  {
   "cell_type": "code",
   "execution_count": 141,
   "metadata": {},
   "outputs": [
    {
     "data": {
      "text/plain": [
       "['he', 'o world']"
      ]
     },
     "execution_count": 141,
     "metadata": {},
     "output_type": "execute_result"
    }
   ],
   "source": [
    "b.rsplit(\"ll\")"
   ]
  },
  {
   "cell_type": "code",
   "execution_count": 142,
   "metadata": {},
   "outputs": [
    {
     "data": {
      "text/plain": [
       "['hello ', 'orld']"
      ]
     },
     "execution_count": 142,
     "metadata": {},
     "output_type": "execute_result"
    }
   ],
   "source": [
    "b.split(\"w\")"
   ]
  },
  {
   "cell_type": "code",
   "execution_count": 143,
   "metadata": {},
   "outputs": [
    {
     "data": {
      "text/plain": [
       "['hello world']"
      ]
     },
     "execution_count": 143,
     "metadata": {},
     "output_type": "execute_result"
    }
   ],
   "source": [
    "b.splitlines(2)"
   ]
  },
  {
   "cell_type": "code",
   "execution_count": 144,
   "metadata": {},
   "outputs": [
    {
     "data": {
      "text/plain": [
       "True"
      ]
     },
     "execution_count": 144,
     "metadata": {},
     "output_type": "execute_result"
    }
   ],
   "source": [
    "b.startswith(\"h\")"
   ]
  },
  {
   "cell_type": "code",
   "execution_count": 145,
   "metadata": {},
   "outputs": [
    {
     "data": {
      "text/plain": [
       "False"
      ]
     },
     "execution_count": 145,
     "metadata": {},
     "output_type": "execute_result"
    }
   ],
   "source": [
    "b.startswith(\">\") #is important for a fasta file"
   ]
  },
  {
   "cell_type": "code",
   "execution_count": 146,
   "metadata": {},
   "outputs": [
    {
     "data": {
      "text/plain": [
       "'hello world'"
      ]
     },
     "execution_count": 146,
     "metadata": {},
     "output_type": "execute_result"
    }
   ],
   "source": [
    "b.strip(\"o\")"
   ]
  },
  {
   "cell_type": "code",
   "execution_count": 147,
   "metadata": {},
   "outputs": [
    {
     "data": {
      "text/plain": [
       "'HELLO WORLD'"
      ]
     },
     "execution_count": 147,
     "metadata": {},
     "output_type": "execute_result"
    }
   ],
   "source": [
    "b.swapcase()"
   ]
  },
  {
   "cell_type": "code",
   "execution_count": 148,
   "metadata": {},
   "outputs": [
    {
     "data": {
      "text/plain": [
       "'hELLO WORLD'"
      ]
     },
     "execution_count": 148,
     "metadata": {},
     "output_type": "execute_result"
    }
   ],
   "source": [
    "(b.capitalize()).swapcase()"
   ]
  },
  {
   "cell_type": "code",
   "execution_count": 149,
   "metadata": {},
   "outputs": [
    {
     "data": {
      "text/plain": [
       "'Hello World'"
      ]
     },
     "execution_count": 149,
     "metadata": {},
     "output_type": "execute_result"
    }
   ],
   "source": [
    "b.title()"
   ]
  },
  {
   "cell_type": "code",
   "execution_count": 150,
   "metadata": {},
   "outputs": [
    {
     "data": {
      "text/plain": [
       "'hELLO wORLD'"
      ]
     },
     "execution_count": 150,
     "metadata": {},
     "output_type": "execute_result"
    }
   ],
   "source": [
    "(b.title()).swapcase()"
   ]
  },
  {
   "cell_type": "code",
   "execution_count": 151,
   "metadata": {},
   "outputs": [
    {
     "data": {
      "text/plain": [
       "'hello world'"
      ]
     },
     "execution_count": 151,
     "metadata": {},
     "output_type": "execute_result"
    }
   ],
   "source": [
    "b.translate(\"e\")"
   ]
  },
  {
   "cell_type": "code",
   "execution_count": 152,
   "metadata": {},
   "outputs": [
    {
     "data": {
      "text/plain": [
       "'hello world'"
      ]
     },
     "execution_count": 152,
     "metadata": {},
     "output_type": "execute_result"
    }
   ],
   "source": [
    "b.zfill(1)"
   ]
  },
  {
   "cell_type": "code",
   "execution_count": 153,
   "metadata": {},
   "outputs": [
    {
     "name": "stdout",
     "output_type": "stream",
     "text": [
      "True\n"
     ]
    }
   ],
   "source": [
    "print(10 >3)"
   ]
  },
  {
   "cell_type": "code",
   "execution_count": 154,
   "metadata": {},
   "outputs": [
    {
     "name": "stdout",
     "output_type": "stream",
     "text": [
      "False\n"
     ]
    }
   ],
   "source": [
    "print(10 <3)"
   ]
  },
  {
   "cell_type": "code",
   "execution_count": 155,
   "metadata": {},
   "outputs": [
    {
     "name": "stdout",
     "output_type": "stream",
     "text": [
      "False\n"
     ]
    }
   ],
   "source": [
    "print(10 == 3)"
   ]
  },
  {
   "cell_type": "code",
   "execution_count": 156,
   "metadata": {},
   "outputs": [
    {
     "data": {
      "text/plain": [
       "True"
      ]
     },
     "execution_count": 156,
     "metadata": {},
     "output_type": "execute_result"
    }
   ],
   "source": [
    "bool(\"Hello\")"
   ]
  },
  {
   "cell_type": "code",
   "execution_count": 157,
   "metadata": {},
   "outputs": [
    {
     "data": {
      "text/plain": [
       "False"
      ]
     },
     "execution_count": 157,
     "metadata": {},
     "output_type": "execute_result"
    }
   ],
   "source": [
    "bool(\"Hello\" == \"Yellow\")"
   ]
  },
  {
   "cell_type": "code",
   "execution_count": 158,
   "metadata": {},
   "outputs": [
    {
     "data": {
      "text/plain": [
       "True"
      ]
     },
     "execution_count": 158,
     "metadata": {},
     "output_type": "execute_result"
    }
   ],
   "source": [
    "x = \"Hello\"\n",
    "bool(x)"
   ]
  },
  {
   "cell_type": "code",
   "execution_count": 159,
   "metadata": {},
   "outputs": [
    {
     "data": {
      "text/plain": [
       "False"
      ]
     },
     "execution_count": 159,
     "metadata": {},
     "output_type": "execute_result"
    }
   ],
   "source": [
    "y = \"Yellow\"\n",
    "bool(x == y)"
   ]
  },
  {
   "cell_type": "code",
   "execution_count": 160,
   "metadata": {},
   "outputs": [
    {
     "data": {
      "text/plain": [
       "False"
      ]
     },
     "execution_count": 160,
     "metadata": {},
     "output_type": "execute_result"
    }
   ],
   "source": [
    "bool(False)"
   ]
  },
  {
   "cell_type": "code",
   "execution_count": 161,
   "metadata": {},
   "outputs": [
    {
     "data": {
      "text/plain": [
       "False"
      ]
     },
     "execution_count": 161,
     "metadata": {},
     "output_type": "execute_result"
    }
   ],
   "source": [
    "bool(0)"
   ]
  },
  {
   "cell_type": "code",
   "execution_count": 162,
   "metadata": {},
   "outputs": [
    {
     "data": {
      "text/plain": [
       "False"
      ]
     },
     "execution_count": 162,
     "metadata": {},
     "output_type": "execute_result"
    }
   ],
   "source": [
    "bool(\"\")"
   ]
  },
  {
   "cell_type": "code",
   "execution_count": 163,
   "metadata": {},
   "outputs": [
    {
     "name": "stdout",
     "output_type": "stream",
     "text": [
      "Yes\n"
     ]
    }
   ],
   "source": [
    "def myfunction():\n",
    "    return True\n",
    "if myfunction():\n",
    "    print(\"Yes\")\n",
    "else :\n",
    "    print(\"No\")"
   ]
  },
  {
   "cell_type": "code",
   "execution_count": 164,
   "metadata": {},
   "outputs": [
    {
     "data": {
      "text/plain": [
       "True"
      ]
     },
     "execution_count": 164,
     "metadata": {},
     "output_type": "execute_result"
    }
   ],
   "source": [
    "x = 200\n",
    "isinstance(x, int)"
   ]
  },
  {
   "cell_type": "code",
   "execution_count": 165,
   "metadata": {},
   "outputs": [
    {
     "data": {
      "text/plain": [
       "False"
      ]
     },
     "execution_count": 165,
     "metadata": {},
     "output_type": "execute_result"
    }
   ],
   "source": [
    "x = 200\n",
    "isinstance(x, str)"
   ]
  },
  {
   "cell_type": "code",
   "execution_count": 166,
   "metadata": {},
   "outputs": [
    {
     "data": {
      "text/plain": [
       "8"
      ]
     },
     "execution_count": 166,
     "metadata": {},
     "output_type": "execute_result"
    }
   ],
   "source": [
    "x = 5\n",
    "x +=3\n",
    "x"
   ]
  },
  {
   "cell_type": "code",
   "execution_count": 167,
   "metadata": {},
   "outputs": [
    {
     "data": {
      "text/plain": [
       "2"
      ]
     },
     "execution_count": 167,
     "metadata": {},
     "output_type": "execute_result"
    }
   ],
   "source": [
    "x = 5\n",
    "x -=3\n",
    "x"
   ]
  },
  {
   "cell_type": "code",
   "execution_count": 168,
   "metadata": {},
   "outputs": [
    {
     "data": {
      "text/plain": [
       "15"
      ]
     },
     "execution_count": 168,
     "metadata": {},
     "output_type": "execute_result"
    }
   ],
   "source": [
    "x = 5\n",
    "x *=3\n",
    "x"
   ]
  },
  {
   "cell_type": "code",
   "execution_count": 169,
   "metadata": {},
   "outputs": [
    {
     "data": {
      "text/plain": [
       "125"
      ]
     },
     "execution_count": 169,
     "metadata": {},
     "output_type": "execute_result"
    }
   ],
   "source": [
    "x = 5\n",
    "x **=3\n",
    "x"
   ]
  },
  {
   "cell_type": "code",
   "execution_count": 170,
   "metadata": {},
   "outputs": [
    {
     "data": {
      "text/plain": [
       "1.6666666666666667"
      ]
     },
     "execution_count": 170,
     "metadata": {},
     "output_type": "execute_result"
    }
   ],
   "source": [
    "x = 5\n",
    "x /=3\n",
    "x"
   ]
  },
  {
   "cell_type": "code",
   "execution_count": 171,
   "metadata": {},
   "outputs": [
    {
     "data": {
      "text/plain": [
       "2"
      ]
     },
     "execution_count": 171,
     "metadata": {},
     "output_type": "execute_result"
    }
   ],
   "source": [
    "x = 5\n",
    "x %=3\n",
    "x"
   ]
  },
  {
   "cell_type": "code",
   "execution_count": 172,
   "metadata": {},
   "outputs": [
    {
     "data": {
      "text/plain": [
       "5"
      ]
     },
     "execution_count": 172,
     "metadata": {},
     "output_type": "execute_result"
    }
   ],
   "source": [
    "x = 5\n",
    "x //3\n",
    "x"
   ]
  },
  {
   "cell_type": "code",
   "execution_count": 173,
   "metadata": {},
   "outputs": [
    {
     "data": {
      "text/plain": [
       "1"
      ]
     },
     "execution_count": 173,
     "metadata": {},
     "output_type": "execute_result"
    }
   ],
   "source": [
    "x = 5\n",
    "x &=3\n",
    "x"
   ]
  },
  {
   "cell_type": "code",
   "execution_count": 174,
   "metadata": {},
   "outputs": [
    {
     "data": {
      "text/plain": [
       "7"
      ]
     },
     "execution_count": 174,
     "metadata": {},
     "output_type": "execute_result"
    }
   ],
   "source": [
    "x = 5\n",
    "x |=3\n",
    "x"
   ]
  },
  {
   "cell_type": "code",
   "execution_count": 175,
   "metadata": {},
   "outputs": [
    {
     "data": {
      "text/plain": [
       "6"
      ]
     },
     "execution_count": 175,
     "metadata": {},
     "output_type": "execute_result"
    }
   ],
   "source": [
    "x = 5\n",
    "x ^=3\n",
    "x"
   ]
  },
  {
   "cell_type": "code",
   "execution_count": 176,
   "metadata": {},
   "outputs": [
    {
     "data": {
      "text/plain": [
       "0"
      ]
     },
     "execution_count": 176,
     "metadata": {},
     "output_type": "execute_result"
    }
   ],
   "source": [
    "x = 5\n",
    "x >>=3\n",
    "x"
   ]
  },
  {
   "cell_type": "code",
   "execution_count": 177,
   "metadata": {},
   "outputs": [
    {
     "data": {
      "text/plain": [
       "40"
      ]
     },
     "execution_count": 177,
     "metadata": {},
     "output_type": "execute_result"
    }
   ],
   "source": [
    "x = 5\n",
    "x <<=3\n",
    "x"
   ]
  },
  {
   "cell_type": "code",
   "execution_count": 178,
   "metadata": {},
   "outputs": [],
   "source": [
    "thislist = [\"apple\", \"banana\", \"cherry\"]"
   ]
  },
  {
   "cell_type": "code",
   "execution_count": 179,
   "metadata": {},
   "outputs": [
    {
     "name": "stdout",
     "output_type": "stream",
     "text": [
      "['apple', 'banana', 'cherry']\n"
     ]
    }
   ],
   "source": [
    "print(thislist)"
   ]
  },
  {
   "cell_type": "code",
   "execution_count": 180,
   "metadata": {},
   "outputs": [
    {
     "data": {
      "text/plain": [
       "3"
      ]
     },
     "execution_count": 180,
     "metadata": {},
     "output_type": "execute_result"
    }
   ],
   "source": [
    "len(thislist)"
   ]
  },
  {
   "cell_type": "code",
   "execution_count": 181,
   "metadata": {},
   "outputs": [],
   "source": [
    "list1 = [\"abc\", 34, True, \"Male\", 40]"
   ]
  },
  {
   "cell_type": "code",
   "execution_count": 182,
   "metadata": {},
   "outputs": [
    {
     "data": {
      "text/plain": [
       "'abc'"
      ]
     },
     "execution_count": 182,
     "metadata": {},
     "output_type": "execute_result"
    }
   ],
   "source": [
    "list1[0]"
   ]
  },
  {
   "cell_type": "code",
   "execution_count": 183,
   "metadata": {},
   "outputs": [],
   "source": [
    "thislist = list((\"apple\", \"banana\", \"cherry\")) #Using list function to create a list"
   ]
  },
  {
   "cell_type": "code",
   "execution_count": 184,
   "metadata": {},
   "outputs": [
    {
     "data": {
      "text/plain": [
       "'apple'"
      ]
     },
     "execution_count": 184,
     "metadata": {},
     "output_type": "execute_result"
    }
   ],
   "source": [
    "thislist[0]"
   ]
  },
  {
   "cell_type": "code",
   "execution_count": 185,
   "metadata": {},
   "outputs": [
    {
     "data": {
      "text/plain": [
       "['cherry']"
      ]
     },
     "execution_count": 185,
     "metadata": {},
     "output_type": "execute_result"
    }
   ],
   "source": [
    "thislist[2:3]"
   ]
  },
  {
   "cell_type": "code",
   "execution_count": 186,
   "metadata": {},
   "outputs": [
    {
     "data": {
      "text/plain": [
       "34"
      ]
     },
     "execution_count": 186,
     "metadata": {},
     "output_type": "execute_result"
    }
   ],
   "source": [
    "list1[1]"
   ]
  },
  {
   "cell_type": "code",
   "execution_count": 187,
   "metadata": {},
   "outputs": [
    {
     "data": {
      "text/plain": [
       "40"
      ]
     },
     "execution_count": 187,
     "metadata": {},
     "output_type": "execute_result"
    }
   ],
   "source": [
    "list1[-1]"
   ]
  },
  {
   "cell_type": "code",
   "execution_count": 188,
   "metadata": {},
   "outputs": [
    {
     "data": {
      "text/plain": [
       "['abc', 34]"
      ]
     },
     "execution_count": 188,
     "metadata": {},
     "output_type": "execute_result"
    }
   ],
   "source": [
    "list1[:2]"
   ]
  },
  {
   "cell_type": "code",
   "execution_count": 189,
   "metadata": {},
   "outputs": [
    {
     "data": {
      "text/plain": [
       "['abc', 34, True]"
      ]
     },
     "execution_count": 189,
     "metadata": {},
     "output_type": "execute_result"
    }
   ],
   "source": [
    "list1[:-2]"
   ]
  },
  {
   "cell_type": "code",
   "execution_count": 190,
   "metadata": {},
   "outputs": [
    {
     "data": {
      "text/plain": [
       "['abc', 34]"
      ]
     },
     "execution_count": 190,
     "metadata": {},
     "output_type": "execute_result"
    }
   ],
   "source": [
    "list1[:-3]"
   ]
  },
  {
   "cell_type": "code",
   "execution_count": 191,
   "metadata": {},
   "outputs": [
    {
     "data": {
      "text/plain": [
       "[True]"
      ]
     },
     "execution_count": 191,
     "metadata": {},
     "output_type": "execute_result"
    }
   ],
   "source": [
    "list1[-3:-2]"
   ]
  },
  {
   "cell_type": "code",
   "execution_count": 192,
   "metadata": {},
   "outputs": [
    {
     "data": {
      "text/plain": [
       "[True, 'Male']"
      ]
     },
     "execution_count": 192,
     "metadata": {},
     "output_type": "execute_result"
    }
   ],
   "source": [
    "list1[-3:-1]"
   ]
  },
  {
   "cell_type": "code",
   "execution_count": 193,
   "metadata": {},
   "outputs": [],
   "source": [
    "list1.append(\"Scooter\")"
   ]
  },
  {
   "cell_type": "code",
   "execution_count": 194,
   "metadata": {},
   "outputs": [
    {
     "data": {
      "text/plain": [
       "['abc', 34, True, 'Male', 40, 'Scooter']"
      ]
     },
     "execution_count": 194,
     "metadata": {},
     "output_type": "execute_result"
    }
   ],
   "source": [
    "list1"
   ]
  },
  {
   "cell_type": "code",
   "execution_count": 195,
   "metadata": {},
   "outputs": [
    {
     "data": {
      "text/plain": [
       "[]"
      ]
     },
     "execution_count": 195,
     "metadata": {},
     "output_type": "execute_result"
    }
   ],
   "source": [
    "list1[-3:2]"
   ]
  },
  {
   "cell_type": "code",
   "execution_count": 196,
   "metadata": {},
   "outputs": [
    {
     "data": {
      "text/plain": [
       "[40, 'Scooter']"
      ]
     },
     "execution_count": 196,
     "metadata": {},
     "output_type": "execute_result"
    }
   ],
   "source": [
    "list1[4:]"
   ]
  },
  {
   "cell_type": "code",
   "execution_count": 197,
   "metadata": {},
   "outputs": [
    {
     "data": {
      "text/plain": [
       "[40]"
      ]
     },
     "execution_count": 197,
     "metadata": {},
     "output_type": "execute_result"
    }
   ],
   "source": [
    "list1[-2:-1]"
   ]
  },
  {
   "cell_type": "code",
   "execution_count": 198,
   "metadata": {},
   "outputs": [
    {
     "name": "stdout",
     "output_type": "stream",
     "text": [
      "Yes here it is\n"
     ]
    }
   ],
   "source": [
    "if \"Male\" in list1:\n",
    "    print(\"Yes here it is\")"
   ]
  },
  {
   "cell_type": "code",
   "execution_count": 199,
   "metadata": {},
   "outputs": [],
   "source": [
    "list1[1] = 35"
   ]
  },
  {
   "cell_type": "code",
   "execution_count": 200,
   "metadata": {},
   "outputs": [
    {
     "data": {
      "text/plain": [
       "['abc', 35, True, 'Male', 40, 'Scooter']"
      ]
     },
     "execution_count": 200,
     "metadata": {},
     "output_type": "execute_result"
    }
   ],
   "source": [
    "list1"
   ]
  },
  {
   "cell_type": "code",
   "execution_count": 201,
   "metadata": {},
   "outputs": [],
   "source": [
    "list1.insert(2, \"Apricot\")"
   ]
  },
  {
   "cell_type": "code",
   "execution_count": 202,
   "metadata": {},
   "outputs": [
    {
     "data": {
      "text/plain": [
       "['abc', 35, 'Apricot', True, 'Male', 40, 'Scooter']"
      ]
     },
     "execution_count": 202,
     "metadata": {},
     "output_type": "execute_result"
    }
   ],
   "source": [
    "list1"
   ]
  },
  {
   "cell_type": "code",
   "execution_count": 203,
   "metadata": {},
   "outputs": [],
   "source": [
    "thislist.extend(list1)"
   ]
  },
  {
   "cell_type": "code",
   "execution_count": 204,
   "metadata": {},
   "outputs": [
    {
     "data": {
      "text/plain": [
       "['apple',\n",
       " 'banana',\n",
       " 'cherry',\n",
       " 'abc',\n",
       " 35,\n",
       " 'Apricot',\n",
       " True,\n",
       " 'Male',\n",
       " 40,\n",
       " 'Scooter']"
      ]
     },
     "execution_count": 204,
     "metadata": {},
     "output_type": "execute_result"
    }
   ],
   "source": [
    "thislist"
   ]
  },
  {
   "cell_type": "code",
   "execution_count": 205,
   "metadata": {},
   "outputs": [
    {
     "data": {
      "text/plain": [
       "list"
      ]
     },
     "execution_count": 205,
     "metadata": {},
     "output_type": "execute_result"
    }
   ],
   "source": [
    "type(thislist)"
   ]
  },
  {
   "cell_type": "code",
   "execution_count": 206,
   "metadata": {},
   "outputs": [],
   "source": [
    "thislist.remove(\"Apricot\")"
   ]
  },
  {
   "cell_type": "code",
   "execution_count": 207,
   "metadata": {},
   "outputs": [
    {
     "data": {
      "text/plain": [
       "['apple', 'banana', 'cherry', 'abc', 35, True, 'Male', 40, 'Scooter']"
      ]
     },
     "execution_count": 207,
     "metadata": {},
     "output_type": "execute_result"
    }
   ],
   "source": [
    "thislist #Apricot gone"
   ]
  },
  {
   "cell_type": "code",
   "execution_count": 208,
   "metadata": {},
   "outputs": [],
   "source": [
    "list1.insert(3, \"Apricot\")"
   ]
  },
  {
   "cell_type": "code",
   "execution_count": 209,
   "metadata": {},
   "outputs": [
    {
     "data": {
      "text/plain": [
       "['abc', 35, 'Apricot', 'Apricot', True, 'Male', 40, 'Scooter']"
      ]
     },
     "execution_count": 209,
     "metadata": {},
     "output_type": "execute_result"
    }
   ],
   "source": [
    "list1"
   ]
  },
  {
   "cell_type": "code",
   "execution_count": 210,
   "metadata": {},
   "outputs": [],
   "source": [
    "list1.remove(\"Apricot\")"
   ]
  },
  {
   "cell_type": "code",
   "execution_count": 211,
   "metadata": {},
   "outputs": [
    {
     "data": {
      "text/plain": [
       "['abc', 35, 'Apricot', True, 'Male', 40, 'Scooter']"
      ]
     },
     "execution_count": 211,
     "metadata": {},
     "output_type": "execute_result"
    }
   ],
   "source": [
    "list1"
   ]
  },
  {
   "cell_type": "code",
   "execution_count": 212,
   "metadata": {},
   "outputs": [
    {
     "data": {
      "text/plain": [
       "True"
      ]
     },
     "execution_count": 212,
     "metadata": {},
     "output_type": "execute_result"
    }
   ],
   "source": [
    "thislist.pop(5)"
   ]
  },
  {
   "cell_type": "code",
   "execution_count": 213,
   "metadata": {},
   "outputs": [
    {
     "data": {
      "text/plain": [
       "['apple', 'banana', 'cherry', 'abc', 35, 'Male', 40, 'Scooter']"
      ]
     },
     "execution_count": 213,
     "metadata": {},
     "output_type": "execute_result"
    }
   ],
   "source": [
    "thislist #remove 5th item which is apricot"
   ]
  },
  {
   "cell_type": "code",
   "execution_count": 214,
   "metadata": {},
   "outputs": [],
   "source": [
    "thatlist = thislist.copy"
   ]
  },
  {
   "cell_type": "code",
   "execution_count": 215,
   "metadata": {},
   "outputs": [
    {
     "data": {
      "text/plain": [
       "<function list.copy()>"
      ]
     },
     "execution_count": 215,
     "metadata": {},
     "output_type": "execute_result"
    }
   ],
   "source": [
    "thatlist"
   ]
  },
  {
   "cell_type": "code",
   "execution_count": 216,
   "metadata": {},
   "outputs": [
    {
     "ename": "AttributeError",
     "evalue": "'builtin_function_or_method' object has no attribute 'clear'",
     "output_type": "error",
     "traceback": [
      "\u001b[1;31m---------------------------------------------------------------------------\u001b[0m",
      "\u001b[1;31mAttributeError\u001b[0m                            Traceback (most recent call last)",
      "Cell \u001b[1;32mIn[216], line 1\u001b[0m\n\u001b[1;32m----> 1\u001b[0m \u001b[43mthatlist\u001b[49m\u001b[38;5;241;43m.\u001b[39;49m\u001b[43mclear\u001b[49m()\n",
      "\u001b[1;31mAttributeError\u001b[0m: 'builtin_function_or_method' object has no attribute 'clear'"
     ]
    }
   ],
   "source": [
    "thatlist.clear()"
   ]
  },
  {
   "cell_type": "code",
   "execution_count": 217,
   "metadata": {},
   "outputs": [
    {
     "data": {
      "text/plain": [
       "<function list.copy()>"
      ]
     },
     "execution_count": 217,
     "metadata": {},
     "output_type": "execute_result"
    }
   ],
   "source": [
    "thatlist"
   ]
  },
  {
   "cell_type": "code",
   "execution_count": 218,
   "metadata": {},
   "outputs": [],
   "source": [
    "import sys\n",
    "stdout = sys.stdout\n",
    "\n",
    "# some functions that mess up sys.stdout\n",
    "\n",
    "sys.stdout = stdout"
   ]
  },
  {
   "cell_type": "code",
   "execution_count": 219,
   "metadata": {},
   "outputs": [
    {
     "name": "stdout",
     "output_type": "stream",
     "text": [
      "apple\n",
      "banana\n",
      "cherry\n",
      "abc\n",
      "35\n",
      "Male\n",
      "40\n",
      "Scooter\n"
     ]
    }
   ],
   "source": [
    "for x in thislist:\n",
    "    print(x)"
   ]
  },
  {
   "cell_type": "code",
   "execution_count": 220,
   "metadata": {},
   "outputs": [
    {
     "name": "stdout",
     "output_type": "stream",
     "text": [
      "apple\n",
      "banana\n",
      "cherry\n",
      "abc\n",
      "35\n",
      "Male\n",
      "40\n",
      "Scooter\n"
     ]
    }
   ],
   "source": [
    "for i in range(len(thislist)):\n",
    "    print(thislist[i])"
   ]
  },
  {
   "cell_type": "code",
   "execution_count": 221,
   "metadata": {},
   "outputs": [
    {
     "name": "stdout",
     "output_type": "stream",
     "text": [
      "apple\n",
      "banana\n",
      "cherry\n",
      "abc\n",
      "35\n",
      "Male\n",
      "40\n",
      "Scooter\n"
     ]
    }
   ],
   "source": [
    "i = 0 \n",
    "while i < len(thislist):\n",
    "    print(thislist[i])\n",
    "    i += 1"
   ]
  },
  {
   "cell_type": "code",
   "execution_count": 222,
   "metadata": {},
   "outputs": [
    {
     "name": "stdout",
     "output_type": "stream",
     "text": [
      "apple\n",
      "banana\n",
      "cherry\n",
      "abc\n",
      "35\n",
      "Male\n",
      "40\n",
      "Scooter\n"
     ]
    },
    {
     "data": {
      "text/plain": [
       "[None, None, None, None, None, None, None, None]"
      ]
     },
     "execution_count": 222,
     "metadata": {},
     "output_type": "execute_result"
    }
   ],
   "source": [
    "[print(x) for x in thislist]"
   ]
  },
  {
   "cell_type": "code",
   "execution_count": 223,
   "metadata": {},
   "outputs": [
    {
     "name": "stdout",
     "output_type": "stream",
     "text": [
      "['Friend', 'Male']\n"
     ]
    }
   ],
   "source": [
    "list2 = [\"abc\", \"Friend\", \"Male\", \"Forty\"]\n",
    "newlist = []\n",
    "for x in list2:\n",
    "    if \"e\" in x:\n",
    "        newlist.append(x)\n",
    "print(newlist)\n",
    "    "
   ]
  },
  {
   "cell_type": "code",
   "execution_count": 224,
   "metadata": {},
   "outputs": [
    {
     "name": "stdout",
     "output_type": "stream",
     "text": [
      "['apple', 'banana', 'mango']\n"
     ]
    }
   ],
   "source": [
    "fruits = [\"apple\", \"banana\", \"cherry\", \"kiwi\", \"mango\"]\n",
    "newlist = [x for x in fruits if \"a\" in x]\n",
    "print(newlist)"
   ]
  },
  {
   "cell_type": "code",
   "execution_count": 225,
   "metadata": {},
   "outputs": [
    {
     "ename": "TypeError",
     "evalue": "argument of type 'int' is not iterable",
     "output_type": "error",
     "traceback": [
      "\u001b[1;31m---------------------------------------------------------------------------\u001b[0m",
      "\u001b[1;31mTypeError\u001b[0m                                 Traceback (most recent call last)",
      "Cell \u001b[1;32mIn[225], line 3\u001b[0m\n\u001b[0;32m      1\u001b[0m numberlist \u001b[38;5;241m=\u001b[39m [\u001b[38;5;241m1\u001b[39m,\u001b[38;5;241m3\u001b[39m,\u001b[38;5;241m4\u001b[39m,\u001b[38;5;241m7\u001b[39m,\u001b[38;5;241m8\u001b[39m,\u001b[38;5;241m77\u001b[39m,\u001b[38;5;241m6\u001b[39m,\u001b[38;5;241m55\u001b[39m,\u001b[38;5;241m45\u001b[39m]\n\u001b[1;32m----> 3\u001b[0m newlist \u001b[38;5;241m=\u001b[39m [x \u001b[38;5;28;01mfor\u001b[39;00m x \u001b[38;5;129;01min\u001b[39;00m numberlist \u001b[38;5;28;01mif\u001b[39;00m \u001b[38;5;241m4\u001b[39m \u001b[38;5;129;01min\u001b[39;00m x]\n",
      "Cell \u001b[1;32mIn[225], line 3\u001b[0m, in \u001b[0;36m<listcomp>\u001b[1;34m(.0)\u001b[0m\n\u001b[0;32m      1\u001b[0m numberlist \u001b[38;5;241m=\u001b[39m [\u001b[38;5;241m1\u001b[39m,\u001b[38;5;241m3\u001b[39m,\u001b[38;5;241m4\u001b[39m,\u001b[38;5;241m7\u001b[39m,\u001b[38;5;241m8\u001b[39m,\u001b[38;5;241m77\u001b[39m,\u001b[38;5;241m6\u001b[39m,\u001b[38;5;241m55\u001b[39m,\u001b[38;5;241m45\u001b[39m]\n\u001b[1;32m----> 3\u001b[0m newlist \u001b[38;5;241m=\u001b[39m [x \u001b[38;5;28;01mfor\u001b[39;00m x \u001b[38;5;129;01min\u001b[39;00m numberlist \u001b[38;5;28;01mif\u001b[39;00m \u001b[38;5;241;43m4\u001b[39;49m\u001b[43m \u001b[49m\u001b[38;5;129;43;01min\u001b[39;49;00m\u001b[43m \u001b[49m\u001b[43mx\u001b[49m]\n",
      "\u001b[1;31mTypeError\u001b[0m: argument of type 'int' is not iterable"
     ]
    }
   ],
   "source": [
    "numberlist = [1,3,4,7,8,77,6,55,45]\n",
    "\n",
    "newlist = [x for x in numberlist if 4 in x]"
   ]
  },
  {
   "cell_type": "code",
   "execution_count": 226,
   "metadata": {},
   "outputs": [
    {
     "data": {
      "text/plain": [
       "['apple']"
      ]
     },
     "execution_count": 226,
     "metadata": {},
     "output_type": "execute_result"
    }
   ],
   "source": [
    "newlist = [x for x in fruits if \"apple\" in x]\n",
    "newlist"
   ]
  },
  {
   "cell_type": "code",
   "execution_count": 227,
   "metadata": {},
   "outputs": [
    {
     "data": {
      "text/plain": [
       "['banana', 'cherry', 'kiwi', 'mango']"
      ]
     },
     "execution_count": 227,
     "metadata": {},
     "output_type": "execute_result"
    }
   ],
   "source": [
    "newlist = [x for x in fruits if x != \"apple\"]\n",
    "newlist"
   ]
  },
  {
   "cell_type": "code",
   "execution_count": 228,
   "metadata": {},
   "outputs": [
    {
     "data": {
      "text/plain": [
       "['apple', 'banana', 'cherry', 'kiwi', 'mango']"
      ]
     },
     "execution_count": 228,
     "metadata": {},
     "output_type": "execute_result"
    }
   ],
   "source": [
    "[x for x in fruits]"
   ]
  },
  {
   "cell_type": "code",
   "execution_count": 229,
   "metadata": {},
   "outputs": [
    {
     "data": {
      "text/plain": [
       "[1, 3, 4, 7, 8, 6]"
      ]
     },
     "execution_count": 229,
     "metadata": {},
     "output_type": "execute_result"
    }
   ],
   "source": [
    "numberlist = [1,3,4,7,8,77,6,55,45]\n",
    "newnumberlist = [x for x in numberlist if x < 17]\n",
    "newnumberlist"
   ]
  },
  {
   "cell_type": "code",
   "execution_count": 230,
   "metadata": {},
   "outputs": [
    {
     "data": {
      "text/plain": [
       "['Apple', 'Cherry']"
      ]
     },
     "execution_count": 230,
     "metadata": {},
     "output_type": "execute_result"
    }
   ],
   "source": [
    "newlist = [x.capitalize() for x in fruits if \"e\" in x]\n",
    "newlist"
   ]
  },
  {
   "cell_type": "code",
   "execution_count": 231,
   "metadata": {},
   "outputs": [
    {
     "data": {
      "text/plain": [
       "[-1, -1, -1, -1, 3]"
      ]
     },
     "execution_count": 231,
     "metadata": {},
     "output_type": "execute_result"
    }
   ],
   "source": [
    "newlist = [x.find(\"go\") for x in fruits]\n",
    "newlist"
   ]
  },
  {
   "cell_type": "code",
   "execution_count": 232,
   "metadata": {},
   "outputs": [
    {
     "data": {
      "text/plain": [
       "['apple', 'banana', 'cherry', 'kiwi', 'mango']"
      ]
     },
     "execution_count": 232,
     "metadata": {},
     "output_type": "execute_result"
    }
   ],
   "source": [
    "fruits.sort()\n",
    "fruits"
   ]
  },
  {
   "cell_type": "code",
   "execution_count": 233,
   "metadata": {},
   "outputs": [
    {
     "data": {
      "text/plain": [
       "[1, 3, 4, 6, 7, 8, 45, 55, 77]"
      ]
     },
     "execution_count": 233,
     "metadata": {},
     "output_type": "execute_result"
    }
   ],
   "source": [
    "numberlist.sort()\n",
    "numberlist"
   ]
  },
  {
   "cell_type": "code",
   "execution_count": 234,
   "metadata": {},
   "outputs": [
    {
     "data": {
      "text/plain": [
       "['mango', 'kiwi', 'cherry', 'banana', 'apple']"
      ]
     },
     "execution_count": 234,
     "metadata": {},
     "output_type": "execute_result"
    }
   ],
   "source": [
    "fruits = [\"apple\", \"banana\", \"cherry\", \"kiwi\", \"mango\"]\n",
    "fruits.sort(reverse = True)\n",
    "fruits"
   ]
  },
  {
   "cell_type": "code",
   "execution_count": 235,
   "metadata": {},
   "outputs": [
    {
     "data": {
      "text/plain": [
       "[55, 45, 77, 8, 7, 6, 4, 3, 1]"
      ]
     },
     "execution_count": 235,
     "metadata": {},
     "output_type": "execute_result"
    }
   ],
   "source": [
    "numberlist = [1,3,4,7,8,77,6,55,45]\n",
    "def myfunc(n):\n",
    "    return abs(n-50)\n",
    "numberlist.sort(key = myfunc)\n",
    "numberlist"
   ]
  },
  {
   "cell_type": "code",
   "execution_count": 236,
   "metadata": {},
   "outputs": [
    {
     "data": {
      "text/plain": [
       "['Banana', 'Kiwi', 'apple', 'cherry', 'mango']"
      ]
     },
     "execution_count": 236,
     "metadata": {},
     "output_type": "execute_result"
    }
   ],
   "source": [
    "fruits = ['apple', 'Banana', 'cherry', 'Kiwi', 'mango']\n",
    "fruits.sort()\n",
    "fruits"
   ]
  },
  {
   "cell_type": "code",
   "execution_count": 237,
   "metadata": {},
   "outputs": [
    {
     "data": {
      "text/plain": [
       "['apple', 'Banana', 'cherry', 'Kiwi', 'mango']"
      ]
     },
     "execution_count": 237,
     "metadata": {},
     "output_type": "execute_result"
    }
   ],
   "source": [
    "fruits = ['apple', 'Banana', 'cherry', 'Kiwi', 'mango']\n",
    "fruits.sort(key = str.lower)\n",
    "fruits"
   ]
  },
  {
   "cell_type": "code",
   "execution_count": 238,
   "metadata": {},
   "outputs": [
    {
     "data": {
      "text/plain": [
       "['apple', 'Banana', 'cherry', 'Kiwi', 'mango', 'Apricot']"
      ]
     },
     "execution_count": 238,
     "metadata": {},
     "output_type": "execute_result"
    }
   ],
   "source": [
    "basket = fruits.copy()\n",
    "basket.append(\"Apricot\")\n",
    "basket"
   ]
  },
  {
   "cell_type": "code",
   "execution_count": 239,
   "metadata": {},
   "outputs": [
    {
     "data": {
      "text/plain": [
       "[1, 3, 4, 7, 8, 77, 6, 55, 45, 'apple', 'Banana', 'cherry', 'Kiwi', 'mango']"
      ]
     },
     "execution_count": 239,
     "metadata": {},
     "output_type": "execute_result"
    }
   ],
   "source": [
    "numberlist = [1,3,4,7,8,77,6,55,45]\n",
    "fruits = ['apple', 'Banana', 'cherry', 'Kiwi', 'mango']\n",
    "complexList = numberlist + fruits\n",
    "complexList\n"
   ]
  },
  {
   "cell_type": "code",
   "execution_count": 240,
   "metadata": {},
   "outputs": [
    {
     "name": "stdout",
     "output_type": "stream",
     "text": [
      "['candy', 'cubes', 'chocos', 'apple', 'Banana', 'cherry', 'Kiwi', 'mango']\n"
     ]
    }
   ],
   "source": [
    "\n",
    "fruits = ['apple', 'Banana', 'cherry', 'Kiwi', 'mango']\n",
    "sweets = ['candy', 'cubes', 'chocos']\n",
    "for x in fruits:\n",
    "    sweets.append(x)\n",
    "print(sweets)"
   ]
  },
  {
   "cell_type": "code",
   "execution_count": 241,
   "metadata": {},
   "outputs": [
    {
     "name": "stdout",
     "output_type": "stream",
     "text": [
      "['a', 'b', 'c', 1, 2, 3]\n"
     ]
    }
   ],
   "source": [
    "list1 = [\"a\", \"b\" , \"c\"]\n",
    "list2 = [1, 2, 3]\n",
    "\n",
    "for x in list2:\n",
    "  list1.append(x)\n",
    "\n",
    "print(list1)"
   ]
  },
  {
   "cell_type": "code",
   "execution_count": 242,
   "metadata": {},
   "outputs": [
    {
     "data": {
      "text/plain": [
       "['apple',\n",
       " 'Banana',\n",
       " 'cherry',\n",
       " 'Kiwi',\n",
       " 'mango',\n",
       " 'candy',\n",
       " 'cubes',\n",
       " 'chocos',\n",
       " 'apple',\n",
       " 'Banana',\n",
       " 'cherry',\n",
       " 'Kiwi',\n",
       " 'mango']"
      ]
     },
     "execution_count": 242,
     "metadata": {},
     "output_type": "execute_result"
    }
   ],
   "source": [
    "fruits.extend(sweets)\n",
    "fruits"
   ]
  },
  {
   "cell_type": "code",
   "execution_count": 243,
   "metadata": {},
   "outputs": [
    {
     "data": {
      "text/plain": [
       "[]"
      ]
     },
     "execution_count": 243,
     "metadata": {},
     "output_type": "execute_result"
    }
   ],
   "source": [
    "fruits.clear()\n",
    "fruits"
   ]
  },
  {
   "cell_type": "code",
   "execution_count": 244,
   "metadata": {},
   "outputs": [
    {
     "data": {
      "text/plain": [
       "['apple', 'Banana', 'cherry', 'Kiwi', 'mango']"
      ]
     },
     "execution_count": 244,
     "metadata": {},
     "output_type": "execute_result"
    }
   ],
   "source": [
    "fruits = ['apple', 'Banana', 'cherry', 'Kiwi', 'mango']\n",
    "newfruit = fruits.copy()\n",
    "newfruit"
   ]
  },
  {
   "cell_type": "code",
   "execution_count": 245,
   "metadata": {},
   "outputs": [
    {
     "data": {
      "text/plain": [
       "1"
      ]
     },
     "execution_count": 245,
     "metadata": {},
     "output_type": "execute_result"
    }
   ],
   "source": [
    "fruits.count(\"apple\")"
   ]
  },
  {
   "cell_type": "code",
   "execution_count": 246,
   "metadata": {},
   "outputs": [
    {
     "data": {
      "text/plain": [
       "['apple',\n",
       " 'Banana',\n",
       " 'cherry',\n",
       " 'Kiwi',\n",
       " 'mango',\n",
       " 'carrot',\n",
       " 'horseradish',\n",
       " 'turnip']"
      ]
     },
     "execution_count": 246,
     "metadata": {},
     "output_type": "execute_result"
    }
   ],
   "source": [
    "roots = ['carrot', 'horseradish', 'turnip']\n",
    "fruits.extend(roots)\n",
    "fruits"
   ]
  },
  {
   "cell_type": "code",
   "execution_count": 247,
   "metadata": {},
   "outputs": [
    {
     "data": {
      "text/plain": [
       "0"
      ]
     },
     "execution_count": 247,
     "metadata": {},
     "output_type": "execute_result"
    }
   ],
   "source": [
    "roots.index(\"carrot\") "
   ]
  },
  {
   "cell_type": "code",
   "execution_count": 248,
   "metadata": {},
   "outputs": [
    {
     "data": {
      "text/plain": [
       "2"
      ]
     },
     "execution_count": 248,
     "metadata": {},
     "output_type": "execute_result"
    }
   ],
   "source": [
    "roots.index(\"carrot\") + fruits.index(\"cherry\")"
   ]
  },
  {
   "cell_type": "code",
   "execution_count": 249,
   "metadata": {},
   "outputs": [
    {
     "data": {
      "text/plain": [
       "['carrot', 'horseradish', 'turnip', 'turmeric']"
      ]
     },
     "execution_count": 249,
     "metadata": {},
     "output_type": "execute_result"
    }
   ],
   "source": [
    "roots.insert(3, \"turmeric\")\n",
    "roots"
   ]
  },
  {
   "cell_type": "code",
   "execution_count": 250,
   "metadata": {},
   "outputs": [
    {
     "data": {
      "text/plain": [
       "'turmeric'"
      ]
     },
     "execution_count": 250,
     "metadata": {},
     "output_type": "execute_result"
    }
   ],
   "source": [
    "roots.pop(3)"
   ]
  },
  {
   "cell_type": "code",
   "execution_count": 251,
   "metadata": {},
   "outputs": [
    {
     "data": {
      "text/plain": [
       "['carrot', 'horseradish', 'turnip']"
      ]
     },
     "execution_count": 251,
     "metadata": {},
     "output_type": "execute_result"
    }
   ],
   "source": [
    "roots"
   ]
  },
  {
   "cell_type": "code",
   "execution_count": 252,
   "metadata": {},
   "outputs": [],
   "source": [
    "roots.reverse()"
   ]
  },
  {
   "cell_type": "code",
   "execution_count": 253,
   "metadata": {},
   "outputs": [
    {
     "data": {
      "text/plain": [
       "['turnip', 'horseradish', 'carrot']"
      ]
     },
     "execution_count": 253,
     "metadata": {},
     "output_type": "execute_result"
    }
   ],
   "source": [
    "roots"
   ]
  },
  {
   "cell_type": "code",
   "execution_count": 254,
   "metadata": {},
   "outputs": [],
   "source": [
    "roots.sort()"
   ]
  },
  {
   "cell_type": "code",
   "execution_count": 255,
   "metadata": {},
   "outputs": [
    {
     "data": {
      "text/plain": [
       "['carrot', 'horseradish', 'turnip']"
      ]
     },
     "execution_count": 255,
     "metadata": {},
     "output_type": "execute_result"
    }
   ],
   "source": [
    "roots"
   ]
  },
  {
   "cell_type": "code",
   "execution_count": 256,
   "metadata": {},
   "outputs": [],
   "source": [
    "#Tuples are unchangeable, meaning that we cannot change, add or remove items after the tuple has been created. Tuples are used to store multiple items in a single variable. Tuple is one of 4 built-in data types in Python used to store collections of data, the other 3 are List, Set, and Dictionary, all with different qualities and usage."
   ]
  },
  {
   "cell_type": "code",
   "execution_count": 257,
   "metadata": {},
   "outputs": [
    {
     "name": "stdout",
     "output_type": "stream",
     "text": [
      "('apple', 'banana', 'cherry')\n"
     ]
    }
   ],
   "source": [
    "thistuple = (\"apple\", \"banana\", \"cherry\")\n",
    "print(thistuple)"
   ]
  },
  {
   "cell_type": "code",
   "execution_count": 258,
   "metadata": {},
   "outputs": [
    {
     "name": "stdout",
     "output_type": "stream",
     "text": [
      "('apple', 'banana', 'cherry', 'apple', 'cherry')\n"
     ]
    }
   ],
   "source": [
    "thistuple = (\"apple\", \"banana\", \"cherry\", \"apple\", \"cherry\")\n",
    "print(thistuple) #Allow duplicates"
   ]
  },
  {
   "cell_type": "code",
   "execution_count": 259,
   "metadata": {},
   "outputs": [
    {
     "data": {
      "text/plain": [
       "5"
      ]
     },
     "execution_count": 259,
     "metadata": {},
     "output_type": "execute_result"
    }
   ],
   "source": [
    "len(thistuple)"
   ]
  },
  {
   "cell_type": "code",
   "execution_count": 260,
   "metadata": {},
   "outputs": [
    {
     "data": {
      "text/plain": [
       "str"
      ]
     },
     "execution_count": 260,
     "metadata": {},
     "output_type": "execute_result"
    }
   ],
   "source": [
    "thistuple = (\"apple\")\n",
    "type(thistuple)"
   ]
  },
  {
   "cell_type": "code",
   "execution_count": 261,
   "metadata": {},
   "outputs": [
    {
     "data": {
      "text/plain": [
       "tuple"
      ]
     },
     "execution_count": 261,
     "metadata": {},
     "output_type": "execute_result"
    }
   ],
   "source": [
    "thistuple = (\"apple\",)\n",
    "type(thistuple) #You  need a comma for a single item tuple"
   ]
  },
  {
   "cell_type": "code",
   "execution_count": 262,
   "metadata": {},
   "outputs": [
    {
     "data": {
      "text/plain": [
       "tuple"
      ]
     },
     "execution_count": 262,
     "metadata": {},
     "output_type": "execute_result"
    }
   ],
   "source": [
    "mytuple = (\"abc\", 34, True, \"male\", 40)\n",
    "type(mytuple)"
   ]
  },
  {
   "cell_type": "code",
   "execution_count": 263,
   "metadata": {},
   "outputs": [
    {
     "data": {
      "text/plain": [
       "tuple"
      ]
     },
     "execution_count": 263,
     "metadata": {},
     "output_type": "execute_result"
    }
   ],
   "source": [
    "mytuple = tuple([\"abc\", 34, True, \"male\", 40])\n",
    "type(mytuple)"
   ]
  },
  {
   "cell_type": "code",
   "execution_count": 264,
   "metadata": {},
   "outputs": [
    {
     "name": "stdout",
     "output_type": "stream",
     "text": [
      "banana\n"
     ]
    }
   ],
   "source": [
    "thistuple = (\"apple\", \"banana\", \"cherry\", \"orange\", \"kiwi\", \"melon\", \"mango\")\n",
    "print(thistuple[1])"
   ]
  },
  {
   "cell_type": "code",
   "execution_count": 265,
   "metadata": {},
   "outputs": [
    {
     "data": {
      "text/plain": [
       "('banana', 'cherry')"
      ]
     },
     "execution_count": 265,
     "metadata": {},
     "output_type": "execute_result"
    }
   ],
   "source": [
    "thistuple[1:3]"
   ]
  },
  {
   "cell_type": "code",
   "execution_count": 266,
   "metadata": {},
   "outputs": [
    {
     "data": {
      "text/plain": [
       "('apple', 'banana', 'cherry')"
      ]
     },
     "execution_count": 266,
     "metadata": {},
     "output_type": "execute_result"
    }
   ],
   "source": [
    "thistuple[:3]"
   ]
  },
  {
   "cell_type": "code",
   "execution_count": 267,
   "metadata": {},
   "outputs": [
    {
     "data": {
      "text/plain": [
       "('apple', 'banana', 'cherry', 'orange')"
      ]
     },
     "execution_count": 267,
     "metadata": {},
     "output_type": "execute_result"
    }
   ],
   "source": [
    "thistuple[:-3]"
   ]
  },
  {
   "cell_type": "code",
   "execution_count": 268,
   "metadata": {},
   "outputs": [
    {
     "data": {
      "text/plain": [
       "('cherry', 'orange')"
      ]
     },
     "execution_count": 268,
     "metadata": {},
     "output_type": "execute_result"
    }
   ],
   "source": [
    "thistuple[2:-3]"
   ]
  },
  {
   "cell_type": "code",
   "execution_count": 269,
   "metadata": {},
   "outputs": [
    {
     "name": "stdout",
     "output_type": "stream",
     "text": [
      "Yes\n"
     ]
    }
   ],
   "source": [
    "if \"apple\" in thistuple:\n",
    "    print(\"Yes\")"
   ]
  },
  {
   "cell_type": "code",
   "execution_count": 270,
   "metadata": {},
   "outputs": [
    {
     "data": {
      "text/plain": [
       "tuple"
      ]
     },
     "execution_count": 270,
     "metadata": {},
     "output_type": "execute_result"
    }
   ],
   "source": [
    "x = list(thistuple)\n",
    "x.append(\"Raspberry\")\n",
    "y = tuple(x)\n",
    "type(y)\n"
   ]
  },
  {
   "cell_type": "code",
   "execution_count": 271,
   "metadata": {},
   "outputs": [
    {
     "data": {
      "text/plain": [
       "('apple', 'banana', 'cherry', 'orange', 'kiwi', 'melon', 'mango', 'Raspberry')"
      ]
     },
     "execution_count": 271,
     "metadata": {},
     "output_type": "execute_result"
    }
   ],
   "source": [
    "y"
   ]
  },
  {
   "cell_type": "code",
   "execution_count": 272,
   "metadata": {},
   "outputs": [
    {
     "data": {
      "text/plain": [
       "('apple', 'banana', 'cherry', 'orange', 'kiwi', 'melon', 'mango', 'Raspberry')"
      ]
     },
     "execution_count": 272,
     "metadata": {},
     "output_type": "execute_result"
    }
   ],
   "source": [
    "thistuple = tuple(y)\n",
    "tuple(thistuple)"
   ]
  },
  {
   "cell_type": "code",
   "execution_count": 273,
   "metadata": {},
   "outputs": [
    {
     "data": {
      "text/plain": [
       "('apple',\n",
       " 'banana',\n",
       " 'cherry',\n",
       " 'orange',\n",
       " 'kiwi',\n",
       " 'melon',\n",
       " 'mango',\n",
       " 'Raspberry',\n",
       " 'apple',\n",
       " 'banana',\n",
       " 'cherry',\n",
       " 'orange',\n",
       " 'kiwi',\n",
       " 'melon',\n",
       " 'mango',\n",
       " 'Raspberry')"
      ]
     },
     "execution_count": 273,
     "metadata": {},
     "output_type": "execute_result"
    }
   ],
   "source": [
    "#You are allowed to add tuples to tuples, \n",
    "y += thistuple\n",
    "y"
   ]
  },
  {
   "cell_type": "code",
   "execution_count": 274,
   "metadata": {},
   "outputs": [
    {
     "data": {
      "text/plain": [
       "('apple',\n",
       " 'cherry',\n",
       " 'orange',\n",
       " 'kiwi',\n",
       " 'melon',\n",
       " 'mango',\n",
       " 'Raspberry',\n",
       " 'apple',\n",
       " 'banana',\n",
       " 'cherry',\n",
       " 'orange',\n",
       " 'kiwi',\n",
       " 'melon',\n",
       " 'mango',\n",
       " 'Raspberry')"
      ]
     },
     "execution_count": 274,
     "metadata": {},
     "output_type": "execute_result"
    }
   ],
   "source": [
    "d = list(y)\n",
    "d.remove(\"banana\")\n",
    "y = tuple(d)\n",
    "y"
   ]
  },
  {
   "cell_type": "code",
   "execution_count": 275,
   "metadata": {},
   "outputs": [
    {
     "ename": "NameError",
     "evalue": "name 'y' is not defined",
     "output_type": "error",
     "traceback": [
      "\u001b[1;31m---------------------------------------------------------------------------\u001b[0m",
      "\u001b[1;31mNameError\u001b[0m                                 Traceback (most recent call last)",
      "Cell \u001b[1;32mIn[275], line 2\u001b[0m\n\u001b[0;32m      1\u001b[0m \u001b[38;5;28;01mdel\u001b[39;00m y\n\u001b[1;32m----> 2\u001b[0m \u001b[43my\u001b[49m\n",
      "\u001b[1;31mNameError\u001b[0m: name 'y' is not defined"
     ]
    }
   ],
   "source": [
    "del y\n",
    "y"
   ]
  },
  {
   "cell_type": "code",
   "execution_count": 276,
   "metadata": {},
   "outputs": [
    {
     "data": {
      "text/plain": [
       "'apple'"
      ]
     },
     "execution_count": 276,
     "metadata": {},
     "output_type": "execute_result"
    }
   ],
   "source": [
    "thistuple = (\"apple\", \"banana\", \"cherry\", \"orange\", \"kiwi\", \"melon\", \"mango\")\n",
    "(a, b, c, d, e, f ,g) = thistuple\n",
    "a"
   ]
  },
  {
   "cell_type": "code",
   "execution_count": 277,
   "metadata": {},
   "outputs": [
    {
     "data": {
      "text/plain": [
       "'applemelon'"
      ]
     },
     "execution_count": 277,
     "metadata": {},
     "output_type": "execute_result"
    }
   ],
   "source": [
    "a + f"
   ]
  },
  {
   "cell_type": "code",
   "execution_count": 278,
   "metadata": {},
   "outputs": [
    {
     "data": {
      "text/plain": [
       "'apple melon'"
      ]
     },
     "execution_count": 278,
     "metadata": {},
     "output_type": "execute_result"
    }
   ],
   "source": [
    "a + \" \"+ f"
   ]
  },
  {
   "cell_type": "code",
   "execution_count": 279,
   "metadata": {},
   "outputs": [
    {
     "name": "stdout",
     "output_type": "stream",
     "text": [
      "apple\n",
      "['mango', 'papaya', 'pineapple']\n",
      "cherry\n"
     ]
    }
   ],
   "source": [
    "fruits = (\"apple\", \"mango\", \"papaya\", \"pineapple\", \"cherry\")\n",
    "\n",
    "(green, *tropic, red) = fruits\n",
    "\n",
    "print(green)\n",
    "print(tropic)\n",
    "print(red)\n",
    "#???"
   ]
  },
  {
   "cell_type": "code",
   "execution_count": 280,
   "metadata": {},
   "outputs": [
    {
     "name": "stdout",
     "output_type": "stream",
     "text": [
      "apple\n",
      "mango\n",
      "papaya\n",
      "pineapple\n",
      "cherry\n"
     ]
    }
   ],
   "source": [
    "for x in fruits:\n",
    "    print(x)"
   ]
  },
  {
   "cell_type": "code",
   "execution_count": 281,
   "metadata": {},
   "outputs": [
    {
     "data": {
      "text/plain": [
       "['apple', 'mango', 'papaya', 'pineapple']"
      ]
     },
     "execution_count": 281,
     "metadata": {},
     "output_type": "execute_result"
    }
   ],
   "source": [
    "fruits = (\"apple\", \"mango\", \"papaya\", \"pineapple\", \"cherry\")\n",
    "newtuple = [x for x in fruits if \"a\" in x]\n",
    "newtuple"
   ]
  },
  {
   "cell_type": "code",
   "execution_count": 282,
   "metadata": {},
   "outputs": [
    {
     "data": {
      "text/plain": [
       "list"
      ]
     },
     "execution_count": 282,
     "metadata": {},
     "output_type": "execute_result"
    }
   ],
   "source": [
    "type(newtuple)"
   ]
  },
  {
   "cell_type": "code",
   "execution_count": 283,
   "metadata": {},
   "outputs": [],
   "source": [
    "newtuple = tuple(newtuple)"
   ]
  },
  {
   "cell_type": "code",
   "execution_count": 284,
   "metadata": {},
   "outputs": [
    {
     "data": {
      "text/plain": [
       "tuple"
      ]
     },
     "execution_count": 284,
     "metadata": {},
     "output_type": "execute_result"
    }
   ],
   "source": [
    "type(newtuple)"
   ]
  },
  {
   "cell_type": "code",
   "execution_count": 285,
   "metadata": {},
   "outputs": [
    {
     "data": {
      "text/plain": [
       "tuple"
      ]
     },
     "execution_count": 285,
     "metadata": {},
     "output_type": "execute_result"
    }
   ],
   "source": [
    "type(fruits)"
   ]
  },
  {
   "cell_type": "code",
   "execution_count": 286,
   "metadata": {},
   "outputs": [
    {
     "name": "stdout",
     "output_type": "stream",
     "text": [
      "apple\n",
      "mango\n",
      "papaya\n",
      "pineapple\n",
      "cherry\n"
     ]
    }
   ],
   "source": [
    "fruits = (\"apple\", \"mango\", \"papaya\", \"pineapple\", \"cherry\")\n",
    "for i in range(len(fruits)):\n",
    "    print(fruits[i])"
   ]
  },
  {
   "cell_type": "code",
   "execution_count": 287,
   "metadata": {},
   "outputs": [
    {
     "name": "stdout",
     "output_type": "stream",
     "text": [
      "apple\n",
      "mango\n",
      "papaya\n",
      "pineapple\n",
      "cherry\n"
     ]
    }
   ],
   "source": [
    "i = 0\n",
    "while i < len(fruits):\n",
    "    print(fruits[i])\n",
    "    i +=1"
   ]
  },
  {
   "cell_type": "code",
   "execution_count": 288,
   "metadata": {},
   "outputs": [],
   "source": [
    "numberTup = (1, 2, 3, 4)"
   ]
  },
  {
   "cell_type": "code",
   "execution_count": 289,
   "metadata": {},
   "outputs": [
    {
     "data": {
      "text/plain": [
       "('apple', 'mango', 'papaya', 'pineapple', 'cherry', 1, 2, 3, 4)"
      ]
     },
     "execution_count": 289,
     "metadata": {},
     "output_type": "execute_result"
    }
   ],
   "source": [
    "fruits + numberTup"
   ]
  },
  {
   "cell_type": "code",
   "execution_count": 290,
   "metadata": {},
   "outputs": [
    {
     "data": {
      "text/plain": [
       "(1, 2, 3, 4, 1, 2, 3, 4)"
      ]
     },
     "execution_count": 290,
     "metadata": {},
     "output_type": "execute_result"
    }
   ],
   "source": [
    "numberTup *2"
   ]
  },
  {
   "cell_type": "code",
   "execution_count": 291,
   "metadata": {},
   "outputs": [
    {
     "ename": "AttributeError",
     "evalue": "'tuple' object has no attribute 'find'",
     "output_type": "error",
     "traceback": [
      "\u001b[1;31m---------------------------------------------------------------------------\u001b[0m",
      "\u001b[1;31mAttributeError\u001b[0m                            Traceback (most recent call last)",
      "Cell \u001b[1;32mIn[291], line 1\u001b[0m\n\u001b[1;32m----> 1\u001b[0m \u001b[43mfruits\u001b[49m\u001b[38;5;241;43m.\u001b[39;49m\u001b[43mfind\u001b[49m(\u001b[38;5;124m\"\u001b[39m\u001b[38;5;124mapple\u001b[39m\u001b[38;5;124m\"\u001b[39m)\n",
      "\u001b[1;31mAttributeError\u001b[0m: 'tuple' object has no attribute 'find'"
     ]
    }
   ],
   "source": [
    "fruits.find(\"apple\")"
   ]
  },
  {
   "cell_type": "code",
   "execution_count": 292,
   "metadata": {},
   "outputs": [
    {
     "data": {
      "text/plain": [
       "1"
      ]
     },
     "execution_count": 292,
     "metadata": {},
     "output_type": "execute_result"
    }
   ],
   "source": [
    "fruits.count(\"apple\")"
   ]
  },
  {
   "cell_type": "code",
   "execution_count": 293,
   "metadata": {},
   "outputs": [
    {
     "data": {
      "text/plain": [
       "0"
      ]
     },
     "execution_count": 293,
     "metadata": {},
     "output_type": "execute_result"
    }
   ],
   "source": [
    "fruits.index(\"apple\")"
   ]
  },
  {
   "cell_type": "code",
   "execution_count": 294,
   "metadata": {},
   "outputs": [
    {
     "name": "stdout",
     "output_type": "stream",
     "text": [
      "{'banana', 'cherry', 'apple'}\n"
     ]
    }
   ],
   "source": [
    "#Sets are used to store multiple items in a single variable.\n",
    "\n",
    "#Set is one of 4 built-in data types in Python used to store collections of data, the other 3 are List, Tuple, and Dictionary, all with different qualities and usage.\n",
    "\n",
    "#A set is a collection which is unordered, unchangeable*, and unindexed.\n",
    "\n",
    "thisset = {\"apple\", \"banana\", \"cherry\"}\n",
    "print(thisset)"
   ]
  },
  {
   "cell_type": "code",
   "execution_count": 295,
   "metadata": {},
   "outputs": [
    {
     "name": "stdout",
     "output_type": "stream",
     "text": [
      "{'banana', 'cherry', 'apple'}\n"
     ]
    }
   ],
   "source": [
    "#Duplicate values will be ignored\n",
    "thisset = {\"apple\", \"banana\", \"cherry\", \"cherry\"}\n",
    "print(thisset)"
   ]
  },
  {
   "cell_type": "code",
   "execution_count": 296,
   "metadata": {},
   "outputs": [
    {
     "data": {
      "text/plain": [
       "3"
      ]
     },
     "execution_count": 296,
     "metadata": {},
     "output_type": "execute_result"
    }
   ],
   "source": [
    "len(thisset)"
   ]
  },
  {
   "cell_type": "code",
   "execution_count": 297,
   "metadata": {},
   "outputs": [
    {
     "data": {
      "text/plain": [
       "{34, 40, 'Male', True, 'abc'}"
      ]
     },
     "execution_count": 297,
     "metadata": {},
     "output_type": "execute_result"
    }
   ],
   "source": [
    "thisset = {\"abc\", 34, True, 40, \"Male\"}\n",
    "thisset"
   ]
  },
  {
   "cell_type": "code",
   "execution_count": 298,
   "metadata": {},
   "outputs": [],
   "source": [
    "x = [\"abc\", 34, True, 40, \"Male\"]"
   ]
  },
  {
   "cell_type": "code",
   "execution_count": 299,
   "metadata": {},
   "outputs": [],
   "source": [
    "y = set(x)"
   ]
  },
  {
   "cell_type": "code",
   "execution_count": 300,
   "metadata": {},
   "outputs": [
    {
     "data": {
      "text/plain": [
       "{34, 40, 'Male', True, 'abc'}"
      ]
     },
     "execution_count": 300,
     "metadata": {},
     "output_type": "execute_result"
    }
   ],
   "source": [
    "y"
   ]
  },
  {
   "cell_type": "code",
   "execution_count": 301,
   "metadata": {},
   "outputs": [
    {
     "name": "stdout",
     "output_type": "stream",
     "text": [
      "True\n",
      "34\n",
      "Male\n",
      "abc\n",
      "40\n"
     ]
    }
   ],
   "source": [
    "for x in y:\n",
    "    print(x)"
   ]
  },
  {
   "cell_type": "code",
   "execution_count": 302,
   "metadata": {},
   "outputs": [
    {
     "data": {
      "text/plain": [
       "True"
      ]
     },
     "execution_count": 302,
     "metadata": {},
     "output_type": "execute_result"
    }
   ],
   "source": [
    "\"Male\" in y"
   ]
  },
  {
   "cell_type": "code",
   "execution_count": 303,
   "metadata": {},
   "outputs": [],
   "source": [
    "z = list(y)"
   ]
  },
  {
   "cell_type": "code",
   "execution_count": 304,
   "metadata": {},
   "outputs": [
    {
     "data": {
      "text/plain": [
       "[True, 34, 'Male', 'abc', 40]"
      ]
     },
     "execution_count": 304,
     "metadata": {},
     "output_type": "execute_result"
    }
   ],
   "source": [
    "z"
   ]
  },
  {
   "cell_type": "code",
   "execution_count": 305,
   "metadata": {},
   "outputs": [],
   "source": [
    "z.append(\"Life\")"
   ]
  },
  {
   "cell_type": "code",
   "execution_count": 306,
   "metadata": {},
   "outputs": [
    {
     "data": {
      "text/plain": [
       "[True, 34, 'Male', 'abc', 40, 'Life']"
      ]
     },
     "execution_count": 306,
     "metadata": {},
     "output_type": "execute_result"
    }
   ],
   "source": [
    "z"
   ]
  },
  {
   "cell_type": "code",
   "execution_count": 307,
   "metadata": {},
   "outputs": [],
   "source": [
    "y = set(z)"
   ]
  },
  {
   "cell_type": "code",
   "execution_count": 308,
   "metadata": {},
   "outputs": [
    {
     "data": {
      "text/plain": [
       "{34, 40, 'Life', 'Male', True, 'abc'}"
      ]
     },
     "execution_count": 308,
     "metadata": {},
     "output_type": "execute_result"
    }
   ],
   "source": [
    "y"
   ]
  },
  {
   "cell_type": "code",
   "execution_count": 309,
   "metadata": {},
   "outputs": [
    {
     "data": {
      "text/plain": [
       "{'Raspberry', 'apple', 'banana', 'cherry'}"
      ]
     },
     "execution_count": 309,
     "metadata": {},
     "output_type": "execute_result"
    }
   ],
   "source": [
    "thisset = {\"apple\", \"banana\", \"cherry\", \"cherry\"}\n",
    "thisset.add(\"Raspberry\")\n",
    "thisset"
   ]
  },
  {
   "cell_type": "code",
   "execution_count": 310,
   "metadata": {},
   "outputs": [],
   "source": [
    "thatset = {\"Parrot\", \"Zenga\"}"
   ]
  },
  {
   "cell_type": "code",
   "execution_count": 311,
   "metadata": {},
   "outputs": [
    {
     "ename": "TypeError",
     "evalue": "unsupported operand type(s) for +: 'set' and 'set'",
     "output_type": "error",
     "traceback": [
      "\u001b[1;31m---------------------------------------------------------------------------\u001b[0m",
      "\u001b[1;31mTypeError\u001b[0m                                 Traceback (most recent call last)",
      "Cell \u001b[1;32mIn[311], line 1\u001b[0m\n\u001b[1;32m----> 1\u001b[0m \u001b[43mthisset\u001b[49m\u001b[43m \u001b[49m\u001b[38;5;241;43m+\u001b[39;49m\u001b[43m \u001b[49m\u001b[43mthatset\u001b[49m\n",
      "\u001b[1;31mTypeError\u001b[0m: unsupported operand type(s) for +: 'set' and 'set'"
     ]
    }
   ],
   "source": [
    "thisset + thatset"
   ]
  },
  {
   "cell_type": "code",
   "execution_count": 312,
   "metadata": {},
   "outputs": [],
   "source": [
    "thisset.update(thatset)"
   ]
  },
  {
   "cell_type": "code",
   "execution_count": 313,
   "metadata": {},
   "outputs": [
    {
     "data": {
      "text/plain": [
       "{'Parrot', 'Raspberry', 'Zenga', 'apple', 'banana', 'cherry'}"
      ]
     },
     "execution_count": 313,
     "metadata": {},
     "output_type": "execute_result"
    }
   ],
   "source": [
    "thisset"
   ]
  },
  {
   "cell_type": "code",
   "execution_count": 314,
   "metadata": {},
   "outputs": [],
   "source": [
    "thisset.remove(\"cherry\")"
   ]
  },
  {
   "cell_type": "code",
   "execution_count": 315,
   "metadata": {},
   "outputs": [
    {
     "data": {
      "text/plain": [
       "{'Parrot', 'Raspberry', 'Zenga', 'apple', 'banana'}"
      ]
     },
     "execution_count": 315,
     "metadata": {},
     "output_type": "execute_result"
    }
   ],
   "source": [
    "thisset"
   ]
  },
  {
   "cell_type": "code",
   "execution_count": 316,
   "metadata": {},
   "outputs": [
    {
     "data": {
      "text/plain": [
       "'banana'"
      ]
     },
     "execution_count": 316,
     "metadata": {},
     "output_type": "execute_result"
    }
   ],
   "source": [
    "thisset = {\"apple\", \"banana\", \"cherry\", \"cherry\"}\n",
    "thisset.pop()"
   ]
  },
  {
   "cell_type": "code",
   "execution_count": 317,
   "metadata": {},
   "outputs": [
    {
     "data": {
      "text/plain": [
       "{'apple', 'cherry'}"
      ]
     },
     "execution_count": 317,
     "metadata": {},
     "output_type": "execute_result"
    }
   ],
   "source": [
    "thisset"
   ]
  },
  {
   "cell_type": "code",
   "execution_count": 318,
   "metadata": {},
   "outputs": [
    {
     "data": {
      "text/plain": [
       "['cherry', 'apple']"
      ]
     },
     "execution_count": 318,
     "metadata": {},
     "output_type": "execute_result"
    }
   ],
   "source": [
    "thisset = {\"apple\", \"banana\", \"cherry\", \"cherry\"}\n",
    "newset = [x for x in thisset if \"e\" in x]\n",
    "newset"
   ]
  },
  {
   "cell_type": "code",
   "execution_count": 319,
   "metadata": {},
   "outputs": [
    {
     "data": {
      "text/plain": [
       "{'Parrot', 'Zenga', 'apple', 'banana', 'cherry'}"
      ]
     },
     "execution_count": 319,
     "metadata": {},
     "output_type": "execute_result"
    }
   ],
   "source": [
    "thatset = {\"Parrot\", \"Zenga\"}\n",
    "thisset = {\"apple\", \"banana\", \"cherry\", \"cherry\"}\n",
    "thisset.union(thatset) #Just combine and return not update"
   ]
  },
  {
   "cell_type": "code",
   "execution_count": 320,
   "metadata": {},
   "outputs": [],
   "source": [
    "thisset.update(thatset)"
   ]
  },
  {
   "cell_type": "code",
   "execution_count": 321,
   "metadata": {},
   "outputs": [
    {
     "data": {
      "text/plain": [
       "{'Parrot', 'Zenga', 'apple', 'banana', 'cherry'}"
      ]
     },
     "execution_count": 321,
     "metadata": {},
     "output_type": "execute_result"
    }
   ],
   "source": [
    "thisset #update"
   ]
  },
  {
   "cell_type": "code",
   "execution_count": 322,
   "metadata": {},
   "outputs": [],
   "source": [
    "thatset = {\"Parrot\", \"Zenga\", \"banana\", }\n",
    "thisset = {\"apple\", \"banana\", \"cherry\", \"cherry\"}\n",
    "thisset.intersection_update(thatset)#updated the set"
   ]
  },
  {
   "cell_type": "code",
   "execution_count": 323,
   "metadata": {},
   "outputs": [
    {
     "data": {
      "text/plain": [
       "{'banana'}"
      ]
     },
     "execution_count": 323,
     "metadata": {},
     "output_type": "execute_result"
    }
   ],
   "source": [
    "thisset"
   ]
  },
  {
   "cell_type": "code",
   "execution_count": 324,
   "metadata": {},
   "outputs": [],
   "source": [
    "thatset = {\"Parrot\", \"Zenga\", \"banana\", }\n",
    "thisset = {\"apple\", \"banana\", \"cherry\", \"cherry\"}\n",
    "y = thisset.intersection(thatset)"
   ]
  },
  {
   "cell_type": "code",
   "execution_count": 325,
   "metadata": {},
   "outputs": [
    {
     "data": {
      "text/plain": [
       "{'banana'}"
      ]
     },
     "execution_count": 325,
     "metadata": {},
     "output_type": "execute_result"
    }
   ],
   "source": [
    "y"
   ]
  },
  {
   "cell_type": "code",
   "execution_count": 326,
   "metadata": {},
   "outputs": [
    {
     "name": "stdout",
     "output_type": "stream",
     "text": [
      "{'banana', 'cherry', 'microsoft', 'google'}\n"
     ]
    }
   ],
   "source": [
    "x = {\"apple\", \"banana\", \"cherry\"}\n",
    "y = {\"google\", \"microsoft\", \"apple\"}\n",
    "\n",
    "x.symmetric_difference_update(y)\n",
    "\n",
    "print(x)"
   ]
  },
  {
   "cell_type": "code",
   "execution_count": 327,
   "metadata": {},
   "outputs": [
    {
     "name": "stdout",
     "output_type": "stream",
     "text": [
      "{'cherry', 'microsoft', 'banana', 'google'}\n"
     ]
    }
   ],
   "source": [
    "x = {\"apple\", \"banana\", \"cherry\"}\n",
    "y = {\"google\", \"microsoft\", \"apple\"}\n",
    "\n",
    "m = x.symmetric_difference(y)\n",
    "\n",
    "print(m)"
   ]
  },
  {
   "cell_type": "code",
   "execution_count": 328,
   "metadata": {},
   "outputs": [],
   "source": [
    "thisdict = {\"Name\" : \"Kalyan\",\n",
    "           \"Age\" : 30,\n",
    "           \"Place\" : \"Riverton\"}"
   ]
  },
  {
   "cell_type": "code",
   "execution_count": 330,
   "metadata": {},
   "outputs": [
    {
     "data": {
      "text/plain": [
       "{'Name': 'Kalyan', 'Age': 30, 'Place': 'Riverton'}"
      ]
     },
     "execution_count": 330,
     "metadata": {},
     "output_type": "execute_result"
    }
   ],
   "source": [
    "thisdict"
   ]
  },
  {
   "cell_type": "code",
   "execution_count": 331,
   "metadata": {},
   "outputs": [
    {
     "data": {
      "text/plain": [
       "'Kalyan'"
      ]
     },
     "execution_count": 331,
     "metadata": {},
     "output_type": "execute_result"
    }
   ],
   "source": [
    "thisdict[\"Name\"]"
   ]
  },
  {
   "cell_type": "code",
   "execution_count": 332,
   "metadata": {},
   "outputs": [],
   "source": [
    "thisdict = {\"Name\" : \"Kalyan\",\n",
    "           \"Age\" : 30,\n",
    "           \"Place\" : \"Riverton\",\n",
    "           \"Age\" : 34}"
   ]
  },
  {
   "cell_type": "code",
   "execution_count": 333,
   "metadata": {},
   "outputs": [
    {
     "data": {
      "text/plain": [
       "{'Name': 'Kalyan', 'Age': 34, 'Place': 'Riverton'}"
      ]
     },
     "execution_count": 333,
     "metadata": {},
     "output_type": "execute_result"
    }
   ],
   "source": [
    "thisdict"
   ]
  },
  {
   "cell_type": "code",
   "execution_count": 334,
   "metadata": {},
   "outputs": [
    {
     "data": {
      "text/plain": [
       "3"
      ]
     },
     "execution_count": 334,
     "metadata": {},
     "output_type": "execute_result"
    }
   ],
   "source": [
    "len(thisdict)"
   ]
  },
  {
   "cell_type": "code",
   "execution_count": 335,
   "metadata": {},
   "outputs": [],
   "source": [
    "y = thisdict[\"Name\"]"
   ]
  },
  {
   "cell_type": "code",
   "execution_count": 336,
   "metadata": {},
   "outputs": [
    {
     "data": {
      "text/plain": [
       "'Kalyan'"
      ]
     },
     "execution_count": 336,
     "metadata": {},
     "output_type": "execute_result"
    }
   ],
   "source": [
    "y"
   ]
  },
  {
   "cell_type": "code",
   "execution_count": 337,
   "metadata": {},
   "outputs": [],
   "source": [
    "y = thisdict.get(\"Name\")"
   ]
  },
  {
   "cell_type": "code",
   "execution_count": 338,
   "metadata": {},
   "outputs": [
    {
     "data": {
      "text/plain": [
       "'Kalyan'"
      ]
     },
     "execution_count": 338,
     "metadata": {},
     "output_type": "execute_result"
    }
   ],
   "source": [
    "y"
   ]
  },
  {
   "cell_type": "code",
   "execution_count": 339,
   "metadata": {},
   "outputs": [
    {
     "data": {
      "text/plain": [
       "dict_keys(['Name', 'Age', 'Place'])"
      ]
     },
     "execution_count": 339,
     "metadata": {},
     "output_type": "execute_result"
    }
   ],
   "source": [
    "thisdict.keys()"
   ]
  },
  {
   "cell_type": "code",
   "execution_count": 340,
   "metadata": {},
   "outputs": [
    {
     "name": "stdout",
     "output_type": "stream",
     "text": [
      "dict_keys(['brand', 'model', 'year'])\n"
     ]
    }
   ],
   "source": [
    "car = {\n",
    "\"brand\": \"Ford\",\n",
    "\"model\": \"Mustang\",\n",
    "\"year\": 1964\n",
    "}\n",
    "\n",
    "x = car.keys()\n",
    "print(x)"
   ]
  },
  {
   "cell_type": "code",
   "execution_count": 341,
   "metadata": {},
   "outputs": [],
   "source": [
    "car[\"year\"] = 1966"
   ]
  },
  {
   "cell_type": "code",
   "execution_count": 342,
   "metadata": {},
   "outputs": [],
   "source": [
    "x = car.keys()"
   ]
  },
  {
   "cell_type": "code",
   "execution_count": 343,
   "metadata": {},
   "outputs": [
    {
     "data": {
      "text/plain": [
       "dict_keys(['brand', 'model', 'year'])"
      ]
     },
     "execution_count": 343,
     "metadata": {},
     "output_type": "execute_result"
    }
   ],
   "source": [
    "x"
   ]
  },
  {
   "cell_type": "code",
   "execution_count": 344,
   "metadata": {},
   "outputs": [
    {
     "data": {
      "text/plain": [
       "{'brand': 'Ford', 'model': 'Mustang', 'year': 1966}"
      ]
     },
     "execution_count": 344,
     "metadata": {},
     "output_type": "execute_result"
    }
   ],
   "source": [
    "car"
   ]
  },
  {
   "cell_type": "code",
   "execution_count": 345,
   "metadata": {},
   "outputs": [],
   "source": [
    "y = car.values()"
   ]
  },
  {
   "cell_type": "code",
   "execution_count": 346,
   "metadata": {},
   "outputs": [
    {
     "data": {
      "text/plain": [
       "dict_values(['Ford', 'Mustang', 1966])"
      ]
     },
     "execution_count": 346,
     "metadata": {},
     "output_type": "execute_result"
    }
   ],
   "source": [
    "y"
   ]
  },
  {
   "cell_type": "code",
   "execution_count": 347,
   "metadata": {},
   "outputs": [],
   "source": [
    "car[\"color\"] = \"Red\" #Add a new entry"
   ]
  },
  {
   "cell_type": "code",
   "execution_count": 348,
   "metadata": {},
   "outputs": [
    {
     "data": {
      "text/plain": [
       "{'brand': 'Ford', 'model': 'Mustang', 'year': 1966, 'color': 'Red'}"
      ]
     },
     "execution_count": 348,
     "metadata": {},
     "output_type": "execute_result"
    }
   ],
   "source": [
    "car"
   ]
  },
  {
   "cell_type": "code",
   "execution_count": 349,
   "metadata": {},
   "outputs": [
    {
     "data": {
      "text/plain": [
       "dict_items([('brand', 'Ford'), ('model', 'Mustang'), ('year', 1966), ('color', 'Red')])"
      ]
     },
     "execution_count": 349,
     "metadata": {},
     "output_type": "execute_result"
    }
   ],
   "source": [
    "car.items()"
   ]
  },
  {
   "cell_type": "code",
   "execution_count": 350,
   "metadata": {},
   "outputs": [
    {
     "data": {
      "text/plain": [
       "dict_items([('brand', 'Ford'), ('model', 'Mustang'), ('year', 1966), ('color', 'Red')])"
      ]
     },
     "execution_count": 350,
     "metadata": {},
     "output_type": "execute_result"
    }
   ],
   "source": [
    "z = car.items()\n",
    "z"
   ]
  },
  {
   "cell_type": "code",
   "execution_count": 351,
   "metadata": {},
   "outputs": [
    {
     "data": {
      "text/plain": [
       "{'brand': 'Ford', 'model': 'Mustang', 'year': 1966, 'color': 'Red'}"
      ]
     },
     "execution_count": 351,
     "metadata": {},
     "output_type": "execute_result"
    }
   ],
   "source": [
    "car"
   ]
  },
  {
   "cell_type": "code",
   "execution_count": 352,
   "metadata": {},
   "outputs": [],
   "source": [
    "car.update({\"color\" : \"blue\"})"
   ]
  },
  {
   "cell_type": "code",
   "execution_count": 353,
   "metadata": {},
   "outputs": [
    {
     "data": {
      "text/plain": [
       "dict_items([('brand', 'Ford'), ('model', 'Mustang'), ('year', 1966), ('color', 'blue')])"
      ]
     },
     "execution_count": 353,
     "metadata": {},
     "output_type": "execute_result"
    }
   ],
   "source": [
    "car.items()"
   ]
  },
  {
   "cell_type": "code",
   "execution_count": 354,
   "metadata": {},
   "outputs": [],
   "source": [
    "car.update({\"MPG\" : 18})"
   ]
  },
  {
   "cell_type": "code",
   "execution_count": 355,
   "metadata": {},
   "outputs": [
    {
     "data": {
      "text/plain": [
       "dict_items([('brand', 'Ford'), ('model', 'Mustang'), ('year', 1966), ('color', 'blue'), ('MPG', 18)])"
      ]
     },
     "execution_count": 355,
     "metadata": {},
     "output_type": "execute_result"
    }
   ],
   "source": [
    "car.items()"
   ]
  },
  {
   "cell_type": "code",
   "execution_count": 356,
   "metadata": {},
   "outputs": [
    {
     "data": {
      "text/plain": [
       "18"
      ]
     },
     "execution_count": 356,
     "metadata": {},
     "output_type": "execute_result"
    }
   ],
   "source": [
    "car.pop(\"MPG\")"
   ]
  },
  {
   "cell_type": "code",
   "execution_count": 357,
   "metadata": {},
   "outputs": [
    {
     "data": {
      "text/plain": [
       "dict_items([('brand', 'Ford'), ('model', 'Mustang'), ('year', 1966), ('color', 'blue')])"
      ]
     },
     "execution_count": 357,
     "metadata": {},
     "output_type": "execute_result"
    }
   ],
   "source": [
    "car.items()"
   ]
  },
  {
   "cell_type": "code",
   "execution_count": 358,
   "metadata": {},
   "outputs": [],
   "source": [
    "#The popitem() method removes the last inserted item (in versions before 3.7, a random item is removed instead):"
   ]
  },
  {
   "cell_type": "code",
   "execution_count": 359,
   "metadata": {},
   "outputs": [],
   "source": [
    "del car[\"color\"]"
   ]
  },
  {
   "cell_type": "code",
   "execution_count": 360,
   "metadata": {},
   "outputs": [
    {
     "data": {
      "text/plain": [
       "{'brand': 'Ford', 'model': 'Mustang', 'year': 1966}"
      ]
     },
     "execution_count": 360,
     "metadata": {},
     "output_type": "execute_result"
    }
   ],
   "source": [
    "car"
   ]
  },
  {
   "cell_type": "code",
   "execution_count": 361,
   "metadata": {},
   "outputs": [
    {
     "name": "stdout",
     "output_type": "stream",
     "text": [
      "Kalyan\n",
      "34\n",
      "Riverton\n"
     ]
    }
   ],
   "source": [
    "for x in thisdict:\n",
    "    print(thisdict[x])"
   ]
  },
  {
   "cell_type": "code",
   "execution_count": 362,
   "metadata": {},
   "outputs": [
    {
     "name": "stdout",
     "output_type": "stream",
     "text": [
      "Kalyan\n",
      "34\n",
      "Riverton\n"
     ]
    }
   ],
   "source": [
    "for x in thisdict.values():\n",
    "    print(x)"
   ]
  },
  {
   "cell_type": "code",
   "execution_count": 363,
   "metadata": {},
   "outputs": [
    {
     "name": "stdout",
     "output_type": "stream",
     "text": [
      "Name Kalyan\n",
      "Age 34\n",
      "Place Riverton\n"
     ]
    }
   ],
   "source": [
    "for x, y in thisdict.items():\n",
    "    print(x,y)"
   ]
  },
  {
   "cell_type": "code",
   "execution_count": 364,
   "metadata": {},
   "outputs": [
    {
     "data": {
      "text/plain": [
       "{'Name': 'Kalyan', 'Age': 34, 'Place': 'Riverton'}"
      ]
     },
     "execution_count": 364,
     "metadata": {},
     "output_type": "execute_result"
    }
   ],
   "source": [
    "thatdict = thisdict.copy()\n",
    "thatdict"
   ]
  },
  {
   "cell_type": "code",
   "execution_count": 365,
   "metadata": {},
   "outputs": [],
   "source": [
    "child1 = {\n",
    "  \"name\" : \"Emil\",\n",
    "  \"year\" : 2004\n",
    "}\n",
    "child2 = {\n",
    "  \"name\" : \"Tobias\",\n",
    "  \"year\" : 2007\n",
    "}\n",
    "child3 = {\n",
    "  \"name\" : \"Linus\",\n",
    "  \"year\" : 2011\n",
    "}\n",
    "\n",
    "myfamily = {\n",
    "  \"child1\" : child1,\n",
    "  \"child2\" : child2,\n",
    "  \"child3\" : child3\n",
    "}"
   ]
  },
  {
   "cell_type": "code",
   "execution_count": 366,
   "metadata": {},
   "outputs": [
    {
     "data": {
      "text/plain": [
       "dict_items([('child1', {'name': 'Emil', 'year': 2004}), ('child2', {'name': 'Tobias', 'year': 2007}), ('child3', {'name': 'Linus', 'year': 2011})])"
      ]
     },
     "execution_count": 366,
     "metadata": {},
     "output_type": "execute_result"
    }
   ],
   "source": [
    "myfamily.items()"
   ]
  },
  {
   "cell_type": "code",
   "execution_count": 367,
   "metadata": {},
   "outputs": [
    {
     "data": {
      "text/plain": [
       "dict_keys(['child1', 'child2', 'child3'])"
      ]
     },
     "execution_count": 367,
     "metadata": {},
     "output_type": "execute_result"
    }
   ],
   "source": [
    "myfamily.keys()"
   ]
  },
  {
   "cell_type": "code",
   "execution_count": 368,
   "metadata": {},
   "outputs": [
    {
     "data": {
      "text/plain": [
       "{'name': 'Emil', 'year': 2004}"
      ]
     },
     "execution_count": 368,
     "metadata": {},
     "output_type": "execute_result"
    }
   ],
   "source": [
    "myfamily[\"child1\"]"
   ]
  },
  {
   "cell_type": "code",
   "execution_count": 369,
   "metadata": {},
   "outputs": [],
   "source": [
    "aDict = myfamily[\"child1\"]\n",
    "aDict[\"Race\"] = \"White\""
   ]
  },
  {
   "cell_type": "code",
   "execution_count": 370,
   "metadata": {},
   "outputs": [],
   "source": [
    "child1 = aDict "
   ]
  },
  {
   "cell_type": "code",
   "execution_count": 371,
   "metadata": {},
   "outputs": [
    {
     "data": {
      "text/plain": [
       "{'child1': {'name': 'Emil', 'year': 2004, 'Race': 'White'},\n",
       " 'child2': {'name': 'Tobias', 'year': 2007},\n",
       " 'child3': {'name': 'Linus', 'year': 2011}}"
      ]
     },
     "execution_count": 371,
     "metadata": {},
     "output_type": "execute_result"
    }
   ],
   "source": [
    "myfamily"
   ]
  },
  {
   "cell_type": "code",
   "execution_count": 372,
   "metadata": {},
   "outputs": [],
   "source": [
    "aDict = myfamily[\"child1\"]"
   ]
  },
  {
   "cell_type": "code",
   "execution_count": 373,
   "metadata": {},
   "outputs": [
    {
     "data": {
      "text/plain": [
       "'White'"
      ]
     },
     "execution_count": 373,
     "metadata": {},
     "output_type": "execute_result"
    }
   ],
   "source": [
    "aDict.pop(\"Race\")"
   ]
  },
  {
   "cell_type": "code",
   "execution_count": 374,
   "metadata": {},
   "outputs": [],
   "source": [
    "child1 = aDict"
   ]
  },
  {
   "cell_type": "code",
   "execution_count": 375,
   "metadata": {},
   "outputs": [
    {
     "data": {
      "text/plain": [
       "{'child1': {'name': 'Emil', 'year': 2004},\n",
       " 'child2': {'name': 'Tobias', 'year': 2007},\n",
       " 'child3': {'name': 'Linus', 'year': 2011}}"
      ]
     },
     "execution_count": 375,
     "metadata": {},
     "output_type": "execute_result"
    }
   ],
   "source": [
    "myfamily"
   ]
  },
  {
   "cell_type": "code",
   "execution_count": 376,
   "metadata": {},
   "outputs": [
    {
     "data": {
      "text/plain": [
       "'Emil'"
      ]
     },
     "execution_count": 376,
     "metadata": {},
     "output_type": "execute_result"
    }
   ],
   "source": [
    "aDict.get(\"name\")"
   ]
  },
  {
   "cell_type": "code",
   "execution_count": 377,
   "metadata": {},
   "outputs": [
    {
     "data": {
      "text/plain": [
       "{'n': None, 'a': None, 'm': None, 'e': None}"
      ]
     },
     "execution_count": 377,
     "metadata": {},
     "output_type": "execute_result"
    }
   ],
   "source": [
    "aDict.fromkeys(\"name\")"
   ]
  },
  {
   "cell_type": "code",
   "execution_count": 378,
   "metadata": {},
   "outputs": [
    {
     "data": {
      "text/plain": [
       "{'c': None, 'h': None, 'i': None, 'l': None, 'd': None, '1': None}"
      ]
     },
     "execution_count": 378,
     "metadata": {},
     "output_type": "execute_result"
    }
   ],
   "source": [
    "myfamily.fromkeys(\"child1\")"
   ]
  },
  {
   "cell_type": "code",
   "execution_count": 379,
   "metadata": {},
   "outputs": [],
   "source": [
    "aDict.update({\"eye color\" : \"Hazel\"})"
   ]
  },
  {
   "cell_type": "code",
   "execution_count": 380,
   "metadata": {},
   "outputs": [
    {
     "data": {
      "text/plain": [
       "{'name': 'Emil', 'year': 2004, 'eye color': 'Hazel'}"
      ]
     },
     "execution_count": 380,
     "metadata": {},
     "output_type": "execute_result"
    }
   ],
   "source": [
    "aDict"
   ]
  },
  {
   "cell_type": "code",
   "execution_count": 381,
   "metadata": {},
   "outputs": [],
   "source": [
    "def myfunction():\n",
    "    print(\"my Name is Kalyan\")"
   ]
  },
  {
   "cell_type": "code",
   "execution_count": 382,
   "metadata": {},
   "outputs": [
    {
     "name": "stdout",
     "output_type": "stream",
     "text": [
      "my Name is Kalyan\n"
     ]
    }
   ],
   "source": [
    "myfunction()"
   ]
  },
  {
   "cell_type": "code",
   "execution_count": 383,
   "metadata": {},
   "outputs": [
    {
     "name": "stdout",
     "output_type": "stream",
     "text": [
      "Kalyan\n"
     ]
    }
   ],
   "source": [
    "def myfunction(fname):\n",
    "    print(fname)\n",
    "myfunction(\"Kalyan\")"
   ]
  },
  {
   "cell_type": "code",
   "execution_count": 384,
   "metadata": {},
   "outputs": [
    {
     "name": "stdout",
     "output_type": "stream",
     "text": [
      "kalyan srivastava\n"
     ]
    }
   ],
   "source": [
    "def myfunction(fname, lname):\n",
    "    print(fname, lname)\n",
    "myfunction(\"kalyan\", \"srivastava\")"
   ]
  },
  {
   "cell_type": "code",
   "execution_count": 385,
   "metadata": {},
   "outputs": [
    {
     "name": "stdout",
     "output_type": "stream",
     "text": [
      "my youngest kid is : Pritish\n"
     ]
    }
   ],
   "source": [
    "def myfunction(*kids):\n",
    "    print(\"my youngest kid is :\", kids[1])\n",
    "myfunction(\"Rishit\", \"Pritish\")"
   ]
  },
  {
   "cell_type": "code",
   "execution_count": 386,
   "metadata": {},
   "outputs": [
    {
     "name": "stdout",
     "output_type": "stream",
     "text": [
      "The kids youngest: Pritish\n"
     ]
    }
   ],
   "source": [
    "def myfunction(k2):\n",
    "    print(\"The kids youngest:\", k2)\n",
    "myfunction(\"Pritish\")"
   ]
  },
  {
   "cell_type": "code",
   "execution_count": 387,
   "metadata": {},
   "outputs": [
    {
     "name": "stdout",
     "output_type": "stream",
     "text": [
      "apple\n",
      "banana\n",
      "cherry\n"
     ]
    }
   ],
   "source": [
    "fruits = [\"apple\", \"banana\", \"cherry\"]\n",
    "\n",
    "def myfunction(jam):\n",
    "    for x in jam:\n",
    "        print(x)\n",
    "myfunction(fruits)"
   ]
  },
  {
   "cell_type": "code",
   "execution_count": 388,
   "metadata": {},
   "outputs": [
    {
     "name": "stdout",
     "output_type": "stream",
     "text": [
      "1\n",
      "0\n",
      "1\n",
      "0\n"
     ]
    }
   ],
   "source": [
    "numList = [1,2,3,4]\n",
    "def myfunc(x):\n",
    "    for y in x:\n",
    "        print(y*y%2)\n",
    "myfunc(numList)"
   ]
  },
  {
   "cell_type": "code",
   "execution_count": 389,
   "metadata": {},
   "outputs": [
    {
     "name": "stdout",
     "output_type": "stream",
     "text": [
      "\n",
      "\n",
      "Recursion Example Results\n",
      "1\n",
      "3\n",
      "6\n",
      "10\n",
      "15\n",
      "21\n"
     ]
    },
    {
     "data": {
      "text/plain": [
       "21"
      ]
     },
     "execution_count": 389,
     "metadata": {},
     "output_type": "execute_result"
    }
   ],
   "source": [
    "def tri_recursion(k):\n",
    "  if(k > 0):\n",
    "    result = k + tri_recursion(k - 1)\n",
    "    print(result)\n",
    "  else:\n",
    "    result = 0\n",
    "  return result\n",
    "\n",
    "print(\"\\n\\nRecursion Example Results\")\n",
    "tri_recursion(6)"
   ]
  },
  {
   "cell_type": "code",
   "execution_count": 390,
   "metadata": {},
   "outputs": [
    {
     "data": {
      "text/plain": [
       "44"
      ]
     },
     "execution_count": 390,
     "metadata": {},
     "output_type": "execute_result"
    }
   ],
   "source": [
    "x = lambda a : a + 10\n",
    "x(34)"
   ]
  },
  {
   "cell_type": "code",
   "execution_count": 391,
   "metadata": {},
   "outputs": [
    {
     "data": {
      "text/plain": [
       "276"
      ]
     },
     "execution_count": 391,
     "metadata": {},
     "output_type": "execute_result"
    }
   ],
   "source": [
    "x = lambda a,b : a*b\n",
    "x(12, 23)"
   ]
  },
  {
   "cell_type": "code",
   "execution_count": 392,
   "metadata": {},
   "outputs": [
    {
     "name": "stdout",
     "output_type": "stream",
     "text": [
      "89.76923076923077\n"
     ]
    }
   ],
   "source": [
    "import numpy\n",
    "\n",
    "speed = [99,86,87,88,111,86,103,87,94,78,77,85,86]\n",
    "\n",
    "x = numpy.mean(speed)\n",
    "\n",
    "print(x)"
   ]
  },
  {
   "cell_type": "code",
   "execution_count": 393,
   "metadata": {},
   "outputs": [
    {
     "data": {
      "text/plain": [
       "87.0"
      ]
     },
     "execution_count": 393,
     "metadata": {},
     "output_type": "execute_result"
    }
   ],
   "source": [
    "y = numpy.median(speed)\n",
    "y"
   ]
  },
  {
   "cell_type": "code",
   "execution_count": 394,
   "metadata": {},
   "outputs": [
    {
     "name": "stdout",
     "output_type": "stream",
     "text": [
      "ModeResult(mode=array([86]), count=array([3]))\n"
     ]
    },
    {
     "name": "stderr",
     "output_type": "stream",
     "text": [
      "C:\\Users\\kalsr\\AppData\\Local\\Temp\\ipykernel_7252\\3169416150.py:2: FutureWarning: Unlike other reduction functions (e.g. `skew`, `kurtosis`), the default behavior of `mode` typically preserves the axis it acts along. In SciPy 1.11.0, this behavior will change: the default value of `keepdims` will become False, the `axis` over which the statistic is taken will be eliminated, and the value None will no longer be accepted. Set `keepdims` to True or False to avoid this warning.\n",
      "  z = stats.mode(speed)\n"
     ]
    }
   ],
   "source": [
    "from scipy import stats\n",
    "z = stats.mode(speed)\n",
    "print(z)"
   ]
  },
  {
   "cell_type": "code",
   "execution_count": 395,
   "metadata": {},
   "outputs": [
    {
     "data": {
      "text/plain": [
       "85.71597633136093"
      ]
     },
     "execution_count": 395,
     "metadata": {},
     "output_type": "execute_result"
    }
   ],
   "source": [
    "vr = numpy.var(speed)\n",
    "vr"
   ]
  },
  {
   "cell_type": "code",
   "execution_count": 396,
   "metadata": {},
   "outputs": [
    {
     "data": {
      "text/plain": [
       "9.258292301032677"
      ]
     },
     "execution_count": 396,
     "metadata": {},
     "output_type": "execute_result"
    }
   ],
   "source": [
    "stdv = numpy.std(speed)\n",
    "stdv"
   ]
  },
  {
   "cell_type": "code",
   "execution_count": 397,
   "metadata": {},
   "outputs": [
    {
     "data": {
      "text/plain": [
       "94.0"
      ]
     },
     "execution_count": 397,
     "metadata": {},
     "output_type": "execute_result"
    }
   ],
   "source": [
    "prctl = numpy.percentile(speed, 75)\n",
    "prctl"
   ]
  },
  {
   "cell_type": "code",
   "execution_count": 398,
   "metadata": {},
   "outputs": [
    {
     "data": {
      "text/plain": [
       "(array([1.8000e+01, 2.6800e+02, 2.5410e+03, 1.1977e+04, 2.7431e+04,\n",
       "        3.2187e+04, 1.9140e+04, 5.5200e+03, 8.7000e+02, 4.8000e+01]),\n",
       " array([0.52813163, 1.38333207, 2.23853251, 3.09373296, 3.9489334 ,\n",
       "        4.80413385, 5.65933429, 6.51453474, 7.36973518, 8.22493562,\n",
       "        9.08013607]),\n",
       " <BarContainer object of 10 artists>)"
      ]
     },
     "execution_count": 398,
     "metadata": {},
     "output_type": "execute_result"
    },
    {
     "data": {
      "image/png": "[encoded data removed]",
      "text/plain": [
       "<Figure size 640x480 with 1 Axes>"
      ]
     },
     "metadata": {},
     "output_type": "display_data"
    }
   ],
   "source": [
    "import numpy\n",
    "import matplotlib.pyplot as plt\n",
    "\n",
    "x = numpy.random.normal(5.0, 1.0, 100000)\n",
    "\n",
    "plt.hist(x)"
   ]
  },
  {
   "cell_type": "code",
   "execution_count": 399,
   "metadata": {},
   "outputs": [
    {
     "data": {
      "text/plain": [
       "<matplotlib.collections.PathCollection at 0x1e72e435c30>"
      ]
     },
     "execution_count": 399,
     "metadata": {},
     "output_type": "execute_result"
    },
    {
     "data": {
      "image/png": "[encoded data removed]",
      "text/plain": [
       "<Figure size 640x480 with 1 Axes>"
      ]
     },
     "metadata": {},
     "output_type": "display_data"
    }
   ],
   "source": [
    "import matplotlib.pyplot as plt\n",
    "x = [5,7,8,7,2,17,2,9,4,11,12,9,6]\n",
    "y = [99,86,87,88,111,86,103,87,94,78,77,85,86]\n",
    "plt.scatter(x,y)"
   ]
  },
  {
   "cell_type": "code",
   "execution_count": 400,
   "metadata": {},
   "outputs": [
    {
     "name": "stdout",
     "output_type": "stream",
     "text": [
      "-0.7585915243761551\n"
     ]
    }
   ],
   "source": [
    "from scipy import stats\n",
    "\n",
    "x = [5,7,8,7,2,17,2,9,4,11,12,9,6]\n",
    "y = [99,86,87,88,111,86,103,87,94,78,77,85,86]\n",
    "\n",
    "slope, intercept, r, p, std_err = stats.linregress(x, y)\n",
    "\n",
    "print(r)"
   ]
  },
  {
   "cell_type": "code",
   "execution_count": 401,
   "metadata": {},
   "outputs": [
    {
     "data": {
      "text/plain": [
       "LinregressResult(slope=-1.751287711552612, intercept=103.10596026490066, rvalue=-0.7585915243761551, pvalue=0.002646873922456101, stderr=0.45353615760774196, intercept_stderr=3.903492810154512)"
      ]
     },
     "execution_count": 401,
     "metadata": {},
     "output_type": "execute_result"
    }
   ],
   "source": [
    "stats.linregress(x,y)"
   ]
  },
  {
   "cell_type": "code",
   "execution_count": 402,
   "metadata": {},
   "outputs": [
    {
     "name": "stdout",
     "output_type": "stream",
     "text": [
      "0.002646873922456101\n"
     ]
    }
   ],
   "source": [
    "print(p)"
   ]
  },
  {
   "cell_type": "code",
   "execution_count": 403,
   "metadata": {},
   "outputs": [
    {
     "data": {
      "text/plain": [
       "list"
      ]
     },
     "execution_count": 403,
     "metadata": {},
     "output_type": "execute_result"
    }
   ],
   "source": [
    "cars = [\"Ford\", \"Volvo\", \"BMW\"]\n",
    "type(cars)"
   ]
  },
  {
   "cell_type": "code",
   "execution_count": 404,
   "metadata": {},
   "outputs": [
    {
     "data": {
      "text/plain": [
       "'Ford'"
      ]
     },
     "execution_count": 404,
     "metadata": {},
     "output_type": "execute_result"
    }
   ],
   "source": [
    "cars[0]"
   ]
  },
  {
   "cell_type": "code",
   "execution_count": 405,
   "metadata": {},
   "outputs": [
    {
     "name": "stdout",
     "output_type": "stream",
     "text": [
      "Ford\n",
      "Volvo\n",
      "BMW\n"
     ]
    }
   ],
   "source": [
    "for x in cars:\n",
    "    print(x)"
   ]
  },
  {
   "cell_type": "code",
   "execution_count": 406,
   "metadata": {},
   "outputs": [],
   "source": [
    "cars.append(\"Nissan\")"
   ]
  },
  {
   "cell_type": "code",
   "execution_count": 407,
   "metadata": {},
   "outputs": [
    {
     "name": "stdout",
     "output_type": "stream",
     "text": [
      "Ford\n",
      "Volvo\n",
      "BMW\n",
      "Nissan\n"
     ]
    }
   ],
   "source": [
    "for x in cars:\n",
    "    print(x)"
   ]
  },
  {
   "cell_type": "code",
   "execution_count": 408,
   "metadata": {},
   "outputs": [],
   "source": [
    "vehicle = [\"Buick\", \"Ford\", \"Toyota\", \"Lincoln\"]"
   ]
  },
  {
   "cell_type": "code",
   "execution_count": 409,
   "metadata": {},
   "outputs": [],
   "source": [
    "cars.extend(vehicle)"
   ]
  },
  {
   "cell_type": "code",
   "execution_count": 410,
   "metadata": {},
   "outputs": [
    {
     "data": {
      "text/plain": [
       "['Ford', 'Volvo', 'BMW', 'Nissan', 'Buick', 'Ford', 'Toyota', 'Lincoln']"
      ]
     },
     "execution_count": 410,
     "metadata": {},
     "output_type": "execute_result"
    }
   ],
   "source": [
    "cars"
   ]
  },
  {
   "cell_type": "code",
   "execution_count": 411,
   "metadata": {},
   "outputs": [
    {
     "data": {
      "text/plain": [
       "'BMW'"
      ]
     },
     "execution_count": 411,
     "metadata": {},
     "output_type": "execute_result"
    }
   ],
   "source": [
    "cars.pop(2)"
   ]
  },
  {
   "cell_type": "code",
   "execution_count": 412,
   "metadata": {},
   "outputs": [
    {
     "data": {
      "text/plain": [
       "['Ford', 'Volvo', 'Nissan', 'Buick', 'Ford', 'Toyota', 'Lincoln']"
      ]
     },
     "execution_count": 412,
     "metadata": {},
     "output_type": "execute_result"
    }
   ],
   "source": [
    "cars"
   ]
  },
  {
   "cell_type": "code",
   "execution_count": 413,
   "metadata": {},
   "outputs": [],
   "source": [
    "ride = vehicle.copy()"
   ]
  },
  {
   "cell_type": "code",
   "execution_count": 414,
   "metadata": {},
   "outputs": [
    {
     "data": {
      "text/plain": [
       "['Buick', 'Ford', 'Toyota', 'Lincoln']"
      ]
     },
     "execution_count": 414,
     "metadata": {},
     "output_type": "execute_result"
    }
   ],
   "source": [
    "ride"
   ]
  },
  {
   "cell_type": "code",
   "execution_count": 415,
   "metadata": {},
   "outputs": [
    {
     "data": {
      "text/plain": [
       "[]"
      ]
     },
     "execution_count": 415,
     "metadata": {},
     "output_type": "execute_result"
    }
   ],
   "source": [
    "ride.clear()\n",
    "ride"
   ]
  },
  {
   "cell_type": "code",
   "execution_count": 416,
   "metadata": {},
   "outputs": [
    {
     "data": {
      "text/plain": [
       "1"
      ]
     },
     "execution_count": 416,
     "metadata": {},
     "output_type": "execute_result"
    }
   ],
   "source": [
    "cars.count(\"Nissan\")"
   ]
  },
  {
   "cell_type": "code",
   "execution_count": 417,
   "metadata": {},
   "outputs": [
    {
     "data": {
      "text/plain": [
       "0"
      ]
     },
     "execution_count": 417,
     "metadata": {},
     "output_type": "execute_result"
    }
   ],
   "source": [
    "cars.index(\"Ford\")"
   ]
  },
  {
   "cell_type": "code",
   "execution_count": 418,
   "metadata": {},
   "outputs": [],
   "source": [
    "cars.insert(2, \"BMW\")"
   ]
  },
  {
   "cell_type": "code",
   "execution_count": 419,
   "metadata": {},
   "outputs": [
    {
     "data": {
      "text/plain": [
       "['Ford', 'Volvo', 'BMW', 'Nissan', 'Buick', 'Ford', 'Toyota', 'Lincoln']"
      ]
     },
     "execution_count": 419,
     "metadata": {},
     "output_type": "execute_result"
    }
   ],
   "source": [
    "cars"
   ]
  },
  {
   "cell_type": "code",
   "execution_count": 420,
   "metadata": {},
   "outputs": [],
   "source": [
    "cars.remove(\"Lincoln\")"
   ]
  },
  {
   "cell_type": "code",
   "execution_count": 421,
   "metadata": {},
   "outputs": [
    {
     "data": {
      "text/plain": [
       "['Ford', 'Volvo', 'BMW', 'Nissan', 'Buick', 'Ford', 'Toyota']"
      ]
     },
     "execution_count": 421,
     "metadata": {},
     "output_type": "execute_result"
    }
   ],
   "source": [
    "cars"
   ]
  },
  {
   "cell_type": "code",
   "execution_count": 422,
   "metadata": {},
   "outputs": [],
   "source": [
    "cars.reverse()"
   ]
  },
  {
   "cell_type": "code",
   "execution_count": 423,
   "metadata": {},
   "outputs": [
    {
     "data": {
      "text/plain": [
       "['Toyota', 'Ford', 'Buick', 'Nissan', 'BMW', 'Volvo', 'Ford']"
      ]
     },
     "execution_count": 423,
     "metadata": {},
     "output_type": "execute_result"
    }
   ],
   "source": [
    "cars"
   ]
  },
  {
   "cell_type": "code",
   "execution_count": 424,
   "metadata": {},
   "outputs": [],
   "source": [
    "cars.sort()"
   ]
  },
  {
   "cell_type": "code",
   "execution_count": 425,
   "metadata": {},
   "outputs": [
    {
     "data": {
      "text/plain": [
       "['BMW', 'Buick', 'Ford', 'Ford', 'Nissan', 'Toyota', 'Volvo']"
      ]
     },
     "execution_count": 425,
     "metadata": {},
     "output_type": "execute_result"
    }
   ],
   "source": [
    "cars"
   ]
  },
  {
   "cell_type": "code",
   "execution_count": 426,
   "metadata": {},
   "outputs": [],
   "source": [
    "cars_rev = cars.reverse()"
   ]
  },
  {
   "cell_type": "code",
   "execution_count": 427,
   "metadata": {},
   "outputs": [],
   "source": [
    "cars_rev #Nothing assigned"
   ]
  },
  {
   "cell_type": "code",
   "execution_count": 428,
   "metadata": {},
   "outputs": [
    {
     "data": {
      "text/plain": [
       "['Volvo', 'Toyota', 'Nissan', 'Ford', 'Ford', 'Buick', 'BMW']"
      ]
     },
     "execution_count": 428,
     "metadata": {},
     "output_type": "execute_result"
    }
   ],
   "source": [
    "cars"
   ]
  },
  {
   "cell_type": "code",
   "execution_count": 429,
   "metadata": {},
   "outputs": [],
   "source": [
    "class MyClass:\n",
    "    x = 5"
   ]
  },
  {
   "cell_type": "code",
   "execution_count": 430,
   "metadata": {},
   "outputs": [],
   "source": [
    "p1 = MyClass"
   ]
  },
  {
   "cell_type": "code",
   "execution_count": 431,
   "metadata": {},
   "outputs": [
    {
     "name": "stdout",
     "output_type": "stream",
     "text": [
      "5\n"
     ]
    }
   ],
   "source": [
    "print(p1.x)"
   ]
  },
  {
   "cell_type": "code",
   "execution_count": 432,
   "metadata": {},
   "outputs": [],
   "source": [
    "class MyClass:\n",
    "    x = 5\n",
    "    solvent = [\"H2O\", \"ether\", \"ethanol\", \"DMSO\", \"methanol\"]"
   ]
  },
  {
   "cell_type": "code",
   "execution_count": 433,
   "metadata": {},
   "outputs": [
    {
     "name": "stdout",
     "output_type": "stream",
     "text": [
      "ethanol\n"
     ]
    }
   ],
   "source": [
    "p1 = MyClass\n",
    "print(p1.solvent[2])"
   ]
  },
  {
   "cell_type": "code",
   "execution_count": 434,
   "metadata": {},
   "outputs": [
    {
     "name": "stdout",
     "output_type": "stream",
     "text": [
      "<class 'str'>\n"
     ]
    }
   ],
   "source": [
    "print(type(p1.solvent[2]))"
   ]
  },
  {
   "cell_type": "code",
   "execution_count": 435,
   "metadata": {},
   "outputs": [
    {
     "name": "stdout",
     "output_type": "stream",
     "text": [
      "<class 'int'>\n"
     ]
    }
   ],
   "source": [
    "print(type(p1.x))"
   ]
  },
  {
   "cell_type": "code",
   "execution_count": 436,
   "metadata": {},
   "outputs": [
    {
     "name": "stdout",
     "output_type": "stream",
     "text": [
      "ethanolethanolethanolethanolethanol\n"
     ]
    }
   ],
   "source": [
    "print(p1.solvent[2] * p1.x)"
   ]
  },
  {
   "cell_type": "code",
   "execution_count": 437,
   "metadata": {},
   "outputs": [],
   "source": [
    "class Person:\n",
    "    def __init__(self, name, age):\n",
    "        self.name = name\n",
    "        self.age = age\n",
    "\n",
    "p1 = Person(\"John\", 46)"
   ]
  },
  {
   "cell_type": "code",
   "execution_count": 438,
   "metadata": {},
   "outputs": [
    {
     "name": "stdout",
     "output_type": "stream",
     "text": [
      "John\n"
     ]
    }
   ],
   "source": [
    "print(p1.name)"
   ]
  },
  {
   "cell_type": "code",
   "execution_count": 439,
   "metadata": {},
   "outputs": [
    {
     "name": "stdout",
     "output_type": "stream",
     "text": [
      "My name is John\n"
     ]
    }
   ],
   "source": [
    "class Person:\n",
    "    def __init__(self, name, age):\n",
    "        self.name = name\n",
    "        self.age = age\n",
    "        \n",
    "    def  myfunc(self):\n",
    "        print(\"My name is \" + self.name)\n",
    "    \n",
    "p1 = Person(\"John\", 46)\n",
    "\n",
    "p1.myfunc()"
   ]
  },
  {
   "cell_type": "code",
   "execution_count": 440,
   "metadata": {},
   "outputs": [
    {
     "name": "stdout",
     "output_type": "stream",
     "text": [
      "the name is Kalyan\n"
     ]
    }
   ],
   "source": [
    "class Person:\n",
    "    def __init__(self, name, age):\n",
    "        self.name = name\n",
    "        self.age = age\n",
    "        \n",
    "    def myfunc(abc):\n",
    "        print(\"the name is \" +abc.name)\n",
    "        \n",
    "p1= Person(\"Kalyan\", 46)\n",
    "p1.myfunc()"
   ]
  },
  {
   "cell_type": "code",
   "execution_count": 441,
   "metadata": {},
   "outputs": [
    {
     "data": {
      "text/plain": [
       "46"
      ]
     },
     "execution_count": 441,
     "metadata": {},
     "output_type": "execute_result"
    }
   ],
   "source": [
    "p1.age"
   ]
  },
  {
   "cell_type": "code",
   "execution_count": 442,
   "metadata": {},
   "outputs": [],
   "source": [
    "p1.age = 45"
   ]
  },
  {
   "cell_type": "code",
   "execution_count": 443,
   "metadata": {},
   "outputs": [
    {
     "data": {
      "text/plain": [
       "45"
      ]
     },
     "execution_count": 443,
     "metadata": {},
     "output_type": "execute_result"
    }
   ],
   "source": [
    "p1.age"
   ]
  },
  {
   "cell_type": "code",
   "execution_count": 444,
   "metadata": {},
   "outputs": [],
   "source": [
    "del p1.age"
   ]
  },
  {
   "cell_type": "code",
   "execution_count": 445,
   "metadata": {},
   "outputs": [
    {
     "ename": "AttributeError",
     "evalue": "'Person' object has no attribute 'age'",
     "output_type": "error",
     "traceback": [
      "\u001b[1;31m---------------------------------------------------------------------------\u001b[0m",
      "\u001b[1;31mAttributeError\u001b[0m                            Traceback (most recent call last)",
      "Cell \u001b[1;32mIn[445], line 1\u001b[0m\n\u001b[1;32m----> 1\u001b[0m \u001b[43mp1\u001b[49m\u001b[38;5;241;43m.\u001b[39;49m\u001b[43mage\u001b[49m\n",
      "\u001b[1;31mAttributeError\u001b[0m: 'Person' object has no attribute 'age'"
     ]
    }
   ],
   "source": [
    "p1.age"
   ]
  },
  {
   "cell_type": "code",
   "execution_count": 446,
   "metadata": {},
   "outputs": [],
   "source": [
    "p1.age = 47"
   ]
  },
  {
   "cell_type": "code",
   "execution_count": 447,
   "metadata": {},
   "outputs": [
    {
     "data": {
      "text/plain": [
       "<__main__.Person at 0x1e72e4fe800>"
      ]
     },
     "execution_count": 447,
     "metadata": {},
     "output_type": "execute_result"
    }
   ],
   "source": [
    "p1"
   ]
  },
  {
   "cell_type": "code",
   "execution_count": 448,
   "metadata": {},
   "outputs": [
    {
     "data": {
      "text/plain": [
       "47"
      ]
     },
     "execution_count": 448,
     "metadata": {},
     "output_type": "execute_result"
    }
   ],
   "source": [
    "p1.age"
   ]
  },
  {
   "cell_type": "code",
   "execution_count": 449,
   "metadata": {},
   "outputs": [
    {
     "name": "stdout",
     "output_type": "stream",
     "text": [
      "Kalyan Srivastava\n"
     ]
    }
   ],
   "source": [
    "class Person:\n",
    "    def __init__(self, fname, lname):\n",
    "        self.firstname = fname\n",
    "        self.lastname = lname\n",
    "        \n",
    "    def printname(self):\n",
    "        print(self.firstname, self.lastname)\n",
    "        \n",
    "x = Person(\"Kalyan\", \"Srivastava\")\n",
    "\n",
    "x.printname()\n",
    "        \n",
    "        \n",
    "    \n",
    "    "
   ]
  },
  {
   "cell_type": "code",
   "execution_count": 450,
   "metadata": {},
   "outputs": [],
   "source": [
    "class Student(Person):\n",
    "    pass"
   ]
  },
  {
   "cell_type": "code",
   "execution_count": 451,
   "metadata": {},
   "outputs": [],
   "source": [
    "x = Student(\"Sandy\", \"Fergusson\")"
   ]
  },
  {
   "cell_type": "code",
   "execution_count": 452,
   "metadata": {},
   "outputs": [
    {
     "name": "stdout",
     "output_type": "stream",
     "text": [
      "Sandy Fergusson\n"
     ]
    }
   ],
   "source": [
    "x.printname()"
   ]
  },
  {
   "cell_type": "code",
   "execution_count": 453,
   "metadata": {},
   "outputs": [
    {
     "ename": "SyntaxError",
     "evalue": "incomplete input (3557650279.py, line 3)",
     "output_type": "error",
     "traceback": [
      "\u001b[1;36m  Cell \u001b[1;32mIn[453], line 3\u001b[1;36m\u001b[0m\n\u001b[1;33m    #Anything\u001b[0m\n\u001b[1;37m             ^\u001b[0m\n\u001b[1;31mSyntaxError\u001b[0m\u001b[1;31m:\u001b[0m incomplete input\n"
     ]
    }
   ],
   "source": [
    "class Student(Person):\n",
    "    def __init__(self, fname, lname):\n",
    "        #Anything"
   ]
  },
  {
   "cell_type": "code",
   "execution_count": 454,
   "metadata": {},
   "outputs": [],
   "source": [
    "class Student(Person):\n",
    "  def __init__(self, fname, lname):\n",
    "    super().__init__(fname, lname)"
   ]
  },
  {
   "cell_type": "code",
   "execution_count": 455,
   "metadata": {},
   "outputs": [],
   "source": [
    "class Student(Person):\n",
    "    def __init__(self, fname, lname, year):\n",
    "        super().__init__(fname, lname)\n",
    "        self.graduationyear = year\n",
    "        \n",
    "    def printname(self):\n",
    "        print(self.firstname, self.lastname, self.year)\n",
    "        \n",
    "x = Student(\"Kalyan\", \"Srivastava\", 2002)"
   ]
  },
  {
   "cell_type": "code",
   "execution_count": 456,
   "metadata": {},
   "outputs": [],
   "source": [
    "class Student(Person):\n",
    "  def __init__(self, fname, lname, year):\n",
    "    super().__init__(fname, lname)\n",
    "    self.graduationyear = year\n",
    "\n",
    "x = Student(\"Mike\", \"Olsen\", 2019)"
   ]
  },
  {
   "cell_type": "code",
   "execution_count": 457,
   "metadata": {},
   "outputs": [
    {
     "name": "stdout",
     "output_type": "stream",
     "text": [
      "2019\n"
     ]
    }
   ],
   "source": [
    "print(x.graduationyear)"
   ]
  },
  {
   "cell_type": "code",
   "execution_count": 458,
   "metadata": {},
   "outputs": [
    {
     "name": "stdout",
     "output_type": "stream",
     "text": [
      "Mike\n"
     ]
    }
   ],
   "source": [
    "print(x.firstname)"
   ]
  },
  {
   "cell_type": "code",
   "execution_count": 459,
   "metadata": {},
   "outputs": [],
   "source": [
    "class Studnt(Person):\n",
    "    def __init__(self, fname, lname, year):\n",
    "        super() .__init__(fname, lname)\n",
    "        self.graduationyear = year\n",
    "        \n",
    "    def welcome(self):\n",
    "        Print(\"Welcome\", self.firstname, self.lastname, \"to the class of\", self.graduationyear)"
   ]
  },
  {
   "cell_type": "code",
   "execution_count": 460,
   "metadata": {},
   "outputs": [],
   "source": [
    "x = Student(\"Kalyan\", \"Srivatava\", 2002)"
   ]
  },
  {
   "cell_type": "code",
   "execution_count": 461,
   "metadata": {},
   "outputs": [
    {
     "data": {
      "text/plain": [
       "2002"
      ]
     },
     "execution_count": 461,
     "metadata": {},
     "output_type": "execute_result"
    }
   ],
   "source": [
    "x.graduationyear"
   ]
  },
  {
   "cell_type": "code",
   "execution_count": 462,
   "metadata": {},
   "outputs": [],
   "source": [
    "mytuple = (\"apple\", \"guavava\", \"cherry\")\n",
    "myit = iter(mytuple)\n"
   ]
  },
  {
   "cell_type": "code",
   "execution_count": 463,
   "metadata": {},
   "outputs": [
    {
     "data": {
      "text/plain": [
       "'apple'"
      ]
     },
     "execution_count": 463,
     "metadata": {},
     "output_type": "execute_result"
    }
   ],
   "source": [
    "next(myit)"
   ]
  },
  {
   "cell_type": "code",
   "execution_count": 464,
   "metadata": {},
   "outputs": [
    {
     "data": {
      "text/plain": [
       "'guavava'"
      ]
     },
     "execution_count": 464,
     "metadata": {},
     "output_type": "execute_result"
    }
   ],
   "source": [
    "next(myit)"
   ]
  },
  {
   "cell_type": "code",
   "execution_count": 465,
   "metadata": {},
   "outputs": [
    {
     "data": {
      "text/plain": [
       "'cherry'"
      ]
     },
     "execution_count": 465,
     "metadata": {},
     "output_type": "execute_result"
    }
   ],
   "source": [
    "next(myit)"
   ]
  },
  {
   "cell_type": "code",
   "execution_count": 466,
   "metadata": {},
   "outputs": [],
   "source": [
    "mystr = \"banana\"\n",
    "myitr = iter(mystr)"
   ]
  },
  {
   "cell_type": "code",
   "execution_count": 467,
   "metadata": {},
   "outputs": [
    {
     "name": "stdout",
     "output_type": "stream",
     "text": [
      "b\n"
     ]
    }
   ],
   "source": [
    "print(next(myitr))"
   ]
  },
  {
   "cell_type": "code",
   "execution_count": 468,
   "metadata": {},
   "outputs": [
    {
     "name": "stdout",
     "output_type": "stream",
     "text": [
      "a\n"
     ]
    }
   ],
   "source": [
    "print(next(myitr))"
   ]
  },
  {
   "cell_type": "code",
   "execution_count": 469,
   "metadata": {},
   "outputs": [],
   "source": [
    "def myfunc():\n",
    "    x = 400\n",
    "    print(x)"
   ]
  },
  {
   "cell_type": "code",
   "execution_count": 470,
   "metadata": {},
   "outputs": [
    {
     "name": "stdout",
     "output_type": "stream",
     "text": [
      "400\n"
     ]
    }
   ],
   "source": [
    "myfunc()"
   ]
  },
  {
   "cell_type": "code",
   "execution_count": 471,
   "metadata": {},
   "outputs": [],
   "source": [
    "def myfunc():\n",
    "    x = 400\n",
    "    global y\n",
    "    y = 600\n",
    "    "
   ]
  },
  {
   "cell_type": "code",
   "execution_count": 472,
   "metadata": {},
   "outputs": [],
   "source": [
    "def myfunc():\n",
    "    x = 300\n",
    "    def yourfunc():\n",
    "        print(x)\n",
    "    yourfunc()"
   ]
  },
  {
   "cell_type": "code",
   "execution_count": 479,
   "metadata": {},
   "outputs": [
    {
     "name": "stdout",
     "output_type": "stream",
     "text": [
      "600\n"
     ]
    }
   ],
   "source": [
    "myfunc()"
   ]
  },
  {
   "cell_type": "code",
   "execution_count": 480,
   "metadata": {},
   "outputs": [],
   "source": [
    "def myfunc():\n",
    "    x = 300\n",
    "    print(y)\n",
    "    def yourfunc():\n",
    "        y = 600\n",
    "    yourfunc()"
   ]
  },
  {
   "cell_type": "code",
   "execution_count": 481,
   "metadata": {},
   "outputs": [
    {
     "name": "stdout",
     "output_type": "stream",
     "text": [
      "600\n"
     ]
    }
   ],
   "source": [
    "myfunc()"
   ]
  },
  {
   "cell_type": "code",
   "execution_count": 482,
   "metadata": {},
   "outputs": [],
   "source": [
    "def myfunc():\n",
    "    x = 300\n",
    "    print(y)\n",
    "    def yourfunc():\n",
    "        global y \n",
    "        y = 600\n",
    "    yourfunc()"
   ]
  },
  {
   "cell_type": "code",
   "execution_count": 485,
   "metadata": {},
   "outputs": [
    {
     "name": "stdout",
     "output_type": "stream",
     "text": [
      "600\n"
     ]
    }
   ],
   "source": [
    "myfunc()"
   ]
  },
  {
   "cell_type": "code",
   "execution_count": 492,
   "metadata": {},
   "outputs": [
    {
     "ename": "IndentationError",
     "evalue": "expected an indented block after function definition on line 5 (1935928274.py, line 6)",
     "output_type": "error",
     "traceback": [
      "\u001b[1;36m  Cell \u001b[1;32mIn[492], line 6\u001b[1;36m\u001b[0m\n\u001b[1;33m    global y\u001b[0m\n\u001b[1;37m             ^\u001b[0m\n\u001b[1;31mIndentationError\u001b[0m\u001b[1;31m:\u001b[0m expected an indented block after function definition on line 5\n"
     ]
    }
   ],
   "source": [
    "        def myfunc():\n",
    "    x = 300\n",
    "    z= y*x\n",
    "    print(z)\n",
    "    def yourfunc():\n",
    "        global y \n",
    "        y = 600\n",
    "    yourfunc()\n"
   ]
  },
  {
   "cell_type": "code",
   "execution_count": 493,
   "metadata": {},
   "outputs": [],
   "source": [
    "import mymodule"
   ]
  },
  {
   "cell_type": "code",
   "execution_count": 494,
   "metadata": {},
   "outputs": [
    {
     "ename": "AttributeError",
     "evalue": "module 'mymodule' has no attribute 'greeting'",
     "output_type": "error",
     "traceback": [
      "\u001b[1;31m---------------------------------------------------------------------------\u001b[0m",
      "\u001b[1;31mAttributeError\u001b[0m                            Traceback (most recent call last)",
      "Cell \u001b[1;32mIn[494], line 1\u001b[0m\n\u001b[1;32m----> 1\u001b[0m \u001b[43mmymodule\u001b[49m\u001b[38;5;241;43m.\u001b[39;49m\u001b[43mgreeting\u001b[49m(\u001b[38;5;124m\"\u001b[39m\u001b[38;5;124mKalyan\u001b[39m\u001b[38;5;124m\"\u001b[39m)\n",
      "\u001b[1;31mAttributeError\u001b[0m: module 'mymodule' has no attribute 'greeting'"
     ]
    }
   ],
   "source": [
    "mymodule.greeting(\"Kalyan\")"
   ]
  },
  {
   "cell_type": "code",
   "execution_count": 495,
   "metadata": {},
   "outputs": [
    {
     "data": {
      "text/plain": [
       "'Kalyan'"
      ]
     },
     "execution_count": 495,
     "metadata": {},
     "output_type": "execute_result"
    }
   ],
   "source": [
    "mymodule.person1[\"name\"]"
   ]
  },
  {
   "cell_type": "code",
   "execution_count": 496,
   "metadata": {},
   "outputs": [
    {
     "data": {
      "text/plain": [
       "datetime.datetime(2024, 6, 22, 17, 22, 2, 962702)"
      ]
     },
     "execution_count": 496,
     "metadata": {},
     "output_type": "execute_result"
    }
   ],
   "source": [
    "import datetime\n",
    "datetime.datetime.now()"
   ]
  },
  {
   "cell_type": "code",
   "execution_count": 497,
   "metadata": {},
   "outputs": [
    {
     "data": {
      "text/plain": [
       "2024"
      ]
     },
     "execution_count": 497,
     "metadata": {},
     "output_type": "execute_result"
    }
   ],
   "source": [
    "import datetime\n",
    "x = datetime.datetime.now()\n",
    "x.year"
   ]
  },
  {
   "cell_type": "code",
   "execution_count": 498,
   "metadata": {},
   "outputs": [],
   "source": [
    "import datetime\n",
    "x = datetime.datetime(2020, 5, 17)"
   ]
  },
  {
   "cell_type": "code",
   "execution_count": 499,
   "metadata": {},
   "outputs": [
    {
     "data": {
      "text/plain": [
       "2020"
      ]
     },
     "execution_count": 499,
     "metadata": {},
     "output_type": "execute_result"
    }
   ],
   "source": [
    "x.year"
   ]
  },
  {
   "cell_type": "code",
   "execution_count": 500,
   "metadata": {},
   "outputs": [
    {
     "data": {
      "text/plain": [
       "2"
      ]
     },
     "execution_count": 500,
     "metadata": {},
     "output_type": "execute_result"
    }
   ],
   "source": [
    "x = [2, 4, 5, 69 , 76 , 34]\n",
    "min(x)"
   ]
  },
  {
   "cell_type": "code",
   "execution_count": 501,
   "metadata": {},
   "outputs": [
    {
     "data": {
      "text/plain": [
       "56.6"
      ]
     },
     "execution_count": 501,
     "metadata": {},
     "output_type": "execute_result"
    }
   ],
   "source": [
    "x = -56.6\n",
    "abs(x)"
   ]
  },
  {
   "cell_type": "code",
   "execution_count": 502,
   "metadata": {},
   "outputs": [
    {
     "data": {
      "text/plain": [
       "2"
      ]
     },
     "execution_count": 502,
     "metadata": {},
     "output_type": "execute_result"
    }
   ],
   "source": [
    "import math\n",
    "x = math.ceil(1.4)\n",
    "x"
   ]
  },
  {
   "cell_type": "code",
   "execution_count": 503,
   "metadata": {},
   "outputs": [
    {
     "data": {
      "text/plain": [
       "1"
      ]
     },
     "execution_count": 503,
     "metadata": {},
     "output_type": "execute_result"
    }
   ],
   "source": [
    "x = math.floor(1.4)\n",
    "x"
   ]
  },
  {
   "cell_type": "code",
   "execution_count": 504,
   "metadata": {},
   "outputs": [],
   "source": [
    "x = math.pi"
   ]
  },
  {
   "cell_type": "code",
   "execution_count": 505,
   "metadata": {},
   "outputs": [
    {
     "data": {
      "text/plain": [
       "3.141592653589793"
      ]
     },
     "execution_count": 505,
     "metadata": {},
     "output_type": "execute_result"
    }
   ],
   "source": [
    "x"
   ]
  },
  {
   "cell_type": "code",
   "execution_count": 506,
   "metadata": {},
   "outputs": [],
   "source": [
    "import json\n",
    "x = '{\"name\" : \"Kalyan\", \"Surname\" : \"Srivastava\", \"Title\" : \"Dr.\"}'\n",
    "y = json.loads(x)"
   ]
  },
  {
   "cell_type": "code",
   "execution_count": 507,
   "metadata": {},
   "outputs": [
    {
     "data": {
      "text/plain": [
       "'Kalyan'"
      ]
     },
     "execution_count": 507,
     "metadata": {},
     "output_type": "execute_result"
    }
   ],
   "source": [
    "y[\"name\"]"
   ]
  },
  {
   "cell_type": "code",
   "execution_count": 508,
   "metadata": {},
   "outputs": [],
   "source": [
    "a = {\"name\" : \"Nicholan\", \"Surname\" : \"Srivastov\", \"Title\" : \"Mr.\"}"
   ]
  },
  {
   "cell_type": "code",
   "execution_count": 509,
   "metadata": {},
   "outputs": [],
   "source": [
    "b = json.dumps(a)"
   ]
  },
  {
   "cell_type": "code",
   "execution_count": 510,
   "metadata": {},
   "outputs": [
    {
     "data": {
      "text/plain": [
       "'{\"name\": \"Nicholan\", \"Surname\": \"Srivastov\", \"Title\": \"Mr.\"}'"
      ]
     },
     "execution_count": 510,
     "metadata": {},
     "output_type": "execute_result"
    }
   ],
   "source": [
    "b"
   ]
  },
  {
   "cell_type": "code",
   "execution_count": 511,
   "metadata": {},
   "outputs": [
    {
     "ename": "TypeError",
     "evalue": "string indices must be integers",
     "output_type": "error",
     "traceback": [
      "\u001b[1;31m---------------------------------------------------------------------------\u001b[0m",
      "\u001b[1;31mTypeError\u001b[0m                                 Traceback (most recent call last)",
      "Cell \u001b[1;32mIn[511], line 1\u001b[0m\n\u001b[1;32m----> 1\u001b[0m \u001b[43mb\u001b[49m\u001b[43m[\u001b[49m\u001b[38;5;124;43m\"\u001b[39;49m\u001b[38;5;124;43mname\u001b[39;49m\u001b[38;5;124;43m\"\u001b[39;49m\u001b[43m]\u001b[49m\n",
      "\u001b[1;31mTypeError\u001b[0m: string indices must be integers"
     ]
    }
   ],
   "source": [
    "b[\"name\"]"
   ]
  },
  {
   "cell_type": "code",
   "execution_count": 512,
   "metadata": {},
   "outputs": [
    {
     "data": {
      "text/plain": [
       "'a'"
      ]
     },
     "execution_count": 512,
     "metadata": {},
     "output_type": "execute_result"
    }
   ],
   "source": [
    "b[3]"
   ]
  },
  {
   "cell_type": "code",
   "execution_count": 513,
   "metadata": {},
   "outputs": [
    {
     "data": {
      "text/plain": [
       "str"
      ]
     },
     "execution_count": 513,
     "metadata": {},
     "output_type": "execute_result"
    }
   ],
   "source": [
    "type(b)"
   ]
  },
  {
   "cell_type": "code",
   "execution_count": 514,
   "metadata": {},
   "outputs": [],
   "source": [
    "import json\n",
    "\n",
    "x = {\n",
    "  \"name\": \"John\",\n",
    "  \"age\": 30,\n",
    "  \"married\": True,\n",
    "  \"divorced\": False,\n",
    "  \"children\": (\"Ann\",\"Billy\"),\n",
    "  \"pets\": None,\n",
    "  \"cars\": [\n",
    "    {\"model\": \"BMW 230\", \"mpg\": 27.5},\n",
    "    {\"model\": \"Ford Edge\", \"mpg\": 24.1}\n",
    "  ]\n",
    "}"
   ]
  },
  {
   "cell_type": "code",
   "execution_count": 515,
   "metadata": {},
   "outputs": [
    {
     "data": {
      "text/plain": [
       "dict"
      ]
     },
     "execution_count": 515,
     "metadata": {},
     "output_type": "execute_result"
    }
   ],
   "source": [
    "type(x)"
   ]
  },
  {
   "cell_type": "code",
   "execution_count": 516,
   "metadata": {},
   "outputs": [],
   "source": [
    "y = json.dumps(x)"
   ]
  },
  {
   "cell_type": "code",
   "execution_count": 517,
   "metadata": {},
   "outputs": [
    {
     "data": {
      "text/plain": [
       "str"
      ]
     },
     "execution_count": 517,
     "metadata": {},
     "output_type": "execute_result"
    }
   ],
   "source": [
    "type(y)"
   ]
  },
  {
   "cell_type": "code",
   "execution_count": 518,
   "metadata": {},
   "outputs": [
    {
     "data": {
      "text/plain": [
       "'{\"name\": \"John\", \"age\": 30, \"married\": true, \"divorced\": false, \"children\": [\"Ann\", \"Billy\"], \"pets\": null, \"cars\": [{\"model\": \"BMW 230\", \"mpg\": 27.5}, {\"model\": \"Ford Edge\", \"mpg\": 24.1}]}'"
      ]
     },
     "execution_count": 518,
     "metadata": {},
     "output_type": "execute_result"
    }
   ],
   "source": [
    "y"
   ]
  },
  {
   "cell_type": "code",
   "execution_count": 519,
   "metadata": {},
   "outputs": [
    {
     "data": {
      "text/plain": [
       "'{\\n    \"age\": 30,\\n    \"cars\": [\\n        {\\n            \"model\": \"BMW 230\",\\n            \"mpg\": 27.5\\n        },\\n        {\\n            \"model\": \"Ford Edge\",\\n            \"mpg\": 24.1\\n        }\\n    ],\\n    \"children\": [\\n        \"Ann\",\\n        \"Billy\"\\n    ],\\n    \"divorced\": false,\\n    \"married\": true,\\n    \"name\": \"John\",\\n    \"pets\": null\\n}'"
      ]
     },
     "execution_count": 519,
     "metadata": {},
     "output_type": "execute_result"
    }
   ],
   "source": [
    "json.dumps(x, indent=4, sort_keys=True)"
   ]
  },
  {
   "cell_type": "code",
   "execution_count": 520,
   "metadata": {},
   "outputs": [
    {
     "data": {
      "text/plain": [
       "'{\"age\": 30, \"cars\": [{\"model\": \"BMW 230\", \"mpg\": 27.5}, {\"model\": \"Ford Edge\", \"mpg\": 24.1}], \"children\": [\"Ann\", \"Billy\"], \"divorced\": false, \"married\": true, \"name\": \"John\", \"pets\": null}'"
      ]
     },
     "execution_count": 520,
     "metadata": {},
     "output_type": "execute_result"
    }
   ],
   "source": [
    "json.dumps(x, sort_keys = True) #sorts according to the keys"
   ]
  },
  {
   "cell_type": "code",
   "execution_count": 521,
   "metadata": {},
   "outputs": [
    {
     "name": "stdout",
     "output_type": "stream",
     "text": [
      "Package                           Version\n",
      "--------------------------------- ---------------\n",
      "absl-py                           2.0.0\n",
      "alabaster                         0.7.12\n",
      "anaconda-client                   1.11.2\n",
      "anaconda-navigator                2.4.0\n",
      "anaconda-project                  0.11.1\n",
      "anyio                             3.5.0\n",
      "appdirs                           1.4.4\n",
      "argon2-cffi                       21.3.0\n",
      "argon2-cffi-bindings              21.2.0\n",
      "arrow                             1.2.3\n",
      "astroid                           2.14.2\n",
      "astropy                           5.1\n",
      "asttokens                         2.0.5\n",
      "astunparse                        1.6.3\n",
      "atomicwrites                      1.4.0\n",
      "attrs                             22.1.0\n",
      "Automat                           20.2.0\n",
      "autopep8                          1.6.0\n",
      "Babel                             2.11.0\n",
      "backcall                          0.2.0\n",
      "backports.functools-lru-cache     1.6.4\n",
      "backports.tempfile                1.0\n",
      "backports.weakref                 1.0.post1\n",
      "bcrypt                            3.2.0\n",
      "beautifulsoup4                    4.11.1\n",
      "binaryornot                       0.4.4\n",
      "biopython                         1.83\n",
      "black                             22.6.0\n",
      "bleach                            4.1.0\n",
      "bokeh                             2.4.3\n",
      "boltons                           23.0.0\n",
      "Bottleneck                        1.3.5\n",
      "brotlipy                          0.7.0\n",
      "cachetools                        5.3.2\n",
      "certifi                           2022.12.7\n",
      "cffi                              1.15.1\n",
      "cftime                            1.6.3\n",
      "chardet                           4.0.0\n",
      "charset-normalizer                2.0.4\n",
      "click                             8.0.4\n",
      "cloudpickle                       2.0.0\n",
      "clyent                            1.2.2\n",
      "colorama                          0.4.6\n",
      "colorcet                          3.0.1\n",
      "comm                              0.1.2\n",
      "conda                             23.3.1\n",
      "conda-build                       3.24.0\n",
      "conda-content-trust               0.1.3\n",
      "conda-pack                        0.6.0\n",
      "conda-package-handling            2.0.2\n",
      "conda_package_streaming           0.7.0\n",
      "conda-repo-cli                    1.0.41\n",
      "conda-token                       0.4.0\n",
      "conda-verify                      3.4.2\n",
      "constantly                        15.1.0\n",
      "contourpy                         1.0.5\n",
      "cookiecutter                      1.7.3\n",
      "cryptography                      39.0.1\n",
      "cssselect                         1.1.0\n",
      "cycler                            0.11.0\n",
      "cytoolz                           0.12.0\n",
      "daal4py                           2023.0.2\n",
      "dask                              2022.7.0\n",
      "datashader                        0.14.4\n",
      "datashape                         0.5.4\n",
      "debugpy                           1.5.1\n",
      "decorator                         5.1.1\n",
      "defusedxml                        0.7.1\n",
      "deprecation                       2.1.0\n",
      "diff-match-patch                  20200713\n",
      "dill                              0.3.6\n",
      "distributed                       2022.7.0\n",
      "dm-tree                           0.1.8\n",
      "docstring-to-markdown             0.11\n",
      "docutils                          0.18.1\n",
      "domdf-python-tools                3.8.0.post2\n",
      "entrypoints                       0.4\n",
      "enum-tools                        0.11.0\n",
      "et-xmlfile                        1.1.0\n",
      "executing                         0.8.3\n",
      "fastjsonschema                    2.16.2\n",
      "filelock                          3.9.0\n",
      "findspark                         2.0.1\n",
      "flake8                            6.0.0\n",
      "Flask                             2.2.2\n",
      "flatbuffers                       23.5.26\n",
      "flit_core                         3.6.0\n",
      "fonttools                         4.25.0\n",
      "fsspec                            2022.11.0\n",
      "future                            0.18.3\n",
      "gast                              0.5.4\n",
      "gensim                            4.3.0\n",
      "glob2                             0.7\n",
      "google-auth                       2.25.2\n",
      "google-auth-oauthlib              1.2.0\n",
      "google-pasta                      0.2.0\n",
      "greenlet                          2.0.1\n",
      "grpcio                            1.60.0\n",
      "h5py                              3.7.0\n",
      "HeapDict                          1.0.1\n",
      "holoviews                         1.15.4\n",
      "huggingface-hub                   0.10.1\n",
      "hvplot                            0.8.2\n",
      "hyperlink                         21.0.0\n",
      "idna                              3.4\n",
      "imagecodecs                       2021.8.26\n",
      "imageio                           2.26.0\n",
      "imagesize                         1.4.1\n",
      "imbalanced-learn                  0.10.1\n",
      "importlib-metadata                4.11.3\n",
      "incremental                       21.3.0\n",
      "inflection                        0.5.1\n",
      "iniconfig                         1.1.1\n",
      "intake                            0.6.7\n",
      "intervaltree                      3.1.0\n",
      "ipykernel                         6.19.2\n",
      "ipython                           8.10.0\n",
      "ipython-genutils                  0.2.0\n",
      "ipywidgets                        7.6.5\n",
      "isort                             5.9.3\n",
      "itemadapter                       0.3.0\n",
      "itemloaders                       1.0.4\n",
      "itsdangerous                      2.0.1\n",
      "jedi                              0.18.1\n",
      "jellyfish                         0.9.0\n",
      "Jinja2                            3.1.2\n",
      "jinja2-time                       0.2.0\n",
      "jmespath                          0.10.0\n",
      "joblib                            1.1.1\n",
      "json5                             0.9.6\n",
      "jsonpatch                         1.32\n",
      "jsonpointer                       2.1\n",
      "jsonschema                        4.17.3\n",
      "jupyter                           1.0.0\n",
      "jupyter_client                    7.3.4\n",
      "jupyter-console                   6.6.2\n",
      "jupyter-contrib-core              0.4.2\n",
      "jupyter-contrib-nbextensions      0.7.0\n",
      "jupyter_core                      5.2.0\n",
      "jupyter-highlight-selected-word   0.2.0\n",
      "jupyter-nbextensions-configurator 0.6.3\n",
      "jupyter-server                    1.23.4\n",
      "jupyterlab                        3.5.3\n",
      "jupyterlab-pygments               0.1.2\n",
      "jupyterlab_server                 2.19.0\n",
      "jupyterlab-widgets                1.0.0\n",
      "keras                             3.0.1\n",
      "keyring                           23.4.0\n",
      "kiwisolver                        1.4.4\n",
      "lazy-object-proxy                 1.6.0\n",
      "libarchive-c                      2.9\n",
      "libclang                          16.0.6\n",
      "llvmlite                          0.39.1\n",
      "locket                            1.0.0\n",
      "lxml                              4.9.1\n",
      "lz4                               3.1.3\n",
      "Markdown                          3.4.1\n",
      "markdown-it-py                    3.0.0\n",
      "MarkupSafe                        2.1.1\n",
      "matplotlib                        3.7.0\n",
      "matplotlib-inline                 0.1.6\n",
      "mccabe                            0.7.0\n",
      "mdurl                             0.1.2\n",
      "menuinst                          1.4.19\n",
      "mistune                           0.8.4\n",
      "mkl-fft                           1.3.1\n",
      "mkl-random                        1.2.2\n",
      "mkl-service                       2.4.0\n",
      "ml-dtypes                         0.2.0\n",
      "mock                              4.0.3\n",
      "mpmath                            1.2.1\n",
      "msgpack                           1.0.3\n",
      "multipledispatch                  0.6.0\n",
      "munkres                           1.1.4\n",
      "mypy-extensions                   0.4.3\n",
      "namex                             0.0.7\n",
      "natsort                           8.4.0\n",
      "navigator-updater                 0.3.0\n",
      "nbclassic                         0.5.2\n",
      "nbclient                          0.5.13\n",
      "nbconvert                         6.5.4\n",
      "nbformat                          5.7.0\n",
      "nest-asyncio                      1.5.6\n",
      "netCDF4                           1.6.5\n",
      "networkx                          2.8.4\n",
      "nltk                              3.7\n",
      "notebook                          6.5.2\n",
      "notebook_shim                     0.2.2\n",
      "numba                             0.56.4\n",
      "numexpr                           2.8.4\n",
      "numpy                             1.23.5\n",
      "numpydoc                          1.5.0\n",
      "oauthlib                          3.2.2\n",
      "opencv-python                     4.9.0.80\n",
      "openpyxl                          3.0.10\n",
      "opt-einsum                        3.3.0\n",
      "packaging                         22.0\n",
      "pandas                            1.5.3\n",
      "pandocfilters                     1.5.0\n",
      "panel                             0.14.3\n",
      "param                             1.12.3\n",
      "paramiko                          2.8.1\n",
      "parsel                            1.6.0\n",
      "parso                             0.8.3\n",
      "partd                             1.2.0\n",
      "pathlib                           1.0.1\n",
      "pathspec                          0.10.3\n",
      "patsy                             0.5.3\n",
      "pep8                              1.7.1\n",
      "pexpect                           4.8.0\n",
      "pickleshare                       0.7.5\n",
      "Pillow                            9.4.0\n",
      "pip                               22.3.1\n",
      "pkginfo                           1.9.6\n",
      "platformdirs                      2.5.2\n",
      "plotly                            5.9.0\n",
      "pluggy                            1.0.0\n",
      "ply                               3.11\n",
      "pooch                             1.4.0\n",
      "poyo                              0.5.0\n",
      "prometheus-client                 0.14.1\n",
      "prompt-toolkit                    3.0.36\n",
      "Protego                           0.1.16\n",
      "protobuf                          4.23.4\n",
      "psutil                            5.9.0\n",
      "ptyprocess                        0.7.0\n",
      "pure-eval                         0.2.2\n",
      "py                                1.11.0\n",
      "py4j                              0.10.9.7\n",
      "pyasn1                            0.4.8\n",
      "pyasn1-modules                    0.2.8\n",
      "pycodestyle                       2.10.0\n",
      "pycosat                           0.6.4\n",
      "pycparser                         2.21\n",
      "pyct                              0.5.0\n",
      "pycurl                            7.45.1\n",
      "PyDispatcher                      2.0.5\n",
      "pydocstyle                        6.3.0\n",
      "pyerfa                            2.0.0\n",
      "pyflakes                          3.0.1\n",
      "Pygments                          2.17.2\n",
      "PyHamcrest                        2.0.2\n",
      "PyJWT                             2.4.0\n",
      "pylint                            2.16.2\n",
      "pylint-venv                       2.3.0\n",
      "pyls-spyder                       0.4.0\n",
      "PyMassSpec                        2.3.0\n",
      "pymzml                            2.5.2\n",
      "PyNaCl                            1.5.0\n",
      "pyodbc                            4.0.34\n",
      "pyOpenSSL                         23.0.0\n",
      "pyparsing                         3.0.9\n",
      "PyQt5                             5.15.7\n",
      "PyQt5-sip                         12.11.0\n",
      "PyQtWebEngine                     5.15.4\n",
      "pyrsistent                        0.18.0\n",
      "PySocks                           1.7.1\n",
      "pyspark                           3.5.0\n",
      "pytest                            7.1.2\n",
      "python-dateutil                   2.8.2\n",
      "python-lsp-black                  1.2.1\n",
      "python-lsp-jsonrpc                1.0.0\n",
      "python-lsp-server                 1.7.1\n",
      "python-slugify                    5.0.2\n",
      "python-snappy                     0.6.1\n",
      "pytoolconfig                      1.2.5\n",
      "pytz                              2022.7\n",
      "pyviz-comms                       2.0.2\n",
      "PyWavelets                        1.4.1\n",
      "pywin32                           305.1\n",
      "pywin32-ctypes                    0.2.0\n",
      "pywinpty                          2.0.10\n",
      "PyYAML                            6.0\n",
      "pyzmq                             23.2.0\n",
      "QDarkStyle                        3.0.2\n",
      "qstylizer                         0.2.2\n",
      "QtAwesome                         1.2.2\n",
      "qtconsole                         5.4.0\n",
      "QtPy                              2.2.0\n",
      "queuelib                          1.5.0\n",
      "regex                             2022.7.9\n",
      "requests                          2.28.1\n",
      "requests-file                     1.5.1\n",
      "requests-oauthlib                 1.3.1\n",
      "requests-toolbelt                 0.9.1\n",
      "rich                              13.7.0\n",
      "rope                              1.7.0\n",
      "rsa                               4.9\n",
      "Rtree                             1.0.1\n",
      "ruamel.yaml                       0.17.21\n",
      "ruamel.yaml.clib                  0.2.6\n",
      "ruamel-yaml-conda                 0.17.21\n",
      "scikit-image                      0.19.3\n",
      "scikit-learn                      1.2.1\n",
      "scikit-learn-intelex              20230228.214818\n",
      "scipy                             1.10.0\n",
      "Scrapy                            2.8.0\n",
      "sdjson                            0.4.0\n",
      "seaborn                           0.12.2\n",
      "Send2Trash                        1.8.0\n",
      "service-identity                  18.1.0\n",
      "setuptools                        65.6.3\n",
      "sip                               6.6.2\n",
      "six                               1.16.0\n",
      "smart-open                        5.2.1\n",
      "sniffio                           1.2.0\n",
      "snowballstemmer                   2.2.0\n",
      "sortedcontainers                  2.4.0\n",
      "soupsieve                         2.3.2.post1\n",
      "spark                             0.2.1\n",
      "Sphinx                            5.0.2\n",
      "sphinxcontrib-applehelp           1.0.2\n",
      "sphinxcontrib-devhelp             1.0.2\n",
      "sphinxcontrib-htmlhelp            2.0.0\n",
      "sphinxcontrib-jsmath              1.0.1\n",
      "sphinxcontrib-qthelp              1.0.3\n",
      "sphinxcontrib-serializinghtml     1.1.5\n",
      "spyder                            5.4.1\n",
      "spyder-kernels                    2.4.1\n",
      "SQLAlchemy                        1.4.39\n",
      "stack-data                        0.2.0\n",
      "statsmodels                       0.13.5\n",
      "sympy                             1.11.1\n",
      "tables                            3.7.0\n",
      "tabulate                          0.8.10\n",
      "TBB                               0.2\n",
      "tblib                             1.7.0\n",
      "tenacity                          8.0.1\n",
      "tensorboard                       2.15.1\n",
      "tensorboard-data-server           0.7.2\n",
      "tensorflow                        2.15.0\n",
      "tensorflow-estimator              2.15.0\n",
      "tensorflow-intel                  2.15.0\n",
      "tensorflow-io-gcs-filesystem      0.31.0\n",
      "termcolor                         2.4.0\n",
      "terminado                         0.17.1\n",
      "text-unidecode                    1.3\n",
      "textdistance                      4.2.1\n",
      "threadpoolctl                     2.2.0\n",
      "three-merge                       0.1.1\n",
      "tifffile                          2021.7.2\n",
      "tinycss2                          1.2.1\n",
      "tldextract                        3.2.0\n",
      "tokenizers                        0.11.4\n",
      "toml                              0.10.2\n",
      "tomli                             2.0.1\n",
      "tomlkit                           0.11.1\n",
      "toolz                             0.12.0\n",
      "torch                             1.12.1\n",
      "tornado                           6.1\n",
      "tqdm                              4.64.1\n",
      "traitlets                         5.7.1\n",
      "transformers                      4.24.0\n",
      "Twisted                           22.2.0\n",
      "twisted-iocpsupport               1.0.2\n",
      "typing_extensions                 4.4.0\n",
      "ujson                             5.4.0\n",
      "Unidecode                         1.2.0\n",
      "urllib3                           1.26.14\n",
      "w3lib                             1.21.0\n",
      "watchdog                          2.1.6\n",
      "wcwidth                           0.2.5\n",
      "webencodings                      0.5.1\n",
      "websocket-client                  0.58.0\n",
      "Werkzeug                          2.2.2\n",
      "whatthepatch                      1.0.2\n",
      "wheel                             0.38.4\n",
      "widgetsnbextension                3.5.2\n",
      "win-inet-pton                     1.1.0\n",
      "wincertstore                      0.2\n",
      "wrapt                             1.14.1\n",
      "xarray                            2022.11.0\n",
      "xlwings                           0.29.1\n",
      "yapf                              0.31.0\n",
      "zict                              2.1.0\n",
      "zipp                              3.11.0\n",
      "zope.interface                    5.4.0\n",
      "zstandard                         0.19.0\n"
     ]
    }
   ],
   "source": [
    "!pip list"
   ]
  },
  {
   "cell_type": "code",
   "execution_count": 544,
   "metadata": {},
   "outputs": [
    {
     "name": "stdout",
     "output_type": "stream",
     "text": [
      "2\n"
     ]
    }
   ],
   "source": [
    "x = [2, 4, 5, 69 , 76 , 34]\n",
    "try:\n",
    "    myitr = iter(x) \n",
    "    print(next(myitr))\n",
    "except:\n",
    "    print(\"exception occured \")"
   ]
  },
  {
   "cell_type": "code",
   "execution_count": 545,
   "metadata": {},
   "outputs": [
    {
     "ename": "Exception",
     "evalue": "Sorry, no numbers below zero",
     "output_type": "error",
     "traceback": [
      "\u001b[1;31m---------------------------------------------------------------------------\u001b[0m",
      "\u001b[1;31mException\u001b[0m                                 Traceback (most recent call last)",
      "Cell \u001b[1;32mIn[545], line 4\u001b[0m\n\u001b[0;32m      1\u001b[0m x \u001b[38;5;241m=\u001b[39m \u001b[38;5;241m-\u001b[39m\u001b[38;5;241m1\u001b[39m\n\u001b[0;32m      3\u001b[0m \u001b[38;5;28;01mif\u001b[39;00m x \u001b[38;5;241m<\u001b[39m \u001b[38;5;241m0\u001b[39m:\n\u001b[1;32m----> 4\u001b[0m   \u001b[38;5;28;01mraise\u001b[39;00m \u001b[38;5;167;01mException\u001b[39;00m(\u001b[38;5;124m\"\u001b[39m\u001b[38;5;124mSorry, no numbers below zero\u001b[39m\u001b[38;5;124m\"\u001b[39m)\n",
      "\u001b[1;31mException\u001b[0m: Sorry, no numbers below zero"
     ]
    }
   ],
   "source": [
    "x = -1\n",
    "\n",
    "if x < 0:\n",
    "  raise Exception(\"Sorry, no numbers below zero\")"
   ]
  },
  {
   "cell_type": "code",
   "execution_count": 546,
   "metadata": {},
   "outputs": [
    {
     "name": "stdout",
     "output_type": "stream",
     "text": [
      "I want to order 3 of 567 at the rate of 49\n"
     ]
    }
   ],
   "source": [
    "quntity = 3\n",
    "itemno = 567\n",
    "price = 49\n",
    "\n",
    "myorder = \"I want to order {} of {} at the rate of {}\"\n",
    "print(myorder.format(quntity, itemno, price))"
   ]
  },
  {
   "cell_type": "code",
   "execution_count": 547,
   "metadata": {},
   "outputs": [],
   "source": [
    "L = [1, 2, 3]"
   ]
  },
  {
   "cell_type": "code",
   "execution_count": 548,
   "metadata": {},
   "outputs": [],
   "source": [
    "L.remove(2)"
   ]
  },
  {
   "cell_type": "code",
   "execution_count": 549,
   "metadata": {},
   "outputs": [
    {
     "data": {
      "text/plain": [
       "[1, 3]"
      ]
     },
     "execution_count": 549,
     "metadata": {},
     "output_type": "execute_result"
    }
   ],
   "source": [
    "L"
   ]
  },
  {
   "cell_type": "code",
   "execution_count": 540,
   "metadata": {},
   "outputs": [],
   "source": [
    "L.append(2)"
   ]
  },
  {
   "cell_type": "code",
   "execution_count": 550,
   "metadata": {},
   "outputs": [
    {
     "data": {
      "text/plain": [
       "[1, 3]"
      ]
     },
     "execution_count": 550,
     "metadata": {},
     "output_type": "execute_result"
    }
   ],
   "source": [
    "L"
   ]
  },
  {
   "cell_type": "code",
   "execution_count": 551,
   "metadata": {},
   "outputs": [],
   "source": [
    "from itertools import combinations"
   ]
  },
  {
   "cell_type": "code",
   "execution_count": 552,
   "metadata": {},
   "outputs": [],
   "source": [
    "from alabaster import support"
   ]
  },
  {
   "cell_type": "code",
   "execution_count": 553,
   "metadata": {},
   "outputs": [],
   "source": [
    "*Warning?"
   ]
  },
  {
   "cell_type": "code",
   "execution_count": 554,
   "metadata": {},
   "outputs": [
    {
     "name": "stdout",
     "output_type": "stream",
     "text": [
      "382 µs ± 1.82 µs per loop (mean ± std. dev. of 7 runs, 1,000 loops each)\n"
     ]
    }
   ],
   "source": [
    "%timeit L = [n**2 for n in range(1000)]"
   ]
  },
  {
   "cell_type": "code",
   "execution_count": 555,
   "metadata": {},
   "outputs": [],
   "source": [
    "%magic"
   ]
  },
  {
   "cell_type": "code",
   "execution_count": 556,
   "metadata": {},
   "outputs": [
    {
     "data": {
      "text/plain": [
       "-0.9429588049620227"
      ]
     },
     "execution_count": 556,
     "metadata": {},
     "output_type": "execute_result"
    }
   ],
   "source": [
    "import math\n",
    "math.sin(80.45)"
   ]
  },
  {
   "cell_type": "code",
   "execution_count": 557,
   "metadata": {},
   "outputs": [
    {
     "name": "stdout",
     "output_type": "stream",
     "text": [
      "['', 'dict ={\"name\": \"Kalyan\", \"surname\" :\"Srivastava\", \"title\" : \"Dr.\"}', 'dict', 'dict[1]', 'dict$name', \"dict['name']\", 'dict[\\'City\\'] = \"Salt Lake City\"', 'dict', 'dict[\\'City\\'] = \"Day Break UT\"', 'dict', 'type(dict)', 'x = {\"apple\", \"banana\", \"cherry\"}\\ntype(x)', 'x', 'x = True\\ntype(x)', 'x = b\"Hello\"\\ntype(x)', 'x', 'x = bytearray(5)\\ntype(x)', 'x', 'x = memoryview(bytes(5))\\ntype(x)', 'x', 'x = None\\ntype(x)', 'x #Run this an it returns blank', 'x= [\"Aplle\", \"Banana\", \"Cherry\"]\\ntype(x)', 'x = tuple(x)\\ntype(x)\\n#No need to write like as.character or as.tuple like R programming', 'x', 'x = 1', 'y = 2.0', 'z = 3j', 'type(x)', 'type(y)', 'type(z)', 'type(x,y,z)', 'x,y,z = 1, 2.0, 3j', 'y', 'z', 'type(z)', 'x = 45e3', 'x', 'type(x)', 'y = -34e5', 'y', 'type(y)', 'z = 45je4', 'z = 45e4', 'z = complex(z)', 'z', 'import random\\nx = random.randrange(1,4)\\ntype(x)', 'x #Will change each time it is run', 'a = \"Hello World\"\\na[1]', 'import random\\nx = random.randrange(1,6)\\ntype(x)', 'import random\\nx = random.randrange(1,6)\\ntype(x)', 'x #Will change each time it is run', 'x #Will change each time it is run', 'x #Will change each time it is run', 'a = \"Hello World\"\\na[1]', 'a[0]', 'for x in \"banana\":\\n  print(x)', 'x[0],x[2],x[5] = \"X\", \"H\", \"Ha\"', 'len(x)', 'b = \"Hello World\"\\nlen(b)', 'txt = \"Best in the life are free\"\\nprint(\"free\" in txt)', 'txt.find(\"free\")# Finds the location where free is situated', 'if \"free\" in txt:\\n    print(\"Found the best thing in the life\")', 'if txt.find(\"free\") == True:\\n    global s\\n    s = \"Found the best thing in the life\"\\n    print(s)', 'print(\"expensive\" not in txt)', 'txt = \"Best in the life are free\"\\nprint(\"free\" in txt)', 'txt.find(\"free\")# Finds the location where free is situated', 'if \"free\" in txt:\\n    print(\"Found the best thing in the life\")', 'if txt.find(\"free\") == True:\\n    global s\\n    s = \"Found the best thing in the life\"\\n    print(s)', 'print(\"expensive\" not in txt)', 'txt = \"The best things in life are free!\"\\nif \"expensive\" not in txt:\\n  print(\"No, \\'expensive\\' is NOT present.\")', 'txt = \"The best things in life are free!\"\\nif \"expensive\" not in txt:\\n  print(\"No, \\'expensive\\' is NOT present.\")', 'b = \"Hello World\"\\nb[2:5]', 'b[:5]', 'b[0:5]', 'b[:-5]', 'b[-5:]', 'b[:4]', 'b[:-4]', 'b[-4:]', 'b[-5:-3]', 'b[5]', 'b.upper()', 'b.lower()', 'a = \"  Hello World\"\\na', 'a.strip()', 'b.replace(\"H\", \"x\")', 'b', 'b.replace(\"H\", \"Sh\")', 'b.split()', '(a.strip()).split()', 'b.split(\"o\")', 'a,b = b.split()', 'a', 'c = a +b\\nprint(c)', 'c = a + \"\\\\t\" + b', 'print(c)', 'txt = \"I  am Kalyan, I am {}\"\\nage = 45', 'print(txt + age)', 'print(txt .format(age))', 'quantity = 3\\nprice = 45\\nprint(\"if you buy {} items you pay {}\" .format(quantity, price))', 'quantity = 3\\nprice = 45\\nitem = 32\\nprint(\"if you buy {0} of item number {2} you pay {1}\" .format(quantity, price, item))', 'txt = \"We are the so-called \"Vikings\" from the north.\"\\nprint(txt)', 'txt = \"We are the so-called \\\\\"Vikings\\\\\" from the north.\"\\nprint(txt)', 'b = \"hello world\"\\nb.capitalize()', '(b.split()).capitalize()', '(b.capitalize()).casefold() #First capitalize than change the case', 'b.center(\"H\")', 'b.count(\"o\") # o occurs two times', 'b.encode()', 'b.endswith(\"d\")', 'b.endswith(\"D\")', 'b.expandtabs(5)', 'b.find(\"world\")', 'b.index(\"l\")', 'b.isalnum()', 'b.isalpha()', 'b.isdecimal()', 'b.isdigit()', 'b.isidentifier()', 'b.islower()', 'b.isnumeric()', 'b.isprintable()', 'b.isspace()', 'b.istitle()', 'b.isupper()', 'b.join(\"K\") #Dont know what this is doing', 'b', 'b.ljust(\"e\")', 'b.lower()', 'b.upper()', 'b.lstrip()', 'b.maketrans(\"X\")', 'b.partition(\"w\")', 'b.replace(\"h\", \"x\")', 'b.replace(\" \", \"~\")', 'b.rfind(\"t\")', 'b.rfind(\"rl\")', 'b.rindex(\"rl\")', 'b.rjust(4)', 'b.rpartition(\"e\")', 'b.rsplit(\"ll\")', 'b.split(\"w\")', 'b.splitlines(2)', 'b.startswith(\"h\")', 'b.startswith(\">\") #is important for a fasta file', 'b.strip(\"o\")', 'b.swapcase()', '(b.capitalize()).swapcase()', 'b.title()', '(b.title()).swapcase()', 'b.translate(\"e\")', 'b.zfill(1)', 'print(10 >3)', 'print(10 <3)', 'print(10 == 3)', 'bool(\"Hello\")', 'bool(\"Hello\" == \"Yellow\")', 'x = \"Hello\"\\nbool(x)', 'y = \"Yellow\"\\nbool(x == y)', 'bool(False)', 'bool(0)', 'bool(\"\")', 'def myfunction():\\n    return True\\nif myfunction():\\n    print(\"Yes\")\\nelse :\\n    print(\"No\")', 'x = 200\\nisinstance(x, int)', 'x = 200\\nisinstance(x, str)', 'x = 5\\nx +=3\\nx', 'x = 5\\nx -=3\\nx', 'x = 5\\nx *=3\\nx', 'x = 5\\nx **=3\\nx', 'x = 5\\nx /=3\\nx', 'x = 5\\nx %=3\\nx', 'x = 5\\nx //3\\nx', 'x = 5\\nx &=3\\nx', 'x = 5\\nx |=3\\nx', 'x = 5\\nx ^=3\\nx', 'x = 5\\nx >>=3\\nx', 'x = 5\\nx <<=3\\nx', 'thislist = [\"apple\", \"banana\", \"cherry\"]', 'print(thislist)', 'len(thislist)', 'list1 = [\"abc\", 34, True, \"Male\", 40]', 'list1[0]', 'thislist = list((\"apple\", \"banana\", \"cherry\")) #Using list function to create a list', 'thislist[0]', 'thislist[2:3]', 'list1[1]', 'list1[-1]', 'list1[:2]', 'list1[:-2]', 'list1[:-3]', 'list1[-3:-2]', 'list1[-3:-1]', 'list1.append(\"Scooter\")', 'list1', 'list1[-3:2]', 'list1[4:]', 'list1[-2:-1]', 'if \"Male\" in list1:\\n    print(\"Yes here it is\")', 'list1[1] = 35', 'list1', 'list1.insert(2, \"Apricot\")', 'list1', 'thislist.extend(list1)', 'thislist', 'type(thislist)', 'thislist.remove(\"Apricot\")', 'thislist #Apricot gone', 'list1.insert(3, \"Apricot\")', 'list1', 'list1.remove(\"Apricot\")', 'list1', 'thislist.pop(5)', 'thislist #remove 5th item which is apricot', 'thatlist = thislist.copy', 'thatlist', 'thatlist.clear()', 'thatlist', 'import sys\\nstdout = sys.stdout\\n\\n# some functions that mess up sys.stdout\\n\\nsys.stdout = stdout', 'for x in thislist:\\n    print(x)', 'for i in range(len(thislist)):\\n    print(thislist[i])', 'i = 0 \\nwhile i < len(thislist):\\n    print(thislist[i])\\n    i += 1', '[print(x) for x in thislist]', 'list2 = [\"abc\", \"Friend\", \"Male\", \"Forty\"]\\nnewlist = []\\nfor x in list2:\\n    if \"e\" in x:\\n        newlist.append(x)\\nprint(newlist)\\n    ', 'fruits = [\"apple\", \"banana\", \"cherry\", \"kiwi\", \"mango\"]\\nnewlist = [x for x in fruits if \"a\" in x]\\nprint(newlist)', 'numberlist = [1,3,4,7,8,77,6,55,45]\\n\\nnewlist = [x for x in numberlist if 4 in x]', 'newlist = [x for x in fruits if \"apple\" in x]\\nnewlist', 'newlist = [x for x in fruits if x != \"apple\"]\\nnewlist', '[x for x in fruits]', 'numberlist = [1,3,4,7,8,77,6,55,45]\\nnewnumberlist = [x for x in numberlist if x < 17]\\nnewnumberlist', 'newlist = [x.capitalize() for x in fruits if \"e\" in x]\\nnewlist', 'newlist = [x.find(\"go\") for x in fruits]\\nnewlist', 'fruits.sort()\\nfruits', 'numberlist.sort()\\nnumberlist', 'fruits = [\"apple\", \"banana\", \"cherry\", \"kiwi\", \"mango\"]\\nfruits.sort(reverse = True)\\nfruits', 'numberlist = [1,3,4,7,8,77,6,55,45]\\ndef myfunc(n):\\n    return abs(n-50)\\nnumberlist.sort(key = myfunc)\\nnumberlist', \"fruits = ['apple', 'Banana', 'cherry', 'Kiwi', 'mango']\\nfruits.sort()\\nfruits\", \"fruits = ['apple', 'Banana', 'cherry', 'Kiwi', 'mango']\\nfruits.sort(key = str.lower)\\nfruits\", 'basket = fruits.copy()\\nbasket.append(\"Apricot\")\\nbasket', \"numberlist = [1,3,4,7,8,77,6,55,45]\\nfruits = ['apple', 'Banana', 'cherry', 'Kiwi', 'mango']\\ncomplexList = numberlist + fruits\\ncomplexList\", \"fruits = ['apple', 'Banana', 'cherry', 'Kiwi', 'mango']\\nsweets = ['candy', 'cubes', 'chocos']\\nfor x in fruits:\\n    sweets.append(x)\\nprint(sweets)\", 'list1 = [\"a\", \"b\" , \"c\"]\\nlist2 = [1, 2, 3]\\n\\nfor x in list2:\\n  list1.append(x)\\n\\nprint(list1)', 'fruits.extend(sweets)\\nfruits', 'fruits.clear()\\nfruits', \"fruits = ['apple', 'Banana', 'cherry', 'Kiwi', 'mango']\\nnewfruit = fruits.copy()\\nnewfruit\", 'fruits.count(\"apple\")', \"roots = ['carrot', 'horseradish', 'turnip']\\nfruits.extend(roots)\\nfruits\", 'roots.index(\"carrot\") ', 'roots.index(\"carrot\") + fruits.index(\"cherry\")', 'roots.insert(3, \"turmeric\")\\nroots', 'roots.pop(3)', 'roots', 'roots.reverse()', 'roots', 'roots.sort()', 'roots', '#Tuples are unchangeable, meaning that we cannot change, add or remove items after the tuple has been created. Tuples are used to store multiple items in a single variable. Tuple is one of 4 built-in data types in Python used to store collections of data, the other 3 are List, Set, and Dictionary, all with different qualities and usage.', 'thistuple = (\"apple\", \"banana\", \"cherry\")\\nprint(thistuple)', 'thistuple = (\"apple\", \"banana\", \"cherry\", \"apple\", \"cherry\")\\nprint(thistuple) #Allow duplicates', 'len(thistuple)', 'thistuple = (\"apple\")\\ntype(thistuple)', 'thistuple = (\"apple\",)\\ntype(thistuple) #You  need a comma for a single item tuple', 'mytuple = (\"abc\", 34, True, \"male\", 40)\\ntype(mytuple)', 'mytuple = tuple([\"abc\", 34, True, \"male\", 40])\\ntype(mytuple)', 'thistuple = (\"apple\", \"banana\", \"cherry\", \"orange\", \"kiwi\", \"melon\", \"mango\")\\nprint(thistuple[1])', 'thistuple[1:3]', 'thistuple[:3]', 'thistuple[:-3]', 'thistuple[2:-3]', 'if \"apple\" in thistuple:\\n    print(\"Yes\")', 'x = list(thistuple)\\nx.append(\"Raspberry\")\\ny = tuple(x)\\ntype(y)', 'y', 'thistuple = tuple(y)\\ntuple(thistuple)', '#You are allowed to add tuples to tuples, \\ny += thistuple\\ny', 'd = list(y)\\nd.remove(\"banana\")\\ny = tuple(d)\\ny', 'del y\\ny', 'thistuple = (\"apple\", \"banana\", \"cherry\", \"orange\", \"kiwi\", \"melon\", \"mango\")\\n(a, b, c, d, e, f ,g) = thistuple\\na', 'a + f', 'a + \" \"+ f', 'fruits = (\"apple\", \"mango\", \"papaya\", \"pineapple\", \"cherry\")\\n\\n(green, *tropic, red) = fruits\\n\\nprint(green)\\nprint(tropic)\\nprint(red)\\n#???', 'for x in fruits:\\n    print(x)', 'fruits = (\"apple\", \"mango\", \"papaya\", \"pineapple\", \"cherry\")\\nnewtuple = [x for x in fruits if \"a\" in x]\\nnewtuple', 'type(newtuple)', 'newtuple = tuple(newtuple)', 'type(newtuple)', 'type(fruits)', 'fruits = (\"apple\", \"mango\", \"papaya\", \"pineapple\", \"cherry\")\\nfor i in range(len(fruits)):\\n    print(fruits[i])', 'i = 0\\nwhile i < len(fruits):\\n    print(fruits[i])\\n    i +=1', 'numberTup = (1, 2, 3, 4)', 'fruits + numberTup', 'numberTup *2', 'fruits.find(\"apple\")', 'fruits.count(\"apple\")', 'fruits.index(\"apple\")', '#Sets are used to store multiple items in a single variable.\\n\\n#Set is one of 4 built-in data types in Python used to store collections of data, the other 3 are List, Tuple, and Dictionary, all with different qualities and usage.\\n\\n#A set is a collection which is unordered, unchangeable*, and unindexed.\\n\\nthisset = {\"apple\", \"banana\", \"cherry\"}\\nprint(thisset)', '#Duplicate values will be ignored\\nthisset = {\"apple\", \"banana\", \"cherry\", \"cherry\"}\\nprint(thisset)', 'len(thisset)', 'thisset = {\"abc\", 34, True, 40, \"Male\"}\\nthisset', 'x = [\"abc\", 34, True, 40, \"Male\"]', 'y = set(x)', 'y', 'for x in y:\\n    print(x)', '\"Male\" in y', 'z = list(y)', 'z', 'z.append(\"Life\")', 'z', 'y = set(z)', 'y', 'thisset = {\"apple\", \"banana\", \"cherry\", \"cherry\"}\\nthisset.add(\"Raspberry\")\\nthisset', 'thatset = {\"Parrot\", \"Zenga\"}', 'thisset + thatset', 'thisset.update(thatset)', 'thisset', 'thisset.remove(\"cherry\")', 'thisset', 'thisset = {\"apple\", \"banana\", \"cherry\", \"cherry\"}\\nthisset.pop()', 'thisset', 'thisset = {\"apple\", \"banana\", \"cherry\", \"cherry\"}\\nnewset = [x for x in thisset if \"e\" in x]\\nnewset', 'thatset = {\"Parrot\", \"Zenga\"}\\nthisset = {\"apple\", \"banana\", \"cherry\", \"cherry\"}\\nthisset.union(thatset) #Just combine and return not update', 'thisset.update(thatset)', 'thisset #update', 'thatset = {\"Parrot\", \"Zenga\", \"banana\", }\\nthisset = {\"apple\", \"banana\", \"cherry\", \"cherry\"}\\nthisset.intersection_update(thatset)#updated the set', 'thisset', 'thatset = {\"Parrot\", \"Zenga\", \"banana\", }\\nthisset = {\"apple\", \"banana\", \"cherry\", \"cherry\"}\\ny = thisset.intersection(thatset)', 'y', 'x = {\"apple\", \"banana\", \"cherry\"}\\ny = {\"google\", \"microsoft\", \"apple\"}\\n\\nx.symmetric_difference_update(y)\\n\\nprint(x)', 'x = {\"apple\", \"banana\", \"cherry\"}\\ny = {\"google\", \"microsoft\", \"apple\"}\\n\\nm = x.symmetric_difference(y)\\n\\nprint(m)', 'thisdict = {\"Name\" : \"Kalyan\",\\n           \"Age\" : 30,\\n           \"Place\" : \"Riverton\"}', 'thisdict', 'thisdict', 'thisdict[\"Name\"]', 'thisdict = {\"Name\" : \"Kalyan\",\\n           \"Age\" : 30,\\n           \"Place\" : \"Riverton\",\\n           \"Age\" : 34}', 'thisdict', 'len(thisdict)', 'y = thisdict[\"Name\"]', 'y', 'y = thisdict.get(\"Name\")', 'y', 'thisdict.keys()', 'car = {\\n\"brand\": \"Ford\",\\n\"model\": \"Mustang\",\\n\"year\": 1964\\n}\\n\\nx = car.keys()\\nprint(x)', 'car[\"year\"] = 1966', 'x = car.keys()', 'x', 'car', 'y = car.values()', 'y', 'car[\"color\"] = \"Red\" #Add a new entry', 'car', 'car.items()', 'z = car.items()\\nz', 'car', 'car.update({\"color\" : \"blue\"})', 'car.items()', 'car.update({\"MPG\" : 18})', 'car.items()', 'car.pop(\"MPG\")', 'car.items()', '#The popitem() method removes the last inserted item (in versions before 3.7, a random item is removed instead):', 'del car[\"color\"]', 'car', 'for x in thisdict:\\n    print(thisdict[x])', 'for x in thisdict.values():\\n    print(x)', 'for x, y in thisdict.items():\\n    print(x,y)', 'thatdict = thisdict.copy()\\nthatdict', 'child1 = {\\n  \"name\" : \"Emil\",\\n  \"year\" : 2004\\n}\\nchild2 = {\\n  \"name\" : \"Tobias\",\\n  \"year\" : 2007\\n}\\nchild3 = {\\n  \"name\" : \"Linus\",\\n  \"year\" : 2011\\n}\\n\\nmyfamily = {\\n  \"child1\" : child1,\\n  \"child2\" : child2,\\n  \"child3\" : child3\\n}', 'myfamily.items()', 'myfamily.keys()', 'myfamily[\"child1\"]', 'aDict = myfamily[\"child1\"]\\naDict[\"Race\"] = \"White\"', 'child1 = aDict ', 'myfamily', 'aDict = myfamily[\"child1\"]', 'aDict.pop(\"Race\")', 'child1 = aDict', 'myfamily', 'aDict.get(\"name\")', 'aDict.fromkeys(\"name\")', 'myfamily.fromkeys(\"child1\")', 'aDict.update({\"eye color\" : \"Hazel\"})', 'aDict', 'def myfunction():\\n    print(\"my Name is Kalyan\")', 'myfunction()', 'def myfunction(fname):\\n    print(fname)\\nmyfunction(\"Kalyan\")', 'def myfunction(fname, lname):\\n    print(fname, lname)\\nmyfunction(\"kalyan\", \"srivastava\")', 'def myfunction(*kids):\\n    print(\"my youngest kid is :\", kids[1])\\nmyfunction(\"Rishit\", \"Pritish\")', 'def myfunction(k2):\\n    print(\"The kids youngest:\", k2)\\nmyfunction(\"Pritish\")', 'fruits = [\"apple\", \"banana\", \"cherry\"]\\n\\ndef myfunction(jam):\\n    for x in jam:\\n        print(x)\\nmyfunction(fruits)', 'numList = [1,2,3,4]\\ndef myfunc(x):\\n    for y in x:\\n        print(y*y%2)\\nmyfunc(numList)', 'def tri_recursion(k):\\n  if(k > 0):\\n    result = k + tri_recursion(k - 1)\\n    print(result)\\n  else:\\n    result = 0\\n  return result\\n\\nprint(\"\\\\n\\\\nRecursion Example Results\")\\ntri_recursion(6)', 'x = lambda a : a + 10\\nx(34)', 'x = lambda a,b : a*b\\nx(12, 23)', 'import numpy\\n\\nspeed = [99,86,87,88,111,86,103,87,94,78,77,85,86]\\n\\nx = numpy.mean(speed)\\n\\nprint(x)', 'y = numpy.median(speed)\\ny', 'from scipy import stats\\nz = stats.mode(speed)\\nprint(z)', 'vr = numpy.var(speed)\\nvr', 'stdv = numpy.std(speed)\\nstdv', 'prctl = numpy.percentile(speed, 75)\\nprctl', 'import numpy\\nimport matplotlib.pyplot as plt\\n\\nx = numpy.random.normal(5.0, 1.0, 100000)\\n\\nplt.hist(x)', 'import matplotlib.pyplot as plt\\nx = [5,7,8,7,2,17,2,9,4,11,12,9,6]\\ny = [99,86,87,88,111,86,103,87,94,78,77,85,86]\\nplt.scatter(x,y)', 'from scipy import stats\\n\\nx = [5,7,8,7,2,17,2,9,4,11,12,9,6]\\ny = [99,86,87,88,111,86,103,87,94,78,77,85,86]\\n\\nslope, intercept, r, p, std_err = stats.linregress(x, y)\\n\\nprint(r)', 'stats.linregress(x,y)', 'print(p)', 'cars = [\"Ford\", \"Volvo\", \"BMW\"]\\ntype(cars)', 'cars[0]', 'for x in cars:\\n    print(x)', 'cars.append(\"Nissan\")', 'for x in cars:\\n    print(x)', 'vehicle = [\"Buick\", \"Ford\", \"Toyota\", \"Lincoln\"]', 'cars.extend(vehicle)', 'cars', 'cars.pop(2)', 'cars', 'ride = vehicle.copy()', 'ride', 'ride.clear()\\nride', 'cars.count(\"Nissan\")', 'cars.index(\"Ford\")', 'cars.insert(2, \"BMW\")', 'cars', 'cars.remove(\"Lincoln\")', 'cars', 'cars.reverse()', 'cars', 'cars.sort()', 'cars', 'cars_rev = cars.reverse()', 'cars_rev #Nothing assigned', 'cars', 'class MyClass:\\n    x = 5', 'p1 = MyClass', 'print(p1.x)', 'class MyClass:\\n    x = 5\\n    solvent = [\"H2O\", \"ether\", \"ethanol\", \"DMSO\", \"methanol\"]', 'p1 = MyClass\\nprint(p1.solvent[2])', 'print(type(p1.solvent[2]))', 'print(type(p1.x))', 'print(p1.solvent[2] * p1.x)', 'class Person:\\n    def __init__(self, name, age):\\n        self.name = name\\n        self.age = age\\n\\np1 = Person(\"John\", 46)', 'print(p1.name)', 'class Person:\\n    def __init__(self, name, age):\\n        self.name = name\\n        self.age = age\\n        \\n    def  myfunc(self):\\n        print(\"My name is \" + self.name)\\n    \\np1 = Person(\"John\", 46)\\n\\np1.myfunc()', 'class Person:\\n    def __init__(self, name, age):\\n        self.name = name\\n        self.age = age\\n        \\n    def myfunc(abc):\\n        print(\"the name is \" +abc.name)\\n        \\np1= Person(\"Kalyan\", 46)\\np1.myfunc()', 'p1.age', 'p1.age = 45', 'p1.age', 'del p1.age', 'p1.age', 'p1.age = 47', 'p1', 'p1.age', 'class Person:\\n    def __init__(self, fname, lname):\\n        self.firstname = fname\\n        self.lastname = lname\\n        \\n    def printname(self):\\n        print(self.firstname, self.lastname)\\n        \\nx = Person(\"Kalyan\", \"Srivastava\")\\n\\nx.printname()\\n        \\n        \\n    \\n    ', 'class Student(Person):\\n    pass', 'x = Student(\"Sandy\", \"Fergusson\")', 'x.printname()', 'class Student(Person):\\n    def __init__(self, fname, lname):\\n        #Anything', 'class Student(Person):\\n  def __init__(self, fname, lname):\\n    super().__init__(fname, lname)', 'class Student(Person):\\n    def __init__(self, fname, lname, year):\\n        super().__init__(fname, lname)\\n        self.graduationyear = year\\n        \\n    def printname(self):\\n        print(self.firstname, self.lastname, self.year)\\n        \\nx = Student(\"Kalyan\", \"Srivastava\", 2002)', 'class Student(Person):\\n  def __init__(self, fname, lname, year):\\n    super().__init__(fname, lname)\\n    self.graduationyear = year\\n\\nx = Student(\"Mike\", \"Olsen\", 2019)', 'print(x.graduationyear)', 'print(x.firstname)', 'class Studnt(Person):\\n    def __init__(self, fname, lname, year):\\n        super() .__init__(fname, lname)\\n        self.graduationyear = year\\n        \\n    def welcome(self):\\n        Print(\"Welcome\", self.firstname, self.lastname, \"to the class of\", self.graduationyear)', 'x = Student(\"Kalyan\", \"Srivatava\", 2002)', 'x.graduationyear', 'mytuple = (\"apple\", \"guavava\", \"cherry\")\\nmyit = iter(mytuple)', 'next(myit)', 'next(myit)', 'next(myit)', 'mystr = \"banana\"\\nmyitr = iter(mystr)', 'print(next(myitr))', 'print(next(myitr))', 'def myfunc():\\n    x = 400\\n    print(x)', 'myfunc()', 'def myfunc():\\n    x = 400\\n    global y\\n    y = 600\\n    ', 'def myfunc():\\n    x = 300\\n    def yourfunc():\\n        print(x)\\n    yourfunc()', 'myfunc()', 'def myfunc():\\n    x = 300\\n    print(y)\\n    def yourfunc():\\n        y = 600\\n    yourfunc()', 'myfunc()', 'def myfunc():\\n    x = 300\\n    print(y)\\n    def yourfunc():\\n        global y \\n        y = 600\\n    yourfunc()', 'myfunc()', 'import mymodule', 'myfunc()', 'def myfunc():\\n    x = 300\\n    print(y)\\n    def yourfunc():\\n        y = 600\\n    yourfunc()', 'myfunc()', 'def myfunc():\\n    x = 300\\n    print(y)\\n    def yourfunc():\\n        global y \\n        y = 600\\n    yourfunc()', 'myfunc()', 'import mymodule', 'myfunc()', 'import mymodule', 'mymodule.greeting(\"Kalyan\")', 'mymodule.person1[\"name\"]', 'import datetime\\ndatetime.datetime.now()', 'import datetime\\nx = datetime.datetime.now()\\nx.year', 'def myfunc():\\n    x = 300\\n    print(y *x)\\n    def yourfunc():\\nglobal y \\ny = 600\\n    yourfunc()', 'def myfunc():\\n    x = 300\\n    z= y*x\\n    print(z)\\n    def yourfunc():\\nglobal y \\ny = 600\\n    yourfunc()', 'import mymodule', 'mymodule.greeting(\"Kalyan\")', 'mymodule.person1[\"name\"]', 'import datetime\\ndatetime.datetime.now()', 'import datetime\\nx = datetime.datetime.now()\\nx.year', 'import datetime\\nx = datetime.datetime(2020, 5, 17)', 'x.year', 'x = [2, 4, 5, 69 , 76 , 34]\\nmin(x)', 'x = -56.6\\nabs(x)', 'import math\\nx = math.ceil(1.4)\\nx', 'x = math.floor(1.4)\\nx', 'x = math.pi', 'x', 'import json\\nx = \\'{\"name\" : \"Kalyan\", \"Surname\" : \"Srivastava\", \"Title\" : \"Dr.\"}\\'\\ny = json.loads(x)', 'y[\"name\"]', 'a = {\"name\" : \"Nicholan\", \"Surname\" : \"Srivastov\", \"Title\" : \"Mr.\"}', 'b = json.dumps(a)', 'b', 'b[\"name\"]', 'b[3]', 'type(b)', 'import json\\n\\nx = {\\n  \"name\": \"John\",\\n  \"age\": 30,\\n  \"married\": True,\\n  \"divorced\": False,\\n  \"children\": (\"Ann\",\"Billy\"),\\n  \"pets\": None,\\n  \"cars\": [\\n    {\"model\": \"BMW 230\", \"mpg\": 27.5},\\n    {\"model\": \"Ford Edge\", \"mpg\": 24.1}\\n  ]\\n}', 'type(x)', 'y = json.dumps(x)', 'type(y)', 'y', 'json.dumps(x, indent=4, sort_keys=True)', 'json.dumps(x, sort_keys = True) #sorts according to the keys', \"get_ipython().system('pip list')\", 'x = [2, 4, 5, 69 , 76 , 34]\\ntry:\\n    myitr = iter(x) \\n    print(next(myitr))\\nexcept:\\n    print(\"exception occured \")', 'x = -1\\n\\nif x < 0:\\n  raise Exception(\"Sorry, no numbers below zero\")', 'quntity = 3\\nitemno = 567\\nprice = 49\\n\\nmyorder = \"I want to order {} of {} at the rate of {}\"\\nprint(myorder.format(quntity, itemno, price))', 'L = [1, 2, 3]', 'L.remove(2)', 'L', 'L.append(2)', 'from itertools import combinations', 'from alabaster import support', \"get_ipython().run_line_magic('psearch', '*Warning')\", \"get_ipython().run_line_magic('timeit', 'L = [n**2 for n in range(1000)]')\", \"get_ipython().run_line_magic('magic', '')\", 'import math\\nmath.sin(80.45)', 'print(In)', 'print(In[2])', 'print(Out[2])', 'print(_)', 'print(__)', 'L.append(2)', 'from itertools import combinations', 'from alabaster import support', \"get_ipython().run_line_magic('psearch', '*Warning')\", 'x = [2, 4, 5, 69 , 76 , 34]\\ntry:\\n    myitr = iter(x) \\n    print(next(myitr))\\nexcept:\\n    print(\"exception occured \")', 'x = -1\\n\\nif x < 0:\\n  raise Exception(\"Sorry, no numbers below zero\")', 'quntity = 3\\nitemno = 567\\nprice = 49\\n\\nmyorder = \"I want to order {} of {} at the rate of {}\"\\nprint(myorder.format(quntity, itemno, price))', 'L = [1, 2, 3]', 'L.remove(2)', 'L', 'L', 'from itertools import combinations', 'from alabaster import support', \"get_ipython().run_line_magic('psearch', '*Warning')\", \"get_ipython().run_line_magic('timeit', 'L = [n**2 for n in range(1000)]')\", \"get_ipython().run_line_magic('magic', '')\", 'import math\\nmath.sin(80.45)', 'print(In)']\n"
     ]
    }
   ],
   "source": [
    "print(In)"
   ]
  },
  {
   "cell_type": "code",
   "execution_count": 558,
   "metadata": {},
   "outputs": [
    {
     "name": "stdout",
     "output_type": "stream",
     "text": [
      "dict\n"
     ]
    }
   ],
   "source": [
    "print(In[2])"
   ]
  },
  {
   "cell_type": "code",
   "execution_count": 559,
   "metadata": {},
   "outputs": [
    {
     "name": "stdout",
     "output_type": "stream",
     "text": [
      "{'name': 'Kalyan', 'surname': 'Srivastava', 'title': 'Dr.', 'City': 'Day Break UT'}\n"
     ]
    }
   ],
   "source": [
    "print(Out[2])"
   ]
  },
  {
   "cell_type": "code",
   "execution_count": 560,
   "metadata": {},
   "outputs": [
    {
     "name": "stdout",
     "output_type": "stream",
     "text": [
      "-0.9429588049620227\n"
     ]
    }
   ],
   "source": [
    "print(_)"
   ]
  },
  {
   "cell_type": "code",
   "execution_count": 561,
   "metadata": {},
   "outputs": [
    {
     "name": "stdout",
     "output_type": "stream",
     "text": [
      "[1, 3]\n"
     ]
    }
   ],
   "source": [
    "print(__)"
   ]
  },
  {
   "cell_type": "code",
   "execution_count": 562,
   "metadata": {},
   "outputs": [
    {
     "name": "stdout",
     "output_type": "stream",
     "text": [
      "[1, 3]\n"
     ]
    }
   ],
   "source": [
    "print(___)"
   ]
  },
  {
   "cell_type": "code",
   "execution_count": 563,
   "metadata": {},
   "outputs": [
    {
     "ename": "NameError",
     "evalue": "name '____' is not defined",
     "output_type": "error",
     "traceback": [
      "\u001b[1;31m---------------------------------------------------------------------------\u001b[0m",
      "\u001b[1;31mNameError\u001b[0m                                 Traceback (most recent call last)",
      "Cell \u001b[1;32mIn[563], line 1\u001b[0m\n\u001b[1;32m----> 1\u001b[0m \u001b[38;5;28mprint\u001b[39m(\u001b[43m____\u001b[49m)\n",
      "\u001b[1;31mNameError\u001b[0m: name '____' is not defined"
     ]
    }
   ],
   "source": [
    "print(____)"
   ]
  },
  {
   "cell_type": "code",
   "execution_count": 564,
   "metadata": {},
   "outputs": [
    {
     "ename": "KeyError",
     "evalue": "6",
     "output_type": "error",
     "traceback": [
      "\u001b[1;31m---------------------------------------------------------------------------\u001b[0m",
      "\u001b[1;31mKeyError\u001b[0m                                  Traceback (most recent call last)",
      "Cell \u001b[1;32mIn[564], line 1\u001b[0m\n\u001b[1;32m----> 1\u001b[0m \u001b[43mOut\u001b[49m\u001b[43m[\u001b[49m\u001b[38;5;241;43m6\u001b[39;49m\u001b[43m]\u001b[49m\n",
      "\u001b[1;31mKeyError\u001b[0m: 6"
     ]
    }
   ],
   "source": [
    "Out[6]"
   ]
  },
  {
   "cell_type": "code",
   "execution_count": 565,
   "metadata": {},
   "outputs": [
    {
     "name": "stdout",
     "output_type": "stream",
     "text": [
      "   1: dict ={\"name\": \"Kalyan\", \"surname\" :\"Srivastava\", \"title\" : \"Dr.\"}\n",
      "   2: dict\n",
      "   3: dict[1]\n",
      "   4: dict$name\n",
      "   5: dict['name']\n",
      "   6: dict['City'] = \"Salt Lake City\"\n",
      "   7: dict\n"
     ]
    }
   ],
   "source": [
    "%history -n 1-7"
   ]
  },
  {
   "cell_type": "code",
   "execution_count": 566,
   "metadata": {},
   "outputs": [
    {
     "name": "stdout",
     "output_type": "stream",
     "text": [
      "> \u001b[1;32mc:\\users\\kalsr\\appdata\\local\\temp\\ipykernel_7252\\3805209960.py\u001b[0m(1)\u001b[0;36m<module>\u001b[1;34m()\u001b[0m\n",
      "\n",
      "ipdb> \n",
      "ipdb> \n",
      "ipdb> \n",
      "ipdb> klyan\n",
      "*** NameError: name 'klyan' is not defined\n",
      "ipdb> \n",
      "*** NameError: name 'klyan' is not defined\n",
      "--KeyboardInterrupt--\n",
      "\n",
      "KeyboardInterrupt: Interrupted by user\n"
     ]
    }
   ],
   "source": [
    "%debug"
   ]
  },
  {
   "cell_type": "code",
   "execution_count": 567,
   "metadata": {},
   "outputs": [
    {
     "name": "stdout",
     "output_type": "stream",
     "text": [
      "{'name': 'Nicholan', 'Surname': 'Srivastov', 'Title': 'Mr.'}\n"
     ]
    }
   ],
   "source": [
    "print(a)"
   ]
  },
  {
   "cell_type": "code",
   "execution_count": 568,
   "metadata": {},
   "outputs": [
    {
     "data": {
      "text/plain": [
       "list"
      ]
     },
     "execution_count": 568,
     "metadata": {},
     "output_type": "execute_result"
    }
   ],
   "source": [
    "list"
   ]
  },
  {
   "cell_type": "code",
   "execution_count": 569,
   "metadata": {},
   "outputs": [
    {
     "name": "stdout",
     "output_type": "stream",
     "text": [
      "8\n",
      " "
     ]
    }
   ],
   "source": [
    "%prun print(3+5)"
   ]
  },
  {
   "cell_type": "code",
   "execution_count": 570,
   "metadata": {},
   "outputs": [
    {
     "name": "stderr",
     "output_type": "stream",
     "text": [
      "UsageError: Line magic function `%lprun` not found.\n"
     ]
    }
   ],
   "source": [
    "%lprun print(3+5)"
   ]
  },
  {
   "cell_type": "code",
   "execution_count": 571,
   "metadata": {},
   "outputs": [
    {
     "name": "stderr",
     "output_type": "stream",
     "text": [
      "UsageError: Line magic function `%memit` not found.\n"
     ]
    }
   ],
   "source": [
    "%memit print(3+5)"
   ]
  },
  {
   "cell_type": "code",
   "execution_count": 572,
   "metadata": {},
   "outputs": [
    {
     "name": "stdout",
     "output_type": "stream",
     "text": [
      "1.31 ms ± 22.5 µs per loop (mean ± std. dev. of 7 runs, 1,000 loops each)\n"
     ]
    }
   ],
   "source": [
    "import random\n",
    "L = [random.random() for i in range(100000)]\n",
    "%timeit L.sort()"
   ]
  },
  {
   "cell_type": "code",
   "execution_count": 573,
   "metadata": {},
   "outputs": [
    {
     "data": {
      "text/plain": [
       "[3.0086627099690233e-06,\n",
       " 3.981390724772105e-06,\n",
       " 5.7597736009551426e-06,\n",
       " 1.341394208231872e-05,\n",
       " 1.8826296239615736e-05,\n",
       " 3.5369176664246105e-05,\n",
       " 4.3628301499620825e-05,\n",
       " 4.7483439528983595e-05,\n",
       " 5.075565973489127e-05,\n",
       " 5.626669653302496e-05,\n",
       " 5.62718457545186e-05,\n",
       " 6.21702081481379e-05,\n",
       " 6.942435562162785e-05,\n",
       " 8.81368828792306e-05,\n",
       " 9.20692719520444e-05,\n",
       " 0.00011579886279688978,\n",
       " 0.00012003680918015736,\n",
       " 0.00012836368594315584,\n",
       " 0.0001594260045552076,\n",
       " 0.00017107823039652637,\n",
       " 0.00017407093985932764,\n",
       " 0.00019120644659953445,\n",
       " 0.00019698869260664775,\n",
       " 0.00021766159035363497,\n",
       " 0.0002278974261589184,\n",
       " 0.00022995018754945473,\n",
       " 0.0002467243151332843,\n",
       " 0.00025226546743095657,\n",
       " 0.00026055645716016596,\n",
       " 0.0002802884870179989,\n",
       " 0.00029243535333633996,\n",
       " 0.00029432941277096614,\n",
       " 0.0003018573230453292,\n",
       " 0.0003132049501083367,\n",
       " 0.00033464190964449525,\n",
       " 0.00034450106604355657,\n",
       " 0.00037178558818240504,\n",
       " 0.0003930126025989411,\n",
       " 0.0004014232321605249,\n",
       " 0.00040389760051073864,\n",
       " 0.00040761282775125807,\n",
       " 0.0004086340547377887,\n",
       " 0.0004102754554399235,\n",
       " 0.0004110230867967468,\n",
       " 0.0004211762977344158,\n",
       " 0.0004402848856560615,\n",
       " 0.00044109221739341287,\n",
       " 0.00044331960443311225,\n",
       " 0.00046547263442808795,\n",
       " 0.0004656685048405329,\n",
       " 0.0004795730098331452,\n",
       " 0.0004810627022217018,\n",
       " 0.0004814420275149889,\n",
       " 0.0004853829699955625,\n",
       " 0.0004883005500794235,\n",
       " 0.000521236645926626,\n",
       " 0.000536928385799329,\n",
       " 0.0005498291998679017,\n",
       " 0.0005645613367053492,\n",
       " 0.0005951475356583691,\n",
       " 0.0006150100342263709,\n",
       " 0.0006164982633007909,\n",
       " 0.0006584438945553828,\n",
       " 0.0006849584049505308,\n",
       " 0.0006923661619471222,\n",
       " 0.0007241674805777976,\n",
       " 0.0007308577551610185,\n",
       " 0.0007334039617009624,\n",
       " 0.0007426457236524575,\n",
       " 0.0007447586352893332,\n",
       " 0.000796077733618672,\n",
       " 0.0008015539996875098,\n",
       " 0.0008020180728919302,\n",
       " 0.000809087797133623,\n",
       " 0.0008126964942706261,\n",
       " 0.0008392071891220043,\n",
       " 0.0008419297343279508,\n",
       " 0.0008508815983679918,\n",
       " 0.0008602565784768812,\n",
       " 0.000861689837940327,\n",
       " 0.0008669760706719876,\n",
       " 0.0008672666883924318,\n",
       " 0.0008831433710972947,\n",
       " 0.0008949223335946721,\n",
       " 0.0008952108296390593,\n",
       " 0.0009200603239045702,\n",
       " 0.0009264723802240304,\n",
       " 0.0009290731982348754,\n",
       " 0.0009402694185534077,\n",
       " 0.0009425009055441524,\n",
       " 0.0009570567020460441,\n",
       " 0.0009600879223027325,\n",
       " 0.0009657234183907404,\n",
       " 0.0009806290920161276,\n",
       " 0.00099548726708798,\n",
       " 0.0009955743801156602,\n",
       " 0.0010031361695842511,\n",
       " 0.0010105160148211612,\n",
       " 0.0010131177234632416,\n",
       " 0.001019806534607981,\n",
       " 0.0010310667181056,\n",
       " 0.0010402976777419415,\n",
       " 0.0010454005471086658,\n",
       " 0.0010555283510760294,\n",
       " 0.0010711039203110673,\n",
       " 0.0010742458576392666,\n",
       " 0.0010749076225443632,\n",
       " 0.0010808891889587668,\n",
       " 0.0010831893096898693,\n",
       " 0.0010874158311307003,\n",
       " 0.001097170641316203,\n",
       " 0.0011146688367399404,\n",
       " 0.0011332843579897611,\n",
       " 0.0011339387314582838,\n",
       " 0.0011352690785659814,\n",
       " 0.0011373025643015566,\n",
       " 0.0011685637473770605,\n",
       " 0.0011703607485882284,\n",
       " 0.0011742003107149124,\n",
       " 0.0011884668939552423,\n",
       " 0.0011900090866202584,\n",
       " 0.0011922923417879705,\n",
       " 0.001194402781295234,\n",
       " 0.0012063386145795274,\n",
       " 0.0012121654683945327,\n",
       " 0.0012265334895019686,\n",
       " 0.0012308300604989553,\n",
       " 0.0012727631686344498,\n",
       " 0.001273873866518449,\n",
       " 0.0012766790742791967,\n",
       " 0.0013152780601255465,\n",
       " 0.0013374285193266111,\n",
       " 0.0013437405164943295,\n",
       " 0.0013514436580357447,\n",
       " 0.0013783656852448534,\n",
       " 0.0013985930230050458,\n",
       " 0.0014001265289940168,\n",
       " 0.0014011538250261468,\n",
       " 0.0014267068142552741,\n",
       " 0.0014360520564612456,\n",
       " 0.001440082019856792,\n",
       " 0.0014493854929762406,\n",
       " 0.001468232828733984,\n",
       " 0.0014761191150997055,\n",
       " 0.0014763467265228591,\n",
       " 0.0014765999826036325,\n",
       " 0.0014833661580864188,\n",
       " 0.0015077854517142608,\n",
       " 0.001525575782597155,\n",
       " 0.0015338841631736821,\n",
       " 0.0015453350813019462,\n",
       " 0.001546807762781821,\n",
       " 0.001558800955979378,\n",
       " 0.0015682761184852012,\n",
       " 0.0015706301973246184,\n",
       " 0.0015746380115803094,\n",
       " 0.0015765150997911759,\n",
       " 0.0015812968687826112,\n",
       " 0.0015835883104046156,\n",
       " 0.0015876073253235923,\n",
       " 0.0015968744671788215,\n",
       " 0.0016001102065923423,\n",
       " 0.0016182817727481424,\n",
       " 0.0016197986244440576,\n",
       " 0.001629938917543039,\n",
       " 0.0016619106451547516,\n",
       " 0.0016738406285405905,\n",
       " 0.0016830705088997089,\n",
       " 0.0016859545450027547,\n",
       " 0.001686026140937047,\n",
       " 0.0016901115208265427,\n",
       " 0.0017101797411180897,\n",
       " 0.001716677107272635,\n",
       " 0.0017502115197690626,\n",
       " 0.0017561736677272899,\n",
       " 0.00176097542911402,\n",
       " 0.0017783978661167765,\n",
       " 0.0017842343147260742,\n",
       " 0.0017849713108821774,\n",
       " 0.0018015819943588696,\n",
       " 0.0018105370289449585,\n",
       " 0.001824321096707382,\n",
       " 0.001830027242445964,\n",
       " 0.0018497314675792742,\n",
       " 0.0018534089957675803,\n",
       " 0.0018574806428548474,\n",
       " 0.0018620231307093782,\n",
       " 0.0018703020595461917,\n",
       " 0.0018746625673429218,\n",
       " 0.0018810233089113781,\n",
       " 0.001897883838317349,\n",
       " 0.0019340509624782287,\n",
       " 0.0019345446731645621,\n",
       " 0.0019413595445516574,\n",
       " 0.0019434205479630373,\n",
       " 0.001957427595846384,\n",
       " 0.0019646466572847965,\n",
       " 0.0020144947696402182,\n",
       " 0.0020168422040608425,\n",
       " 0.002038809069971226,\n",
       " 0.0020399863996444223,\n",
       " 0.0020784681687172624,\n",
       " 0.0020804278189202607,\n",
       " 0.0020853070451410938,\n",
       " 0.002103010294076335,\n",
       " 0.0021057126903304413,\n",
       " 0.0021060094112398398,\n",
       " 0.002113124514422804,\n",
       " 0.002128317390843182,\n",
       " 0.0021297925398767736,\n",
       " 0.0021304300520199604,\n",
       " 0.002141205204368113,\n",
       " 0.0021562360118879687,\n",
       " 0.0021763312398768164,\n",
       " 0.002178346916307139,\n",
       " 0.0022062873492920687,\n",
       " 0.0022073962418123205,\n",
       " 0.002209634071098532,\n",
       " 0.0022117812161212003,\n",
       " 0.00221657515620044,\n",
       " 0.002222839462352688,\n",
       " 0.0022628398016258933,\n",
       " 0.002276678681215394,\n",
       " 0.00227688421036365,\n",
       " 0.002292870483220355,\n",
       " 0.002295635785784067,\n",
       " 0.0023238285750634136,\n",
       " 0.0023255065656461182,\n",
       " 0.0023421364294475833,\n",
       " 0.0023453264320172362,\n",
       " 0.0023478739466811227,\n",
       " 0.002366524077594745,\n",
       " 0.0023732423069835473,\n",
       " 0.00237809788756449,\n",
       " 0.0023799439400264966,\n",
       " 0.0023818748132486967,\n",
       " 0.002383357235683725,\n",
       " 0.002409617091425287,\n",
       " 0.002413006639487736,\n",
       " 0.0024185116498602888,\n",
       " 0.0024222870537211616,\n",
       " 0.0024266520524057755,\n",
       " 0.0024296026662317116,\n",
       " 0.0024370524812191707,\n",
       " 0.0024452342183605147,\n",
       " 0.00245932109621827,\n",
       " 0.0025070792881809467,\n",
       " 0.00251494081514847,\n",
       " 0.0025335144272542465,\n",
       " 0.0025362889399730415,\n",
       " 0.0025375715229717377,\n",
       " 0.002562623701064859,\n",
       " 0.0025627728158520435,\n",
       " 0.0025720311488047765,\n",
       " 0.002574747120358767,\n",
       " 0.002600631399394593,\n",
       " 0.0026042273898475576,\n",
       " 0.0026108462138263455,\n",
       " 0.002613514312713061,\n",
       " 0.00262523410094051,\n",
       " 0.0026270696839155727,\n",
       " 0.0026441783246680117,\n",
       " 0.0026443145874950336,\n",
       " 0.0026564142744550656,\n",
       " 0.002658414597090819,\n",
       " 0.0026589032925531386,\n",
       " 0.0026598363007985792,\n",
       " 0.0026856914774261442,\n",
       " 0.0026876183448545365,\n",
       " 0.002696245941509745,\n",
       " 0.0027198706066611233,\n",
       " 0.002721234480535295,\n",
       " 0.0027459118255096504,\n",
       " 0.0027522952902748754,\n",
       " 0.0027608960289443596,\n",
       " 0.002772672270066834,\n",
       " 0.002787574576457841,\n",
       " 0.00280216783986309,\n",
       " 0.0028023078087159314,\n",
       " 0.0028033289922172466,\n",
       " 0.0028311878895395104,\n",
       " 0.00285552194182892,\n",
       " 0.002856457392051648,\n",
       " 0.002866755216555994,\n",
       " 0.002866999743383114,\n",
       " 0.0028728013341653424,\n",
       " 0.0028737004230799945,\n",
       " 0.0028995879095231603,\n",
       " 0.0029392340589949884,\n",
       " 0.0029595566987007382,\n",
       " 0.0029606944412114977,\n",
       " 0.0029667480457716833,\n",
       " 0.0029871446944426117,\n",
       " 0.00300168484147334,\n",
       " 0.0030152149327120625,\n",
       " 0.003021775255729664,\n",
       " 0.0030222467456806346,\n",
       " 0.0030265311841284337,\n",
       " 0.00302781090871751,\n",
       " 0.003031007979764744,\n",
       " 0.003039814043711009,\n",
       " 0.0030646186323067814,\n",
       " 0.00309077760264187,\n",
       " 0.0031054320059594742,\n",
       " 0.003113999963067715,\n",
       " 0.0031172311938437725,\n",
       " 0.003117800309611951,\n",
       " 0.00311785985402413,\n",
       " 0.0031233421861974753,\n",
       " 0.0031265765598151862,\n",
       " 0.003157799043996601,\n",
       " 0.003163738206618194,\n",
       " 0.0031711144000645675,\n",
       " 0.0031762642935986296,\n",
       " 0.003192677745098349,\n",
       " 0.0031996650307942742,\n",
       " 0.003212083567317836,\n",
       " 0.0032163559545460574,\n",
       " 0.003235329455623215,\n",
       " 0.0032501239615475574,\n",
       " 0.0032515718674319682,\n",
       " 0.003273883946902978,\n",
       " 0.003276403359854574,\n",
       " 0.0032937272056807743,\n",
       " 0.0033311902196965226,\n",
       " 0.003347050007337149,\n",
       " 0.003361051384317859,\n",
       " 0.0033677664371768445,\n",
       " 0.003373706630709794,\n",
       " 0.003380225163266082,\n",
       " 0.0033930163522083445,\n",
       " 0.003395515430637319,\n",
       " 0.0034142217532616703,\n",
       " 0.003427611308269962,\n",
       " 0.0034374331939286407,\n",
       " 0.003441040619972635,\n",
       " 0.003448826398350091,\n",
       " 0.003453782707963038,\n",
       " 0.00346992448566652,\n",
       " 0.003482309551015361,\n",
       " 0.0034899910980755733,\n",
       " 0.0034901188679630213,\n",
       " 0.00349332878159192,\n",
       " 0.0034935668317356283,\n",
       " 0.003500314391363779,\n",
       " 0.003515929443446919,\n",
       " 0.0035263937153376945,\n",
       " 0.0035391597349477832,\n",
       " 0.003542368032758092,\n",
       " 0.0035502264549664986,\n",
       " 0.003553045638965746,\n",
       " 0.003560606291362012,\n",
       " 0.0035617443976768692,\n",
       " 0.0035701880291422183,\n",
       " 0.0035704866332589846,\n",
       " 0.003575740975253705,\n",
       " 0.0035810124127866327,\n",
       " 0.003585710313217416,\n",
       " 0.00360135687192642,\n",
       " 0.003622797190231841,\n",
       " 0.0036485925652666173,\n",
       " 0.003654106572324345,\n",
       " 0.0036641139088248176,\n",
       " 0.0036672669635031685,\n",
       " 0.0036828766359798815,\n",
       " 0.0036852577681194543,\n",
       " 0.00369057419828811,\n",
       " 0.003692209329166918,\n",
       " 0.0036929836394845594,\n",
       " 0.0037100206315957562,\n",
       " 0.0037125938091079336,\n",
       " 0.0037237935418023005,\n",
       " 0.0037515109120584977,\n",
       " 0.003780327513167925,\n",
       " 0.0037924156684486787,\n",
       " 0.003797531071004001,\n",
       " 0.003803464897690678,\n",
       " 0.003810061005658505,\n",
       " 0.0038277149634322605,\n",
       " 0.0038570189099447205,\n",
       " 0.0038632337430811736,\n",
       " 0.003875388765687826,\n",
       " 0.0038838393285129946,\n",
       " 0.003889376789235066,\n",
       " 0.0038946893354635526,\n",
       " 0.003895446821780779,\n",
       " 0.003934826759607102,\n",
       " 0.00394015303666162,\n",
       " 0.003954967433269285,\n",
       " 0.0039596808647860415,\n",
       " 0.003975130605005317,\n",
       " 0.003987102400610176,\n",
       " 0.00399144073001767,\n",
       " 0.003999042229148375,\n",
       " 0.004003345570381622,\n",
       " 0.004026548459535206,\n",
       " 0.004029920237613616,\n",
       " 0.004040764313109846,\n",
       " 0.004059362770335362,\n",
       " 0.004091497799509791,\n",
       " 0.004113721732176168,\n",
       " 0.004117535913605308,\n",
       " 0.004144664110960927,\n",
       " 0.004149885973167122,\n",
       " 0.004152637194039244,\n",
       " 0.004153225847804309,\n",
       " 0.004156257922566686,\n",
       " 0.00416855835075336,\n",
       " 0.004182312036536295,\n",
       " 0.004184365978934235,\n",
       " 0.004186654112516841,\n",
       " 0.004189001320417551,\n",
       " 0.004195397607782869,\n",
       " 0.004198185956519107,\n",
       " 0.004200912433908188,\n",
       " 0.004217649846298355,\n",
       " 0.004224752068221482,\n",
       " 0.0042293677382299055,\n",
       " 0.004231730186993632,\n",
       " 0.004243134434613771,\n",
       " 0.004255717442812279,\n",
       " 0.004256019045199122,\n",
       " 0.004271929013748843,\n",
       " 0.004280785286263966,\n",
       " 0.004287124680800836,\n",
       " 0.004340274298193725,\n",
       " 0.004352257754008604,\n",
       " 0.00435788419881733,\n",
       " 0.004396310639773748,\n",
       " 0.004409357188642882,\n",
       " 0.0044151645241320425,\n",
       " 0.00441908931106938,\n",
       " 0.004421602335325736,\n",
       " 0.004449302708779079,\n",
       " 0.004468968486630698,\n",
       " 0.004501570595394244,\n",
       " 0.004520224013564222,\n",
       " 0.0045205810765993615,\n",
       " 0.00452676963180676,\n",
       " 0.004544242038722834,\n",
       " 0.0045715945145131665,\n",
       " 0.004573096093314466,\n",
       " 0.004576710633587888,\n",
       " 0.0045913792880907245,\n",
       " 0.00460351329001063,\n",
       " 0.00461090230253236,\n",
       " 0.004613949989505484,\n",
       " 0.00462594721232612,\n",
       " 0.004630641811818825,\n",
       " 0.004644879744133079,\n",
       " 0.004649973703736432,\n",
       " 0.004663033262242711,\n",
       " 0.004681894732109004,\n",
       " 0.004685914288071524,\n",
       " 0.004693069140488504,\n",
       " 0.004698237698575358,\n",
       " 0.004699250762227103,\n",
       " 0.004716955239554177,\n",
       " 0.004756039405266033,\n",
       " 0.0047735932919322765,\n",
       " 0.0047771212847815825,\n",
       " 0.004785319629872609,\n",
       " 0.004790106581742282,\n",
       " 0.0047970805582081555,\n",
       " 0.004800420934429894,\n",
       " 0.004806702877456659,\n",
       " 0.004808987584545843,\n",
       " 0.004815448770120856,\n",
       " 0.00481817666852713,\n",
       " 0.004830596755380112,\n",
       " 0.004832383559204789,\n",
       " 0.004832481628686547,\n",
       " 0.004833490157576281,\n",
       " 0.004857535012478431,\n",
       " 0.004864383910349379,\n",
       " 0.004869577970311956,\n",
       " 0.004869957962765792,\n",
       " 0.00488935129751622,\n",
       " 0.004896199716621807,\n",
       " 0.004923996875885295,\n",
       " 0.004939038886743852,\n",
       " 0.004957027915396761,\n",
       " 0.004960555693623081,\n",
       " 0.004964709194841821,\n",
       " 0.004976515383387836,\n",
       " 0.004981066083213248,\n",
       " 0.005030656092279595,\n",
       " 0.005040480869200281,\n",
       " 0.005045627541633513,\n",
       " 0.005052793522835275,\n",
       " 0.005080483028010674,\n",
       " 0.005094885251333836,\n",
       " 0.005106614532964682,\n",
       " 0.005110758462162357,\n",
       " 0.005127145690273394,\n",
       " 0.005133940407323734,\n",
       " 0.005139920915068097,\n",
       " 0.005145112276764396,\n",
       " 0.005149970900889644,\n",
       " 0.00515781995318465,\n",
       " 0.0051598335513066695,\n",
       " 0.005170659877650863,\n",
       " 0.005170978903268231,\n",
       " 0.0051820728392780735,\n",
       " 0.005194475764462081,\n",
       " 0.005209085531031943,\n",
       " 0.005213232316319871,\n",
       " 0.005232348572140166,\n",
       " 0.0052406443750794285,\n",
       " 0.005257459661003772,\n",
       " 0.005263302439345474,\n",
       " 0.005266268303799837,\n",
       " 0.005277428358986369,\n",
       " 0.00527820943402979,\n",
       " 0.0052800057245344645,\n",
       " 0.0053101716880076255,\n",
       " 0.005310991542068155,\n",
       " 0.0053119471589506695,\n",
       " 0.005311999911413068,\n",
       " 0.005326662540201643,\n",
       " 0.005328238892868042,\n",
       " 0.0053287704492013255,\n",
       " 0.005343116240376089,\n",
       " 0.00534319078713219,\n",
       " 0.005353153071295025,\n",
       " 0.005356542641548612,\n",
       " 0.005358228277306476,\n",
       " 0.005365943078759927,\n",
       " 0.005403185828359525,\n",
       " 0.0054174513935068,\n",
       " 0.005418731295876222,\n",
       " 0.005427161329440322,\n",
       " 0.0054426832524971935,\n",
       " 0.0054740229614648195,\n",
       " 0.005476401030688027,\n",
       " 0.005511847419436333,\n",
       " 0.005513659037634455,\n",
       " 0.005517512300391214,\n",
       " 0.005518032016865626,\n",
       " 0.005550144608758134,\n",
       " 0.005556965743132691,\n",
       " 0.005563250055172331,\n",
       " 0.005572674478033668,\n",
       " 0.00560088195680053,\n",
       " 0.005607127793202382,\n",
       " 0.005611703044570704,\n",
       " 0.005633680528394636,\n",
       " 0.005639179871044231,\n",
       " 0.005647292514530666,\n",
       " 0.005657002682033951,\n",
       " 0.0056598087157365695,\n",
       " 0.005667681354926346,\n",
       " 0.005697410774297196,\n",
       " 0.00569856789970824,\n",
       " 0.005706392838072949,\n",
       " 0.005714583908948745,\n",
       " 0.005715823731097691,\n",
       " 0.005717856124242471,\n",
       " 0.00573847028398522,\n",
       " 0.00574502090344009,\n",
       " 0.005803285803812286,\n",
       " 0.005805065929456177,\n",
       " 0.005828560691707008,\n",
       " 0.005835885047539069,\n",
       " 0.00583907923946303,\n",
       " 0.0058397320984960865,\n",
       " 0.005841340212310642,\n",
       " 0.005853712673956735,\n",
       " 0.00585475993448159,\n",
       " 0.005855660769505611,\n",
       " 0.0058998192762661494,\n",
       " 0.005906295836984876,\n",
       " 0.005927857139545467,\n",
       " 0.00593175619083075,\n",
       " 0.005943166196068828,\n",
       " 0.005945643585280935,\n",
       " 0.005980244470051965,\n",
       " 0.006016063188486576,\n",
       " 0.006021578408618611,\n",
       " 0.006023944984739904,\n",
       " 0.006040303712476436,\n",
       " 0.006053302368048685,\n",
       " 0.006078782683403672,\n",
       " 0.006080288826990965,\n",
       " 0.006090510263791149,\n",
       " 0.006091218296343737,\n",
       " 0.006102298727121758,\n",
       " 0.006106350021401918,\n",
       " 0.006119522028517399,\n",
       " 0.00612326908381744,\n",
       " 0.006145498799655313,\n",
       " 0.006148078495896159,\n",
       " 0.006154630951333839,\n",
       " 0.006169194075470674,\n",
       " 0.0062221938005918576,\n",
       " 0.006234171683204615,\n",
       " 0.006266670039605793,\n",
       " 0.006274730051901489,\n",
       " 0.006288303435459275,\n",
       " 0.006333826094693684,\n",
       " 0.006341927552597326,\n",
       " 0.006347136721984614,\n",
       " 0.0063478357739373825,\n",
       " 0.006348832038091667,\n",
       " 0.006353198904580526,\n",
       " 0.006359367296802865,\n",
       " 0.0063718185038704744,\n",
       " 0.006377117800005938,\n",
       " 0.006380036276950496,\n",
       " 0.006388880487917414,\n",
       " 0.0063899194530522285,\n",
       " 0.006421612432810364,\n",
       " 0.006431388603131971,\n",
       " 0.00643229432850001,\n",
       " 0.006441996098851321,\n",
       " 0.006453849149555602,\n",
       " 0.006468651387977586,\n",
       " 0.00646865760203319,\n",
       " 0.0064693591735769385,\n",
       " 0.006480925171712948,\n",
       " 0.006481463845625535,\n",
       " 0.006482603330587811,\n",
       " 0.006492695529487058,\n",
       " 0.006495256376226499,\n",
       " 0.006499517173720659,\n",
       " 0.006502625048999677,\n",
       " 0.006507075889694791,\n",
       " 0.006512588038716571,\n",
       " 0.006513359875596425,\n",
       " 0.006537747661139126,\n",
       " 0.00656315130415841,\n",
       " 0.00657273923572288,\n",
       " 0.006573242584169581,\n",
       " 0.006573722917792013,\n",
       " 0.006573864213495706,\n",
       " 0.006583033943168282,\n",
       " 0.0065874473115574705,\n",
       " 0.00658938739837811,\n",
       " 0.00662158299025295,\n",
       " 0.006654507930093256,\n",
       " 0.006666871941689023,\n",
       " 0.0066691211944662765,\n",
       " 0.006682350375293189,\n",
       " 0.006683667687608641,\n",
       " 0.006723658729438697,\n",
       " 0.006725256480482056,\n",
       " 0.006732018903285675,\n",
       " 0.006740292809523374,\n",
       " 0.00675729604766262,\n",
       " 0.0067624527964480485,\n",
       " 0.006764722333471029,\n",
       " 0.006764793206680442,\n",
       " 0.0067703284245280715,\n",
       " 0.006772190681845536,\n",
       " 0.006775481538672357,\n",
       " 0.006786685891961408,\n",
       " 0.006805236281450577,\n",
       " 0.006805643199167211,\n",
       " 0.006809218174495535,\n",
       " 0.006809399666787619,\n",
       " 0.006812550779184967,\n",
       " 0.006823162812444994,\n",
       " 0.00682590563932628,\n",
       " 0.006847482289530027,\n",
       " 0.0068998299597142765,\n",
       " 0.006911652190869977,\n",
       " 0.006915555817657126,\n",
       " 0.006916144188476525,\n",
       " 0.006932326360474139,\n",
       " 0.006938369125210508,\n",
       " 0.006952176144052413,\n",
       " 0.006952179648905155,\n",
       " 0.006966956955615666,\n",
       " 0.006973261504576556,\n",
       " 0.006975059530696326,\n",
       " 0.0069834738805517604,\n",
       " 0.006988343347540282,\n",
       " 0.006997686827820537,\n",
       " 0.007000044379845249,\n",
       " 0.007004867163465711,\n",
       " 0.0070187511375591205,\n",
       " 0.007020787973293086,\n",
       " 0.007021303754400909,\n",
       " 0.007032086313857433,\n",
       " 0.007038121201642378,\n",
       " 0.007073193880155593,\n",
       " 0.007082504853850424,\n",
       " 0.007087089524729251,\n",
       " 0.007109795543983499,\n",
       " 0.007122840266506225,\n",
       " 0.007151811061593238,\n",
       " 0.007153623989475721,\n",
       " 0.007158404681339436,\n",
       " 0.00717676515122756,\n",
       " 0.00718024144094942,\n",
       " 0.007195546310869383,\n",
       " 0.007241379262977632,\n",
       " 0.007295460256645181,\n",
       " 0.007295882588578606,\n",
       " 0.007301523368014373,\n",
       " 0.007324771173029099,\n",
       " 0.007327301235593997,\n",
       " 0.007357555004702587,\n",
       " 0.007359356980621956,\n",
       " 0.007362827883348855,\n",
       " 0.007364990833910623,\n",
       " 0.007371702185696938,\n",
       " 0.0073784749024604634,\n",
       " 0.007378996896706402,\n",
       " 0.007388943677549054,\n",
       " 0.007396365825979023,\n",
       " 0.007407930613750002,\n",
       " 0.007421687718260683,\n",
       " 0.007428889066628419,\n",
       " 0.007435652299204176,\n",
       " 0.007448075005643151,\n",
       " 0.007448795981724987,\n",
       " 0.007451405122487875,\n",
       " 0.007457362457929828,\n",
       " 0.007459213352122185,\n",
       " 0.0074871521408785835,\n",
       " 0.007511990024199,\n",
       " 0.0075135277033264725,\n",
       " 0.0075517664642498206,\n",
       " 0.007556006872361132,\n",
       " 0.007563557799246112,\n",
       " 0.00756983572027814,\n",
       " 0.007583563043119135,\n",
       " 0.007594531924877468,\n",
       " 0.007595133123446618,\n",
       " 0.007609529911475343,\n",
       " 0.007630135946751326,\n",
       " 0.007648735412978835,\n",
       " 0.0076493262299784925,\n",
       " 0.007679024382945876,\n",
       " 0.007681194890302057,\n",
       " 0.007691881601043171,\n",
       " 0.007691960551648114,\n",
       " 0.0076937205716646195,\n",
       " 0.007696416205417389,\n",
       " 0.007704784866516157,\n",
       " 0.007735476672087072,\n",
       " 0.007771210364655334,\n",
       " 0.007807064163340427,\n",
       " 0.007808936673869726,\n",
       " 0.00781767922805976,\n",
       " 0.007819609049517728,\n",
       " 0.007820286738803306,\n",
       " 0.007826001213768308,\n",
       " 0.007837917567417807,\n",
       " 0.007839352745606765,\n",
       " 0.007840668227867886,\n",
       " 0.007843573634828127,\n",
       " 0.007846286797413615,\n",
       " 0.007877322500614126,\n",
       " 0.00788186749326869,\n",
       " 0.007902934346100565,\n",
       " 0.007907614131260066,\n",
       " 0.007919551158456106,\n",
       " 0.007938014987002417,\n",
       " 0.007950262884337422,\n",
       " 0.007954346017296166,\n",
       " 0.007963249985329601,\n",
       " 0.007968515755223171,\n",
       " 0.007973006559402585,\n",
       " 0.00797351366316612,\n",
       " 0.007983615535491762,\n",
       " 0.007985481904289715,\n",
       " 0.007986920003833942,\n",
       " 0.00798800077652273,\n",
       " 0.00803049221651897,\n",
       " 0.008030855752455657,\n",
       " 0.008044574719650144,\n",
       " 0.00805116064501743,\n",
       " 0.008070285674035116,\n",
       " 0.008074877936371738,\n",
       " 0.008080741968571226,\n",
       " 0.008083818035441892,\n",
       " 0.00809781701032053,\n",
       " 0.00810316637044528,\n",
       " 0.008103466847845242,\n",
       " 0.008106628692431284,\n",
       " 0.008108180864239034,\n",
       " 0.008119970332647775,\n",
       " 0.008135381205110703,\n",
       " 0.00813760178911227,\n",
       " 0.008139195435113211,\n",
       " 0.008145945560937728,\n",
       " 0.008154992531805627,\n",
       " 0.008163060928248478,\n",
       " 0.008165260101548943,\n",
       " 0.00818648143247358,\n",
       " 0.008187169934100291,\n",
       " 0.008197863532866667,\n",
       " 0.008199457798783172,\n",
       " 0.008200442813798614,\n",
       " 0.008206842227438504,\n",
       " 0.008223491188758647,\n",
       " 0.008229732754347685,\n",
       " 0.008237338541079886,\n",
       " 0.008260516054474976,\n",
       " 0.008265302989171941,\n",
       " 0.008278195091251495,\n",
       " 0.008286014575458744,\n",
       " 0.008286226988924561,\n",
       " 0.008299914403372965,\n",
       " 0.00830632410843557,\n",
       " 0.008312280870028443,\n",
       " 0.008317662903612022,\n",
       " 0.008327669158838313,\n",
       " 0.008354236143844673,\n",
       " 0.008364103812937507,\n",
       " 0.008366441704188543,\n",
       " 0.00838475461415189,\n",
       " 0.008388393443924502,\n",
       " 0.008408858500521754,\n",
       " 0.008428174073239592,\n",
       " 0.00843338810366423,\n",
       " 0.008457755116392796,\n",
       " 0.008469355207562534,\n",
       " 0.008476451704297783,\n",
       " 0.008483877648644778,\n",
       " 0.00848752529275787,\n",
       " 0.008497253312913844,\n",
       " 0.00849763897197564,\n",
       " 0.00851846144428725,\n",
       " 0.008521069916846757,\n",
       " 0.008544578628189914,\n",
       " 0.00854683490025665,\n",
       " 0.008550609921915142,\n",
       " 0.008556601226690885,\n",
       " 0.008576556073361052,\n",
       " 0.008589220766243133,\n",
       " 0.00859060845743742,\n",
       " 0.008605679182973724,\n",
       " 0.008614641537533219,\n",
       " 0.008620429312891642,\n",
       " 0.008627796784223207,\n",
       " 0.008646596902998738,\n",
       " 0.008647372221711525,\n",
       " 0.008648678466754323,\n",
       " 0.008681032504648023,\n",
       " 0.008692895615278085,\n",
       " 0.008694965891637096,\n",
       " 0.008706966596684906,\n",
       " 0.008711983838698312,\n",
       " 0.008722226946506484,\n",
       " 0.008736660463590118,\n",
       " 0.008742823638272945,\n",
       " 0.008762314682263739,\n",
       " 0.00877650772302696,\n",
       " 0.008800053139262576,\n",
       " 0.008814003593783704,\n",
       " 0.008817886870970959,\n",
       " 0.008818229428180002,\n",
       " 0.008822385181521675,\n",
       " 0.008823029273649197,\n",
       " 0.008847261762761072,\n",
       " 0.008853747674620993,\n",
       " 0.008862890481040941,\n",
       " 0.008877345753590893,\n",
       " 0.008886925186133432,\n",
       " 0.008890035430049625,\n",
       " 0.008891672147585683,\n",
       " 0.00889337568281301,\n",
       " 0.008936853683598756,\n",
       " 0.008937100092280992,\n",
       " 0.008944764501408131,\n",
       " 0.008948336619353903,\n",
       " 0.00895487008575191,\n",
       " 0.008960040629273025,\n",
       " 0.008961870511512982,\n",
       " 0.008962316724834829,\n",
       " 0.008962510187237482,\n",
       " 0.008963212644301666,\n",
       " 0.008972281753094835,\n",
       " 0.008991972863575115,\n",
       " 0.009007224815516413,\n",
       " 0.00905047317982477,\n",
       " 0.00907690967684649,\n",
       " 0.009082644619716307,\n",
       " 0.009089672234282475,\n",
       " 0.00909096674731924,\n",
       " 0.009094768547532883,\n",
       " 0.009100636590980038,\n",
       " 0.009109986555449812,\n",
       " 0.0091214084473914,\n",
       " 0.009121798683164206,\n",
       " 0.009128484322237118,\n",
       " 0.009144558043885698,\n",
       " 0.0091490055336223,\n",
       " 0.00915305061307714,\n",
       " 0.009161664112278145,\n",
       " 0.00916819018385795,\n",
       " 0.009179076557827459,\n",
       " 0.00919497786177581,\n",
       " 0.009206120400082951,\n",
       " 0.009208853705751197,\n",
       " 0.009209188790883283,\n",
       " 0.009218867151007948,\n",
       " 0.009243878263713312,\n",
       " 0.009270759664084749,\n",
       " 0.009275202998456411,\n",
       " 0.009290255670356906,\n",
       " 0.00930249061542121,\n",
       " 0.009304459389847253,\n",
       " 0.009311411706109385,\n",
       " 0.00931590702279217,\n",
       " 0.009319000060700078,\n",
       " 0.009327297405903545,\n",
       " 0.009330889838420564,\n",
       " 0.009334947212118694,\n",
       " 0.009346037118450279,\n",
       " 0.009347861359529253,\n",
       " 0.009367377816077105,\n",
       " 0.009370973045918274,\n",
       " 0.009375119022335676,\n",
       " 0.009375197268189694,\n",
       " 0.009400755637877345,\n",
       " 0.009400985517016625,\n",
       " 0.009423515867382881,\n",
       " 0.009426809791223678,\n",
       " 0.00944271007487485,\n",
       " 0.009443485181197864,\n",
       " 0.009449377387973579,\n",
       " 0.009459566102423045,\n",
       " 0.009461465249289036,\n",
       " 0.009474297414632016,\n",
       " 0.00948032439773605,\n",
       " 0.009501526856758424,\n",
       " 0.00951221427464044,\n",
       " 0.009527266020739167,\n",
       " 0.009546484411331435,\n",
       " 0.009547338348361523,\n",
       " 0.009552655269222887,\n",
       " 0.00959686420870931,\n",
       " 0.009621039461477854,\n",
       " 0.00962200790990575,\n",
       " 0.00962914607738019,\n",
       " 0.009632898195943373,\n",
       " 0.009639963784042527,\n",
       " 0.009642719547443779,\n",
       " 0.009673644019377536,\n",
       " 0.009686088486073663,\n",
       " 0.009688974704760933,\n",
       " 0.009690154991111255,\n",
       " 0.009690225453293011,\n",
       " 0.00971914030084331,\n",
       " 0.009720136829442283,\n",
       " 0.009725926226691106,\n",
       " 0.009732051503048234,\n",
       " 0.009744263576177192,\n",
       " 0.009744875890530302,\n",
       " 0.009752966924143958,\n",
       " 0.009760914900636464,\n",
       " 0.009792556927722185,\n",
       " 0.009815907209814068,\n",
       " 0.009816025928632288,\n",
       " 0.00981825481319254,\n",
       " 0.00983648501241996,\n",
       " 0.009843723145373295,\n",
       " 0.009854025934841748,\n",
       " 0.009859723479988203,\n",
       " 0.009865639805808013,\n",
       " 0.009868708485972322,\n",
       " 0.00988172791625408,\n",
       " 0.009883769489779537,\n",
       " 0.00989758295978449,\n",
       " 0.009908880907087525,\n",
       " 0.009909113627990296,\n",
       " 0.009911322992707028,\n",
       " 0.00992586228292791,\n",
       " 0.009947250797672003,\n",
       " 0.0099478352233342,\n",
       " 0.009947950562796515,\n",
       " 0.009952775651880352,\n",
       " 0.009963532846376855,\n",
       " 0.009985319140145776,\n",
       " 0.009988768678670157,\n",
       " 0.010001976949389757,\n",
       " 0.010017254702715417,\n",
       " 0.010025642112870714,\n",
       " 0.01002997482031398,\n",
       " 0.010034060613575257,\n",
       " 0.010038523978138869,\n",
       " 0.010044553490499597,\n",
       " 0.010056122935887313,\n",
       " 0.010059365729081837,\n",
       " 0.010076145039831785,\n",
       " 0.010083286338632425,\n",
       " 0.010086538468060513,\n",
       " 0.010088092586600594,\n",
       " 0.010101112458163697,\n",
       " 0.010146741776888568,\n",
       " 0.010154429156376543,\n",
       " 0.01016185883793419,\n",
       " 0.010170726309622014,\n",
       " 0.010191766693027127,\n",
       " 0.010196589076144735,\n",
       " 0.010218274663426397,\n",
       " ...]"
      ]
     },
     "execution_count": 573,
     "metadata": {},
     "output_type": "execute_result"
    }
   ],
   "source": [
    "L"
   ]
  },
  {
   "cell_type": "code",
   "execution_count": 40,
   "metadata": {},
   "outputs": [
    {
     "data": {
      "text/plain": [
       "'Surgeon Simulator in Minecraft [Revived]'"
      ]
     },
     "execution_count": 40,
     "metadata": {},
     "output_type": "execute_result"
    }
   ],
   "source": [
    "\"Surgeon Simulator in Minecraft [Revived]\"\n"
   ]
  },
  {
   "cell_type": "code",
   "execution_count": 41,
   "metadata": {},
   "outputs": [
    {
     "name": "stdout",
     "output_type": "stream",
     "text": [
      "Collecting memory_profiler\n",
      "  Downloading memory_profiler-0.60.0.tar.gz (38 kB)\n",
      "Requirement already satisfied: psutil in c:\\users\\kalsr\\anaconda3\\lib\\site-packages (from memory_profiler) (5.8.0)\n",
      "Building wheels for collected packages: memory-profiler\n",
      "  Building wheel for memory-profiler (setup.py): started\n",
      "  Building wheel for memory-profiler (setup.py): finished with status 'done'\n",
      "  Created wheel for memory-profiler: filename=memory_profiler-0.60.0-py3-none-any.whl size=31282 sha256=b4803bb4b9897794521e10d1a2a6a6b60600592ab8e0d28cdc0c5f71514cd35f\n",
      "  Stored in directory: c:\\users\\kalsr\\appdata\\local\\pip\\cache\\wheels\\0c\\46\\40\\2be5888425b5058e7a3205875fda2ecf2219e515ad89dca951\n",
      "Successfully built memory-profiler\n",
      "Installing collected packages: memory-profiler\n",
      "Successfully installed memory-profiler-0.60.0\n"
     ]
    }
   ],
   "source": [
    "!pip install memory_profiler"
   ]
  },
  {
   "cell_type": "code",
   "execution_count": 574,
   "metadata": {},
   "outputs": [
    {
     "ename": "SyntaxError",
     "evalue": "invalid syntax (2020947824.py, line 1)",
     "output_type": "error",
     "traceback": [
      "\u001b[1;36m  Cell \u001b[1;32mIn[574], line 1\u001b[1;36m\u001b[0m\n\u001b[1;33m    from memory_profiler import %memit\u001b[0m\n\u001b[1;37m                                ^\u001b[0m\n\u001b[1;31mSyntaxError\u001b[0m\u001b[1;31m:\u001b[0m invalid syntax\n"
     ]
    }
   ],
   "source": [
    "from memory_profiler import %memit"
   ]
  },
  {
   "cell_type": "code",
   "execution_count": 575,
   "metadata": {},
   "outputs": [
    {
     "name": "stderr",
     "output_type": "stream",
     "text": [
      "UsageError: Line magic function `%memit` not found.\n"
     ]
    }
   ],
   "source": [
    "%memit sum_of_lists(100)"
   ]
  },
  {
   "cell_type": "code",
   "execution_count": 576,
   "metadata": {},
   "outputs": [],
   "source": [
    "import pandas as pd"
   ]
  },
  {
   "cell_type": "code",
   "execution_count": 577,
   "metadata": {},
   "outputs": [
    {
     "name": "stdout",
     "output_type": "stream",
     "text": [
      " Volume in drive C is Windows OS\n",
      " Volume Serial Number is 5E3A-3766\n",
      "\n",
      " Directory of C:\\Users\\kalsr\\Documents\n",
      "\n",
      "06/22/2024  05:39 PM    <DIR>          .\n",
      "06/22/2024  05:39 PM    <DIR>          ..\n",
      "01/01/2024  12:56 AM    <DIR>          .conda\n",
      "01/01/2024  12:56 AM    <DIR>          .idea\n",
      "02/01/2024  06:23 PM    <DIR>          .ipynb_checkpoints\n",
      "01/01/2024  12:56 AM    <DIR>          .keras\n",
      "01/01/2024  12:56 AM    <DIR>          .Rcache\n",
      "01/28/2024  10:17 PM         5,783,123 .RData\n",
      "01/28/2024  10:17 PM            16,334 .Rhistory\n",
      "06/22/2024  05:17 PM    <DIR>          __pycache__\n",
      "01/17/2023  10:09 PM            24,578 adam_r.Rhistory\n",
      "01/01/2024  12:56 AM    <DIR>          ADaMToShiny\n",
      "03/20/2024  04:59 PM    <DIR>          adsl_shiny\n",
      "01/30/2024  08:42 PM             3,627 agrregateExercise1.R\n",
      "08/12/2022  12:23 PM            88,147 alignResults.BAM\n",
      "08/12/2022  12:23 PM               307 alignResults.BAM.indel.vcf\n",
      "08/12/2022  12:23 PM               115 alignResults.BAM.summary\n",
      "08/12/2022  12:35 PM           147,975 alignResultsPE.BAM\n",
      "08/12/2022  12:35 PM               307 alignResultsPE.BAM.indel.vcf\n",
      "08/12/2022  12:35 PM               306 alignResultsPE.BAM.summary\n",
      "12/29/2023  03:33 PM           215,804 analyticsinhealthcare.jpg\n",
      "12/29/2023  03:33 PM           216,661 AnalyticsInHealthCare.pdf\n",
      "01/15/2024  01:45 PM    <DIR>          animalsSelect\n",
      "03/26/2021  01:52 AM            14,575 AnswersToRecursion.ipynb\n",
      "01/10/2024  09:23 PM    <DIR>          Application For Biostistics - BeckmanCoulter\n",
      "11/25/2021  02:59 PM            70,045 APPLICATION FORM FOR SC.pdf\n",
      "01/01/2024  12:56 AM    <DIR>          appVioinPlotRegression\n",
      "12/26/2021  09:15 PM               264 asdf1.txt\n",
      "12/22/2022  09:22 AM         2,228,531 authorization form.jpg\n",
      "12/22/2022  09:27 AM         1,582,536 authorization form.pdf\n",
      "03/15/2021  01:15 AM            13,157 Bash Example .ipynb\n",
      "08/10/2022  03:33 PM           214,499 Basic Cytometry.ipynb\n",
      "01/01/2024  12:56 AM    <DIR>          basicGGPLOTusingShiny\n",
      "01/01/2024  12:56 AM    <DIR>          basicXptPlot\n",
      "08/23/2022  04:02 PM            84,363 Beckman Coulter Offer Letter.pdf\n",
      "01/31/2024  09:19 PM             1,060 BigQueryExampleWithMyytData.txt\n",
      "12/11/2022  10:20 AM           730,256 Billing Statement RP Nov 2022.pdf\n",
      "12/11/2022  10:20 AM           729,571 Billing Statement RP Oct 2022.pdf\n",
      "12/11/2022  10:21 AM           173,226 Billing Statement RP Sept 2022\n",
      "06/14/2023  07:36 AM           260,995 boarding-pass akash.pdf\n",
      "10/21/2022  05:11 PM            17,504 boto3example.ipynb\n",
      "12/17/2023  05:54 PM               870 BRFSS.Rmd\n",
      "01/21/2024  03:27 PM    <DIR>          brushingExample\n",
      "01/01/2024  12:56 AM    <DIR>          bry\n",
      "07/22/2022  09:36 PM               272 bry.html\n",
      "01/01/2024  12:56 AM    <DIR>          catsanddogs\n",
      "01/23/2023  01:48 PM           629,868 cc44.pdf\n",
      "01/17/2023  06:01 PM           230,270 CD02.pdf\n",
      "01/15/2023  03:48 PM           174,132 cdisc on R.pdf\n",
      "01/17/2023  09:45 PM         3,725,196 CDISCMarkDown.nb.html\n",
      "06/01/2023  11:26 AM             2,904 CDISCMarkDown.Rmd\n",
      "01/01/2024  12:56 AM    <DIR>          cellregan\n",
      "01/20/2024  07:44 PM    <DIR>          centralTheorem\n",
      "12/28/2021  02:36 PM           267,542 Certificate_of_Completion SAS Programming Essentials.pdf\n",
      "01/01/2024  12:56 AM    <DIR>          Certificates\n",
      "08/18/2020  09:19 PM             1,405 charts.R\n",
      "01/23/2024  09:53 AM    <DIR>          circularUpdates\n",
      "02/03/2024  06:42 PM         1,259,215 claimsData.pbix\n",
      "01/28/2024  05:53 PM    <DIR>          ClaimsDataFromKaggle\n",
      "01/30/2024  10:16 PM    <DIR>          claimsDataMergeAggregateTable\n",
      "02/01/2024  03:52 PM            52,179 ClaimsData-Pyspark.ipynb\n",
      "01/28/2024  10:17 PM               986 ClaimsDataStatistics.R\n",
      "01/01/2024  12:56 AM    <DIR>          Code\n",
      "01/01/2024  12:56 AM    <DIR>          codes\n",
      "01/23/2024  11:43 AM    <DIR>          colorPalette1\n",
      "01/14/2024  11:55 PM    <DIR>          combinationApp\n",
      "07/11/2019  11:02 PM               710 corrplotMalaria.R\n",
      "02/01/2024  05:48 PM                64 credential.dat\n",
      "07/16/2023  11:16 AM             1,548 CricketAnalysis1.Rmd\n",
      "01/01/2024  12:56 AM    <DIR>          CricketData\n",
      "07/08/2023  01:42 PM             3,253 crossword.py\n",
      "01/01/2024  12:56 AM    <DIR>          Custom Office Templates\n",
      "10/03/2022  01:04 PM            15,758 Data Engineering Evaluation Questions.docx\n",
      "01/13/2024  04:58 PM         6,865,955 data_engieering_pandas.ipynb\n",
      "01/11/2024  02:44 PM         4,674,361 data_engieering_pandas-Copy1.ipynb\n",
      "01/19/2024  09:28 PM    <DIR>          dataDisplayWithSparklyr\n",
      "01/01/2024  12:56 AM    <DIR>          DateFormatChanger1\n",
      "01/20/2024  06:38 PM    <DIR>          debugEx1\n",
      "10/09/2022  11:09 AM               745 derby.log\n",
      "01/24/2024  01:53 PM    <DIR>          describetheembeddeddata\n",
      "08/03/2022  02:09 PM             3,336 DESeq2Example.qmd\n",
      "07/16/2023  09:26 AM             3,199 DESeq2Example.Rmd\n",
      "08/23/2020  04:28 PM            34,575 diabetes_csv.csv\n",
      "01/26/2024  11:04 AM    <DIR>          DiseaseNameFromColumnName\n",
      "01/25/2024  07:55 PM    <DIR>          DiseaseNameFromColumnName Sparklyr\n",
      "11/28/2022  03:40 PM               271 diverse.txt\n",
      "03/25/2024  05:57 PM           183,461 DorianDriveHouseTaxDocument2023.pdf\n",
      "01/23/2024  01:30 PM    <DIR>          dplyrInShiny1\n",
      "01/23/2024  01:38 PM    <DIR>          dplyrShinyApp2\n",
      "09/08/2021  06:21 PM            11,302 DS_DSi_-_Sonic_Rush_-_Sonic_the_Hedgehog.png\n",
      "01/22/2024  03:40 PM    <DIR>          dynamicUI1\n",
      "01/29/2024  07:27 PM    <DIR>          dynamicUIExercise2\n",
      "01/29/2024  06:06 PM    <DIR>          dynamicUIPractise1\n",
      "01/23/2024  11:54 AM    <DIR>          dynamicUpdateUi2\n",
      "08/12/2022  12:51 PM            38,013 ensgene\n",
      "01/14/2024  11:35 PM    <DIR>          ex1\n",
      "01/14/2024  11:50 PM    <DIR>          ex2\n",
      "01/14/2024  11:53 PM    <DIR>          ex3\n",
      "01/15/2024  12:02 AM    <DIR>          ex5\n",
      "01/15/2024  12:07 AM    <DIR>          ex6\n",
      "01/16/2024  04:06 PM    <DIR>          ex7\n",
      "01/16/2024  04:15 PM    <DIR>          ex8\n",
      "01/16/2024  10:11 PM    <DIR>          ex9\n",
      "08/24/2022  09:24 AM               514 example.fasta.txt\n",
      "01/01/2024  12:56 AM    <DIR>          examples-basic-python-flowcytometry\n",
      "01/01/2024  12:56 AM    <DIR>          Fax\n",
      "01/15/2024  03:49 PM    <DIR>          fileUploadShiny\n",
      "01/15/2024  03:44 PM    <DIR>          FirstNameLastName\n",
      "08/03/2022  10:15 AM            78,571 FlowCytometry.ipynb\n",
      "01/14/2024  11:07 PM    <DIR>          fourthone\n",
      "09/15/2022  11:54 AM               976 FrequencyAndContingencyTable.zip\n",
      "11/27/2022  10:26 AM           365,850 Gajendra-moksa.pdf\n",
      "09/26/2022  06:44 PM           661,040 gilad_eset.RData\n",
      "01/09/2024  07:27 AM               149 git token.txt\n",
      "05/14/2020  09:21 PM           117,037 Heartatk_1.RData\n",
      "11/27/2022  11:49 AM            85,064 HOI Progressive 11592.pdf\n",
      "11/27/2022  09:48 PM         9,244,143 HOI Progressive 4203W.pdf\n",
      "09/12/2021  04:23 PM             1,858 htmlddlctest.html\n",
      "01/01/2024  01:59 PM    <DIR>          ICD9toICD10\n",
      "11/27/2022  09:39 PM         1,630,474 IMG_20221127_0001.jpg\n",
      "11/27/2022  09:42 PM         2,039,677 IMG_20221127_0002.jpg\n",
      "11/27/2022  09:42 PM         2,277,614 IMG_20221127_0003.jpg\n",
      "11/27/2022  09:43 PM         2,040,050 IMG_20221127_0004.jpg\n",
      "11/27/2022  09:44 PM         2,063,228 IMG_20221127_0005.jpg\n",
      "11/27/2022  09:44 PM         1,674,366 IMG_20221127_0006.jpg\n",
      "11/27/2022  09:45 PM         1,569,154 IMG_20221127_0007.jpg\n",
      "12/02/2022  01:41 PM         2,474,724 IMG_20221202_0001.jpg\n",
      "12/02/2022  01:41 PM         2,515,086 IMG_20221202_0002.jpg\n",
      "05/29/2023  09:57 AM           950,129 IMG_20230529_0001.pdf\n",
      "05/29/2023  10:00 AM            10,545 IMG_20230529_0003.pdf\n",
      "06/02/2023  11:18 AM         1,768,953 IMG_20230602_0001.jpg\n",
      "03/26/2021  04:12 PM           536,933 integrating DESeq2 with Pandas.ipynb\n",
      "01/07/2023  11:42 AM           380,612 invoiceElementWater.pdf\n",
      "01/23/2024  01:59 PM    <DIR>          irisDataVizShinyApp\n",
      "08/22/2022  11:09 AM           798,654 JHFCU Paypal Transaction.pdf\n",
      "06/02/2024  06:32 PM           156,726 JHFCUDownloadedStatement_cff8789c-2e2c-459c-a441-94f73e_240602_183158.pdf\n",
      "01/13/2024  04:29 PM           168,210 JupterNotebookTabExtension.ipynb\n",
      "01/13/2024  04:29 PM            30,431 JupyterLabTocExtension.ipynb\n",
      "01/01/2024  12:56 AM    <DIR>          kallisto\n",
      "01/06/2022  06:47 PM             6,773 kallisto.ipynb\n",
      "01/01/2024  12:56 AM    <DIR>          KALYAN PASSPORT RENUNCIATION\n",
      "01/18/2023  11:53 AM             6,349 Kalyan Response For Text Eval.Rmd\n",
      "07/08/2023  10:02 PM           161,113 Kalyan_Srivastava_Biodata.pdf\n",
      "12/13/2023  11:55 AM            38,216 Kalyan_Srivastava_Biostatistics.docx\n",
      "07/08/2023  10:20 PM           162,807 Kalyan_Srivastava_Biostatistics.pdf\n",
      "12/21/2023  05:28 PM            37,223 Kalyan_Srivastava_Computational_Biology.docx\n",
      "10/03/2022  01:39 PM           164,962 Kalyan_Srivastava_Resume.pdf\n",
      "07/08/2023  10:03 PM           276,902 Kalyan-Srivastava-Immunology.pdf\n",
      "09/01/2022  09:58 AM            66,919 LC Statement.pdf\n",
      "06/21/2024  05:30 PM           289,538 loan_data.rds\n",
      "06/21/2024  07:09 PM             4,591 loan_data_ARF.R\n",
      "06/21/2024  05:34 PM           309,636 loan_data_ARF.rds\n",
      "12/20/2021  10:32 AM            66,098 loan1 milliman aruplab.pdf\n",
      "01/12/2024  12:04 PM            65,411 logistic regression for prediction from cell population.ipynb\n",
      "01/01/2024  12:56 AM    <DIR>          logs\n",
      "08/16/2022  01:55 PM         7,620,603 lsr-0.6 Ebook On R Stat.pdf\n",
      "02/02/2024  12:33 PM           374,330 Machine Learning Practice With Diabetes Data.ipynb\n",
      "08/25/2022  09:49 AM           144,406 Machine Learning Practise.ipynb\n",
      "06/29/2020  10:10 AM             2,598 Midterm_BUS.RData\n",
      "08/30/2022  10:16 AM         5,636,116 midvale@stewart.com_20220830_101604.pdf\n",
      "09/26/2022  05:40 PM           160,161 Moving Help Sept 2022.png\n",
      "04/13/2024  08:15 PM            52,159 MrCooper1098For2022.pdf\n",
      "04/13/2024  07:41 PM           487,873 MrCooper1098For2023.pdf\n",
      "01/01/2024  12:56 AM    <DIR>          My SAS Files\n",
      "08/28/2022  10:30 PM             2,402 mymodule.ipynb\n",
      "08/28/2022  09:35 PM               205 mymodule.py\n",
      "12/14/2021  11:23 AM            34,717 Navigate Timesheet For November 29 and 30 Nov 2021.xlsx\n",
      "12/14/2021  10:29 AM            34,920 Navigate Timesheet For November.xlsx\n",
      "01/21/2024  01:01 PM    <DIR>          nearClickUsingGgplot2\n",
      "01/21/2024  12:58 PM    <DIR>          nearPointClickExample\n",
      "12/17/2023  11:37 AM            23,544 neural network prediction from cell population.ipynb\n",
      "04/29/2021  09:27 AM            13,346 NK_Cells.csv\n",
      "09/07/2022  12:34 PM             7,603 normalize_vcf.ipynb\n",
      "01/14/2024  07:48 PM    <DIR>          one\n",
      "01/16/2024  02:44 PM             1,384 openCVattempt.ipynb\n",
      "03/25/2024  06:00 PM         2,970,892 OtterparkHouseTaxDocument2023.pdf\n",
      "01/12/2024  06:24 PM    <DIR>          output.parquet\n",
      "08/19/2022  12:20 PM            88,230 PaypalBalance 08182022.PDF\n",
      "01/01/2024  12:56 AM    <DIR>          Penguin\n",
      "01/01/2024  12:56 AM    <DIR>          PetImages\n",
      "01/17/2023  06:10 PM            55,133 PharmaSUG-2013-PO11.pdf\n",
      "01/18/2023  08:25 PM           603,709 PharmaSUG-2017-DS16.pdf\n",
      "01/28/2023  07:29 PM            56,357 PharmaSUG-2019-DS-250.pdf\n",
      "01/28/2023  08:31 PM           396,989 PharmaSUG-2021-DS-014.pdf\n",
      "06/01/2024  10:42 PM    <DIR>          photo samsung\n",
      "01/01/2024  12:56 AM    <DIR>          Pinnacle 21 Community\n",
      "09/28/2021  08:56 PM             2,749 Platformer_framwork.html\n",
      "09/08/2021  05:41 PM            28,173 player00.png\n",
      "10/26/2022  10:22 AM            12,149 Please see sample of my work at.docx\n",
      "01/21/2024  12:44 PM    <DIR>          plotClickEx\n",
      "01/16/2024  03:53 PM    <DIR>          plotExerciseGUIChapter\n",
      "01/01/2024  12:56 AM    <DIR>          pokemon reese\n",
      "03/17/2021  03:23 AM            28,752 Practisng Python.ipynb\n",
      "01/22/2023  02:56 PM           218,639 Pritish Animal Report.pdf\n",
      "06/02/2023  11:17 AM         1,545,718 PritishPassportMay2023.jpg\n",
      "11/28/2022  10:17 AM           407,006 PSID 2022-0626 to 2023-0626 Insurance Certificate.pdf\n",
      "08/10/2022  09:07 AM            57,962 PSID87993 - Homeowner Transaction History August 10 2022.pdf\n",
      "02/18/2020  03:20 PM             8,393 pygame.ipynb\n",
      "08/24/2022  10:32 AM         4,947,995 pyhton bioinformatics commands.ipynb\n",
      "08/03/2022  11:09 AM            14,947 pyrpipe.ipynb\n",
      "08/03/2022  10:03 AM           125,237 Python Code Using R  FirebrowseR.ipynb\n",
      "01/01/2024  12:56 AM    <DIR>          Python Scripts\n",
      "01/01/2024  12:56 AM    <DIR>          python_DE-main\n",
      "08/29/2022  07:50 PM            14,077 PythonVCFwork.ipynb\n",
      "05/25/2023  01:08 PM             1,179 PyTorch.ipynb\n",
      "01/22/2024  07:57 PM    <DIR>          querySalesdata\n",
      "12/08/2022  11:09 AM             2,345 question to alan 12082022.txt\n",
      "01/01/2024  12:56 AM    <DIR>          R\n",
      "06/29/2020  03:37 PM             1,470 RCodeForBiostats.txt\n",
      "06/30/2020  09:05 PM               313 RCommander.R\n",
      "06/30/2020  09:05 PM               975 RCommanderMarkdown.Rmd\n",
      "01/17/2024  08:56 PM    <DIR>          reactive1\n",
      "01/19/2024  09:14 PM    <DIR>          reactiveDataDisplay\n",
      "01/26/2024  02:49 PM    <DIR>          reactiveExample2\n",
      "11/09/2022  10:35 PM            11,204 readme.txt\n",
      "08/12/2022  12:19 PM            23,114 reference_index.00.b.array\n",
      "08/12/2022  12:19 PM                49 reference_index.files\n",
      "08/12/2022  12:19 PM                 0 reference_index.log\n",
      "08/12/2022  12:19 PM                16 reference_index.reads\n",
      "01/04/2024  08:37 PM    <DIR>          RegressionAnalysisForCells\n",
      "02/22/2021  03:24 AM             3,152 ResponseToRancho.R\n",
      "02/21/2021  11:51 PM             3,253 ResponseToRanchoIDOCTLA4.R\n",
      "02/22/2021  03:22 AM             3,151 ResponseToRanchoOlder.R\n",
      "07/08/2023  10:11 PM           129,289 Resume_Data_Science_Kalyan_Srivastava.pdf\n",
      "12/20/2022  09:52 AM            34,513 Resume_Kalyan_Meta.docx\n",
      "01/19/2024  08:50 PM               477 returnColumnNamesIfRowContainsSomething.R\n",
      "01/01/2024  12:56 AM    <DIR>          ROBLOX\n",
      "12/11/2022  10:17 AM           173,996 RoundpointBillingStatement Nov 2022\n",
      "12/11/2022  10:18 AM           173,654 RoundpointBillingStatement Oct 2022\n",
      "12/11/2022  10:18 AM           173,226 RoundpointBillingStatement Sept 2022\n",
      "12/22/2022  04:31 PM             5,056 RoundpointBillingStatementOfPayment.PDF\n",
      "11/14/2022  09:25 PM           173,648 rpmortgageNov2022\n",
      "11/09/2022  10:38 PM               402 RunAsDate.cfg\n",
      "11/09/2022  10:35 PM            16,068 RunAsDate.chm\n",
      "11/09/2022  10:35 PM           101,704 RunAsDate.exe\n",
      "10/09/2022  05:40 PM             3,748 sample.txt\n",
      "01/04/2024  01:10 PM    <DIR>          samples\n",
      "10/26/2022  10:20 AM               115 sampleWork.txt\n",
      "01/01/2024  12:56 AM    <DIR>          Samsung tablet files from sd\n",
      "01/01/2024  12:56 AM    <DIR>          SAS\n",
      "06/21/2024  09:52 PM               583 SAS-Keyword_search.R\n",
      "01/01/2024  12:56 AM    <DIR>          Scanned Documents\n",
      "01/01/2024  12:56 AM    <DIR>          scikit-learn-videos-master\n",
      "01/14/2024  07:59 PM    <DIR>          secondone\n",
      "01/15/2024  03:41 PM    <DIR>          selectSeveralInput\n",
      "01/01/2024  12:56 AM    <DIR>          server.R\n",
      "12/21/2022  12:43 PM           129,856 Shalini June Delta Ticket.png\n",
      "01/01/2024  12:56 AM    <DIR>          SHALINI PASSPORT RENUNCIATION\n",
      "12/02/2022  01:43 PM         3,555,346 Shalini W2 2020 and 2021.pdf\n",
      "01/01/2024  12:56 AM    <DIR>          ShaliniEvisaJune2023\n",
      "11/29/2022  11:36 PM            51,781 ShaliniTicketRecieptDec2022.pdf\n",
      "01/01/2024  12:56 AM    <DIR>          ShinyAppAEBoxPlot\n",
      "01/01/2024  12:56 AM    <DIR>          ShinyAppDuplicate2\n",
      "01/01/2024  12:56 AM    <DIR>          ShinyApp-ggplot2\n",
      "01/30/2024  12:25 PM               266 shinyappListHOSTED.txt\n",
      "01/01/2024  05:44 PM    <DIR>          shinyAppPivotTable\n",
      "01/01/2024  12:56 AM    <DIR>          ShinyAppPlannedTreatment\n",
      "12/25/2023  03:21 PM             1,867 ShinyAppWithBoxPot.R\n",
      "01/01/2024  12:56 AM    <DIR>          ShinyAppWithPackageDataShort\n",
      "01/01/2024  10:04 PM    <DIR>          shinyappwithPivotTable\n",
      "01/30/2024  08:42 PM    <DIR>          shinyDashboard1\n",
      "02/03/2024  05:17 PM         3,271,051 shinyintro.pdf\n",
      "01/19/2024  08:53 PM    <DIR>          showRandomSampleFromBigData\n",
      "01/01/2024  12:56 AM    <DIR>          SideSync\n",
      "12/14/2023  02:31 PM           175,623 sklearn prediction from cell population.ipynb\n",
      "01/15/2024  05:05 PM    <DIR>          SliderAppExample\n",
      "01/15/2024  05:22 PM    <DIR>          sliderInputExample\n",
      "09/08/2021  06:32 PM            61,822 SonicFabgane.rbxl\n",
      "01/01/2024  12:56 AM    <DIR>          Sound recordings\n",
      "01/11/2024  05:47 PM    <DIR>          spark-3.5.0-bin-hadoop3\n",
      "01/16/2024  11:28 AM    <DIR>          spark-warehouse\n",
      "01/12/2024  12:09 PM           337,692 SplitViolinPlotPython.ipynb\n",
      "09/06/2021  12:06 PM             1,656 sqrt.ipynb\n",
      "09/06/2021  11:45 AM                 0 squareroot.html\n",
      "01/15/2024  03:19 PM    <DIR>          stateSelect\n",
      "07/23/2022  01:11 PM               202 Stone_Pickaxe_JE2_BE2.png\n",
      "05/14/2020  08:24 PM             1,551 Student_data_1.RData\n",
      "01/14/2024  02:10 PM           992,364 styled.xlsx\n",
      "01/26/2024  11:49 AM    <DIR>          stylizedVerbatimOutput\n",
      "10/08/2022  06:39 PM             1,018 SubreadsExample.Rmd\n",
      "09/08/2021  05:59 PM            39,100 supersonic.png\n",
      "01/16/2024  03:41 PM    <DIR>          tableOutPutExercise\n",
      "01/01/2024  12:56 AM    <DIR>          takePersonalInfoExercise1\n",
      "11/28/2022  03:38 PM               307 teaching_philosophy.txt\n",
      "07/17/2023  12:11 PM           235,946 TemporaryDriverLicenceUtah2023.pdf\n",
      "06/02/2023  04:32 PM            10,316 test_addTable.doc\n",
      "01/25/2024  11:22 AM    <DIR>          testThatShniy1\n",
      "01/15/2024  04:11 PM    <DIR>          textInputExample\n",
      "01/16/2024  03:16 PM    <DIR>          textOutPutGUICapter\n",
      "01/14/2024  09:42 PM    <DIR>          thirdone\n",
      "06/11/2024  10:40 PM            15,395 titanic data.ipynb\n",
      "01/01/2024  12:56 AM    <DIR>          ToShiny\n",
      "01/24/2024  01:32 PM    <DIR>          treatmentDurationShinyApp\n",
      "11/28/2022  03:19 PM               403 UCB CL.txt\n",
      "01/23/2024  10:22 AM    <DIR>          uiHide\n",
      "01/23/2024  10:52 AM    <DIR>          uiWithCode1\n",
      "08/29/2021  06:21 PM               936 Unity_lic.alf\n",
      "01/22/2024  06:36 PM    <DIR>          updateEx2\n",
      "01/22/2024  06:09 PM    <DIR>          updateSliderInputEx1\n",
      "01/23/2024  07:08 PM    <DIR>          userUpdateData\n",
      "01/22/2024  09:51 AM           167,915 USG Compliance Data Analytics.pdf\n",
      "01/11/2024  02:37 PM         1,355,781 vgsales.csv\n",
      "01/31/2024  11:30 AM        69,783,001 VGSALES-Pyspark.ipynb\n",
      "01/01/2024  12:56 AM    <DIR>          visualizeData\n",
      "01/15/2023  03:21 PM           182,480 vs.xpt\n",
      "11/15/2022  11:54 AM           954,692 W2 ARUP 2020.pdf\n",
      "11/15/2022  11:55 AM         1,393,307 W2 ARUP 2021.pdf\n",
      "06/22/2024  05:39 PM           396,573 w3practise.ipynb\n",
      "01/20/2024  01:33 PM         1,394,546 W9 Alata Data Analytics.pdf\n",
      "01/01/2024  12:56 AM    <DIR>          whatIsError1\n",
      "10/09/2022  09:53 AM               302 word_count.R\n",
      "01/18/2024  02:13 PM    <DIR>          workingExamplesFromChapter\n",
      "01/01/2024  12:56 AM    <DIR>          Zoom\n",
      "             188 File(s)    177,825,831 bytes\n",
      "             125 Dir(s)  228,959,793,152 bytes free\n"
     ]
    }
   ],
   "source": [
    "%ls"
   ]
  },
  {
   "cell_type": "code",
   "execution_count": 578,
   "metadata": {},
   "outputs": [
    {
     "data": {
      "text/html": [
       "<div>\n",
       "<style scoped>\n",
       "    .dataframe tbody tr th:only-of-type {\n",
       "        vertical-align: middle;\n",
       "    }\n",
       "\n",
       "    .dataframe tbody tr th {\n",
       "        vertical-align: top;\n",
       "    }\n",
       "\n",
       "    .dataframe thead th {\n",
       "        text-align: right;\n",
       "    }\n",
       "</style>\n",
       "<table border=\"1\" class=\"dataframe\">\n",
       "  <thead>\n",
       "    <tr style=\"text-align: right;\">\n",
       "      <th></th>\n",
       "      <th>Donor</th>\n",
       "      <th>Status</th>\n",
       "      <th>NK Cells</th>\n",
       "      <th>CD16plus CD56int NK Cells</th>\n",
       "      <th>CD16plus CD56int CD69plus NK Cells</th>\n",
       "      <th>CD16plus CD56int NKp44plus NK Cells</th>\n",
       "      <th>CD16plus CD56int CXCR2hi NK Cells</th>\n",
       "      <th>CD16plus CD56int CD127plus NK Cells</th>\n",
       "      <th>CD16plus CD56int NKp46plus NK Cells</th>\n",
       "      <th>CD16plus CD56int CD107a NK Cells</th>\n",
       "      <th>...</th>\n",
       "      <th>CD16- CD56hi NKG2Cplus NK Cells</th>\n",
       "      <th>CD16- CD56hi CD94plus NK Cells</th>\n",
       "      <th>CD16- CD56hi CD25plus NK Cells</th>\n",
       "      <th>CD16- CD56hi CD226plus NK Cells</th>\n",
       "      <th>CD16- CD56hi CD57plus  NK Cells</th>\n",
       "      <th>CD16- CD56hi CD57-  NK Cells</th>\n",
       "      <th>CD16- CD56hi KLRG1plus NK Cells</th>\n",
       "      <th>CD16- CD56hi HLADRplus NK Cells</th>\n",
       "      <th>CD16- CD56hi  ILRAplus NK Cells</th>\n",
       "      <th>NKT Population</th>\n",
       "    </tr>\n",
       "  </thead>\n",
       "  <tbody>\n",
       "    <tr>\n",
       "      <th>0</th>\n",
       "      <td>01_ARUP 05222018 B Cell</td>\n",
       "      <td>ND</td>\n",
       "      <td>168029</td>\n",
       "      <td>164316</td>\n",
       "      <td>16669</td>\n",
       "      <td>164</td>\n",
       "      <td>1505</td>\n",
       "      <td>0</td>\n",
       "      <td>245</td>\n",
       "      <td>474</td>\n",
       "      <td>...</td>\n",
       "      <td>752</td>\n",
       "      <td>1129</td>\n",
       "      <td>180</td>\n",
       "      <td>1031</td>\n",
       "      <td>33</td>\n",
       "      <td>1145</td>\n",
       "      <td>409</td>\n",
       "      <td>33</td>\n",
       "      <td>0</td>\n",
       "      <td>59870</td>\n",
       "    </tr>\n",
       "    <tr>\n",
       "      <th>1</th>\n",
       "      <td>05012018 B Cells</td>\n",
       "      <td>ND</td>\n",
       "      <td>319110</td>\n",
       "      <td>309188</td>\n",
       "      <td>102196</td>\n",
       "      <td>53</td>\n",
       "      <td>28706</td>\n",
       "      <td>0</td>\n",
       "      <td>1220</td>\n",
       "      <td>2122</td>\n",
       "      <td>...</td>\n",
       "      <td>3201</td>\n",
       "      <td>4882</td>\n",
       "      <td>460</td>\n",
       "      <td>3502</td>\n",
       "      <td>1539</td>\n",
       "      <td>3431</td>\n",
       "      <td>2069</td>\n",
       "      <td>778</td>\n",
       "      <td>0</td>\n",
       "      <td>32898</td>\n",
       "    </tr>\n",
       "    <tr>\n",
       "      <th>2</th>\n",
       "      <td>05092018 B Cells</td>\n",
       "      <td>ND</td>\n",
       "      <td>76104</td>\n",
       "      <td>74531</td>\n",
       "      <td>9693</td>\n",
       "      <td>96</td>\n",
       "      <td>2696</td>\n",
       "      <td>0</td>\n",
       "      <td>0</td>\n",
       "      <td>128</td>\n",
       "      <td>...</td>\n",
       "      <td>96</td>\n",
       "      <td>706</td>\n",
       "      <td>160</td>\n",
       "      <td>481</td>\n",
       "      <td>0</td>\n",
       "      <td>770</td>\n",
       "      <td>96</td>\n",
       "      <td>64</td>\n",
       "      <td>0</td>\n",
       "      <td>234859</td>\n",
       "    </tr>\n",
       "    <tr>\n",
       "      <th>3</th>\n",
       "      <td>05102018 B Cell #118</td>\n",
       "      <td>ND</td>\n",
       "      <td>12498</td>\n",
       "      <td>12330</td>\n",
       "      <td>5360</td>\n",
       "      <td>24</td>\n",
       "      <td>769</td>\n",
       "      <td>0</td>\n",
       "      <td>0</td>\n",
       "      <td>0</td>\n",
       "      <td>...</td>\n",
       "      <td>0</td>\n",
       "      <td>168</td>\n",
       "      <td>0</td>\n",
       "      <td>144</td>\n",
       "      <td>0</td>\n",
       "      <td>168</td>\n",
       "      <td>48</td>\n",
       "      <td>0</td>\n",
       "      <td>0</td>\n",
       "      <td>16248</td>\n",
       "    </tr>\n",
       "    <tr>\n",
       "      <th>4</th>\n",
       "      <td>05152018 B Cell #115</td>\n",
       "      <td>ND</td>\n",
       "      <td>46378</td>\n",
       "      <td>45235</td>\n",
       "      <td>7148</td>\n",
       "      <td>0</td>\n",
       "      <td>50</td>\n",
       "      <td>0</td>\n",
       "      <td>25</td>\n",
       "      <td>163</td>\n",
       "      <td>...</td>\n",
       "      <td>176</td>\n",
       "      <td>1030</td>\n",
       "      <td>38</td>\n",
       "      <td>892</td>\n",
       "      <td>0</td>\n",
       "      <td>1043</td>\n",
       "      <td>13</td>\n",
       "      <td>25</td>\n",
       "      <td>0</td>\n",
       "      <td>4258</td>\n",
       "    </tr>\n",
       "    <tr>\n",
       "      <th>5</th>\n",
       "      <td>05162018 B Cell #6</td>\n",
       "      <td>ND</td>\n",
       "      <td>286223</td>\n",
       "      <td>278575</td>\n",
       "      <td>11031</td>\n",
       "      <td>147</td>\n",
       "      <td>5589</td>\n",
       "      <td>0</td>\n",
       "      <td>882</td>\n",
       "      <td>1177</td>\n",
       "      <td>...</td>\n",
       "      <td>2206</td>\n",
       "      <td>6325</td>\n",
       "      <td>441</td>\n",
       "      <td>3824</td>\n",
       "      <td>147</td>\n",
       "      <td>6472</td>\n",
       "      <td>441</td>\n",
       "      <td>147</td>\n",
       "      <td>0</td>\n",
       "      <td>80601</td>\n",
       "    </tr>\n",
       "    <tr>\n",
       "      <th>6</th>\n",
       "      <td>05182018 B Cell #66</td>\n",
       "      <td>ND</td>\n",
       "      <td>16239</td>\n",
       "      <td>15598</td>\n",
       "      <td>7469</td>\n",
       "      <td>9</td>\n",
       "      <td>5689</td>\n",
       "      <td>0</td>\n",
       "      <td>47</td>\n",
       "      <td>122</td>\n",
       "      <td>...</td>\n",
       "      <td>198</td>\n",
       "      <td>593</td>\n",
       "      <td>66</td>\n",
       "      <td>546</td>\n",
       "      <td>9</td>\n",
       "      <td>584</td>\n",
       "      <td>85</td>\n",
       "      <td>66</td>\n",
       "      <td>0</td>\n",
       "      <td>3278</td>\n",
       "    </tr>\n",
       "    <tr>\n",
       "      <th>7</th>\n",
       "      <td>05212018 B Cell #103</td>\n",
       "      <td>ND</td>\n",
       "      <td>90046</td>\n",
       "      <td>88460</td>\n",
       "      <td>13477</td>\n",
       "      <td>93</td>\n",
       "      <td>280</td>\n",
       "      <td>0</td>\n",
       "      <td>93</td>\n",
       "      <td>93</td>\n",
       "      <td>...</td>\n",
       "      <td>886</td>\n",
       "      <td>1259</td>\n",
       "      <td>93</td>\n",
       "      <td>1073</td>\n",
       "      <td>93</td>\n",
       "      <td>1259</td>\n",
       "      <td>326</td>\n",
       "      <td>280</td>\n",
       "      <td>0</td>\n",
       "      <td>168433</td>\n",
       "    </tr>\n",
       "    <tr>\n",
       "      <th>8</th>\n",
       "      <td>05222018 B Cell #78</td>\n",
       "      <td>ND</td>\n",
       "      <td>89288</td>\n",
       "      <td>88673</td>\n",
       "      <td>19227</td>\n",
       "      <td>0</td>\n",
       "      <td>27344</td>\n",
       "      <td>0</td>\n",
       "      <td>492</td>\n",
       "      <td>246</td>\n",
       "      <td>...</td>\n",
       "      <td>0</td>\n",
       "      <td>0</td>\n",
       "      <td>0</td>\n",
       "      <td>0</td>\n",
       "      <td>0</td>\n",
       "      <td>0</td>\n",
       "      <td>0</td>\n",
       "      <td>0</td>\n",
       "      <td>0</td>\n",
       "      <td>25786</td>\n",
       "    </tr>\n",
       "    <tr>\n",
       "      <th>9</th>\n",
       "      <td>05232018 B Cells 02_ARUP</td>\n",
       "      <td>ND</td>\n",
       "      <td>177798</td>\n",
       "      <td>173666</td>\n",
       "      <td>26080</td>\n",
       "      <td>29</td>\n",
       "      <td>14018</td>\n",
       "      <td>0</td>\n",
       "      <td>394</td>\n",
       "      <td>949</td>\n",
       "      <td>...</td>\n",
       "      <td>803</td>\n",
       "      <td>2074</td>\n",
       "      <td>131</td>\n",
       "      <td>1840</td>\n",
       "      <td>204</td>\n",
       "      <td>2044</td>\n",
       "      <td>409</td>\n",
       "      <td>117</td>\n",
       "      <td>0</td>\n",
       "      <td>46771</td>\n",
       "    </tr>\n",
       "    <tr>\n",
       "      <th>10</th>\n",
       "      <td>05302018 B Cells 03_ARUP</td>\n",
       "      <td>ND</td>\n",
       "      <td>87473</td>\n",
       "      <td>84361</td>\n",
       "      <td>15562</td>\n",
       "      <td>196</td>\n",
       "      <td>1719</td>\n",
       "      <td>0</td>\n",
       "      <td>2285</td>\n",
       "      <td>174</td>\n",
       "      <td>...</td>\n",
       "      <td>457</td>\n",
       "      <td>2133</td>\n",
       "      <td>131</td>\n",
       "      <td>1698</td>\n",
       "      <td>0</td>\n",
       "      <td>2155</td>\n",
       "      <td>392</td>\n",
       "      <td>65</td>\n",
       "      <td>0</td>\n",
       "      <td>111110</td>\n",
       "    </tr>\n",
       "    <tr>\n",
       "      <th>11</th>\n",
       "      <td>05302018 B Cells 04_ARUP</td>\n",
       "      <td>ND</td>\n",
       "      <td>381038</td>\n",
       "      <td>370340</td>\n",
       "      <td>33461</td>\n",
       "      <td>591</td>\n",
       "      <td>23058</td>\n",
       "      <td>0</td>\n",
       "      <td>3178</td>\n",
       "      <td>1404</td>\n",
       "      <td>...</td>\n",
       "      <td>1589</td>\n",
       "      <td>4804</td>\n",
       "      <td>240</td>\n",
       "      <td>3289</td>\n",
       "      <td>0</td>\n",
       "      <td>4822</td>\n",
       "      <td>536</td>\n",
       "      <td>74</td>\n",
       "      <td>0</td>\n",
       "      <td>72520</td>\n",
       "    </tr>\n",
       "    <tr>\n",
       "      <th>12</th>\n",
       "      <td>05312018 B Cells 06_ARUP</td>\n",
       "      <td>ND</td>\n",
       "      <td>127886</td>\n",
       "      <td>126598</td>\n",
       "      <td>21296</td>\n",
       "      <td>54</td>\n",
       "      <td>2816</td>\n",
       "      <td>0</td>\n",
       "      <td>80</td>\n",
       "      <td>778</td>\n",
       "      <td>...</td>\n",
       "      <td>483</td>\n",
       "      <td>858</td>\n",
       "      <td>80</td>\n",
       "      <td>510</td>\n",
       "      <td>27</td>\n",
       "      <td>831</td>\n",
       "      <td>54</td>\n",
       "      <td>0</td>\n",
       "      <td>0</td>\n",
       "      <td>36933</td>\n",
       "    </tr>\n",
       "    <tr>\n",
       "      <th>13</th>\n",
       "      <td>06012018 B Cells 05_ARUP</td>\n",
       "      <td>ND</td>\n",
       "      <td>83911</td>\n",
       "      <td>82733</td>\n",
       "      <td>23354</td>\n",
       "      <td>26</td>\n",
       "      <td>916</td>\n",
       "      <td>0</td>\n",
       "      <td>79</td>\n",
       "      <td>1519</td>\n",
       "      <td>...</td>\n",
       "      <td>262</td>\n",
       "      <td>1047</td>\n",
       "      <td>0</td>\n",
       "      <td>995</td>\n",
       "      <td>0</td>\n",
       "      <td>1073</td>\n",
       "      <td>367</td>\n",
       "      <td>131</td>\n",
       "      <td>0</td>\n",
       "      <td>98913</td>\n",
       "    </tr>\n",
       "    <tr>\n",
       "      <th>14</th>\n",
       "      <td>06042018 B Cells 07_ARUP</td>\n",
       "      <td>ND</td>\n",
       "      <td>96050</td>\n",
       "      <td>88200</td>\n",
       "      <td>19414</td>\n",
       "      <td>227</td>\n",
       "      <td>964</td>\n",
       "      <td>0</td>\n",
       "      <td>142</td>\n",
       "      <td>538</td>\n",
       "      <td>...</td>\n",
       "      <td>198</td>\n",
       "      <td>1417</td>\n",
       "      <td>0</td>\n",
       "      <td>1134</td>\n",
       "      <td>0</td>\n",
       "      <td>1417</td>\n",
       "      <td>57</td>\n",
       "      <td>28</td>\n",
       "      <td>0</td>\n",
       "      <td>22333</td>\n",
       "    </tr>\n",
       "    <tr>\n",
       "      <th>15</th>\n",
       "      <td>06042018 B Cells 08_ARUP</td>\n",
       "      <td>ND</td>\n",
       "      <td>44362</td>\n",
       "      <td>40766</td>\n",
       "      <td>8990</td>\n",
       "      <td>159</td>\n",
       "      <td>207</td>\n",
       "      <td>0</td>\n",
       "      <td>159</td>\n",
       "      <td>175</td>\n",
       "      <td>...</td>\n",
       "      <td>32</td>\n",
       "      <td>80</td>\n",
       "      <td>0</td>\n",
       "      <td>80</td>\n",
       "      <td>0</td>\n",
       "      <td>80</td>\n",
       "      <td>0</td>\n",
       "      <td>0</td>\n",
       "      <td>0</td>\n",
       "      <td>26955</td>\n",
       "    </tr>\n",
       "    <tr>\n",
       "      <th>16</th>\n",
       "      <td>06052018 B Cells 09_ARUP</td>\n",
       "      <td>ND</td>\n",
       "      <td>166363</td>\n",
       "      <td>164439</td>\n",
       "      <td>29986</td>\n",
       "      <td>44</td>\n",
       "      <td>1614</td>\n",
       "      <td>0</td>\n",
       "      <td>376</td>\n",
       "      <td>818</td>\n",
       "      <td>...</td>\n",
       "      <td>553</td>\n",
       "      <td>1327</td>\n",
       "      <td>376</td>\n",
       "      <td>1283</td>\n",
       "      <td>66</td>\n",
       "      <td>1327</td>\n",
       "      <td>398</td>\n",
       "      <td>111</td>\n",
       "      <td>0</td>\n",
       "      <td>21340</td>\n",
       "    </tr>\n",
       "    <tr>\n",
       "      <th>17</th>\n",
       "      <td>06062018 B Cells 10_ARUP</td>\n",
       "      <td>ND</td>\n",
       "      <td>248878</td>\n",
       "      <td>245780</td>\n",
       "      <td>55016</td>\n",
       "      <td>147</td>\n",
       "      <td>4359</td>\n",
       "      <td>0</td>\n",
       "      <td>1482</td>\n",
       "      <td>269</td>\n",
       "      <td>...</td>\n",
       "      <td>367</td>\n",
       "      <td>857</td>\n",
       "      <td>147</td>\n",
       "      <td>722</td>\n",
       "      <td>24</td>\n",
       "      <td>1016</td>\n",
       "      <td>159</td>\n",
       "      <td>73</td>\n",
       "      <td>0</td>\n",
       "      <td>10935</td>\n",
       "    </tr>\n",
       "    <tr>\n",
       "      <th>18</th>\n",
       "      <td>06072018 B Cells 11_ARUP</td>\n",
       "      <td>ND</td>\n",
       "      <td>168985</td>\n",
       "      <td>164694</td>\n",
       "      <td>16808</td>\n",
       "      <td>355</td>\n",
       "      <td>1041</td>\n",
       "      <td>0</td>\n",
       "      <td>1066</td>\n",
       "      <td>406</td>\n",
       "      <td>...</td>\n",
       "      <td>368</td>\n",
       "      <td>1308</td>\n",
       "      <td>127</td>\n",
       "      <td>1143</td>\n",
       "      <td>127</td>\n",
       "      <td>1219</td>\n",
       "      <td>203</td>\n",
       "      <td>127</td>\n",
       "      <td>0</td>\n",
       "      <td>97473</td>\n",
       "    </tr>\n",
       "    <tr>\n",
       "      <th>19</th>\n",
       "      <td>06082018 B Cells 12_ARUP</td>\n",
       "      <td>ND</td>\n",
       "      <td>201980</td>\n",
       "      <td>200736</td>\n",
       "      <td>41867</td>\n",
       "      <td>3299</td>\n",
       "      <td>22091</td>\n",
       "      <td>104</td>\n",
       "      <td>12108</td>\n",
       "      <td>795</td>\n",
       "      <td>...</td>\n",
       "      <td>207</td>\n",
       "      <td>449</td>\n",
       "      <td>69</td>\n",
       "      <td>311</td>\n",
       "      <td>17</td>\n",
       "      <td>432</td>\n",
       "      <td>35</td>\n",
       "      <td>17</td>\n",
       "      <td>0</td>\n",
       "      <td>12401</td>\n",
       "    </tr>\n",
       "    <tr>\n",
       "      <th>20</th>\n",
       "      <td>06122018 B Cells 13_ARUP</td>\n",
       "      <td>ND</td>\n",
       "      <td>152268</td>\n",
       "      <td>143551</td>\n",
       "      <td>21885</td>\n",
       "      <td>14</td>\n",
       "      <td>499</td>\n",
       "      <td>0</td>\n",
       "      <td>71</td>\n",
       "      <td>899</td>\n",
       "      <td>...</td>\n",
       "      <td>1184</td>\n",
       "      <td>2226</td>\n",
       "      <td>357</td>\n",
       "      <td>2054</td>\n",
       "      <td>0</td>\n",
       "      <td>2226</td>\n",
       "      <td>742</td>\n",
       "      <td>57</td>\n",
       "      <td>0</td>\n",
       "      <td>65840</td>\n",
       "    </tr>\n",
       "    <tr>\n",
       "      <th>21</th>\n",
       "      <td>06142018 B Cells 14_ARUP</td>\n",
       "      <td>ND</td>\n",
       "      <td>71917</td>\n",
       "      <td>70782</td>\n",
       "      <td>24316</td>\n",
       "      <td>103</td>\n",
       "      <td>9165</td>\n",
       "      <td>0</td>\n",
       "      <td>826</td>\n",
       "      <td>888</td>\n",
       "      <td>...</td>\n",
       "      <td>289</td>\n",
       "      <td>1073</td>\n",
       "      <td>124</td>\n",
       "      <td>1073</td>\n",
       "      <td>41</td>\n",
       "      <td>1094</td>\n",
       "      <td>330</td>\n",
       "      <td>103</td>\n",
       "      <td>0</td>\n",
       "      <td>49438</td>\n",
       "    </tr>\n",
       "    <tr>\n",
       "      <th>22</th>\n",
       "      <td>06142018 B Cells 15_ARUP</td>\n",
       "      <td>ND</td>\n",
       "      <td>185191</td>\n",
       "      <td>178578</td>\n",
       "      <td>38642</td>\n",
       "      <td>283</td>\n",
       "      <td>7707</td>\n",
       "      <td>0</td>\n",
       "      <td>1107</td>\n",
       "      <td>1026</td>\n",
       "      <td>...</td>\n",
       "      <td>202</td>\n",
       "      <td>945</td>\n",
       "      <td>54</td>\n",
       "      <td>580</td>\n",
       "      <td>27</td>\n",
       "      <td>958</td>\n",
       "      <td>40</td>\n",
       "      <td>27</td>\n",
       "      <td>0</td>\n",
       "      <td>19233</td>\n",
       "    </tr>\n",
       "    <tr>\n",
       "      <th>23</th>\n",
       "      <td>06142018 B Cells 16_ARUP</td>\n",
       "      <td>ND</td>\n",
       "      <td>492349</td>\n",
       "      <td>484827</td>\n",
       "      <td>144991</td>\n",
       "      <td>903</td>\n",
       "      <td>16125</td>\n",
       "      <td>0</td>\n",
       "      <td>4267</td>\n",
       "      <td>2079</td>\n",
       "      <td>...</td>\n",
       "      <td>629</td>\n",
       "      <td>1286</td>\n",
       "      <td>287</td>\n",
       "      <td>1176</td>\n",
       "      <td>96</td>\n",
       "      <td>1245</td>\n",
       "      <td>369</td>\n",
       "      <td>383</td>\n",
       "      <td>0</td>\n",
       "      <td>21364</td>\n",
       "    </tr>\n",
       "    <tr>\n",
       "      <th>24</th>\n",
       "      <td>06252018 ER B Cell Panel Resting</td>\n",
       "      <td>ND</td>\n",
       "      <td>88653</td>\n",
       "      <td>88630</td>\n",
       "      <td>70104</td>\n",
       "      <td>67</td>\n",
       "      <td>536</td>\n",
       "      <td>0</td>\n",
       "      <td>805</td>\n",
       "      <td>894</td>\n",
       "      <td>...</td>\n",
       "      <td>0</td>\n",
       "      <td>0</td>\n",
       "      <td>0</td>\n",
       "      <td>0</td>\n",
       "      <td>0</td>\n",
       "      <td>0</td>\n",
       "      <td>0</td>\n",
       "      <td>0</td>\n",
       "      <td>0</td>\n",
       "      <td>101636</td>\n",
       "    </tr>\n",
       "    <tr>\n",
       "      <th>25</th>\n",
       "      <td>KS B Cell 08012018</td>\n",
       "      <td>ND</td>\n",
       "      <td>255761</td>\n",
       "      <td>242948</td>\n",
       "      <td>41520</td>\n",
       "      <td>86</td>\n",
       "      <td>1712</td>\n",
       "      <td>0</td>\n",
       "      <td>648</td>\n",
       "      <td>1125</td>\n",
       "      <td>...</td>\n",
       "      <td>1100</td>\n",
       "      <td>2335</td>\n",
       "      <td>245</td>\n",
       "      <td>1406</td>\n",
       "      <td>37</td>\n",
       "      <td>2311</td>\n",
       "      <td>330</td>\n",
       "      <td>61</td>\n",
       "      <td>0</td>\n",
       "      <td>55556</td>\n",
       "    </tr>\n",
       "    <tr>\n",
       "      <th>26</th>\n",
       "      <td>07132018 K007-1</td>\n",
       "      <td>CVID</td>\n",
       "      <td>72193</td>\n",
       "      <td>71453</td>\n",
       "      <td>8006</td>\n",
       "      <td>157</td>\n",
       "      <td>1458</td>\n",
       "      <td>0</td>\n",
       "      <td>22</td>\n",
       "      <td>0</td>\n",
       "      <td>...</td>\n",
       "      <td>67</td>\n",
       "      <td>471</td>\n",
       "      <td>0</td>\n",
       "      <td>314</td>\n",
       "      <td>0</td>\n",
       "      <td>471</td>\n",
       "      <td>22</td>\n",
       "      <td>0</td>\n",
       "      <td>0</td>\n",
       "      <td>23795</td>\n",
       "    </tr>\n",
       "    <tr>\n",
       "      <th>27</th>\n",
       "      <td>07162018  S5</td>\n",
       "      <td>CVID</td>\n",
       "      <td>287161</td>\n",
       "      <td>286538</td>\n",
       "      <td>38482</td>\n",
       "      <td>1621</td>\n",
       "      <td>17828</td>\n",
       "      <td>0</td>\n",
       "      <td>2369</td>\n",
       "      <td>332</td>\n",
       "      <td>...</td>\n",
       "      <td>42</td>\n",
       "      <td>42</td>\n",
       "      <td>42</td>\n",
       "      <td>42</td>\n",
       "      <td>0</td>\n",
       "      <td>83</td>\n",
       "      <td>42</td>\n",
       "      <td>42</td>\n",
       "      <td>0</td>\n",
       "      <td>33246</td>\n",
       "    </tr>\n",
       "    <tr>\n",
       "      <th>28</th>\n",
       "      <td>07202018 K001-3</td>\n",
       "      <td>CVID</td>\n",
       "      <td>377645</td>\n",
       "      <td>375808</td>\n",
       "      <td>202995</td>\n",
       "      <td>890</td>\n",
       "      <td>12781</td>\n",
       "      <td>0</td>\n",
       "      <td>8066</td>\n",
       "      <td>1799</td>\n",
       "      <td>...</td>\n",
       "      <td>114</td>\n",
       "      <td>133</td>\n",
       "      <td>19</td>\n",
       "      <td>133</td>\n",
       "      <td>0</td>\n",
       "      <td>133</td>\n",
       "      <td>0</td>\n",
       "      <td>0</td>\n",
       "      <td>0</td>\n",
       "      <td>14239</td>\n",
       "    </tr>\n",
       "    <tr>\n",
       "      <th>29</th>\n",
       "      <td>07202018  K001-21</td>\n",
       "      <td>CVID</td>\n",
       "      <td>70864</td>\n",
       "      <td>70219</td>\n",
       "      <td>31644</td>\n",
       "      <td>228</td>\n",
       "      <td>1151</td>\n",
       "      <td>0</td>\n",
       "      <td>455</td>\n",
       "      <td>228</td>\n",
       "      <td>...</td>\n",
       "      <td>253</td>\n",
       "      <td>468</td>\n",
       "      <td>38</td>\n",
       "      <td>341</td>\n",
       "      <td>25</td>\n",
       "      <td>481</td>\n",
       "      <td>38</td>\n",
       "      <td>76</td>\n",
       "      <td>0</td>\n",
       "      <td>5388</td>\n",
       "    </tr>\n",
       "    <tr>\n",
       "      <th>30</th>\n",
       "      <td>08172018  18-228-104196</td>\n",
       "      <td>CVID</td>\n",
       "      <td>27318</td>\n",
       "      <td>26387</td>\n",
       "      <td>7682</td>\n",
       "      <td>10</td>\n",
       "      <td>268</td>\n",
       "      <td>0</td>\n",
       "      <td>23</td>\n",
       "      <td>119</td>\n",
       "      <td>...</td>\n",
       "      <td>119</td>\n",
       "      <td>232</td>\n",
       "      <td>3</td>\n",
       "      <td>142</td>\n",
       "      <td>3</td>\n",
       "      <td>228</td>\n",
       "      <td>3</td>\n",
       "      <td>0</td>\n",
       "      <td>0</td>\n",
       "      <td>8656</td>\n",
       "    </tr>\n",
       "    <tr>\n",
       "      <th>31</th>\n",
       "      <td>08172018 18-228-108177</td>\n",
       "      <td>CVID</td>\n",
       "      <td>166368</td>\n",
       "      <td>137507</td>\n",
       "      <td>16461</td>\n",
       "      <td>38</td>\n",
       "      <td>1463</td>\n",
       "      <td>0</td>\n",
       "      <td>188</td>\n",
       "      <td>75</td>\n",
       "      <td>...</td>\n",
       "      <td>394</td>\n",
       "      <td>2185</td>\n",
       "      <td>38</td>\n",
       "      <td>1482</td>\n",
       "      <td>1313</td>\n",
       "      <td>1623</td>\n",
       "      <td>1398</td>\n",
       "      <td>75</td>\n",
       "      <td>0</td>\n",
       "      <td>6153</td>\n",
       "    </tr>\n",
       "    <tr>\n",
       "      <th>32</th>\n",
       "      <td>08242018 K011-1</td>\n",
       "      <td>CVID</td>\n",
       "      <td>49462</td>\n",
       "      <td>49194</td>\n",
       "      <td>7762</td>\n",
       "      <td>107</td>\n",
       "      <td>696</td>\n",
       "      <td>0</td>\n",
       "      <td>54</td>\n",
       "      <td>214</td>\n",
       "      <td>...</td>\n",
       "      <td>54</td>\n",
       "      <td>54</td>\n",
       "      <td>0</td>\n",
       "      <td>0</td>\n",
       "      <td>0</td>\n",
       "      <td>107</td>\n",
       "      <td>0</td>\n",
       "      <td>0</td>\n",
       "      <td>0</td>\n",
       "      <td>23072</td>\n",
       "    </tr>\n",
       "    <tr>\n",
       "      <th>33</th>\n",
       "      <td>08242018 K011-3</td>\n",
       "      <td>CVID</td>\n",
       "      <td>50508</td>\n",
       "      <td>49365</td>\n",
       "      <td>9582</td>\n",
       "      <td>150</td>\n",
       "      <td>981</td>\n",
       "      <td>0</td>\n",
       "      <td>46</td>\n",
       "      <td>266</td>\n",
       "      <td>...</td>\n",
       "      <td>92</td>\n",
       "      <td>543</td>\n",
       "      <td>46</td>\n",
       "      <td>208</td>\n",
       "      <td>12</td>\n",
       "      <td>531</td>\n",
       "      <td>46</td>\n",
       "      <td>46</td>\n",
       "      <td>0</td>\n",
       "      <td>24994</td>\n",
       "    </tr>\n",
       "    <tr>\n",
       "      <th>34</th>\n",
       "      <td>08312018 S-127</td>\n",
       "      <td>CVID</td>\n",
       "      <td>154616</td>\n",
       "      <td>152764</td>\n",
       "      <td>21146</td>\n",
       "      <td>221</td>\n",
       "      <td>10565</td>\n",
       "      <td>0</td>\n",
       "      <td>408</td>\n",
       "      <td>289</td>\n",
       "      <td>...</td>\n",
       "      <td>408</td>\n",
       "      <td>713</td>\n",
       "      <td>68</td>\n",
       "      <td>849</td>\n",
       "      <td>34</td>\n",
       "      <td>832</td>\n",
       "      <td>187</td>\n",
       "      <td>34</td>\n",
       "      <td>0</td>\n",
       "      <td>65699</td>\n",
       "    </tr>\n",
       "    <tr>\n",
       "      <th>35</th>\n",
       "      <td>09072018  S-128</td>\n",
       "      <td>CVID</td>\n",
       "      <td>39067</td>\n",
       "      <td>35545</td>\n",
       "      <td>2814</td>\n",
       "      <td>91</td>\n",
       "      <td>726</td>\n",
       "      <td>0</td>\n",
       "      <td>18</td>\n",
       "      <td>36</td>\n",
       "      <td>...</td>\n",
       "      <td>218</td>\n",
       "      <td>1035</td>\n",
       "      <td>200</td>\n",
       "      <td>545</td>\n",
       "      <td>54</td>\n",
       "      <td>1144</td>\n",
       "      <td>418</td>\n",
       "      <td>109</td>\n",
       "      <td>0</td>\n",
       "      <td>43097</td>\n",
       "    </tr>\n",
       "    <tr>\n",
       "      <th>36</th>\n",
       "      <td>09142018 CVID S-15</td>\n",
       "      <td>CVID</td>\n",
       "      <td>93290</td>\n",
       "      <td>88737</td>\n",
       "      <td>33870</td>\n",
       "      <td>1107</td>\n",
       "      <td>14628</td>\n",
       "      <td>0</td>\n",
       "      <td>5498</td>\n",
       "      <td>9901</td>\n",
       "      <td>...</td>\n",
       "      <td>721</td>\n",
       "      <td>1406</td>\n",
       "      <td>199</td>\n",
       "      <td>1717</td>\n",
       "      <td>473</td>\n",
       "      <td>1269</td>\n",
       "      <td>622</td>\n",
       "      <td>112</td>\n",
       "      <td>0</td>\n",
       "      <td>10921</td>\n",
       "    </tr>\n",
       "    <tr>\n",
       "      <th>37</th>\n",
       "      <td>12172018 S-82</td>\n",
       "      <td>CVID</td>\n",
       "      <td>101039</td>\n",
       "      <td>90597</td>\n",
       "      <td>29714</td>\n",
       "      <td>130</td>\n",
       "      <td>468</td>\n",
       "      <td>0</td>\n",
       "      <td>1403</td>\n",
       "      <td>1818</td>\n",
       "      <td>...</td>\n",
       "      <td>3039</td>\n",
       "      <td>3532</td>\n",
       "      <td>0</td>\n",
       "      <td>2909</td>\n",
       "      <td>2364</td>\n",
       "      <td>1169</td>\n",
       "      <td>2545</td>\n",
       "      <td>390</td>\n",
       "      <td>0</td>\n",
       "      <td>179039</td>\n",
       "    </tr>\n",
       "    <tr>\n",
       "      <th>38</th>\n",
       "      <td>12212018 S-94</td>\n",
       "      <td>CVID</td>\n",
       "      <td>104790</td>\n",
       "      <td>86033</td>\n",
       "      <td>1161</td>\n",
       "      <td>46</td>\n",
       "      <td>46</td>\n",
       "      <td>0</td>\n",
       "      <td>116</td>\n",
       "      <td>46</td>\n",
       "      <td>...</td>\n",
       "      <td>1114</td>\n",
       "      <td>1277</td>\n",
       "      <td>0</td>\n",
       "      <td>557</td>\n",
       "      <td>441</td>\n",
       "      <td>975</td>\n",
       "      <td>789</td>\n",
       "      <td>116</td>\n",
       "      <td>0</td>\n",
       "      <td>162780</td>\n",
       "    </tr>\n",
       "    <tr>\n",
       "      <th>39</th>\n",
       "      <td>12172018 S-129</td>\n",
       "      <td>CVID</td>\n",
       "      <td>612561</td>\n",
       "      <td>606947</td>\n",
       "      <td>362048</td>\n",
       "      <td>79</td>\n",
       "      <td>7555</td>\n",
       "      <td>0</td>\n",
       "      <td>473</td>\n",
       "      <td>1483</td>\n",
       "      <td>...</td>\n",
       "      <td>1041</td>\n",
       "      <td>5488</td>\n",
       "      <td>347</td>\n",
       "      <td>4700</td>\n",
       "      <td>63</td>\n",
       "      <td>5473</td>\n",
       "      <td>2902</td>\n",
       "      <td>268</td>\n",
       "      <td>0</td>\n",
       "      <td>165600</td>\n",
       "    </tr>\n",
       "  </tbody>\n",
       "</table>\n",
       "<p>40 rows × 58 columns</p>\n",
       "</div>"
      ],
      "text/plain": [
       "                               Donor Status           NK Cells   \\\n",
       "0            01_ARUP 05222018 B Cell     ND              168029   \n",
       "1                   05012018 B Cells     ND              319110   \n",
       "2                   05092018 B Cells     ND               76104   \n",
       "3               05102018 B Cell #118     ND               12498   \n",
       "4               05152018 B Cell #115     ND               46378   \n",
       "5                 05162018 B Cell #6     ND              286223   \n",
       "6                05182018 B Cell #66     ND               16239   \n",
       "7               05212018 B Cell #103     ND               90046   \n",
       "8                05222018 B Cell #78     ND               89288   \n",
       "9           05232018 B Cells 02_ARUP     ND              177798   \n",
       "10          05302018 B Cells 03_ARUP     ND               87473   \n",
       "11          05302018 B Cells 04_ARUP     ND              381038   \n",
       "12          05312018 B Cells 06_ARUP     ND              127886   \n",
       "13          06012018 B Cells 05_ARUP     ND               83911   \n",
       "14          06042018 B Cells 07_ARUP     ND               96050   \n",
       "15          06042018 B Cells 08_ARUP     ND               44362   \n",
       "16          06052018 B Cells 09_ARUP     ND              166363   \n",
       "17          06062018 B Cells 10_ARUP     ND              248878   \n",
       "18          06072018 B Cells 11_ARUP     ND              168985   \n",
       "19          06082018 B Cells 12_ARUP     ND              201980   \n",
       "20          06122018 B Cells 13_ARUP     ND              152268   \n",
       "21          06142018 B Cells 14_ARUP     ND               71917   \n",
       "22          06142018 B Cells 15_ARUP     ND              185191   \n",
       "23          06142018 B Cells 16_ARUP     ND              492349   \n",
       "24  06252018 ER B Cell Panel Resting     ND               88653   \n",
       "25                KS B Cell 08012018     ND              255761   \n",
       "26                   07132018 K007-1   CVID               72193   \n",
       "27                      07162018  S5   CVID              287161   \n",
       "28                   07202018 K001-3   CVID              377645   \n",
       "29                 07202018  K001-21   CVID               70864   \n",
       "30           08172018  18-228-104196   CVID               27318   \n",
       "31            08172018 18-228-108177   CVID              166368   \n",
       "32                   08242018 K011-1   CVID               49462   \n",
       "33                   08242018 K011-3   CVID               50508   \n",
       "34                    08312018 S-127   CVID              154616   \n",
       "35                   09072018  S-128   CVID               39067   \n",
       "36                09142018 CVID S-15   CVID               93290   \n",
       "37                     12172018 S-82   CVID              101039   \n",
       "38                     12212018 S-94   CVID              104790   \n",
       "39                    12172018 S-129   CVID              612561   \n",
       "\n",
       "               CD16plus CD56int NK Cells   \\\n",
       "0                                  164316   \n",
       "1                                  309188   \n",
       "2                                   74531   \n",
       "3                                   12330   \n",
       "4                                   45235   \n",
       "5                                  278575   \n",
       "6                                   15598   \n",
       "7                                   88460   \n",
       "8                                   88673   \n",
       "9                                  173666   \n",
       "10                                  84361   \n",
       "11                                 370340   \n",
       "12                                 126598   \n",
       "13                                  82733   \n",
       "14                                  88200   \n",
       "15                                  40766   \n",
       "16                                 164439   \n",
       "17                                 245780   \n",
       "18                                 164694   \n",
       "19                                 200736   \n",
       "20                                 143551   \n",
       "21                                  70782   \n",
       "22                                 178578   \n",
       "23                                 484827   \n",
       "24                                  88630   \n",
       "25                                 242948   \n",
       "26                                  71453   \n",
       "27                                 286538   \n",
       "28                                 375808   \n",
       "29                                  70219   \n",
       "30                                  26387   \n",
       "31                                 137507   \n",
       "32                                  49194   \n",
       "33                                  49365   \n",
       "34                                 152764   \n",
       "35                                  35545   \n",
       "36                                  88737   \n",
       "37                                  90597   \n",
       "38                                  86033   \n",
       "39                                 606947   \n",
       "\n",
       "               CD16plus CD56int CD69plus NK Cells   \\\n",
       "0                                            16669   \n",
       "1                                           102196   \n",
       "2                                             9693   \n",
       "3                                             5360   \n",
       "4                                             7148   \n",
       "5                                            11031   \n",
       "6                                             7469   \n",
       "7                                            13477   \n",
       "8                                            19227   \n",
       "9                                            26080   \n",
       "10                                           15562   \n",
       "11                                           33461   \n",
       "12                                           21296   \n",
       "13                                           23354   \n",
       "14                                           19414   \n",
       "15                                            8990   \n",
       "16                                           29986   \n",
       "17                                           55016   \n",
       "18                                           16808   \n",
       "19                                           41867   \n",
       "20                                           21885   \n",
       "21                                           24316   \n",
       "22                                           38642   \n",
       "23                                          144991   \n",
       "24                                           70104   \n",
       "25                                           41520   \n",
       "26                                            8006   \n",
       "27                                           38482   \n",
       "28                                          202995   \n",
       "29                                           31644   \n",
       "30                                            7682   \n",
       "31                                           16461   \n",
       "32                                            7762   \n",
       "33                                            9582   \n",
       "34                                           21146   \n",
       "35                                            2814   \n",
       "36                                           33870   \n",
       "37                                           29714   \n",
       "38                                            1161   \n",
       "39                                          362048   \n",
       "\n",
       "               CD16plus CD56int NKp44plus NK Cells   \\\n",
       "0                                               164   \n",
       "1                                                53   \n",
       "2                                                96   \n",
       "3                                                24   \n",
       "4                                                 0   \n",
       "5                                               147   \n",
       "6                                                 9   \n",
       "7                                                93   \n",
       "8                                                 0   \n",
       "9                                                29   \n",
       "10                                              196   \n",
       "11                                              591   \n",
       "12                                               54   \n",
       "13                                               26   \n",
       "14                                              227   \n",
       "15                                              159   \n",
       "16                                               44   \n",
       "17                                              147   \n",
       "18                                              355   \n",
       "19                                             3299   \n",
       "20                                               14   \n",
       "21                                              103   \n",
       "22                                              283   \n",
       "23                                              903   \n",
       "24                                               67   \n",
       "25                                               86   \n",
       "26                                              157   \n",
       "27                                             1621   \n",
       "28                                              890   \n",
       "29                                              228   \n",
       "30                                               10   \n",
       "31                                               38   \n",
       "32                                              107   \n",
       "33                                              150   \n",
       "34                                              221   \n",
       "35                                               91   \n",
       "36                                             1107   \n",
       "37                                              130   \n",
       "38                                               46   \n",
       "39                                               79   \n",
       "\n",
       "               CD16plus CD56int CXCR2hi NK Cells   \\\n",
       "0                                            1505   \n",
       "1                                           28706   \n",
       "2                                            2696   \n",
       "3                                             769   \n",
       "4                                              50   \n",
       "5                                            5589   \n",
       "6                                            5689   \n",
       "7                                             280   \n",
       "8                                           27344   \n",
       "9                                           14018   \n",
       "10                                           1719   \n",
       "11                                          23058   \n",
       "12                                           2816   \n",
       "13                                            916   \n",
       "14                                            964   \n",
       "15                                            207   \n",
       "16                                           1614   \n",
       "17                                           4359   \n",
       "18                                           1041   \n",
       "19                                          22091   \n",
       "20                                            499   \n",
       "21                                           9165   \n",
       "22                                           7707   \n",
       "23                                          16125   \n",
       "24                                            536   \n",
       "25                                           1712   \n",
       "26                                           1458   \n",
       "27                                          17828   \n",
       "28                                          12781   \n",
       "29                                           1151   \n",
       "30                                            268   \n",
       "31                                           1463   \n",
       "32                                            696   \n",
       "33                                            981   \n",
       "34                                          10565   \n",
       "35                                            726   \n",
       "36                                          14628   \n",
       "37                                            468   \n",
       "38                                             46   \n",
       "39                                           7555   \n",
       "\n",
       "               CD16plus CD56int CD127plus NK Cells   \\\n",
       "0                                                 0   \n",
       "1                                                 0   \n",
       "2                                                 0   \n",
       "3                                                 0   \n",
       "4                                                 0   \n",
       "5                                                 0   \n",
       "6                                                 0   \n",
       "7                                                 0   \n",
       "8                                                 0   \n",
       "9                                                 0   \n",
       "10                                                0   \n",
       "11                                                0   \n",
       "12                                                0   \n",
       "13                                                0   \n",
       "14                                                0   \n",
       "15                                                0   \n",
       "16                                                0   \n",
       "17                                                0   \n",
       "18                                                0   \n",
       "19                                              104   \n",
       "20                                                0   \n",
       "21                                                0   \n",
       "22                                                0   \n",
       "23                                                0   \n",
       "24                                                0   \n",
       "25                                                0   \n",
       "26                                                0   \n",
       "27                                                0   \n",
       "28                                                0   \n",
       "29                                                0   \n",
       "30                                                0   \n",
       "31                                                0   \n",
       "32                                                0   \n",
       "33                                                0   \n",
       "34                                                0   \n",
       "35                                                0   \n",
       "36                                                0   \n",
       "37                                                0   \n",
       "38                                                0   \n",
       "39                                                0   \n",
       "\n",
       "               CD16plus CD56int NKp46plus NK Cells    \\\n",
       "0                                                245   \n",
       "1                                               1220   \n",
       "2                                                  0   \n",
       "3                                                  0   \n",
       "4                                                 25   \n",
       "5                                                882   \n",
       "6                                                 47   \n",
       "7                                                 93   \n",
       "8                                                492   \n",
       "9                                                394   \n",
       "10                                              2285   \n",
       "11                                              3178   \n",
       "12                                                80   \n",
       "13                                                79   \n",
       "14                                               142   \n",
       "15                                               159   \n",
       "16                                               376   \n",
       "17                                              1482   \n",
       "18                                              1066   \n",
       "19                                             12108   \n",
       "20                                                71   \n",
       "21                                               826   \n",
       "22                                              1107   \n",
       "23                                              4267   \n",
       "24                                               805   \n",
       "25                                               648   \n",
       "26                                                22   \n",
       "27                                              2369   \n",
       "28                                              8066   \n",
       "29                                               455   \n",
       "30                                                23   \n",
       "31                                               188   \n",
       "32                                                54   \n",
       "33                                                46   \n",
       "34                                               408   \n",
       "35                                                18   \n",
       "36                                              5498   \n",
       "37                                              1403   \n",
       "38                                               116   \n",
       "39                                               473   \n",
       "\n",
       "              CD16plus CD56int CD107a NK Cells   ...  \\\n",
       "0                                           474  ...   \n",
       "1                                          2122  ...   \n",
       "2                                           128  ...   \n",
       "3                                             0  ...   \n",
       "4                                           163  ...   \n",
       "5                                          1177  ...   \n",
       "6                                           122  ...   \n",
       "7                                            93  ...   \n",
       "8                                           246  ...   \n",
       "9                                           949  ...   \n",
       "10                                          174  ...   \n",
       "11                                         1404  ...   \n",
       "12                                          778  ...   \n",
       "13                                         1519  ...   \n",
       "14                                          538  ...   \n",
       "15                                          175  ...   \n",
       "16                                          818  ...   \n",
       "17                                          269  ...   \n",
       "18                                          406  ...   \n",
       "19                                          795  ...   \n",
       "20                                          899  ...   \n",
       "21                                          888  ...   \n",
       "22                                         1026  ...   \n",
       "23                                         2079  ...   \n",
       "24                                          894  ...   \n",
       "25                                         1125  ...   \n",
       "26                                            0  ...   \n",
       "27                                          332  ...   \n",
       "28                                         1799  ...   \n",
       "29                                          228  ...   \n",
       "30                                          119  ...   \n",
       "31                                           75  ...   \n",
       "32                                          214  ...   \n",
       "33                                          266  ...   \n",
       "34                                          289  ...   \n",
       "35                                           36  ...   \n",
       "36                                         9901  ...   \n",
       "37                                         1818  ...   \n",
       "38                                           46  ...   \n",
       "39                                         1483  ...   \n",
       "\n",
       "                CD16- CD56hi NKG2Cplus NK Cells   \\\n",
       "0                                            752   \n",
       "1                                           3201   \n",
       "2                                             96   \n",
       "3                                              0   \n",
       "4                                            176   \n",
       "5                                           2206   \n",
       "6                                            198   \n",
       "7                                            886   \n",
       "8                                              0   \n",
       "9                                            803   \n",
       "10                                           457   \n",
       "11                                          1589   \n",
       "12                                           483   \n",
       "13                                           262   \n",
       "14                                           198   \n",
       "15                                            32   \n",
       "16                                           553   \n",
       "17                                           367   \n",
       "18                                           368   \n",
       "19                                           207   \n",
       "20                                          1184   \n",
       "21                                           289   \n",
       "22                                           202   \n",
       "23                                           629   \n",
       "24                                             0   \n",
       "25                                          1100   \n",
       "26                                            67   \n",
       "27                                            42   \n",
       "28                                           114   \n",
       "29                                           253   \n",
       "30                                           119   \n",
       "31                                           394   \n",
       "32                                            54   \n",
       "33                                            92   \n",
       "34                                           408   \n",
       "35                                           218   \n",
       "36                                           721   \n",
       "37                                          3039   \n",
       "38                                          1114   \n",
       "39                                          1041   \n",
       "\n",
       "                CD16- CD56hi CD94plus NK Cells   \\\n",
       "0                                          1129   \n",
       "1                                          4882   \n",
       "2                                           706   \n",
       "3                                           168   \n",
       "4                                          1030   \n",
       "5                                          6325   \n",
       "6                                           593   \n",
       "7                                          1259   \n",
       "8                                             0   \n",
       "9                                          2074   \n",
       "10                                         2133   \n",
       "11                                         4804   \n",
       "12                                          858   \n",
       "13                                         1047   \n",
       "14                                         1417   \n",
       "15                                           80   \n",
       "16                                         1327   \n",
       "17                                          857   \n",
       "18                                         1308   \n",
       "19                                          449   \n",
       "20                                         2226   \n",
       "21                                         1073   \n",
       "22                                          945   \n",
       "23                                         1286   \n",
       "24                                            0   \n",
       "25                                         2335   \n",
       "26                                          471   \n",
       "27                                           42   \n",
       "28                                          133   \n",
       "29                                          468   \n",
       "30                                          232   \n",
       "31                                         2185   \n",
       "32                                           54   \n",
       "33                                          543   \n",
       "34                                          713   \n",
       "35                                         1035   \n",
       "36                                         1406   \n",
       "37                                         3532   \n",
       "38                                         1277   \n",
       "39                                         5488   \n",
       "\n",
       "                CD16- CD56hi CD25plus NK Cells   \\\n",
       "0                                           180   \n",
       "1                                           460   \n",
       "2                                           160   \n",
       "3                                             0   \n",
       "4                                            38   \n",
       "5                                           441   \n",
       "6                                            66   \n",
       "7                                            93   \n",
       "8                                             0   \n",
       "9                                           131   \n",
       "10                                          131   \n",
       "11                                          240   \n",
       "12                                           80   \n",
       "13                                            0   \n",
       "14                                            0   \n",
       "15                                            0   \n",
       "16                                          376   \n",
       "17                                          147   \n",
       "18                                          127   \n",
       "19                                           69   \n",
       "20                                          357   \n",
       "21                                          124   \n",
       "22                                           54   \n",
       "23                                          287   \n",
       "24                                            0   \n",
       "25                                          245   \n",
       "26                                            0   \n",
       "27                                           42   \n",
       "28                                           19   \n",
       "29                                           38   \n",
       "30                                            3   \n",
       "31                                           38   \n",
       "32                                            0   \n",
       "33                                           46   \n",
       "34                                           68   \n",
       "35                                          200   \n",
       "36                                          199   \n",
       "37                                            0   \n",
       "38                                            0   \n",
       "39                                          347   \n",
       "\n",
       "                CD16- CD56hi CD226plus NK Cells   \\\n",
       "0                                           1031   \n",
       "1                                           3502   \n",
       "2                                            481   \n",
       "3                                            144   \n",
       "4                                            892   \n",
       "5                                           3824   \n",
       "6                                            546   \n",
       "7                                           1073   \n",
       "8                                              0   \n",
       "9                                           1840   \n",
       "10                                          1698   \n",
       "11                                          3289   \n",
       "12                                           510   \n",
       "13                                           995   \n",
       "14                                          1134   \n",
       "15                                            80   \n",
       "16                                          1283   \n",
       "17                                           722   \n",
       "18                                          1143   \n",
       "19                                           311   \n",
       "20                                          2054   \n",
       "21                                          1073   \n",
       "22                                           580   \n",
       "23                                          1176   \n",
       "24                                             0   \n",
       "25                                          1406   \n",
       "26                                           314   \n",
       "27                                            42   \n",
       "28                                           133   \n",
       "29                                           341   \n",
       "30                                           142   \n",
       "31                                          1482   \n",
       "32                                             0   \n",
       "33                                           208   \n",
       "34                                           849   \n",
       "35                                           545   \n",
       "36                                          1717   \n",
       "37                                          2909   \n",
       "38                                           557   \n",
       "39                                          4700   \n",
       "\n",
       "                CD16- CD56hi CD57plus  NK Cells   \\\n",
       "0                                             33   \n",
       "1                                           1539   \n",
       "2                                              0   \n",
       "3                                              0   \n",
       "4                                              0   \n",
       "5                                            147   \n",
       "6                                              9   \n",
       "7                                             93   \n",
       "8                                              0   \n",
       "9                                            204   \n",
       "10                                             0   \n",
       "11                                             0   \n",
       "12                                            27   \n",
       "13                                             0   \n",
       "14                                             0   \n",
       "15                                             0   \n",
       "16                                            66   \n",
       "17                                            24   \n",
       "18                                           127   \n",
       "19                                            17   \n",
       "20                                             0   \n",
       "21                                            41   \n",
       "22                                            27   \n",
       "23                                            96   \n",
       "24                                             0   \n",
       "25                                            37   \n",
       "26                                             0   \n",
       "27                                             0   \n",
       "28                                             0   \n",
       "29                                            25   \n",
       "30                                             3   \n",
       "31                                          1313   \n",
       "32                                             0   \n",
       "33                                            12   \n",
       "34                                            34   \n",
       "35                                            54   \n",
       "36                                           473   \n",
       "37                                          2364   \n",
       "38                                           441   \n",
       "39                                            63   \n",
       "\n",
       "                CD16- CD56hi CD57-  NK Cells   \\\n",
       "0                                        1145   \n",
       "1                                        3431   \n",
       "2                                         770   \n",
       "3                                         168   \n",
       "4                                        1043   \n",
       "5                                        6472   \n",
       "6                                         584   \n",
       "7                                        1259   \n",
       "8                                           0   \n",
       "9                                        2044   \n",
       "10                                       2155   \n",
       "11                                       4822   \n",
       "12                                        831   \n",
       "13                                       1073   \n",
       "14                                       1417   \n",
       "15                                         80   \n",
       "16                                       1327   \n",
       "17                                       1016   \n",
       "18                                       1219   \n",
       "19                                        432   \n",
       "20                                       2226   \n",
       "21                                       1094   \n",
       "22                                        958   \n",
       "23                                       1245   \n",
       "24                                          0   \n",
       "25                                       2311   \n",
       "26                                        471   \n",
       "27                                         83   \n",
       "28                                        133   \n",
       "29                                        481   \n",
       "30                                        228   \n",
       "31                                       1623   \n",
       "32                                        107   \n",
       "33                                        531   \n",
       "34                                        832   \n",
       "35                                       1144   \n",
       "36                                       1269   \n",
       "37                                       1169   \n",
       "38                                        975   \n",
       "39                                       5473   \n",
       "\n",
       "                CD16- CD56hi KLRG1plus NK Cells   \\\n",
       "0                                            409   \n",
       "1                                           2069   \n",
       "2                                             96   \n",
       "3                                             48   \n",
       "4                                             13   \n",
       "5                                            441   \n",
       "6                                             85   \n",
       "7                                            326   \n",
       "8                                              0   \n",
       "9                                            409   \n",
       "10                                           392   \n",
       "11                                           536   \n",
       "12                                            54   \n",
       "13                                           367   \n",
       "14                                            57   \n",
       "15                                             0   \n",
       "16                                           398   \n",
       "17                                           159   \n",
       "18                                           203   \n",
       "19                                            35   \n",
       "20                                           742   \n",
       "21                                           330   \n",
       "22                                            40   \n",
       "23                                           369   \n",
       "24                                             0   \n",
       "25                                           330   \n",
       "26                                            22   \n",
       "27                                            42   \n",
       "28                                             0   \n",
       "29                                            38   \n",
       "30                                             3   \n",
       "31                                          1398   \n",
       "32                                             0   \n",
       "33                                            46   \n",
       "34                                           187   \n",
       "35                                           418   \n",
       "36                                           622   \n",
       "37                                          2545   \n",
       "38                                           789   \n",
       "39                                          2902   \n",
       "\n",
       "                CD16- CD56hi HLADRplus NK Cells   \\\n",
       "0                                             33   \n",
       "1                                            778   \n",
       "2                                             64   \n",
       "3                                              0   \n",
       "4                                             25   \n",
       "5                                            147   \n",
       "6                                             66   \n",
       "7                                            280   \n",
       "8                                              0   \n",
       "9                                            117   \n",
       "10                                            65   \n",
       "11                                            74   \n",
       "12                                             0   \n",
       "13                                           131   \n",
       "14                                            28   \n",
       "15                                             0   \n",
       "16                                           111   \n",
       "17                                            73   \n",
       "18                                           127   \n",
       "19                                            17   \n",
       "20                                            57   \n",
       "21                                           103   \n",
       "22                                            27   \n",
       "23                                           383   \n",
       "24                                             0   \n",
       "25                                            61   \n",
       "26                                             0   \n",
       "27                                            42   \n",
       "28                                             0   \n",
       "29                                            76   \n",
       "30                                             0   \n",
       "31                                            75   \n",
       "32                                             0   \n",
       "33                                            46   \n",
       "34                                            34   \n",
       "35                                           109   \n",
       "36                                           112   \n",
       "37                                           390   \n",
       "38                                           116   \n",
       "39                                           268   \n",
       "\n",
       "                CD16- CD56hi  ILRAplus NK Cells           NKT Population    \n",
       "0                                              0                     59870  \n",
       "1                                              0                     32898  \n",
       "2                                              0                    234859  \n",
       "3                                              0                     16248  \n",
       "4                                              0                      4258  \n",
       "5                                              0                     80601  \n",
       "6                                              0                      3278  \n",
       "7                                              0                    168433  \n",
       "8                                              0                     25786  \n",
       "9                                              0                     46771  \n",
       "10                                             0                    111110  \n",
       "11                                             0                     72520  \n",
       "12                                             0                     36933  \n",
       "13                                             0                     98913  \n",
       "14                                             0                     22333  \n",
       "15                                             0                     26955  \n",
       "16                                             0                     21340  \n",
       "17                                             0                     10935  \n",
       "18                                             0                     97473  \n",
       "19                                             0                     12401  \n",
       "20                                             0                     65840  \n",
       "21                                             0                     49438  \n",
       "22                                             0                     19233  \n",
       "23                                             0                     21364  \n",
       "24                                             0                    101636  \n",
       "25                                             0                     55556  \n",
       "26                                             0                     23795  \n",
       "27                                             0                     33246  \n",
       "28                                             0                     14239  \n",
       "29                                             0                      5388  \n",
       "30                                             0                      8656  \n",
       "31                                             0                      6153  \n",
       "32                                             0                     23072  \n",
       "33                                             0                     24994  \n",
       "34                                             0                     65699  \n",
       "35                                             0                     43097  \n",
       "36                                             0                     10921  \n",
       "37                                             0                    179039  \n",
       "38                                             0                    162780  \n",
       "39                                             0                    165600  \n",
       "\n",
       "[40 rows x 58 columns]"
      ]
     },
     "execution_count": 578,
     "metadata": {},
     "output_type": "execute_result"
    }
   ],
   "source": [
    "pd.read_csv(\"NK_Cells.csv\")"
   ]
  },
  {
   "cell_type": "code",
   "execution_count": 579,
   "metadata": {},
   "outputs": [],
   "source": [
    "data = pd.Series([0.25, 0.5, 0.75, 1.0])"
   ]
  },
  {
   "cell_type": "code",
   "execution_count": 580,
   "metadata": {},
   "outputs": [
    {
     "data": {
      "text/plain": [
       "0    0.25\n",
       "1    0.50\n",
       "2    0.75\n",
       "3    1.00\n",
       "dtype: float64"
      ]
     },
     "execution_count": 580,
     "metadata": {},
     "output_type": "execute_result"
    }
   ],
   "source": [
    "data"
   ]
  },
  {
   "cell_type": "code",
   "execution_count": 581,
   "metadata": {},
   "outputs": [
    {
     "data": {
      "text/plain": [
       "4"
      ]
     },
     "execution_count": 581,
     "metadata": {},
     "output_type": "execute_result"
    }
   ],
   "source": [
    "data.count()"
   ]
  },
  {
   "cell_type": "code",
   "execution_count": 582,
   "metadata": {},
   "outputs": [
    {
     "data": {
      "text/plain": [
       "array([0.25, 0.5 , 0.75, 1.  ])"
      ]
     },
     "execution_count": 582,
     "metadata": {},
     "output_type": "execute_result"
    }
   ],
   "source": [
    "data.values\n"
   ]
  },
  {
   "cell_type": "code",
   "execution_count": 583,
   "metadata": {},
   "outputs": [
    {
     "data": {
      "text/plain": [
       "<bound method IndexOpsMixin.value_counts of 0    0.25\n",
       "1    0.50\n",
       "2    0.75\n",
       "3    1.00\n",
       "dtype: float64>"
      ]
     },
     "execution_count": 583,
     "metadata": {},
     "output_type": "execute_result"
    }
   ],
   "source": [
    "data.value_counts"
   ]
  },
  {
   "cell_type": "code",
   "execution_count": 584,
   "metadata": {},
   "outputs": [
    {
     "data": {
      "text/plain": [
       "RangeIndex(start=0, stop=4, step=1)"
      ]
     },
     "execution_count": 584,
     "metadata": {},
     "output_type": "execute_result"
    }
   ],
   "source": [
    "data.index"
   ]
  },
  {
   "cell_type": "code",
   "execution_count": 585,
   "metadata": {},
   "outputs": [
    {
     "data": {
      "text/plain": [
       "1.0"
      ]
     },
     "execution_count": 585,
     "metadata": {},
     "output_type": "execute_result"
    }
   ],
   "source": [
    "data[3]"
   ]
  },
  {
   "cell_type": "code",
   "execution_count": 586,
   "metadata": {},
   "outputs": [
    {
     "data": {
      "text/plain": [
       "a    0.25\n",
       "b    0.50\n",
       "c    0.75\n",
       "d    1.00\n",
       "dtype: float64"
      ]
     },
     "execution_count": 586,
     "metadata": {},
     "output_type": "execute_result"
    }
   ],
   "source": [
    "data = pd.Series([0.25,0.5,0.75,1.0],\n",
    "                 index=['a','b','c','d'])\n",
    "data"
   ]
  },
  {
   "cell_type": "code",
   "execution_count": 587,
   "metadata": {},
   "outputs": [
    {
     "data": {
      "text/plain": [
       "0.75"
      ]
     },
     "execution_count": 587,
     "metadata": {},
     "output_type": "execute_result"
    }
   ],
   "source": [
    "data['c']"
   ]
  },
  {
   "cell_type": "code",
   "execution_count": 588,
   "metadata": {},
   "outputs": [
    {
     "data": {
      "text/plain": [
       "California    38332521\n",
       "Texas         26448193\n",
       "New York      19651127\n",
       "Florida       19552860\n",
       "Illinois      12882135\n",
       "dtype: int64"
      ]
     },
     "execution_count": 588,
     "metadata": {},
     "output_type": "execute_result"
    }
   ],
   "source": [
    "population_dict = {\n",
    "    \"California\": 38332521,\n",
    "    \"Texas\"     : 26448193,\n",
    "    \"New York\"  : 19651127,\n",
    "    \"Florida\"   : 19552860,\n",
    "    \"Illinois\"  : 12882135\n",
    "}\n",
    "population = pd.Series(population_dict)\n",
    "population"
   ]
  },
  {
   "cell_type": "code",
   "execution_count": 589,
   "metadata": {},
   "outputs": [
    {
     "data": {
      "text/plain": [
       "38332521"
      ]
     },
     "execution_count": 589,
     "metadata": {},
     "output_type": "execute_result"
    }
   ],
   "source": [
    "population_dict[\"California\"]"
   ]
  },
  {
   "cell_type": "code",
   "execution_count": 590,
   "metadata": {},
   "outputs": [
    {
     "data": {
      "text/plain": [
       "38332521"
      ]
     },
     "execution_count": 590,
     "metadata": {},
     "output_type": "execute_result"
    }
   ],
   "source": [
    "population[\"California\"]"
   ]
  },
  {
   "cell_type": "code",
   "execution_count": 591,
   "metadata": {},
   "outputs": [
    {
     "data": {
      "text/plain": [
       "California    38332521\n",
       "Texas         26448193\n",
       "New York      19651127\n",
       "Florida       19552860\n",
       "dtype: int64"
      ]
     },
     "execution_count": 591,
     "metadata": {},
     "output_type": "execute_result"
    }
   ],
   "source": [
    "population[\"California\":\"Florida\"]"
   ]
  },
  {
   "cell_type": "code",
   "execution_count": 592,
   "metadata": {},
   "outputs": [
    {
     "data": {
      "text/plain": [
       "0    23\n",
       "1    34\n",
       "2    45\n",
       "3    56\n",
       "dtype: int64"
      ]
     },
     "execution_count": 592,
     "metadata": {},
     "output_type": "execute_result"
    }
   ],
   "source": [
    "pd.Series([23,34,45,56])"
   ]
  },
  {
   "cell_type": "code",
   "execution_count": 593,
   "metadata": {},
   "outputs": [
    {
     "data": {
      "text/plain": [
       "2    a\n",
       "1    a\n",
       "3    c\n",
       "dtype: object"
      ]
     },
     "execution_count": 593,
     "metadata": {},
     "output_type": "execute_result"
    }
   ],
   "source": [
    "pd.Series({2:\"a\", 1:\"a\", 3:\"c\"})"
   ]
  },
  {
   "cell_type": "code",
   "execution_count": 594,
   "metadata": {},
   "outputs": [
    {
     "data": {
      "text/plain": [
       "California    423967\n",
       "Texas         695662\n",
       "New York      141297\n",
       "Florida       170312\n",
       "Illinois      149995\n",
       "dtype: int64"
      ]
     },
     "execution_count": 594,
     "metadata": {},
     "output_type": "execute_result"
    }
   ],
   "source": [
    "area_dict = {\"California\" :423967, \"Texas\": 695662, \"New York\" :141297, \"Florida\": 170312, \"Illinois\": 149995}\n",
    "area = pd.Series(area_dict)\n",
    "area"
   ]
  },
  {
   "cell_type": "code",
   "execution_count": 595,
   "metadata": {},
   "outputs": [
    {
     "ename": "SyntaxError",
     "evalue": "invalid syntax (3397540061.py, line 1)",
     "output_type": "error",
     "traceback": [
      "\u001b[1;36m  Cell \u001b[1;32mIn[595], line 1\u001b[1;36m\u001b[0m\n\u001b[1;33m    area_dict = {\"California\" :423967:3.8, \"Texas\": 695662:2.6, \"New York\" :141297:1.9, \"Florida\": 170312:1.9}\u001b[0m\n\u001b[1;37m                                     ^\u001b[0m\n\u001b[1;31mSyntaxError\u001b[0m\u001b[1;31m:\u001b[0m invalid syntax\n"
     ]
    }
   ],
   "source": [
    "area_dict = {\"California\" :423967:3.8, \"Texas\": 695662:2.6, \"New York\" :141297:1.9, \"Florida\": 170312:1.9}\n",
    "area = pd.Series(area_dict)\n",
    "area"
   ]
  },
  {
   "cell_type": "code",
   "execution_count": 596,
   "metadata": {},
   "outputs": [],
   "source": [
    "states = pd.DataFrame({\"population\" : population, \"area\": area})"
   ]
  },
  {
   "cell_type": "code",
   "execution_count": 597,
   "metadata": {},
   "outputs": [
    {
     "data": {
      "text/html": [
       "<div>\n",
       "<style scoped>\n",
       "    .dataframe tbody tr th:only-of-type {\n",
       "        vertical-align: middle;\n",
       "    }\n",
       "\n",
       "    .dataframe tbody tr th {\n",
       "        vertical-align: top;\n",
       "    }\n",
       "\n",
       "    .dataframe thead th {\n",
       "        text-align: right;\n",
       "    }\n",
       "</style>\n",
       "<table border=\"1\" class=\"dataframe\">\n",
       "  <thead>\n",
       "    <tr style=\"text-align: right;\">\n",
       "      <th></th>\n",
       "      <th>population</th>\n",
       "      <th>area</th>\n",
       "    </tr>\n",
       "  </thead>\n",
       "  <tbody>\n",
       "    <tr>\n",
       "      <th>California</th>\n",
       "      <td>38332521</td>\n",
       "      <td>423967</td>\n",
       "    </tr>\n",
       "    <tr>\n",
       "      <th>Texas</th>\n",
       "      <td>26448193</td>\n",
       "      <td>695662</td>\n",
       "    </tr>\n",
       "    <tr>\n",
       "      <th>New York</th>\n",
       "      <td>19651127</td>\n",
       "      <td>141297</td>\n",
       "    </tr>\n",
       "    <tr>\n",
       "      <th>Florida</th>\n",
       "      <td>19552860</td>\n",
       "      <td>170312</td>\n",
       "    </tr>\n",
       "    <tr>\n",
       "      <th>Illinois</th>\n",
       "      <td>12882135</td>\n",
       "      <td>149995</td>\n",
       "    </tr>\n",
       "  </tbody>\n",
       "</table>\n",
       "</div>"
      ],
      "text/plain": [
       "            population    area\n",
       "California    38332521  423967\n",
       "Texas         26448193  695662\n",
       "New York      19651127  141297\n",
       "Florida       19552860  170312\n",
       "Illinois      12882135  149995"
      ]
     },
     "execution_count": 597,
     "metadata": {},
     "output_type": "execute_result"
    }
   ],
   "source": [
    "states"
   ]
  },
  {
   "cell_type": "code",
   "execution_count": 598,
   "metadata": {},
   "outputs": [
    {
     "data": {
      "text/plain": [
       "Index(['California', 'Texas', 'New York', 'Florida', 'Illinois'], dtype='object')"
      ]
     },
     "execution_count": 598,
     "metadata": {},
     "output_type": "execute_result"
    }
   ],
   "source": [
    "states.index"
   ]
  },
  {
   "cell_type": "code",
   "execution_count": 599,
   "metadata": {},
   "outputs": [
    {
     "data": {
      "text/plain": [
       "'New York'"
      ]
     },
     "execution_count": 599,
     "metadata": {},
     "output_type": "execute_result"
    }
   ],
   "source": [
    "states.index[2]"
   ]
  },
  {
   "cell_type": "code",
   "execution_count": 600,
   "metadata": {},
   "outputs": [
    {
     "data": {
      "text/plain": [
       "'New York'"
      ]
     },
     "execution_count": 600,
     "metadata": {},
     "output_type": "execute_result"
    }
   ],
   "source": [
    "states.index[2]"
   ]
  },
  {
   "cell_type": "code",
   "execution_count": 601,
   "metadata": {},
   "outputs": [
    {
     "data": {
      "text/html": [
       "<div>\n",
       "<style scoped>\n",
       "    .dataframe tbody tr th:only-of-type {\n",
       "        vertical-align: middle;\n",
       "    }\n",
       "\n",
       "    .dataframe tbody tr th {\n",
       "        vertical-align: top;\n",
       "    }\n",
       "\n",
       "    .dataframe thead th {\n",
       "        text-align: right;\n",
       "    }\n",
       "</style>\n",
       "<table border=\"1\" class=\"dataframe\">\n",
       "  <thead>\n",
       "    <tr style=\"text-align: right;\">\n",
       "      <th></th>\n",
       "      <th>population</th>\n",
       "    </tr>\n",
       "  </thead>\n",
       "  <tbody>\n",
       "    <tr>\n",
       "      <th>California</th>\n",
       "      <td>38332521</td>\n",
       "    </tr>\n",
       "    <tr>\n",
       "      <th>Texas</th>\n",
       "      <td>26448193</td>\n",
       "    </tr>\n",
       "    <tr>\n",
       "      <th>New York</th>\n",
       "      <td>19651127</td>\n",
       "    </tr>\n",
       "    <tr>\n",
       "      <th>Florida</th>\n",
       "      <td>19552860</td>\n",
       "    </tr>\n",
       "    <tr>\n",
       "      <th>Illinois</th>\n",
       "      <td>12882135</td>\n",
       "    </tr>\n",
       "  </tbody>\n",
       "</table>\n",
       "</div>"
      ],
      "text/plain": [
       "            population\n",
       "California    38332521\n",
       "Texas         26448193\n",
       "New York      19651127\n",
       "Florida       19552860\n",
       "Illinois      12882135"
      ]
     },
     "execution_count": 601,
     "metadata": {},
     "output_type": "execute_result"
    }
   ],
   "source": [
    "pd.DataFrame(population, columns=[\"population\"])"
   ]
  },
  {
   "cell_type": "code",
   "execution_count": 602,
   "metadata": {},
   "outputs": [],
   "source": [
    "import numpy as np"
   ]
  },
  {
   "cell_type": "code",
   "execution_count": 603,
   "metadata": {},
   "outputs": [
    {
     "data": {
      "text/html": [
       "<div>\n",
       "<style scoped>\n",
       "    .dataframe tbody tr th:only-of-type {\n",
       "        vertical-align: middle;\n",
       "    }\n",
       "\n",
       "    .dataframe tbody tr th {\n",
       "        vertical-align: top;\n",
       "    }\n",
       "\n",
       "    .dataframe thead th {\n",
       "        text-align: right;\n",
       "    }\n",
       "</style>\n",
       "<table border=\"1\" class=\"dataframe\">\n",
       "  <thead>\n",
       "    <tr style=\"text-align: right;\">\n",
       "      <th></th>\n",
       "      <th>foo</th>\n",
       "      <th>bar</th>\n",
       "    </tr>\n",
       "  </thead>\n",
       "  <tbody>\n",
       "    <tr>\n",
       "      <th>a</th>\n",
       "      <td>0.064231</td>\n",
       "      <td>0.287565</td>\n",
       "    </tr>\n",
       "    <tr>\n",
       "      <th>b</th>\n",
       "      <td>0.106500</td>\n",
       "      <td>0.793287</td>\n",
       "    </tr>\n",
       "    <tr>\n",
       "      <th>c</th>\n",
       "      <td>0.090104</td>\n",
       "      <td>0.884653</td>\n",
       "    </tr>\n",
       "  </tbody>\n",
       "</table>\n",
       "</div>"
      ],
      "text/plain": [
       "        foo       bar\n",
       "a  0.064231  0.287565\n",
       "b  0.106500  0.793287\n",
       "c  0.090104  0.884653"
      ]
     },
     "execution_count": 603,
     "metadata": {},
     "output_type": "execute_result"
    }
   ],
   "source": [
    "pd.DataFrame(np.random.rand(3,2),\n",
    "            columns = [\"foo\", \"bar\"],\n",
    "            index = [\"a\", \"b\", \"c\"])"
   ]
  },
  {
   "cell_type": "code",
   "execution_count": 604,
   "metadata": {},
   "outputs": [
    {
     "data": {
      "text/plain": [
       "Int64Index([2, 3, 4, 5], dtype='int64')"
      ]
     },
     "execution_count": 604,
     "metadata": {},
     "output_type": "execute_result"
    }
   ],
   "source": [
    "pd.Index([2,3,4,5])"
   ]
  },
  {
   "cell_type": "code",
   "execution_count": 605,
   "metadata": {},
   "outputs": [
    {
     "data": {
      "text/plain": [
       "a    0.25\n",
       "b    0.50\n",
       "c    0.75\n",
       "d    1.00\n",
       "dtype: float64"
      ]
     },
     "execution_count": 605,
     "metadata": {},
     "output_type": "execute_result"
    }
   ],
   "source": [
    "data = pd.Series([0.25,0.5,0.75,1.0],\n",
    "                 index=['a','b','c','d'])\n",
    "data"
   ]
  },
  {
   "cell_type": "code",
   "execution_count": 606,
   "metadata": {},
   "outputs": [
    {
     "data": {
      "text/plain": [
       "0.5"
      ]
     },
     "execution_count": 606,
     "metadata": {},
     "output_type": "execute_result"
    }
   ],
   "source": [
    "data['b']"
   ]
  },
  {
   "cell_type": "code",
   "execution_count": 607,
   "metadata": {},
   "outputs": [
    {
     "data": {
      "text/plain": [
       "Index(['a', 'b', 'c', 'd'], dtype='object')"
      ]
     },
     "execution_count": 607,
     "metadata": {},
     "output_type": "execute_result"
    }
   ],
   "source": [
    "data.keys()"
   ]
  },
  {
   "cell_type": "code",
   "execution_count": 608,
   "metadata": {},
   "outputs": [
    {
     "data": {
      "text/plain": [
       "array([0.25, 0.5 , 0.75, 1.  ])"
      ]
     },
     "execution_count": 608,
     "metadata": {},
     "output_type": "execute_result"
    }
   ],
   "source": [
    "data.values\n"
   ]
  },
  {
   "cell_type": "code",
   "execution_count": 609,
   "metadata": {},
   "outputs": [],
   "source": [
    "data[\"e\"] = 1.25"
   ]
  },
  {
   "cell_type": "code",
   "execution_count": 610,
   "metadata": {},
   "outputs": [
    {
     "data": {
      "text/plain": [
       "a    0.25\n",
       "b    0.50\n",
       "c    0.75\n",
       "d    1.00\n",
       "e    1.25\n",
       "dtype: float64"
      ]
     },
     "execution_count": 610,
     "metadata": {},
     "output_type": "execute_result"
    }
   ],
   "source": [
    "data"
   ]
  },
  {
   "cell_type": "code",
   "execution_count": 611,
   "metadata": {},
   "outputs": [
    {
     "data": {
      "text/plain": [
       "a    0.25\n",
       "e    1.25\n",
       "dtype: float64"
      ]
     },
     "execution_count": 611,
     "metadata": {},
     "output_type": "execute_result"
    }
   ],
   "source": [
    "data[[\"a\",\"e\"]]"
   ]
  },
  {
   "cell_type": "code",
   "execution_count": 1,
   "metadata": {},
   "outputs": [
    {
     "name": "stdout",
     "output_type": "stream",
     "text": [
      "Collecting mysql-connector-python\n",
      "  Downloading mysql_connector_python-8.4.0-cp310-cp310-win_amd64.whl (14.5 MB)\n",
      "     ---------------------------------------- 14.5/14.5 MB 9.9 MB/s eta 0:00:00\n",
      "Installing collected packages: mysql-connector-python\n",
      "Successfully installed mysql-connector-python-8.4.0\n"
     ]
    }
   ],
   "source": [
    "!pip install mysql-connector-python"
   ]
  },
  {
   "cell_type": "code",
   "execution_count": 4,
   "metadata": {},
   "outputs": [
    {
     "ename": "DatabaseError",
     "evalue": "2003 (HY000): Can't connect to MySQL server on 'mysql-rfam-public.ebi.ac.uk:3306' (10060)",
     "output_type": "error",
     "traceback": [
      "\u001b[1;31m---------------------------------------------------------------------------\u001b[0m",
      "\u001b[1;31mMySQLInterfaceError\u001b[0m                       Traceback (most recent call last)",
      "File \u001b[1;32m~\\anaconda3\\lib\\site-packages\\mysql\\connector\\connection_cext.py:327\u001b[0m, in \u001b[0;36mCMySQLConnection._open_connection\u001b[1;34m(self)\u001b[0m\n\u001b[0;32m    326\u001b[0m \u001b[38;5;28;01mtry\u001b[39;00m:\n\u001b[1;32m--> 327\u001b[0m     \u001b[38;5;28mself\u001b[39m\u001b[38;5;241m.\u001b[39m_cmysql\u001b[38;5;241m.\u001b[39mconnect(\u001b[38;5;241m*\u001b[39m\u001b[38;5;241m*\u001b[39mcnx_kwargs)\n\u001b[0;32m    328\u001b[0m     \u001b[38;5;28mself\u001b[39m\u001b[38;5;241m.\u001b[39m_cmysql\u001b[38;5;241m.\u001b[39mconverter_str_fallback \u001b[38;5;241m=\u001b[39m \u001b[38;5;28mself\u001b[39m\u001b[38;5;241m.\u001b[39m_converter_str_fallback\n",
      "\u001b[1;31mMySQLInterfaceError\u001b[0m: Can't connect to MySQL server on 'mysql-rfam-public.ebi.ac.uk:3306' (10060)",
      "\nThe above exception was the direct cause of the following exception:\n",
      "\u001b[1;31mDatabaseError\u001b[0m                             Traceback (most recent call last)",
      "Cell \u001b[1;32mIn[4], line 3\u001b[0m\n\u001b[0;32m      1\u001b[0m \u001b[38;5;28;01mimport\u001b[39;00m \u001b[38;5;21;01mmysql\u001b[39;00m\u001b[38;5;21;01m.\u001b[39;00m\u001b[38;5;21;01mconnector\u001b[39;00m\n\u001b[1;32m----> 3\u001b[0m mydb \u001b[38;5;241m=\u001b[39m \u001b[43mmysql\u001b[49m\u001b[38;5;241;43m.\u001b[39;49m\u001b[43mconnector\u001b[49m\u001b[38;5;241;43m.\u001b[39;49m\u001b[43mconnect\u001b[49m\u001b[43m(\u001b[49m\n\u001b[0;32m      4\u001b[0m \u001b[43m  \u001b[49m\u001b[43mhost\u001b[49m\u001b[38;5;241;43m=\u001b[39;49m\u001b[38;5;124;43m\"\u001b[39;49m\u001b[38;5;124;43mmysql-rfam-public.ebi.ac.uk\u001b[39;49m\u001b[38;5;124;43m\"\u001b[39;49m\u001b[43m,\u001b[49m\n\u001b[0;32m      5\u001b[0m \u001b[43m  \u001b[49m\u001b[43muser\u001b[49m\u001b[38;5;241;43m=\u001b[39;49m\u001b[38;5;124;43m\"\u001b[39;49m\u001b[38;5;124;43mrfamro\u001b[39;49m\u001b[38;5;124;43m\"\u001b[39;49m\u001b[43m,\u001b[49m\n\u001b[0;32m      6\u001b[0m \u001b[43m  \u001b[49m\u001b[43mpassword\u001b[49m\u001b[38;5;241;43m=\u001b[39;49m\u001b[38;5;124;43m\"\u001b[39;49m\u001b[38;5;124;43mnone\u001b[39;49m\u001b[38;5;124;43m\"\u001b[39;49m\n\u001b[0;32m      7\u001b[0m \u001b[43m)\u001b[49m\n\u001b[0;32m      9\u001b[0m mycursor \u001b[38;5;241m=\u001b[39m mydb\u001b[38;5;241m.\u001b[39mcursor()\n\u001b[0;32m     11\u001b[0m mycursor\u001b[38;5;241m.\u001b[39mexecute(\u001b[38;5;124m\"\u001b[39m\u001b[38;5;124mCREATE DATABASE mydatabase\u001b[39m\u001b[38;5;124m\"\u001b[39m)\n",
      "File \u001b[1;32m~\\anaconda3\\lib\\site-packages\\mysql\\connector\\pooling.py:322\u001b[0m, in \u001b[0;36mconnect\u001b[1;34m(*args, **kwargs)\u001b[0m\n\u001b[0;32m    319\u001b[0m         \u001b[38;5;28;01mraise\u001b[39;00m \u001b[38;5;167;01mImportError\u001b[39;00m(ERROR_NO_CEXT)\n\u001b[0;32m    321\u001b[0m \u001b[38;5;28;01mif\u001b[39;00m CMySQLConnection \u001b[38;5;129;01mand\u001b[39;00m \u001b[38;5;129;01mnot\u001b[39;00m use_pure:\n\u001b[1;32m--> 322\u001b[0m     \u001b[38;5;28;01mreturn\u001b[39;00m CMySQLConnection(\u001b[38;5;241m*\u001b[39margs, \u001b[38;5;241m*\u001b[39m\u001b[38;5;241m*\u001b[39mkwargs)\n\u001b[0;32m    323\u001b[0m \u001b[38;5;28;01mreturn\u001b[39;00m MySQLConnection(\u001b[38;5;241m*\u001b[39margs, \u001b[38;5;241m*\u001b[39m\u001b[38;5;241m*\u001b[39mkwargs)\n",
      "File \u001b[1;32m~\\anaconda3\\lib\\site-packages\\mysql\\connector\\connection_cext.py:144\u001b[0m, in \u001b[0;36mCMySQLConnection.__init__\u001b[1;34m(self, **kwargs)\u001b[0m\n\u001b[0;32m    142\u001b[0m \u001b[38;5;28;01mif\u001b[39;00m kwargs:\n\u001b[0;32m    143\u001b[0m     \u001b[38;5;28;01mtry\u001b[39;00m:\n\u001b[1;32m--> 144\u001b[0m         \u001b[38;5;28mself\u001b[39m\u001b[38;5;241m.\u001b[39mconnect(\u001b[38;5;241m*\u001b[39m\u001b[38;5;241m*\u001b[39mkwargs)\n\u001b[0;32m    145\u001b[0m     \u001b[38;5;28;01mexcept\u001b[39;00m \u001b[38;5;167;01mException\u001b[39;00m:\n\u001b[0;32m    146\u001b[0m         \u001b[38;5;28mself\u001b[39m\u001b[38;5;241m.\u001b[39mclose()\n",
      "File \u001b[1;32m~\\anaconda3\\lib\\site-packages\\mysql\\connector\\abstracts.py:1360\u001b[0m, in \u001b[0;36mMySQLConnectionAbstract.connect\u001b[1;34m(self, **kwargs)\u001b[0m\n\u001b[0;32m   1357\u001b[0m     \u001b[38;5;28mself\u001b[39m\u001b[38;5;241m.\u001b[39mconfig(\u001b[38;5;241m*\u001b[39m\u001b[38;5;241m*\u001b[39mkwargs)\n\u001b[0;32m   1359\u001b[0m \u001b[38;5;28mself\u001b[39m\u001b[38;5;241m.\u001b[39mdisconnect()\n\u001b[1;32m-> 1360\u001b[0m \u001b[38;5;28;43mself\u001b[39;49m\u001b[38;5;241;43m.\u001b[39;49m\u001b[43m_open_connection\u001b[49m\u001b[43m(\u001b[49m\u001b[43m)\u001b[49m\n\u001b[0;32m   1362\u001b[0m charset, collation \u001b[38;5;241m=\u001b[39m (\n\u001b[0;32m   1363\u001b[0m     kwargs\u001b[38;5;241m.\u001b[39mpop(\u001b[38;5;124m\"\u001b[39m\u001b[38;5;124mcharset\u001b[39m\u001b[38;5;124m\"\u001b[39m, \u001b[38;5;28;01mNone\u001b[39;00m),\n\u001b[0;32m   1364\u001b[0m     kwargs\u001b[38;5;241m.\u001b[39mpop(\u001b[38;5;124m\"\u001b[39m\u001b[38;5;124mcollation\u001b[39m\u001b[38;5;124m\"\u001b[39m, \u001b[38;5;28;01mNone\u001b[39;00m),\n\u001b[0;32m   1365\u001b[0m )\n\u001b[0;32m   1366\u001b[0m \u001b[38;5;28;01mif\u001b[39;00m charset \u001b[38;5;129;01mor\u001b[39;00m collation:\n",
      "File \u001b[1;32m~\\anaconda3\\lib\\site-packages\\mysql\\connector\\connection_cext.py:332\u001b[0m, in \u001b[0;36mCMySQLConnection._open_connection\u001b[1;34m(self)\u001b[0m\n\u001b[0;32m    330\u001b[0m         \u001b[38;5;28mself\u001b[39m\u001b[38;5;241m.\u001b[39mconverter\u001b[38;5;241m.\u001b[39mstr_fallback \u001b[38;5;241m=\u001b[39m \u001b[38;5;28mself\u001b[39m\u001b[38;5;241m.\u001b[39m_converter_str_fallback\n\u001b[0;32m    331\u001b[0m \u001b[38;5;28;01mexcept\u001b[39;00m MySQLInterfaceError \u001b[38;5;28;01mas\u001b[39;00m err:\n\u001b[1;32m--> 332\u001b[0m     \u001b[38;5;28;01mraise\u001b[39;00m get_mysql_exception(\n\u001b[0;32m    333\u001b[0m         msg\u001b[38;5;241m=\u001b[39merr\u001b[38;5;241m.\u001b[39mmsg, errno\u001b[38;5;241m=\u001b[39merr\u001b[38;5;241m.\u001b[39merrno, sqlstate\u001b[38;5;241m=\u001b[39merr\u001b[38;5;241m.\u001b[39msqlstate\n\u001b[0;32m    334\u001b[0m     ) \u001b[38;5;28;01mfrom\u001b[39;00m \u001b[38;5;21;01merr\u001b[39;00m\n\u001b[0;32m    336\u001b[0m \u001b[38;5;28mself\u001b[39m\u001b[38;5;241m.\u001b[39m_do_handshake()\n\u001b[0;32m    338\u001b[0m \u001b[38;5;28;01mif\u001b[39;00m (\n\u001b[0;32m    339\u001b[0m     \u001b[38;5;129;01mnot\u001b[39;00m \u001b[38;5;28mself\u001b[39m\u001b[38;5;241m.\u001b[39m_ssl_disabled\n\u001b[0;32m    340\u001b[0m     \u001b[38;5;129;01mand\u001b[39;00m \u001b[38;5;28mhasattr\u001b[39m(\u001b[38;5;28mself\u001b[39m\u001b[38;5;241m.\u001b[39m_cmysql, \u001b[38;5;124m\"\u001b[39m\u001b[38;5;124mget_ssl_cipher\u001b[39m\u001b[38;5;124m\"\u001b[39m)\n\u001b[1;32m   (...)\u001b[0m\n\u001b[0;32m    345\u001b[0m \n\u001b[0;32m    346\u001b[0m     \u001b[38;5;66;03m# `get_ssl_cipher()` returns the name of the cipher being used.\u001b[39;00m\n",
      "\u001b[1;31mDatabaseError\u001b[0m: 2003 (HY000): Can't connect to MySQL server on 'mysql-rfam-public.ebi.ac.uk:3306' (10060)"
     ]
    }
   ],
   "source": [
    "import mysql.connector\n",
    "\n",
    "mydb = mysql.connector.connect(\n",
    "  host=\"mysql-rfam-public.ebi.ac.uk\",\n",
    "  user=\"rfamro\",\n",
    "  password=\"none\"\n",
    ")\n",
    "\n",
    "mycursor = mydb.cursor()\n",
    "\n",
    "mycursor.execute(\"CREATE DATABASE mydatabase\")"
   ]
  },
  {
   "cell_type": "code",
   "execution_count": null,
   "metadata": {},
   "outputs": [],
   "source": []
  }
 ],
 "metadata": {
  "kernelspec": {
   "display_name": "Python 3 (ipykernel)",
   "language": "python",
   "name": "python3"
  },
  "language_info": {
   "codemirror_mode": {
    "name": "ipython",
    "version": 3
   },
   "file_extension": ".py",
   "mimetype": "text/x-python",
   "name": "python",
   "nbconvert_exporter": "python",
   "pygments_lexer": "ipython3",
   "version": "3.10.9"
  }
 },
 "nbformat": 4,
 "nbformat_minor": 2
}
